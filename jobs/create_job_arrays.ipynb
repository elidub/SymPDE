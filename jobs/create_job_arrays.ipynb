{
 "cells": [
  {
   "cell_type": "code",
   "execution_count": 11,
   "metadata": {},
   "outputs": [
    {
     "name": "stdout",
     "output_type": "stream",
     "text": [
      "The autoreload extension is already loaded. To reload it, use:\n",
      "  %reload_ext autoreload\n"
     ]
    }
   ],
   "source": [
    "%load_ext autoreload\n",
    "%autoreload 2\n",
    "\n",
    "import os, sys\n",
    "import pandas as pd\n",
    "\n",
    "sys.path.append(os.path.join(os.getcwd(), '../symlie'))\n",
    "sys.path.append(os.path.join(os.getcwd(), '..'))\n",
    "from symlie.misc.utils_arrays import write_lines, read_lines, clean_val, dict_to_array"
   ]
  },
  {
   "cell_type": "code",
   "execution_count": 12,
   "metadata": {},
   "outputs": [],
   "source": [
    "job_dir = '../jobs'\n",
    "array_file = os.path.join(job_dir, 'arrays.csv')\n",
    "array_dir  = os.path.join(job_dir, 'arrays')\n",
    "job_array_dir = os.path.join(job_dir, 'job_arrays')"
   ]
  },
  {
   "cell_type": "code",
   "execution_count": 13,
   "metadata": {},
   "outputs": [
    {
     "data": {
      "text/plain": [
       "grid_sizes    [[[[1 7] [1 7]] [[1 1] [1 7]]]]\n",
       "Name: combi, dtype: object"
      ]
     },
     "execution_count": 13,
     "metadata": {},
     "output_type": "execute_result"
    }
   ],
   "source": [
    "df = pd.read_csv(array_file, dtype=object)\n",
    "df = df.set_index('experiment')\n",
    "df.head()\n",
    "\n",
    "skip_keys = ['experiment', 'tags']\n",
    "\n",
    "df_listed = pd.DataFrame({key : vals.apply(lambda val: clean_val(val)) for key, vals in df.items() if key not in skip_keys})\n",
    "\n",
    "df_listed.loc['combi'][['grid_sizes']]"
   ]
  },
  {
   "cell_type": "code",
   "execution_count": 14,
   "metadata": {},
   "outputs": [
    {
     "name": "stdout",
     "output_type": "stream",
     "text": [
      "Writing sine1d with 9 lines\n",
      "Writing sine1d-predict with 81 lines\n",
      "Writing sine2d with 18 lines\n",
      "Writing sine2d-predict with 108 lines\n",
      "Writing flower with 36 lines\n",
      "Writing flower-predict with 216 lines\n",
      "Writing mnist with 18 lines\n",
      "Writing mnist-predict with 108 lines\n",
      "Writing sine1d-task with 18 lines\n",
      "Writing noise1d with 36 lines\n",
      "Writing noise2d with 18 lines\n",
      "Writing sine1dtwo-hparam-predict with 72 lines\n",
      "Writing sine1dlayers-predict with 24 lines\n",
      "Writing sine1dmtr-predict with 24 lines\n",
      "Writing mnist-noise-predict with 24 lines\n",
      "Writing mnist-noise-predict with 27 lines\n",
      "Writing sine1d-noise-predict with 72 lines\n",
      "Writing sine1d-noise-svd-predict with 81 lines\n",
      "Writing noise1d-loss with 54 lines\n",
      "Writing combi with 27 lines\n"
     ]
    }
   ],
   "source": [
    "def main(job_dir, array_file, array_dir):\n",
    "    df = pd.read_csv(array_file, dtype=object)\n",
    "    df = df.set_index('experiment')\n",
    "    df.head()\n",
    "\n",
    "    skip_keys = ['experiment', 'tags']\n",
    "\n",
    "    df_listed = pd.DataFrame({key : vals.apply(lambda val: clean_val(val)) for key, vals in df.items() if key not in skip_keys})\n",
    "    df_listed['tags'] = df['tags'].apply(lambda x: [''.join(x.split(','))])\n",
    "    # select only data_kwargs and transform_kwargs\n",
    "    # df = df[['y_high', 'y_low', 'noise_std', 'grid_size', 'eps_mult', 'data_dir']]\n",
    "\n",
    "    for experiment, hparams in df_listed.iterrows():\n",
    "        output_file = os.path.join(array_dir, experiment + '.txt')\n",
    "        output_lines = dict_to_array(hparams.dropna().to_dict())\n",
    "        \n",
    "        n_runs = output_lines.count('\\n') + 1\n",
    "        print(f\"Writing {experiment} with {n_runs} lines\")\n",
    "        \n",
    "        write_lines(output_file, output_lines)\n",
    "\n",
    "main(job_dir, array_file, array_dir)"
   ]
  },
  {
   "cell_type": "code",
   "execution_count": 25,
   "metadata": {},
   "outputs": [
    {
     "data": {
      "text/plain": [
       "str"
      ]
     },
     "execution_count": 25,
     "metadata": {},
     "output_type": "execute_result"
    }
   ],
   "source": [
    "def split_string_to_list_of_lists(s: str) -> list:\n",
    "    # Remove the outer brackets\n",
    "    s = s.strip(\"[]\")\n",
    "    # Split the string into sublists separated by \"] [\"\n",
    "    sublists = s.split(\"] [\")\n",
    "    # Initialize an empty list to hold the final list of lists\n",
    "    result = []\n",
    "    # Iterate through each sublist\n",
    "    for sublist in sublists:\n",
    "        # Split each sublist by space and convert each element to int\n",
    "        int_sublist = [int(x) for x in sublist.split()]\n",
    "        # Append the converted sublist to the result list\n",
    "        result.append(int_sublist)\n",
    "    return result\n",
    "\n",
    "# Test the function with the provided string\n",
    "a = '[[49 49 49 49] [7 7 7]]'\n",
    "split_string_to_list_of_lists(a)\n",
    "type(a)"
   ]
  },
  {
   "cell_type": "code",
   "execution_count": null,
   "metadata": {},
   "outputs": [],
   "source": [
    "a = '[[49 49 49 49] [7 7 7]]'"
   ]
  },
  {
   "cell_type": "code",
   "execution_count": 21,
   "metadata": {},
   "outputs": [
    {
     "ename": "ValueError",
     "evalue": "invalid literal for int() with base 10: '['",
     "output_type": "error",
     "traceback": [
      "\u001b[0;31m---------------------------------------------------------------------------\u001b[0m",
      "\u001b[0;31mValueError\u001b[0m                                Traceback (most recent call last)",
      "Cell \u001b[0;32mIn[21], line 5\u001b[0m\n\u001b[1;32m      3\u001b[0m a \u001b[38;5;241m=\u001b[39m a\u001b[38;5;241m.\u001b[39mreplace(\u001b[38;5;124m'\u001b[39m\u001b[38;5;124m \u001b[39m\u001b[38;5;124m'\u001b[39m, \u001b[38;5;124m'\u001b[39m\u001b[38;5;124m,\u001b[39m\u001b[38;5;124m'\u001b[39m)\n\u001b[1;32m      4\u001b[0m \u001b[38;5;66;03m# a = a.split('],')\u001b[39;00m\n\u001b[0;32m----> 5\u001b[0m a \u001b[38;5;241m=\u001b[39m [\u001b[38;5;28mlist\u001b[39m(\u001b[38;5;28mmap\u001b[39m(\u001b[38;5;28mint\u001b[39m, x\u001b[38;5;241m.\u001b[39msplit(\u001b[38;5;124m'\u001b[39m\u001b[38;5;124m,\u001b[39m\u001b[38;5;124m'\u001b[39m))) \u001b[38;5;28;01mfor\u001b[39;00m x \u001b[38;5;129;01min\u001b[39;00m a]\n\u001b[1;32m      6\u001b[0m a\n",
      "Cell \u001b[0;32mIn[21], line 5\u001b[0m, in \u001b[0;36m<listcomp>\u001b[0;34m(.0)\u001b[0m\n\u001b[1;32m      3\u001b[0m a \u001b[38;5;241m=\u001b[39m a\u001b[38;5;241m.\u001b[39mreplace(\u001b[38;5;124m'\u001b[39m\u001b[38;5;124m \u001b[39m\u001b[38;5;124m'\u001b[39m, \u001b[38;5;124m'\u001b[39m\u001b[38;5;124m,\u001b[39m\u001b[38;5;124m'\u001b[39m)\n\u001b[1;32m      4\u001b[0m \u001b[38;5;66;03m# a = a.split('],')\u001b[39;00m\n\u001b[0;32m----> 5\u001b[0m a \u001b[38;5;241m=\u001b[39m [\u001b[38;5;28;43mlist\u001b[39;49m\u001b[43m(\u001b[49m\u001b[38;5;28;43mmap\u001b[39;49m\u001b[43m(\u001b[49m\u001b[38;5;28;43mint\u001b[39;49m\u001b[43m,\u001b[49m\u001b[43m \u001b[49m\u001b[43mx\u001b[49m\u001b[38;5;241;43m.\u001b[39;49m\u001b[43msplit\u001b[49m\u001b[43m(\u001b[49m\u001b[38;5;124;43m'\u001b[39;49m\u001b[38;5;124;43m,\u001b[39;49m\u001b[38;5;124;43m'\u001b[39;49m\u001b[43m)\u001b[49m\u001b[43m)\u001b[49m\u001b[43m)\u001b[49m \u001b[38;5;28;01mfor\u001b[39;00m x \u001b[38;5;129;01min\u001b[39;00m a]\n\u001b[1;32m      6\u001b[0m a\n",
      "\u001b[0;31mValueError\u001b[0m: invalid literal for int() with base 10: '['"
     ]
    }
   ],
   "source": [
    "a = '[[49 49 49 49] [7 7 7]]'\n",
    "# a = a.replace('[', '').replace(']', '').replace(' ', ',')\n",
    "a = a.replace(' ', ',')\n",
    "# a = a.split('],')\n",
    "# a = [list(map(int, x.split(','))) for x in a]\n",
    "a"
   ]
  },
  {
   "cell_type": "code",
   "execution_count": 15,
   "metadata": {},
   "outputs": [],
   "source": [
    "def get_template(n_jobs: int, array: str, time: str = \"01:00:00\", n_sims = 1, partition: str = 'gpu', add_kwargs: str = ''): \n",
    "    return f\"\"\"\\\n",
    "#!/bin/bash\n",
    "\n",
    "#SBATCH --partition={partition}\n",
    "#SBATCH --gpus=1\n",
    "#SBATCH --job-name={array}\n",
    "#SBATCH --ntasks=1\n",
    "#SBATCH --cpus-per-task=18\n",
    "#SBATCH --time={time}\n",
    "#SBATCH --array=1-{n_jobs}%{n_sims}\n",
    "#SBATCH --output=../slurm_output/{array}_%A_%a.out\n",
    "#SBATCH --exclude=gcn45\n",
    "\n",
    "array=\"{array}\"\n",
    "\n",
    "ARRAY_FILE=$HOME/thesis/SymPDE/jobs/arrays/$array.txt\n",
    "cd $HOME/thesis/SymPDE/symlie\n",
    "\n",
    "module purge\n",
    "module load 2022\n",
    "module load Anaconda3/2022.05\n",
    "source activate sympde\n",
    "\n",
    "srun python -u run.py \\\\\n",
    "    --num_workers 18 {add_kwargs} \\\\\n",
    "    $(head -$SLURM_ARRAY_TASK_ID $ARRAY_FILE | tail -1)\n",
    "\"\"\"\n",
    "\n",
    "# arrays = ['sine1d', 'sine2d', 'flower', 'mnist']\n",
    "arrays = ['sine1d-predict', 'sine2d-predict', 'mnist-predict', 'flower-predict']\n",
    "arrays = ['mnist-predict']\n",
    "arrays = ['sine1d-task']\n",
    "arrays = ['noise2d']\n",
    "# arrays = ['sine1dtwo-hparam-predict']\n",
    "# arrays = ['sine1dlayers-predict']\n",
    "# arrays = ['sine1dmtr-predict']\n",
    "arrays = ['mnist-noise-predict']\n",
    "# arrays = ['sine1d-noise-predict']\n",
    "arrays = ['noise1d']\n",
    "arrays = ['sine1d-noise-svd-predict']\n",
    "arrays = ['noise1d-loss']\n",
    "arrays = ['combi']\n",
    "\n",
    "\n",
    "generate_data = \"--generate_data --tags dev\"\n",
    "dryrun = \"--net TrainP --tags dev --max_epochs 1 --n_test 10 --n_val 10 --n_train 10\"\n",
    "\n",
    "# add_kwargs, time = dryrun, \"00:10:00\"\n",
    "# add_kwargs, time = generate_data, \"00:10:00\"\n",
    "# add_kwargs, time = '', \"01:00:00\"\n",
    "# add_kwargs, time = '', \"00:30:00\"\n",
    "add_kwargs, time = '', \"00:10:00\"\n",
    "# add_kwargs, time = '', \"00:05:00\"\n",
    "\n",
    "partition = 'gpu'\n",
    "partition = 'gpu_mig'\n",
    "\n",
    "\n",
    "n_sims = 20\n",
    "[os.remove(os.path.join(job_array_dir, file)) for file in os.listdir(job_array_dir)]\n",
    "for array in arrays:\n",
    "    lines = read_lines(os.path.join(array_dir, f'{array}.txt'))\n",
    "    n_jobs = len(lines)\n",
    "    n_sims = min(n_sims, n_jobs)\n",
    "\n",
    "    bash_script = get_template(n_jobs=n_jobs, array=array, time=time, n_sims=n_sims, partition=partition, add_kwargs=add_kwargs)\n",
    "\n",
    "    write_lines(os.path.join(job_array_dir, f'{array}.job'), [bash_script])"
   ]
  }
 ],
 "metadata": {
  "kernelspec": {
   "display_name": "sympde",
   "language": "python",
   "name": "python3"
  },
  "language_info": {
   "codemirror_mode": {
    "name": "ipython",
    "version": 3
   },
   "file_extension": ".py",
   "mimetype": "text/x-python",
   "name": "python",
   "nbconvert_exporter": "python",
   "pygments_lexer": "ipython3",
   "version": "3.10.13"
  }
 },
 "nbformat": 4,
 "nbformat_minor": 2
}
