{
 "cells": [
  {
   "cell_type": "code",
   "execution_count": 1,
   "metadata": {},
   "outputs": [
    {
     "name": "stderr",
     "output_type": "stream",
     "text": [
      "/scratch-local/eliasd/ipykernel_3241816/2247303281.py:5: DeprecationWarning: \n",
      "Pyarrow will become a required dependency of pandas in the next major release of pandas (pandas 3.0),\n",
      "(to allow more performant data types, such as the Arrow string type, and better interoperability with other libraries)\n",
      "but was not found to be installed on your system.\n",
      "If this would cause problems for you,\n",
      "please provide us feedback at https://github.com/pandas-dev/pandas/issues/54466\n",
      "        \n",
      "  import pandas as pd\n"
     ]
    }
   ],
   "source": [
    "%load_ext autoreload\n",
    "%autoreload 2\n",
    "\n",
    "import os, sys\n",
    "import pandas as pd\n",
    "\n",
    "sys.path.append(os.path.join(os.getcwd(), '../symlie'))\n",
    "from misc.utils_arrays import write_lines, read_lines, clean_val, dict_to_array"
   ]
  },
  {
   "cell_type": "code",
   "execution_count": 2,
   "metadata": {},
   "outputs": [],
   "source": [
    "job_dir = '../jobs'\n",
    "array_file = os.path.join(job_dir, 'arrays.csv')\n",
    "array_dir  = os.path.join(job_dir, 'arrays')\n",
    "job_array_dir = os.path.join(job_dir, 'job_arrays')"
   ]
  },
  {
   "cell_type": "code",
   "execution_count": 3,
   "metadata": {},
   "outputs": [
    {
     "name": "stdout",
     "output_type": "stream",
     "text": [
      "Writing sine1d with 9 lines\n",
      "Writing sine1d-predict with 81 lines\n",
      "Writing sine2d with 18 lines\n",
      "Writing sine2d-predict with 108 lines\n",
      "Writing flower with 36 lines\n",
      "Writing flower-predict with 216 lines\n",
      "Writing mnist with 18 lines\n",
      "Writing mnist-predict with 108 lines\n",
      "Writing sine1d-task with 18 lines\n"
     ]
    }
   ],
   "source": [
    "def main(job_dir, array_file, array_dir):\n",
    "    df = pd.read_csv(array_file, dtype=object)\n",
    "    df = df.set_index('experiment')\n",
    "    df.head()\n",
    "\n",
    "    skip_keys = ['experiment', 'tags']\n",
    "\n",
    "    df_listed = pd.DataFrame({key : vals.apply(lambda val: clean_val(val)) for key, vals in df.items() if key not in skip_keys})\n",
    "    df_listed['tags'] = df['tags'].apply(lambda x: [''.join(x.split(','))])\n",
    "    # select only data_kwargs and transform_kwargs\n",
    "    # df = df[['y_high', 'y_low', 'noise_std', 'grid_size', 'eps_mult', 'data_dir']]\n",
    "\n",
    "    for experiment, hparams in df_listed.iterrows():\n",
    "        output_file = os.path.join(array_dir, experiment + '.txt')\n",
    "        output_lines = dict_to_array(hparams.dropna().to_dict())\n",
    "        \n",
    "        n_runs = output_lines.count('\\n') + 1\n",
    "        print(f\"Writing {experiment} with {n_runs} lines\")\n",
    "        \n",
    "        write_lines(output_file, output_lines)\n",
    "\n",
    "main(job_dir, array_file, array_dir)"
   ]
  },
  {
   "cell_type": "code",
   "execution_count": 4,
   "metadata": {},
   "outputs": [],
   "source": [
    "def get_template(n_jobs: int, array: str, time: str = \"01:00:00\", n_sims = 1, add_kwargs: str = ''): \n",
    "    return f\"\"\"\\\n",
    "#!/bin/bash\n",
    "\n",
    "#SBATCH --partition=gpu\n",
    "#SBATCH --gpus=1\n",
    "#SBATCH --job-name={array}\n",
    "#SBATCH --ntasks=1\n",
    "#SBATCH --cpus-per-task=18\n",
    "#SBATCH --time={time}\n",
    "#SBATCH --array=1-{n_jobs}%{n_sims}\n",
    "#SBATCH --output=../slurm_output/{array}_%A_%a.out\n",
    "\n",
    "array=\"{array}\"\n",
    "\n",
    "ARRAY_FILE=$HOME/thesis/SymPDE/jobs/arrays/$array.txt\n",
    "cd $HOME/thesis/SymPDE/symlie\n",
    "\n",
    "module purge\n",
    "module load 2022\n",
    "module load Anaconda3/2022.05\n",
    "source activate sympde\n",
    "\n",
    "srun python -u run.py \\\\\n",
    "    --num_workers 18 {add_kwargs} \\\\\n",
    "    $(head -$SLURM_ARRAY_TASK_ID $ARRAY_FILE | tail -1)\n",
    "\"\"\"\n",
    "\n",
    "# arrays = ['sine1d', 'sine2d', 'flower', 'mnist']\n",
    "arrays = ['sine1d-predict', 'sine2d-predict', 'mnist-predict', 'flower-predict']\n",
    "arrays = ['mnist-predict']\n",
    "arrays = ['sine1d-task']\n",
    "\n",
    "\n",
    "generate_data = \"--generate_data --tags dev\"\n",
    "dryrun = \"--net TrainP --tags dev --max_epochs 1 --n_test 10 --n_val 10 --n_train 10\"\n",
    "\n",
    "# add_kwargs, time = dryrun, \"00:10:00\"\n",
    "# add_kwargs, time = generate_data, \"00:10:00\"\n",
    "add_kwargs, time = '', \"01:00:00\"\n",
    "\n",
    "[os.remove(os.path.join(job_array_dir, file)) for file in os.listdir(job_array_dir)]\n",
    "for array in arrays:\n",
    "    lines = read_lines(os.path.join(array_dir, f'{array}.txt'))\n",
    "    n_jobs = len(lines)\n",
    "    n_sims = min(10, n_jobs)\n",
    "\n",
    "    bash_script = get_template(n_jobs = n_jobs, array = array, n_sims = n_sims, add_kwargs = add_kwargs)\n",
    "\n",
    "    write_lines(os.path.join(job_array_dir, f'{array}.job'), [bash_script])"
   ]
  }
 ],
 "metadata": {
  "kernelspec": {
   "display_name": "sympde",
   "language": "python",
   "name": "python3"
  },
  "language_info": {
   "codemirror_mode": {
    "name": "ipython",
    "version": 3
   },
   "file_extension": ".py",
   "mimetype": "text/x-python",
   "name": "python",
   "nbconvert_exporter": "python",
   "pygments_lexer": "ipython3",
   "version": "3.10.13"
  }
 },
 "nbformat": 4,
 "nbformat_minor": 2
}
