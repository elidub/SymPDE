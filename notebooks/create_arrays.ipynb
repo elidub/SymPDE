{
 "cells": [
  {
   "cell_type": "code",
   "execution_count": 8,
   "metadata": {},
   "outputs": [
    {
     "name": "stdout",
     "output_type": "stream",
     "text": [
      "The autoreload extension is already loaded. To reload it, use:\n",
      "  %reload_ext autoreload\n"
     ]
    }
   ],
   "source": [
    "%load_ext autoreload\n",
    "%autoreload 2\n",
    "\n",
    "import os\n",
    "import numpy as np\n",
    "from itertools import product\n",
    "\n",
    "import os, sys\n",
    "sys.path.append(os.path.join(os.getcwd(), '../sympde'))\n",
    "from misc.utils import write_lines"
   ]
  },
  {
   "cell_type": "code",
   "execution_count": 9,
   "metadata": {},
   "outputs": [],
   "source": [
    "def generate_combinations(dictionary):\n",
    "    # Base case: if the dictionary is empty, return an empty list\n",
    "    if not dictionary:\n",
    "        return [\"\"]\n",
    "\n",
    "    # Take one key-value pair from the dictionary\n",
    "    key, values = next(iter(dictionary.items()))\n",
    "    remaining_dict = dictionary.copy()\n",
    "    del remaining_dict[key]\n",
    "\n",
    "    # Recursively generate combinations for the remaining dictionary\n",
    "    combinations = generate_combinations(remaining_dict)\n",
    "\n",
    "    # Generate all possible combinations with the current key-value pair\n",
    "    output_lines = []\n",
    "    for value in values:\n",
    "        for combination in combinations:\n",
    "            if value is None:\n",
    "                line = combination\n",
    "            elif combination == \"\":\n",
    "                line = f\"--{key} {value}\" \n",
    "            else:\n",
    "                if isinstance(value, list):\n",
    "                    value = \" \".join([str(v) for v in value])\n",
    "                line = f\"{combination} --{key} {value}\"\n",
    "            output_lines.append(line)\n",
    "\n",
    "    return output_lines\n",
    "\n",
    "def dict_to_array(comb_dict):\n",
    "    output_lines = generate_combinations(comb_dict)\n",
    "    output_lines = \"\\n\".join(output_lines)\n",
    "    return output_lines"
   ]
  },
  {
   "cell_type": "code",
   "execution_count": 10,
   "metadata": {},
   "outputs": [],
   "source": [
    "eps0to1 = np.linspace(0, 1, 3)\n",
    "eps_0to1s = [[0] + [np.round(eps,1) for eps in epss] for epss in product(eps0to1, eps0to1, eps0to1)]"
   ]
  },
  {
   "cell_type": "code",
   "execution_count": 12,
   "metadata": {},
   "outputs": [
    {
     "name": "stdout",
     "output_type": "stream",
     "text": [
      "### lconv ###\n",
      "{'rot_angle': [0, 10, 45, 90], 'dim': [4, 9, 16, 25], 'digit': [None, 0, 5]}\n",
      "--dim 4 --rot_angle 0\n",
      "--digit 0 --dim 4 --rot_angle 0\n",
      "--digit 5 --dim 4 --rot_angle 0\n",
      "--dim 9 --rot_angle 0\n",
      "--digit 0 --dim 9 --rot_angle 0\n",
      "--digit 5 --dim 9 --rot_angle 0\n",
      "--dim 16 --rot_angle 0\n",
      "--digit 0 --dim 16 --rot_angle 0\n",
      "--digit 5 --dim 16 --rot_angle 0\n",
      "--dim 25 --rot_angle 0\n",
      "--digit 0 --dim 25 --rot_angle 0\n",
      "--digit 5 --dim 25 --rot_angle 0\n",
      "--dim 4 --rot_angle 10\n",
      "--digit 0 --dim 4 --rot_angle 10\n",
      "--digit 5 --dim 4 --rot_angle 10\n",
      "--dim 9 --rot_angle 10\n",
      "--digit 0 --dim 9 --rot_angle 10\n",
      "--digit 5 --dim 9 --rot_angle 10\n",
      "--dim 16 --rot_angle 10\n",
      "--digit 0 --dim 16 --rot_angle 10\n",
      "--digit 5 --dim 16 --rot_angle 10\n",
      "--dim 25 --rot_angle 10\n",
      "--digit 0 --dim 25 --rot_angle 10\n",
      "--digit 5 --dim 25 --rot_angle 10\n",
      "--dim 4 --rot_angle 45\n",
      "--digit 0 --dim 4 --rot_angle 45\n",
      "--digit 5 --dim 4 --rot_angle 45\n",
      "--dim 9 --rot_angle 45\n",
      "--digit 0 --dim 9 --rot_angle 45\n",
      "--digit 5 --dim 9 --rot_angle 45\n",
      "--dim 16 --rot_angle 45\n",
      "--digit 0 --dim 16 --rot_angle 45\n",
      "--digit 5 --dim 16 --rot_angle 45\n",
      "--dim 25 --rot_angle 45\n",
      "--digit 0 --dim 25 --rot_angle 45\n",
      "--digit 5 --dim 25 --rot_angle 45\n",
      "--dim 4 --rot_angle 90\n",
      "--digit 0 --dim 4 --rot_angle 90\n",
      "--digit 5 --dim 4 --rot_angle 90\n",
      "--dim 9 --rot_angle 90\n",
      "--digit 0 --dim 9 --rot_angle 90\n",
      "--digit 5 --dim 9 --rot_angle 90\n",
      "--dim 16 --rot_angle 90\n",
      "--digit 0 --dim 16 --rot_angle 90\n",
      "--digit 5 --dim 16 --rot_angle 90\n",
      "--dim 25 --rot_angle 90\n",
      "--digit 0 --dim 25 --rot_angle 90\n",
      "--digit 5 --dim 25 --rot_angle 90\n",
      "\n",
      "\n",
      "\n"
     ]
    }
   ],
   "source": [
    "\n",
    "comb_dicts = {\n",
    "    # 'aug_noaug' : {\n",
    "    #     'epsilons' : [None, [0, 1., 0.1, 0.4]],\n",
    "    #     'seed': [1, 2, 3, 4, 5],\n",
    "    # },\n",
    "    # 'train' : {\n",
    "    # },\n",
    "    # 'eps_0to1' : {\n",
    "    #     'epsilons' : [None, [0, 1., 0.1, 0.4]],\n",
    "    #     'seed':  [1, 2, 3, 4, 5],\n",
    "    #     'seed2': [],\n",
    "    # },\n",
    "    'lconv' : {\n",
    "        'rot_angle' : [0, 10, 45, 90],\n",
    "        'dim':  [4, 9, 16, 25],\n",
    "        'digit' : [None, 0, 5],\n",
    "    },\n",
    "}\n",
    "\n",
    "\n",
    "array_dir = '../jobs/arrays/'\n",
    "for file_name, comb_dict in comb_dicts.items():\n",
    "    output_file = os.path.join(array_dir, file_name + '.txt')\n",
    "    output_lines = dict_to_array(comb_dict)\n",
    "    print(f'### {file_name} ###', comb_dict, output_lines, '\\n\\n',sep='\\n')\n",
    "    write_lines(output_file, output_lines)\n"
   ]
  }
 ],
 "metadata": {
  "kernelspec": {
   "display_name": "sympde",
   "language": "python",
   "name": "python3"
  },
  "language_info": {
   "codemirror_mode": {
    "name": "ipython",
    "version": 3
   },
   "file_extension": ".py",
   "mimetype": "text/x-python",
   "name": "python",
   "nbconvert_exporter": "python",
   "pygments_lexer": "ipython3",
   "version": "3.10.13"
  }
 },
 "nbformat": 4,
 "nbformat_minor": 2
}
