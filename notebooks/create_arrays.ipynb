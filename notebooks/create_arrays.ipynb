{
 "cells": [
  {
   "cell_type": "code",
   "execution_count": 1,
   "metadata": {},
   "outputs": [],
   "source": [
    "%load_ext autoreload\n",
    "%autoreload 2\n",
    "\n",
    "import os\n",
    "import numpy as np\n",
    "from itertools import product\n",
    "\n",
    "import os, sys\n",
    "sys.path.append(os.path.join(os.getcwd(), '../sympdee/sympde'))\n",
    "from misc.utils import write_lines\n",
    "from data.pdes import PDEs"
   ]
  },
  {
   "cell_type": "code",
   "execution_count": 2,
   "metadata": {},
   "outputs": [],
   "source": [
    "def listify(comb_dict):\n",
    "    for key, value in comb_dict.items():\n",
    "        if not isinstance(value, list):\n",
    "            comb_dict[key] = [value]\n",
    "    return comb_dict\n",
    "\n",
    "def generate_combinations(dictionary):\n",
    "    # Base case: if the dictionary is empty, return an empty list\n",
    "    if not dictionary:\n",
    "        return [\"\"]\n",
    "\n",
    "    # Take one key-value pair from the dictionary\n",
    "    key, values = next(iter(dictionary.items()))\n",
    "    remaining_dict = dictionary.copy()\n",
    "    del remaining_dict[key]\n",
    "\n",
    "    # Recursively generate combinations for the remaining dictionary\n",
    "    combinations = generate_combinations(remaining_dict)\n",
    "\n",
    "    # Generate all possible combinations with the current key-value pair\n",
    "    output_lines = []\n",
    "    for value in values:\n",
    "        for combination in combinations:\n",
    "            if value is None:\n",
    "                line = combination\n",
    "            elif combination == \"\":\n",
    "                line = f\"--{key} {value}\" \n",
    "            else:\n",
    "                if isinstance(value, list):\n",
    "                    value = \" \".join([str(v) for v in value])\n",
    "                line = f\"{combination} --{key} {value}\"\n",
    "            output_lines.append(line)\n",
    "\n",
    "    return output_lines\n",
    "\n",
    "def dict_to_array(comb_dict):\n",
    "    comb_dict = listify(comb_dict)\n",
    "    output_lines = generate_combinations(comb_dict)\n",
    "    output_lines = \"\\n\".join(output_lines)\n",
    "    return output_lines"
   ]
  },
  {
   "cell_type": "code",
   "execution_count": 3,
   "metadata": {},
   "outputs": [],
   "source": [
    "eps0to1 = np.linspace(0, 1, 3)\n",
    "eps_0to1s = [[0] + [np.round(eps,1) for eps in epss] for epss in product(eps0to1, eps0to1, eps0to1)]"
   ]
  },
  {
   "cell_type": "code",
   "execution_count": 4,
   "metadata": {},
   "outputs": [
    {
     "data": {
      "text/plain": [
       "[[0, 0, 0, 0],\n",
       " [0, 0.25, 0, 0],\n",
       " [0, 0.5, 0, 0],\n",
       " [0, 0.75, 0, 0],\n",
       " [0, 1.0, 0, 0],\n",
       " [0, 0, 0.25, 0],\n",
       " [0, 0, 0.5, 0],\n",
       " [0, 0, 0.75, 0],\n",
       " [0, 0, 1.0, 0],\n",
       " [0, 0, 0, 0.25],\n",
       " [0, 0, 0, 0.5],\n",
       " [0, 0, 0, 0.75],\n",
       " [0, 0, 0, 1.0]]"
      ]
     },
     "execution_count": 4,
     "metadata": {},
     "output_type": "execute_result"
    }
   ],
   "source": [
    "eps0to1s_nogrid = [[0,0,0,0]]\n",
    "eps1 = np.linspace(0, 1, 5)[1:]\n",
    "eps0 = [0]*4\n",
    "for i in range(1,4):\n",
    "    for eps1_i in range(len(eps1)):\n",
    "        eps0_i = eps0.copy()\n",
    "        eps0_i[i] = eps1[eps1_i]\n",
    "        eps0to1s_nogrid.append(eps0_i)\n",
    "\n",
    "eps0to1s_nogrid"
   ]
  },
  {
   "cell_type": "code",
   "execution_count": 5,
   "metadata": {},
   "outputs": [
    {
     "data": {
      "text/plain": [
       "['Pde1',\n",
       " 'Pde2',\n",
       " 'Pde3',\n",
       " 'Pde4',\n",
       " 'Pde5',\n",
       " 'Pde6',\n",
       " 'Pde7',\n",
       " 'Pde8',\n",
       " 'Pde9',\n",
       " 'Pde10',\n",
       " 'Pde11',\n",
       " 'Pde12',\n",
       " 'Pde13',\n",
       " 'Pde14',\n",
       " 'Pde15',\n",
       " 'Pde16',\n",
       " 'Pde17',\n",
       " 'Pde18',\n",
       " 'Pde19',\n",
       " 'Pde20',\n",
       " 'Pde21',\n",
       " 'Pde22',\n",
       " 'Pde23',\n",
       " 'Pde24',\n",
       " 'KdV']"
      ]
     },
     "execution_count": 5,
     "metadata": {},
     "output_type": "execute_result"
    }
   ],
   "source": [
    "pdes = PDEs()\n",
    "pde_names = [pde for pde in pdes]\n",
    "pde_names"
   ]
  },
  {
   "cell_type": "code",
   "execution_count": 6,
   "metadata": {},
   "outputs": [
    {
     "data": {
      "text/plain": [
       "[[100],\n",
       " [100, 100],\n",
       " [100, 100, 100],\n",
       " [100, 100, 100, 100],\n",
       " [100, 100, 100, 100, 100],\n",
       " [100, 100, 100, 100, 100, 100],\n",
       " [100, 100, 100, 100, 100, 100, 100],\n",
       " [100, 100, 100, 100, 100, 100, 100, 100],\n",
       " [100, 100, 100, 100, 100, 100, 100, 100, 100]]"
      ]
     },
     "execution_count": 6,
     "metadata": {},
     "output_type": "execute_result"
    }
   ],
   "source": [
    "mlp_hidden_channels = [[100]*n_channels for n_channels in range(1, 10)]\n",
    "mlp_hidden_channels"
   ]
  },
  {
   "cell_type": "code",
   "execution_count": 7,
   "metadata": {},
   "outputs": [],
   "source": [
    "mlp_hidden_channels_flat = [[2**16, 2**13, 2**8]]"
   ]
  },
  {
   "cell_type": "code",
   "execution_count": 8,
   "metadata": {},
   "outputs": [],
   "source": [
    "seeds = [1, 2, 3, 4, 5]"
   ]
  },
  {
   "cell_type": "code",
   "execution_count": 9,
   "metadata": {},
   "outputs": [],
   "source": [
    "n_train = [1_000, 10_000]\n",
    "# n_splits_valtest = 5_000\n",
    "# n_splits = [[n_split_train, n_splits_valtest, n_splits_valtest] for n_split_train in n_splits_train]"
   ]
  },
  {
   "cell_type": "code",
   "execution_count": 10,
   "metadata": {},
   "outputs": [],
   "source": [
    "lrs = [0.1, 0.01, 0.001, 0.0001]\n",
    "net = ['TrainP']"
   ]
  },
  {
   "cell_type": "code",
   "execution_count": 11,
   "metadata": {},
   "outputs": [
    {
     "name": "stdout",
     "output_type": "stream",
     "text": [
      "### sine1d ###\n",
      "{'tags': ['sine1d'], 'batch_size': ['2'], 'max_epochs': ['50'], 'n_test': ['1000'], 'n_val': ['1000'], 'y_high': ['3'], 'y_low': ['1'], 'noise_std': ['0.5'], 'grid_size': ['1 7'], 'eps_mult': ['0. 0. 1. 0.'], 'data_dir': ['../data/sine1d'], 'net': ['TrainP'], 'seed': [1, 2, 3, 4, 5], 'n_train': [1000, 10000], 'lr': [0.1, 0.01, 0.001, 0.0001]}\n",
      "--lr 0.1 --n_train 1000 --seed 1 --net TrainP --data_dir ../data/sine1d --eps_mult 0. 0. 1. 0. --grid_size 1 7 --noise_std 0.5 --y_low 1 --y_high 3 --n_val 1000 --n_test 1000 --max_epochs 50 --batch_size 2 --tags sine1d\n",
      "--lr 0.01 --n_train 1000 --seed 1 --net TrainP --data_dir ../data/sine1d --eps_mult 0. 0. 1. 0. --grid_size 1 7 --noise_std 0.5 --y_low 1 --y_high 3 --n_val 1000 --n_test 1000 --max_epochs 50 --batch_size 2 --tags sine1d\n",
      "--lr 0.001 --n_train 1000 --seed 1 --net TrainP --data_dir ../data/sine1d --eps_mult 0. 0. 1. 0. --grid_size 1 7 --noise_std 0.5 --y_low 1 --y_high 3 --n_val 1000 --n_test 1000 --max_epochs 50 --batch_size 2 --tags sine1d\n",
      "--lr 0.0001 --n_train 1000 --seed 1 --net TrainP --data_dir ../data/sine1d --eps_mult 0. 0. 1. 0. --grid_size 1 7 --noise_std 0.5 --y_low 1 --y_high 3 --n_val 1000 --n_test 1000 --max_epochs 50 --batch_size 2 --tags sine1d\n",
      "--lr 0.1 --n_train 10000 --seed 1 --net TrainP --data_dir ../data/sine1d --eps_mult 0. 0. 1. 0. --grid_size 1 7 --noise_std 0.5 --y_low 1 --y_high 3 --n_val 1000 --n_test 1000 --max_epochs 50 --batch_size 2 --tags sine1d\n",
      "--lr 0.01 --n_train 10000 --seed 1 --net TrainP --data_dir ../data/sine1d --eps_mult 0. 0. 1. 0. --grid_size 1 7 --noise_std 0.5 --y_low 1 --y_high 3 --n_val 1000 --n_test 1000 --max_epochs 50 --batch_size 2 --tags sine1d\n",
      "--lr 0.001 --n_train 10000 --seed 1 --net TrainP --data_dir ../data/sine1d --eps_mult 0. 0. 1. 0. --grid_size 1 7 --noise_std 0.5 --y_low 1 --y_high 3 --n_val 1000 --n_test 1000 --max_epochs 50 --batch_size 2 --tags sine1d\n",
      "--lr 0.0001 --n_train 10000 --seed 1 --net TrainP --data_dir ../data/sine1d --eps_mult 0. 0. 1. 0. --grid_size 1 7 --noise_std 0.5 --y_low 1 --y_high 3 --n_val 1000 --n_test 1000 --max_epochs 50 --batch_size 2 --tags sine1d\n",
      "--lr 0.1 --n_train 1000 --seed 2 --net TrainP --data_dir ../data/sine1d --eps_mult 0. 0. 1. 0. --grid_size 1 7 --noise_std 0.5 --y_low 1 --y_high 3 --n_val 1000 --n_test 1000 --max_epochs 50 --batch_size 2 --tags sine1d\n",
      "--lr 0.01 --n_train 1000 --seed 2 --net TrainP --data_dir ../data/sine1d --eps_mult 0. 0. 1. 0. --grid_size 1 7 --noise_std 0.5 --y_low 1 --y_high 3 --n_val 1000 --n_test 1000 --max_epochs 50 --batch_size 2 --tags sine1d\n",
      "--lr 0.001 --n_train 1000 --seed 2 --net TrainP --data_dir ../data/sine1d --eps_mult 0. 0. 1. 0. --grid_size 1 7 --noise_std 0.5 --y_low 1 --y_high 3 --n_val 1000 --n_test 1000 --max_epochs 50 --batch_size 2 --tags sine1d\n",
      "--lr 0.0001 --n_train 1000 --seed 2 --net TrainP --data_dir ../data/sine1d --eps_mult 0. 0. 1. 0. --grid_size 1 7 --noise_std 0.5 --y_low 1 --y_high 3 --n_val 1000 --n_test 1000 --max_epochs 50 --batch_size 2 --tags sine1d\n",
      "--lr 0.1 --n_train 10000 --seed 2 --net TrainP --data_dir ../data/sine1d --eps_mult 0. 0. 1. 0. --grid_size 1 7 --noise_std 0.5 --y_low 1 --y_high 3 --n_val 1000 --n_test 1000 --max_epochs 50 --batch_size 2 --tags sine1d\n",
      "--lr 0.01 --n_train 10000 --seed 2 --net TrainP --data_dir ../data/sine1d --eps_mult 0. 0. 1. 0. --grid_size 1 7 --noise_std 0.5 --y_low 1 --y_high 3 --n_val 1000 --n_test 1000 --max_epochs 50 --batch_size 2 --tags sine1d\n",
      "--lr 0.001 --n_train 10000 --seed 2 --net TrainP --data_dir ../data/sine1d --eps_mult 0. 0. 1. 0. --grid_size 1 7 --noise_std 0.5 --y_low 1 --y_high 3 --n_val 1000 --n_test 1000 --max_epochs 50 --batch_size 2 --tags sine1d\n",
      "--lr 0.0001 --n_train 10000 --seed 2 --net TrainP --data_dir ../data/sine1d --eps_mult 0. 0. 1. 0. --grid_size 1 7 --noise_std 0.5 --y_low 1 --y_high 3 --n_val 1000 --n_test 1000 --max_epochs 50 --batch_size 2 --tags sine1d\n",
      "--lr 0.1 --n_train 1000 --seed 3 --net TrainP --data_dir ../data/sine1d --eps_mult 0. 0. 1. 0. --grid_size 1 7 --noise_std 0.5 --y_low 1 --y_high 3 --n_val 1000 --n_test 1000 --max_epochs 50 --batch_size 2 --tags sine1d\n",
      "--lr 0.01 --n_train 1000 --seed 3 --net TrainP --data_dir ../data/sine1d --eps_mult 0. 0. 1. 0. --grid_size 1 7 --noise_std 0.5 --y_low 1 --y_high 3 --n_val 1000 --n_test 1000 --max_epochs 50 --batch_size 2 --tags sine1d\n",
      "--lr 0.001 --n_train 1000 --seed 3 --net TrainP --data_dir ../data/sine1d --eps_mult 0. 0. 1. 0. --grid_size 1 7 --noise_std 0.5 --y_low 1 --y_high 3 --n_val 1000 --n_test 1000 --max_epochs 50 --batch_size 2 --tags sine1d\n",
      "--lr 0.0001 --n_train 1000 --seed 3 --net TrainP --data_dir ../data/sine1d --eps_mult 0. 0. 1. 0. --grid_size 1 7 --noise_std 0.5 --y_low 1 --y_high 3 --n_val 1000 --n_test 1000 --max_epochs 50 --batch_size 2 --tags sine1d\n",
      "--lr 0.1 --n_train 10000 --seed 3 --net TrainP --data_dir ../data/sine1d --eps_mult 0. 0. 1. 0. --grid_size 1 7 --noise_std 0.5 --y_low 1 --y_high 3 --n_val 1000 --n_test 1000 --max_epochs 50 --batch_size 2 --tags sine1d\n",
      "--lr 0.01 --n_train 10000 --seed 3 --net TrainP --data_dir ../data/sine1d --eps_mult 0. 0. 1. 0. --grid_size 1 7 --noise_std 0.5 --y_low 1 --y_high 3 --n_val 1000 --n_test 1000 --max_epochs 50 --batch_size 2 --tags sine1d\n",
      "--lr 0.001 --n_train 10000 --seed 3 --net TrainP --data_dir ../data/sine1d --eps_mult 0. 0. 1. 0. --grid_size 1 7 --noise_std 0.5 --y_low 1 --y_high 3 --n_val 1000 --n_test 1000 --max_epochs 50 --batch_size 2 --tags sine1d\n",
      "--lr 0.0001 --n_train 10000 --seed 3 --net TrainP --data_dir ../data/sine1d --eps_mult 0. 0. 1. 0. --grid_size 1 7 --noise_std 0.5 --y_low 1 --y_high 3 --n_val 1000 --n_test 1000 --max_epochs 50 --batch_size 2 --tags sine1d\n",
      "--lr 0.1 --n_train 1000 --seed 4 --net TrainP --data_dir ../data/sine1d --eps_mult 0. 0. 1. 0. --grid_size 1 7 --noise_std 0.5 --y_low 1 --y_high 3 --n_val 1000 --n_test 1000 --max_epochs 50 --batch_size 2 --tags sine1d\n",
      "--lr 0.01 --n_train 1000 --seed 4 --net TrainP --data_dir ../data/sine1d --eps_mult 0. 0. 1. 0. --grid_size 1 7 --noise_std 0.5 --y_low 1 --y_high 3 --n_val 1000 --n_test 1000 --max_epochs 50 --batch_size 2 --tags sine1d\n",
      "--lr 0.001 --n_train 1000 --seed 4 --net TrainP --data_dir ../data/sine1d --eps_mult 0. 0. 1. 0. --grid_size 1 7 --noise_std 0.5 --y_low 1 --y_high 3 --n_val 1000 --n_test 1000 --max_epochs 50 --batch_size 2 --tags sine1d\n",
      "--lr 0.0001 --n_train 1000 --seed 4 --net TrainP --data_dir ../data/sine1d --eps_mult 0. 0. 1. 0. --grid_size 1 7 --noise_std 0.5 --y_low 1 --y_high 3 --n_val 1000 --n_test 1000 --max_epochs 50 --batch_size 2 --tags sine1d\n",
      "--lr 0.1 --n_train 10000 --seed 4 --net TrainP --data_dir ../data/sine1d --eps_mult 0. 0. 1. 0. --grid_size 1 7 --noise_std 0.5 --y_low 1 --y_high 3 --n_val 1000 --n_test 1000 --max_epochs 50 --batch_size 2 --tags sine1d\n",
      "--lr 0.01 --n_train 10000 --seed 4 --net TrainP --data_dir ../data/sine1d --eps_mult 0. 0. 1. 0. --grid_size 1 7 --noise_std 0.5 --y_low 1 --y_high 3 --n_val 1000 --n_test 1000 --max_epochs 50 --batch_size 2 --tags sine1d\n",
      "--lr 0.001 --n_train 10000 --seed 4 --net TrainP --data_dir ../data/sine1d --eps_mult 0. 0. 1. 0. --grid_size 1 7 --noise_std 0.5 --y_low 1 --y_high 3 --n_val 1000 --n_test 1000 --max_epochs 50 --batch_size 2 --tags sine1d\n",
      "--lr 0.0001 --n_train 10000 --seed 4 --net TrainP --data_dir ../data/sine1d --eps_mult 0. 0. 1. 0. --grid_size 1 7 --noise_std 0.5 --y_low 1 --y_high 3 --n_val 1000 --n_test 1000 --max_epochs 50 --batch_size 2 --tags sine1d\n",
      "--lr 0.1 --n_train 1000 --seed 5 --net TrainP --data_dir ../data/sine1d --eps_mult 0. 0. 1. 0. --grid_size 1 7 --noise_std 0.5 --y_low 1 --y_high 3 --n_val 1000 --n_test 1000 --max_epochs 50 --batch_size 2 --tags sine1d\n",
      "--lr 0.01 --n_train 1000 --seed 5 --net TrainP --data_dir ../data/sine1d --eps_mult 0. 0. 1. 0. --grid_size 1 7 --noise_std 0.5 --y_low 1 --y_high 3 --n_val 1000 --n_test 1000 --max_epochs 50 --batch_size 2 --tags sine1d\n",
      "--lr 0.001 --n_train 1000 --seed 5 --net TrainP --data_dir ../data/sine1d --eps_mult 0. 0. 1. 0. --grid_size 1 7 --noise_std 0.5 --y_low 1 --y_high 3 --n_val 1000 --n_test 1000 --max_epochs 50 --batch_size 2 --tags sine1d\n",
      "--lr 0.0001 --n_train 1000 --seed 5 --net TrainP --data_dir ../data/sine1d --eps_mult 0. 0. 1. 0. --grid_size 1 7 --noise_std 0.5 --y_low 1 --y_high 3 --n_val 1000 --n_test 1000 --max_epochs 50 --batch_size 2 --tags sine1d\n",
      "--lr 0.1 --n_train 10000 --seed 5 --net TrainP --data_dir ../data/sine1d --eps_mult 0. 0. 1. 0. --grid_size 1 7 --noise_std 0.5 --y_low 1 --y_high 3 --n_val 1000 --n_test 1000 --max_epochs 50 --batch_size 2 --tags sine1d\n",
      "--lr 0.01 --n_train 10000 --seed 5 --net TrainP --data_dir ../data/sine1d --eps_mult 0. 0. 1. 0. --grid_size 1 7 --noise_std 0.5 --y_low 1 --y_high 3 --n_val 1000 --n_test 1000 --max_epochs 50 --batch_size 2 --tags sine1d\n",
      "--lr 0.001 --n_train 10000 --seed 5 --net TrainP --data_dir ../data/sine1d --eps_mult 0. 0. 1. 0. --grid_size 1 7 --noise_std 0.5 --y_low 1 --y_high 3 --n_val 1000 --n_test 1000 --max_epochs 50 --batch_size 2 --tags sine1d\n",
      "--lr 0.0001 --n_train 10000 --seed 5 --net TrainP --data_dir ../data/sine1d --eps_mult 0. 0. 1. 0. --grid_size 1 7 --noise_std 0.5 --y_low 1 --y_high 3 --n_val 1000 --n_test 1000 --max_epochs 50 --batch_size 2 --tags sine1d\n",
      "\n",
      "\n",
      "\n",
      "### sine1d-predict ###\n",
      "{'tags': ['sine1d'], 'batch_size': ['2'], 'max_epochs': ['50'], 'n_test': ['1000'], 'n_val': ['1000'], 'y_high': ['3'], 'y_low': ['1'], 'noise_std': ['0.5'], 'grid_size': ['1 7'], 'eps_mult': ['0. 0. 1. 0.'], 'data_dir': ['../data/sine1d'], 'net': ['Predict-NoneP', 'Predict-CalculatedP', 'Predict-TrainedP'], 'seed': [1, 2, 3, 4, 5], 'n_train': ['400'], 'lr': ['0.001']}\n",
      "--lr 0.001 --n_train 400 --seed 1 --net Predict-NoneP --data_dir ../data/sine1d --eps_mult 0. 0. 1. 0. --grid_size 1 7 --noise_std 0.5 --y_low 1 --y_high 3 --n_val 1000 --n_test 1000 --max_epochs 50 --batch_size 2 --tags sine1d\n",
      "--lr 0.001 --n_train 400 --seed 2 --net Predict-NoneP --data_dir ../data/sine1d --eps_mult 0. 0. 1. 0. --grid_size 1 7 --noise_std 0.5 --y_low 1 --y_high 3 --n_val 1000 --n_test 1000 --max_epochs 50 --batch_size 2 --tags sine1d\n",
      "--lr 0.001 --n_train 400 --seed 3 --net Predict-NoneP --data_dir ../data/sine1d --eps_mult 0. 0. 1. 0. --grid_size 1 7 --noise_std 0.5 --y_low 1 --y_high 3 --n_val 1000 --n_test 1000 --max_epochs 50 --batch_size 2 --tags sine1d\n",
      "--lr 0.001 --n_train 400 --seed 4 --net Predict-NoneP --data_dir ../data/sine1d --eps_mult 0. 0. 1. 0. --grid_size 1 7 --noise_std 0.5 --y_low 1 --y_high 3 --n_val 1000 --n_test 1000 --max_epochs 50 --batch_size 2 --tags sine1d\n",
      "--lr 0.001 --n_train 400 --seed 5 --net Predict-NoneP --data_dir ../data/sine1d --eps_mult 0. 0. 1. 0. --grid_size 1 7 --noise_std 0.5 --y_low 1 --y_high 3 --n_val 1000 --n_test 1000 --max_epochs 50 --batch_size 2 --tags sine1d\n",
      "--lr 0.001 --n_train 400 --seed 1 --net Predict-CalculatedP --data_dir ../data/sine1d --eps_mult 0. 0. 1. 0. --grid_size 1 7 --noise_std 0.5 --y_low 1 --y_high 3 --n_val 1000 --n_test 1000 --max_epochs 50 --batch_size 2 --tags sine1d\n",
      "--lr 0.001 --n_train 400 --seed 2 --net Predict-CalculatedP --data_dir ../data/sine1d --eps_mult 0. 0. 1. 0. --grid_size 1 7 --noise_std 0.5 --y_low 1 --y_high 3 --n_val 1000 --n_test 1000 --max_epochs 50 --batch_size 2 --tags sine1d\n",
      "--lr 0.001 --n_train 400 --seed 3 --net Predict-CalculatedP --data_dir ../data/sine1d --eps_mult 0. 0. 1. 0. --grid_size 1 7 --noise_std 0.5 --y_low 1 --y_high 3 --n_val 1000 --n_test 1000 --max_epochs 50 --batch_size 2 --tags sine1d\n",
      "--lr 0.001 --n_train 400 --seed 4 --net Predict-CalculatedP --data_dir ../data/sine1d --eps_mult 0. 0. 1. 0. --grid_size 1 7 --noise_std 0.5 --y_low 1 --y_high 3 --n_val 1000 --n_test 1000 --max_epochs 50 --batch_size 2 --tags sine1d\n",
      "--lr 0.001 --n_train 400 --seed 5 --net Predict-CalculatedP --data_dir ../data/sine1d --eps_mult 0. 0. 1. 0. --grid_size 1 7 --noise_std 0.5 --y_low 1 --y_high 3 --n_val 1000 --n_test 1000 --max_epochs 50 --batch_size 2 --tags sine1d\n",
      "--lr 0.001 --n_train 400 --seed 1 --net Predict-TrainedP --data_dir ../data/sine1d --eps_mult 0. 0. 1. 0. --grid_size 1 7 --noise_std 0.5 --y_low 1 --y_high 3 --n_val 1000 --n_test 1000 --max_epochs 50 --batch_size 2 --tags sine1d\n",
      "--lr 0.001 --n_train 400 --seed 2 --net Predict-TrainedP --data_dir ../data/sine1d --eps_mult 0. 0. 1. 0. --grid_size 1 7 --noise_std 0.5 --y_low 1 --y_high 3 --n_val 1000 --n_test 1000 --max_epochs 50 --batch_size 2 --tags sine1d\n",
      "--lr 0.001 --n_train 400 --seed 3 --net Predict-TrainedP --data_dir ../data/sine1d --eps_mult 0. 0. 1. 0. --grid_size 1 7 --noise_std 0.5 --y_low 1 --y_high 3 --n_val 1000 --n_test 1000 --max_epochs 50 --batch_size 2 --tags sine1d\n",
      "--lr 0.001 --n_train 400 --seed 4 --net Predict-TrainedP --data_dir ../data/sine1d --eps_mult 0. 0. 1. 0. --grid_size 1 7 --noise_std 0.5 --y_low 1 --y_high 3 --n_val 1000 --n_test 1000 --max_epochs 50 --batch_size 2 --tags sine1d\n",
      "--lr 0.001 --n_train 400 --seed 5 --net Predict-TrainedP --data_dir ../data/sine1d --eps_mult 0. 0. 1. 0. --grid_size 1 7 --noise_std 0.5 --y_low 1 --y_high 3 --n_val 1000 --n_test 1000 --max_epochs 50 --batch_size 2 --tags sine1d\n",
      "\n",
      "\n",
      "\n"
     ]
    }
   ],
   "source": [
    "\n",
    "comb_dicts = {\n",
    "    # 'aug_noaug' : {\n",
    "    #     'epsilons' : [None, [0, 1., 0.1, 0.4]],\n",
    "    #     'seed': [1, 2, 3, 4, 5],\n",
    "    # },\n",
    "    # 'train' : {\n",
    "    # },\n",
    "    # 'eps_0to1_nogrid' : {\n",
    "    #     'epsilons' : eps0to1s_nogrid,\n",
    "    #     'seed':  seeds,\n",
    "    # },\n",
    "    # 'lconv' : {\n",
    "    #     'rot_angle' : [0, 10, 45, 90],\n",
    "    #     'dim':  [4, 9, 16, 25],\n",
    "    #     'digit' : [None, 0, 5],\n",
    "    # },\n",
    "    # 'pdes' : {\n",
    "    #     'pde_name' : pde_names,\n",
    "    #     'seed':  seeds,\n",
    "    # },\n",
    "    # 'mlp_hidden_channels' : {\n",
    "    #     'mlp_hidden_channels' : mlp_hidden_channels,\n",
    "    #     'pde_name' : ['Pde22', 'Pde24', 'KdV'],\n",
    "    #     'seed':  seeds,\n",
    "    # },\n",
    "    # 'equiv_mag_none' : {\n",
    "    #     'equiv' : ['mag', 'none'],\n",
    "    #     'pde_name' : pde_names,\n",
    "    #     'seed':  seeds,\n",
    "    # }\n",
    "    # 'mlp_hidden_channels_flat' : {\n",
    "    #     'mlp_hidden_channels' : mlp_hidden_channels_flat,\n",
    "    #     'pde_name' : pde_names,\n",
    "    #     'seed':  seeds,\n",
    "    # }\n",
    "    # 'transform_types' : {\n",
    "    #     'transform_type' :  ['space_translation', 'none'],\n",
    "    #     'seed':  np.arange(1, 101),\n",
    "    # }\n",
    "    \"sine1d\" : {\n",
    "        'tags' : 'sine1d',\n",
    "        'batch_size' : '2',\n",
    "        'max_epochs' : '50',\n",
    "        'n_test' : '1000',\n",
    "        'n_val' : '1000',\n",
    "        'y_high' : '3',\n",
    "        'y_low' : '1',\n",
    "        'noise_std' : '0.5',\n",
    "        'grid_size' : '1 7',\n",
    "        'eps_mult' : '0. 0. 1. 0.',\n",
    "        'data_dir' : '../data/sine1d',\n",
    "        'net' : 'TrainP',\n",
    "        'seed':  seeds,\n",
    "        'n_train' :  n_train,\n",
    "        'lr' : lrs,\n",
    "    },\n",
    "    \"sine1d-predict\" : {\n",
    "        'tags' : 'sine1d-predict',\n",
    "        'batch_size' : '2',\n",
    "        'max_epochs' : '50',\n",
    "        'n_test' : '1000',\n",
    "        'n_val' : '1000',\n",
    "        'y_high' : '3',\n",
    "        'y_low' : '1',\n",
    "        'noise_std' : '0.5',\n",
    "        'grid_size' : '1 7',\n",
    "        'eps_mult' : '0. 0. 1. 0.',\n",
    "        'data_dir' : '../data/sine1d',\n",
    "        'net' : ['Predict-NoneP', 'Predict-CalculatedP', 'Predict-TrainedP'],\n",
    "        # 'net' : 'Predict-TrainedP-check',\n",
    "        'seed':  seeds,\n",
    "        'n_train' :  '400',\n",
    "        'lr' : '0.001'\n",
    "    },\n",
    "    # 'sine2d' : {\n",
    "    #     'seed':  seeds,\n",
    "    #     'n_train' :  n_train,\n",
    "    #     'lr' : lrs,\n",
    "    #     'net' : net,\n",
    "    # }\n",
    "}\n",
    "\n",
    "\n",
    "array_dir = '../jobs/arrays/'\n",
    "for file_name, comb_dict in comb_dicts.items():\n",
    "    output_file = os.path.join(array_dir, file_name + '.txt')\n",
    "    output_lines = dict_to_array(comb_dict)\n",
    "    print(f'### {file_name} ###', comb_dict, output_lines, '\\n\\n',sep='\\n')\n",
    "    write_lines(output_file, output_lines)\n"
   ]
  },
  {
   "cell_type": "code",
   "execution_count": 12,
   "metadata": {},
   "outputs": [
    {
     "ename": "ValueError",
     "evalue": "dictionary update sequence element #0 has length 14; 2 is required",
     "output_type": "error",
     "traceback": [
      "\u001b[0;31m---------------------------------------------------------------------------\u001b[0m",
      "\u001b[0;31mValueError\u001b[0m                                Traceback (most recent call last)",
      "Cell \u001b[0;32mIn[12], line 1\u001b[0m\n\u001b[0;32m----> 1\u001b[0m \u001b[38;5;28;43mdict\u001b[39;49m\u001b[43m(\u001b[49m\u001b[38;5;28;43mreversed\u001b[39;49m\u001b[43m(\u001b[49m\u001b[43mcomb_dicts\u001b[49m\u001b[43m)\u001b[49m\u001b[43m)\u001b[49m\n",
      "\u001b[0;31mValueError\u001b[0m: dictionary update sequence element #0 has length 14; 2 is required"
     ]
    }
   ],
   "source": [
    "dict(reversed(comb_dicts))"
   ]
  }
 ],
 "metadata": {
  "kernelspec": {
   "display_name": "sympde",
   "language": "python",
   "name": "python3"
  },
  "language_info": {
   "codemirror_mode": {
    "name": "ipython",
    "version": 3
   },
   "file_extension": ".py",
   "mimetype": "text/x-python",
   "name": "python",
   "nbconvert_exporter": "python",
   "pygments_lexer": "ipython3",
   "version": "3.10.13"
  }
 },
 "nbformat": 4,
 "nbformat_minor": 2
}
