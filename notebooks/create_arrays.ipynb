{
 "cells": [
  {
   "cell_type": "code",
   "execution_count": 7,
   "metadata": {},
   "outputs": [
    {
     "name": "stderr",
     "output_type": "stream",
     "text": [
      "/scratch-local/eliasd/ipykernel_2930325/2236346449.py:7: DeprecationWarning: \n",
      "Pyarrow will become a required dependency of pandas in the next major release of pandas (pandas 3.0),\n",
      "(to allow more performant data types, such as the Arrow string type, and better interoperability with other libraries)\n",
      "but was not found to be installed on your system.\n",
      "If this would cause problems for you,\n",
      "please provide us feedback at https://github.com/pandas-dev/pandas/issues/54466\n",
      "        \n",
      "  import pandas as pd\n"
     ]
    }
   ],
   "source": [
    "%load_ext autoreload\n",
    "%autoreload 2\n",
    "\n",
    "import os\n",
    "import numpy as np\n",
    "from itertools import product\n",
    "import pandas as pd\n",
    "\n",
    "import os, sys\n",
    "sys.path.append(os.path.join(os.getcwd(), '../symlie'))\n",
    "from misc.utils_arrays import write_lines, clean_val, listify, generate_combinations, dict_to_array"
   ]
  },
  {
   "cell_type": "code",
   "execution_count": 8,
   "metadata": {},
   "outputs": [],
   "source": [
    "def listify(comb_dict):\n",
    "    for key, value in comb_dict.items():\n",
    "        if not isinstance(value, list):\n",
    "            comb_dict[key] = [value]\n",
    "    return comb_dict\n",
    "\n",
    "def generate_combinations(dictionary):\n",
    "    # Base case: if the dictionary is empty, return an empty list\n",
    "    if not dictionary:\n",
    "        return [\"\"]\n",
    "\n",
    "    # Take one key-value pair from the dictionary\n",
    "    key, values = next(iter(dictionary.items()))\n",
    "    remaining_dict = dictionary.copy()\n",
    "    del remaining_dict[key]\n",
    "\n",
    "    # Recursively generate combinations for the remaining dictionary\n",
    "    combinations = generate_combinations(remaining_dict)\n",
    "\n",
    "    # Generate all possible combinations with the current key-value pair\n",
    "    output_lines = []\n",
    "    for value in values:\n",
    "        for combination in combinations:\n",
    "            if value == 'True':\n",
    "                value = ''\n",
    "            if value is None:\n",
    "                line = combination\n",
    "            elif combination == \"\":\n",
    "                line = f\"--{key} {value}\" \n",
    "            else:\n",
    "                if isinstance(value, list):\n",
    "                    value = \" \".join([str(v) for v in value])\n",
    "                line = f\"{combination} --{key} {value}\"\n",
    "            output_lines.append(line)\n",
    "\n",
    "    return output_lines\n",
    "\n",
    "def dict_to_array(comb_dict):\n",
    "    comb_dict = listify(comb_dict)\n",
    "    output_lines = generate_combinations(comb_dict)\n",
    "    output_lines = \"\\n\".join(output_lines)\n",
    "    return output_lines"
   ]
  },
  {
   "cell_type": "code",
   "execution_count": 9,
   "metadata": {},
   "outputs": [],
   "source": [
    "eps0to1 = np.linspace(0, 1, 3)\n",
    "eps_0to1s = [[0] + [np.round(eps,1) for eps in epss] for epss in product(eps0to1, eps0to1, eps0to1)]"
   ]
  },
  {
   "cell_type": "code",
   "execution_count": 10,
   "metadata": {},
   "outputs": [
    {
     "data": {
      "text/plain": [
       "[[0, 0, 0, 0],\n",
       " [0, 0.25, 0, 0],\n",
       " [0, 0.5, 0, 0],\n",
       " [0, 0.75, 0, 0],\n",
       " [0, 1.0, 0, 0],\n",
       " [0, 0, 0.25, 0],\n",
       " [0, 0, 0.5, 0],\n",
       " [0, 0, 0.75, 0],\n",
       " [0, 0, 1.0, 0],\n",
       " [0, 0, 0, 0.25],\n",
       " [0, 0, 0, 0.5],\n",
       " [0, 0, 0, 0.75],\n",
       " [0, 0, 0, 1.0]]"
      ]
     },
     "execution_count": 10,
     "metadata": {},
     "output_type": "execute_result"
    }
   ],
   "source": [
    "eps0to1s_nogrid = [[0,0,0,0]]\n",
    "eps1 = np.linspace(0, 1, 5)[1:]\n",
    "eps0 = [0]*4\n",
    "for i in range(1,4):\n",
    "    for eps1_i in range(len(eps1)):\n",
    "        eps0_i = eps0.copy()\n",
    "        eps0_i[i] = eps1[eps1_i]\n",
    "        eps0to1s_nogrid.append(eps0_i)\n",
    "\n",
    "eps0to1s_nogrid"
   ]
  },
  {
   "cell_type": "code",
   "execution_count": 11,
   "metadata": {},
   "outputs": [
    {
     "data": {
      "text/plain": [
       "['Pde1',\n",
       " 'Pde2',\n",
       " 'Pde3',\n",
       " 'Pde4',\n",
       " 'Pde5',\n",
       " 'Pde6',\n",
       " 'Pde7',\n",
       " 'Pde8',\n",
       " 'Pde9',\n",
       " 'Pde10',\n",
       " 'Pde11',\n",
       " 'Pde12',\n",
       " 'Pde13',\n",
       " 'Pde14',\n",
       " 'Pde15',\n",
       " 'Pde16',\n",
       " 'Pde17',\n",
       " 'Pde18',\n",
       " 'Pde19',\n",
       " 'Pde20',\n",
       " 'Pde21',\n",
       " 'Pde22',\n",
       " 'Pde23',\n",
       " 'Pde24',\n",
       " 'KdV']"
      ]
     },
     "execution_count": 11,
     "metadata": {},
     "output_type": "execute_result"
    }
   ],
   "source": [
    "pdes = PDEs()\n",
    "pde_names = [pde for pde in pdes]\n",
    "pde_names"
   ]
  },
  {
   "cell_type": "code",
   "execution_count": 12,
   "metadata": {},
   "outputs": [
    {
     "data": {
      "text/plain": [
       "[[100],\n",
       " [100, 100],\n",
       " [100, 100, 100],\n",
       " [100, 100, 100, 100],\n",
       " [100, 100, 100, 100, 100],\n",
       " [100, 100, 100, 100, 100, 100],\n",
       " [100, 100, 100, 100, 100, 100, 100],\n",
       " [100, 100, 100, 100, 100, 100, 100, 100],\n",
       " [100, 100, 100, 100, 100, 100, 100, 100, 100]]"
      ]
     },
     "execution_count": 12,
     "metadata": {},
     "output_type": "execute_result"
    }
   ],
   "source": [
    "mlp_hidden_channels = [[100]*n_channels for n_channels in range(1, 10)]\n",
    "mlp_hidden_channels"
   ]
  },
  {
   "cell_type": "code",
   "execution_count": 13,
   "metadata": {},
   "outputs": [],
   "source": [
    "mlp_hidden_channels_flat = [[2**16, 2**13, 2**8]]"
   ]
  },
  {
   "cell_type": "code",
   "execution_count": 14,
   "metadata": {},
   "outputs": [],
   "source": [
    "seeds = [1, 2, 3]"
   ]
  },
  {
   "cell_type": "code",
   "execution_count": 15,
   "metadata": {},
   "outputs": [],
   "source": [
    "n_train = [1_000, 10_000]\n",
    "# n_splits_valtest = 5_000\n",
    "# n_splits = [[n_split_train, n_splits_valtest, n_splits_valtest] for n_split_train in n_splits_train]"
   ]
  },
  {
   "cell_type": "code",
   "execution_count": null,
   "metadata": {},
   "outputs": [],
   "source": []
  },
  {
   "cell_type": "code",
   "execution_count": 16,
   "metadata": {},
   "outputs": [],
   "source": [
    "lrs = [0.1, 0.01, 0.001, 0.0001]\n",
    "net = ['TrainP']"
   ]
  },
  {
   "cell_type": "code",
   "execution_count": 17,
   "metadata": {},
   "outputs": [
    {
     "data": {
      "text/plain": [
       "[4, 8, 16]"
      ]
     },
     "execution_count": 17,
     "metadata": {},
     "output_type": "execute_result"
    }
   ],
   "source": [
    "batch_sizes = list(reversed([2**i for i in range(1, 10, 2)]))\n",
    "batch_sizes = list([2**i for i in range(2, 5)])\n",
    "batch_sizes"
   ]
  },
  {
   "cell_type": "code",
   "execution_count": 26,
   "metadata": {},
   "outputs": [],
   "source": [
    "\n",
    "comb_dicts = {\n",
    "    # 'aug_noaug' : {\n",
    "    #     'epsilons' : [None, [0, 1., 0.1, 0.4]],\n",
    "    #     'seed': [1, 2, 3, 4, 5],\n",
    "    # },\n",
    "    # 'train' : {\n",
    "    # },\n",
    "    # 'eps_0to1_nogrid' : {\n",
    "    #     'epsilons' : eps0to1s_nogrid,\n",
    "    #     'seed':  seeds,\n",
    "    # },\n",
    "    # 'lconv' : {\n",
    "    #     'rot_angle' : [0, 10, 45, 90],\n",
    "    #     'dim':  [4, 9, 16, 25],\n",
    "    #     'digit' : [None, 0, 5],\n",
    "    # },\n",
    "    # 'pdes' : {\n",
    "    #     'pde_name' : pde_names,\n",
    "    #     'seed':  seeds,\n",
    "    # },\n",
    "    # 'mlp_hidden_channels' : {\n",
    "    #     'mlp_hidden_channels' : mlp_hidden_channels,\n",
    "    #     'pde_name' : ['Pde22', 'Pde24', 'KdV'],\n",
    "    #     'seed':  seeds,\n",
    "    # },\n",
    "    # 'equiv_mag_none' : {\n",
    "    #     'equiv' : ['mag', 'none'],\n",
    "    #     'pde_name' : pde_names,\n",
    "    #     'seed':  seeds,\n",
    "    # }\n",
    "    # 'mlp_hidden_channels_flat' : {\n",
    "    #     'mlp_hidden_channels' : mlp_hidden_channels_flat,\n",
    "    #     'pde_name' : pde_names,\n",
    "    #     'seed':  seeds,\n",
    "    # }\n",
    "    # 'transform_types' : {\n",
    "    #     'transform_type' :  ['space_translation', 'none'],\n",
    "    #     'seed':  np.arange(1, 101),\n",
    "    # }\n",
    "    \"sine1d\" : {\n",
    "        'tags' : 'sine1d',\n",
    "        'batch_size' : '2',\n",
    "        'max_epochs' : '50',\n",
    "        'n_test' : '1000',\n",
    "        'n_val' : '1000',\n",
    "        'y_high' : '3',\n",
    "        'y_low' : '1',\n",
    "        'noise_std' : '0.5',\n",
    "        'grid_size' : '1 7',\n",
    "        'eps_mult' : '0. 0. 1. 0.',\n",
    "        'data_dir' : '../data/sine1d',\n",
    "        'net' : 'TrainP',\n",
    "        'seed':  seeds,\n",
    "        'n_train' :  n_train,\n",
    "        'lr' : lrs,\n",
    "    },\n",
    "    \"sine1d-predict\" : {\n",
    "        'tags' : 'sine1d-predict',\n",
    "        'batch_size' : '2',\n",
    "        'max_epochs' : '50',\n",
    "        'n_test' : '1000',\n",
    "        'n_val' : '1000',\n",
    "        'y_high' : '3',\n",
    "        'y_low' : '1',\n",
    "        'noise_std' : '0.5',\n",
    "        'grid_size' : '1 7',\n",
    "        'eps_mult' : '0. 0. 1. 0.',\n",
    "        'data_dir' : '../data/sine1d',\n",
    "        'net' : ['Predict-NoneP', 'Predict-CalculatedP', 'Predict-TrainedP'],\n",
    "        'seed':  seeds,\n",
    "        'n_train' :  '400',\n",
    "        'lr' : '0.001'\n",
    "    },\n",
    "    \"sine2d\" : {\n",
    "        'tags' : 'sine2d',\n",
    "        'batch_size' : '2',\n",
    "        'max_epochs' : '50',\n",
    "        'n_test' : '1000',\n",
    "        'n_val' : '1000',\n",
    "        'y_high' : '3',\n",
    "        'y_low' : '1',\n",
    "        'noise_std' : '0.5',\n",
    "        'grid_size' : '7 7',\n",
    "        'eps_mult' : '0. 0. 1. 1.',\n",
    "        'data_dir' : '../data/sine2d',\n",
    "        'net' : 'TrainP',\n",
    "        'n_train' :  '10000',\n",
    "        'lr' : '0.001',\n",
    "        'seed':  seeds,\n",
    "    },\n",
    "    \"sine2d-predict\" : {\n",
    "        'tags' : 'sine2d',\n",
    "        'batch_size' : '2',\n",
    "        'max_epochs' : '50',\n",
    "        'n_test' : '1000',\n",
    "        'n_val' : '1000',\n",
    "        'y_high' : '3',\n",
    "        'y_low' : '1',\n",
    "        'noise_std' : '0.5',\n",
    "        'grid_size' : '7 7',\n",
    "        'eps_mult' : '0. 0. 1. 1.',\n",
    "        'data_dir' : '../data/sine2d',\n",
    "        'net' : ['Predict-NoneP', 'Predict-CalculatedP', 'Predict-TrainedP'],\n",
    "        'n_train' :  '1000',\n",
    "        'lr' : '0.001',\n",
    "        'seed':  seeds,\n",
    "    },\n",
    "    \"sine2d-rot\" : {\n",
    "        'tags' : 'sine2d-rot',\n",
    "        'max_epochs' : '50',\n",
    "        'n_test' : '1000',\n",
    "        'n_val' : '1000',\n",
    "        'y_low' : '1',\n",
    "        'grid_size' : '7 7',\n",
    "        'eps_mult' : '0. 1. 1. 1.',\n",
    "        'data_dir' : '../data/sine2d',\n",
    "        'net' : 'TrainP',\n",
    "        'y_high' : [3, 5],\n",
    "        'noise_std' : [0.1],\n",
    "        'batch_size' : [2, 16],\n",
    "        'n_train' :  [10000],\n",
    "        'lr' : [0.1, 0.01, 0.001],\n",
    "        'seed':  [1, 2, 3],\n",
    "    },\n",
    "    \"sine2d-rot-predict\" : {\n",
    "        'tags' : 'sine2d-rot-predict',\n",
    "        'n_test' : '1000',\n",
    "        'n_val' : '1000',\n",
    "        'y_high' : '3',\n",
    "        'y_low' : '1',\n",
    "        'noise_std' : '0.1',\n",
    "        'grid_size' : '7 7',\n",
    "        'eps_mult' : '0. 1. 1. 1.',\n",
    "        'data_dir' : '../data/sine2d',\n",
    "        'max_epochs' : '100',\n",
    "        'n_train' :  '10000',\n",
    "        'lr' : lrs,\n",
    "        'seed' : seeds,\n",
    "        'net' : ['Predict-NoneP', 'Predict-TrainedP'],\n",
    "    },\n",
    "    \"flower\" : {\n",
    "        'tags' : 'flower',\n",
    "        'max_epochs' : '50',\n",
    "        'n_test' : '1000',\n",
    "        'n_val' : '1000',\n",
    "        'y_low' : '2',\n",
    "        'y_high' : '7',\n",
    "        'grid_size' : '10 10',\n",
    "        'eps_mult' : '0. 1. 1. 1.',\n",
    "        'data_dir' : '../data/flower',\n",
    "        'net' : 'TrainP',\n",
    "        'noise_std' : [0.1],\n",
    "        'batch_size' : [16, 2],\n",
    "        'n_train' :  [10000],\n",
    "        'lr' : [0.1, 0.01, 0.001],\n",
    "        'seed':  [1, 2, 3],\n",
    "    },\n",
    "    \"flower-predict\" : {\n",
    "        'tags' : 'flower-predict',\n",
    "        'n_test' : '1000',\n",
    "        'n_val' : '1000',\n",
    "        'y_low' : '2',\n",
    "        'y_high' : '7',\n",
    "        'grid_size' : '10 10',\n",
    "        'eps_mult' : '0. 1. 1. 1.',\n",
    "        'data_dir' : '../data/flower',\n",
    "        'noise_std' : '0.1',\n",
    "        'max_epochs' : '100',\n",
    "        'n_train' :  '10000',\n",
    "        'lr' : lrs,\n",
    "        'seed' : [1, 2, 3],\n",
    "        'net' : ['Predict-NoneP', 'Predict-TrainedP'],\n",
    "    },\n",
    "    \"mnist\" : {\n",
    "        # 'logger' : 'None',\n",
    "        'tags' : 'mnist long',\n",
    "        'n_test' : '1000',\n",
    "        'n_val' : '1000',\n",
    "        'noise_std' : '0.',\n",
    "        'grid_size' : '7 7',\n",
    "        'eps_mult' : '0. 0. 1. 1.',\n",
    "        'data_dir' : '../data/MNIST',\n",
    "        'max_epochs' : '1000',\n",
    "        'net' : 'TrainP',\n",
    "        'n_train' :  '10000',\n",
    "        # 'batch_size' : batch_sizes,\n",
    "        'earlystop' : 'True',\n",
    "        # 'lr' : lrs,\n",
    "        'lr' : '0.01',\n",
    "        'seed':  seeds,\n",
    "    },\n",
    "    \"mnist-predict\" : {\n",
    "        # 'logger' : 'None',\n",
    "        'tags' : 'mnist-predict long22',\n",
    "        'n_test' : '1000',\n",
    "        'n_val' : '1000',\n",
    "        'noise_std' : '0.0',\n",
    "        'grid_size' : '7 7',\n",
    "        'eps_mult' : '0. 0. 1. 1.',\n",
    "        'data_dir' : '../data/MNIST',\n",
    "        'max_epochs' : '100',\n",
    "        # 'net' : 'Predict-NoneP',\n",
    "        'n_train' :  '10000',\n",
    "        'criterion' : 'ce',\n",
    "        'earlystop' : 'True',\n",
    "        # 'batch_size' : batch_sizes,\n",
    "        'lr' : lrs,\n",
    "        'seed' : seeds,\n",
    "        'net' : ['Predict-NoneP', 'Predict-TrainedP'],\n",
    "    },\n",
    "    \"mnist-noise\" : {\n",
    "        # 'logger' : 'None',\n",
    "        'tags' : 'mnist-noise',\n",
    "        'n_test' : '1000',\n",
    "        'n_val' : '1000',\n",
    "        'noise_std' : '0.1',\n",
    "        'grid_size' : '7 7',\n",
    "        'eps_mult' : '0. 1. 1. 1.',\n",
    "        'data_dir' : '../data/MNIST',\n",
    "        'max_epochs' : '1000',\n",
    "        'net' : 'TrainP',\n",
    "        'n_train' :  '10000',\n",
    "        'earlystop' : 'True',\n",
    "        'lr' : [0.1, 0.01, 0.001],\n",
    "        'seed':  [1, 2, 3],\n",
    "    },\n",
    "    \"mnist-noise-predict\" : {\n",
    "        'tags' : 'mnist-noise-predict',\n",
    "        'n_test' : '1000',\n",
    "        'n_val' : '1000',\n",
    "        'noise_std' : '0.1',\n",
    "        'grid_size' : '7 7',\n",
    "        'eps_mult' : '0. 1. 1. 1.',\n",
    "        'data_dir' : '../data/MNIST',\n",
    "        'max_epochs' : '1000',\n",
    "        'n_train' :  '10000',\n",
    "        'criterion' : 'ce',\n",
    "        'earlystop' : 'True',\n",
    "        'lr' : [0.1, 0.01, 0.001],\n",
    "        'seed':  [1, 2, 3],\n",
    "        'net' : ['Predict-TrainedP'],\n",
    "    },\n",
    "}\n",
    "\n",
    "\n",
    "array_dir = '../jobs/arrays/'\n",
    "for file_name, comb_dict in comb_dicts.items():\n",
    "    output_file = os.path.join(array_dir, file_name + '.txt')\n",
    "    output_lines = dict_to_array(comb_dict)\n",
    "    # print(f'### {file_name} ###', comb_dict, output_lines, '\\n\\n',sep='\\n')\n",
    "    write_lines(output_file, output_lines)\n"
   ]
  },
  {
   "cell_type": "code",
   "execution_count": 19,
   "metadata": {},
   "outputs": [],
   "source": [
    "# pd.DataFrame(comb_dicts).T.to_csv('../jobs/arrays.csv')\n"
   ]
  },
  {
   "cell_type": "code",
   "execution_count": 20,
   "metadata": {},
   "outputs": [],
   "source": [
    "# df = pd.read_csv('../jobs/arrays.csv')\n",
    "# df = df.set_index('experiment')\n",
    "# df"
   ]
  },
  {
   "cell_type": "code",
   "execution_count": 21,
   "metadata": {},
   "outputs": [],
   "source": [
    "# t = df['batch_size']\n",
    "# t"
   ]
  },
  {
   "cell_type": "code",
   "execution_count": 22,
   "metadata": {},
   "outputs": [],
   "source": [
    "# str(t.iloc[-1]) == 'nan'"
   ]
  },
  {
   "cell_type": "code",
   "execution_count": 23,
   "metadata": {},
   "outputs": [],
   "source": [
    "# t.iloc[-1] == np.nan"
   ]
  },
  {
   "cell_type": "code",
   "execution_count": 24,
   "metadata": {},
   "outputs": [],
   "source": [
    "# def clean_val(val):\n",
    "#     val = str(val)\n",
    "#     if ',' in val: val = val[1:-1].split(', ')\n",
    "#     if val == 'nan': val = np.nan\n",
    "#     return val\n",
    "\n",
    "# t#.apply(lambda val: clean_val(val))"
   ]
  },
  {
   "cell_type": "code",
   "execution_count": 25,
   "metadata": {},
   "outputs": [],
   "source": [
    "# for tt in t:\n",
    "#     tt = str(tt)\n",
    "#     if ',' in tt:\n",
    "#         tt = tt[1:-1].split(', ')\n",
    "#     if tt == 'nan':\n",
    "#         tt = np.nan\n",
    "#     print(tt)"
   ]
  }
 ],
 "metadata": {
  "kernelspec": {
   "display_name": "sympde",
   "language": "python",
   "name": "python3"
  },
  "language_info": {
   "codemirror_mode": {
    "name": "ipython",
    "version": 3
   },
   "file_extension": ".py",
   "mimetype": "text/x-python",
   "name": "python",
   "nbconvert_exporter": "python",
   "pygments_lexer": "ipython3",
   "version": "3.10.13"
  }
 },
 "nbformat": 4,
 "nbformat_minor": 2
}
