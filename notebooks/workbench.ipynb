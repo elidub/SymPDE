{
 "cells": [
  {
   "cell_type": "code",
   "execution_count": 1,
   "metadata": {},
   "outputs": [],
   "source": [
    "%load_ext autoreload\n",
    "%autoreload 2\n",
    "\n",
    "import numpy as np\n",
    "import matplotlib.pyplot as plt\n",
    "import scipy.signal\n",
    "import matplotlib.ticker as plticker\n",
    "import time\n",
    "from mpl_toolkits.axes_grid1 import make_axes_locatable\n",
    "from tqdm import tqdm\n",
    "from collections import defaultdict\n",
    "from typing import Optional\n",
    "from scipy.integrate import solve_ivp\n",
    "from scipy.fftpack import diff as psdiff\n",
    "import torch\n",
    "import pytorch_lightning as pl\n",
    "from torch import nn\n",
    "\n",
    "import os, sys\n",
    "sys.path.append(os.path.join(os.getcwd(), '../sympde'))\n",
    "\n",
    "from data.dataset import PDEDataset, PDEDataModule\n",
    "from data.utils import d_to_LT\n",
    "from misc.utils import load_obj\n",
    "\n",
    "from model.setup import setup_model\n",
    "from model.networks.fno import FNO1d\n",
    "from model.networks.lpsda_cnn import CNN, ResNet, BasicBlock1d\n",
    "from model.learner import Learner\n",
    "\n",
    "from model.networks.fno import FNO1d\n",
    "from misc.utils import load_obj\n",
    "\n",
    "from viz.plot_pde_data import plot_1ds, plot_1d_dict\n",
    "\n",
    "from run import parse_options, main"
   ]
  },
  {
   "cell_type": "code",
   "execution_count": 2,
   "metadata": {},
   "outputs": [
    {
     "name": "stdout",
     "output_type": "stream",
     "text": [
      "10\n",
      "2\n",
      "2\n"
     ]
    }
   ],
   "source": [
    "splits = ['train', 'val', 'test']\n",
    "for split in splits:\n",
    "    us, dxs, dts = load_obj(f'../data/test/{split}/Pde1')\n",
    "    print(len(us))"
   ]
  },
  {
   "cell_type": "code",
   "execution_count": 7,
   "metadata": {},
   "outputs": [
    {
     "data": {
      "text/plain": [
       "array([[ 0.99500417, -0.09983342,  0.        ],\n",
       "       [ 0.09983342,  0.99500417,  0.        ],\n",
       "       [35.03976593, 15.72546837,  2.71828183]])"
      ]
     },
     "execution_count": 7,
     "metadata": {},
     "output_type": "execute_result"
    }
   ],
   "source": [
    "compute_lie_group_transformation(lie_algebra_generator)"
   ]
  },
  {
   "cell_type": "code",
   "execution_count": null,
   "metadata": {},
   "outputs": [],
   "source": [
    "def get_hparams(version):\n",
    "    _, _, dim, r, digit, _, = version.split('_')\n",
    "    dim = int(dim.replace('dim', ''))\n",
    "    r = float(r.replace('r', ''))\n",
    "    digit = digit.replace('digit', '')\n",
    "    digit = int(digit) if digit != 'all' else digit\n",
    "    return dim, r, digit"
   ]
  },
  {
   "cell_type": "code",
   "execution_count": 6,
   "metadata": {},
   "outputs": [
    {
     "data": {
      "text/plain": [
       "('netCNN', 'Pde24')"
      ]
     },
     "execution_count": 6,
     "metadata": {},
     "output_type": "execute_result"
    }
   ],
   "source": [
    "version = 'datav1_netCNN_Pde24_aug0_seed1_version_0'\n",
    "_, net, pde, _, _, _, _= version.split('_')\n",
    "net = net.replace('net', '')\n",
    "return net, pde"
   ]
  },
  {
   "cell_type": "code",
   "execution_count": 2,
   "metadata": {},
   "outputs": [],
   "source": [
    "import numpy as np"
   ]
  },
  {
   "cell_type": "code",
   "execution_count": 3,
   "metadata": {},
   "outputs": [
    {
     "name": "stdout",
     "output_type": "stream",
     "text": [
      "285\n"
     ]
    }
   ],
   "source": [
    "# Considering the previously defined matrices for L_exp and x_org\n",
    "L_exp = np.array([[1, 2, 3, 4, 5, 6, 7, 8, 9],\n",
    "                  [9, 8, 7, 6, 5, 4, 3, 2, 1],\n",
    "                  [1, 1, 1, 1, 1, 1, 1, 1, 1],\n",
    "                  [2, 2, 2, 2, 2, 2, 2, 2, 2],\n",
    "                  [3, 3, 3, 3, 3, 3, 3, 3, 3],\n",
    "                  [4, 4, 4, 4, 4, 4, 4, 4, 4],\n",
    "                  [5, 5, 5, 5, 5, 5, 5, 5, 5],\n",
    "                  [6, 6, 6, 6, 6, 6, 6, 6, 6],\n",
    "                  [7, 7, 7, 7, 7, 7, 7, 7, 7]])\n",
    "\n",
    "x_org = np.array([[1, 2, 3],\n",
    "                  [4, 5, 6],\n",
    "                  [7, 8, 9]])\n",
    "\n",
    "# Compute result = np.dot(L_exp, x_org.reshape(-1, 1))\n",
    "result = np.dot(L_exp, x_org.reshape(-1, 1))\n",
    "\n",
    "# Extracting the value of result[0, 0]\n",
    "value_result_00 = result[0, 0]\n",
    "print(value_result_00)\n"
   ]
  },
  {
   "cell_type": "code",
   "execution_count": 5,
   "metadata": {},
   "outputs": [
    {
     "name": "stdout",
     "output_type": "stream",
     "text": [
      "[285]\n"
     ]
    }
   ],
   "source": [
    "# Extracting the first row of L_exp and reshaped x_org\n",
    "row_0_L_exp = L_exp[0, :]\n",
    "reshaped_x_org = x_org.reshape(-1, 1)\n",
    "\n",
    "# Computing result[0, 0] by taking the dot product of the first row of L_exp and reshaped x_org\n",
    "result_00_explicit = np.dot(row_0_L_exp, reshaped_x_org)\n",
    "print(result_00_explicit)\n"
   ]
  },
  {
   "cell_type": "code",
   "execution_count": 9,
   "metadata": {},
   "outputs": [
    {
     "data": {
      "text/plain": [
       "(array([1, 2, 3, 4, 5, 6, 7, 8, 9]),\n",
       " array([[1],\n",
       "        [2],\n",
       "        [3],\n",
       "        [4],\n",
       "        [5],\n",
       "        [6],\n",
       "        [7],\n",
       "        [8],\n",
       "        [9]]))"
      ]
     },
     "execution_count": 9,
     "metadata": {},
     "output_type": "execute_result"
    }
   ],
   "source": [
    "row_0_L_exp, reshaped_x_org"
   ]
  },
  {
   "cell_type": "code",
   "execution_count": 12,
   "metadata": {},
   "outputs": [
    {
     "data": {
      "text/plain": [
       "285"
      ]
     },
     "execution_count": 12,
     "metadata": {},
     "output_type": "execute_result"
    }
   ],
   "source": [
    "(row_0_L_exp * reshaped_x_org.reshape(-1)).sum()"
   ]
  },
  {
   "cell_type": "code",
   "execution_count": 7,
   "metadata": {},
   "outputs": [
    {
     "data": {
      "text/plain": [
       "285"
      ]
     },
     "execution_count": 7,
     "metadata": {},
     "output_type": "execute_result"
    }
   ],
   "source": [
    "np.array([i**2 for i in range(10)]).sum()"
   ]
  },
  {
   "cell_type": "code",
   "execution_count": 6,
   "metadata": {},
   "outputs": [
    {
     "data": {
      "text/plain": [
       "(array([1, 2, 3, 4, 5, 6, 7, 8, 9]),\n",
       " array([[1],\n",
       "        [2],\n",
       "        [3],\n",
       "        [4],\n",
       "        [5],\n",
       "        [6],\n",
       "        [7],\n",
       "        [8],\n",
       "        [9]]))"
      ]
     },
     "execution_count": 6,
     "metadata": {},
     "output_type": "execute_result"
    }
   ],
   "source": [
    "row_0_L_exp, reshaped_x_org"
   ]
  }
 ],
 "metadata": {
  "kernelspec": {
   "display_name": "sympde",
   "language": "python",
   "name": "python3"
  },
  "language_info": {
   "codemirror_mode": {
    "name": "ipython",
    "version": 3
   },
   "file_extension": ".py",
   "mimetype": "text/x-python",
   "name": "python",
   "nbconvert_exporter": "python",
   "pygments_lexer": "ipython3",
   "version": "3.10.13"
  }
 },
 "nbformat": 4,
 "nbformat_minor": 2
}
