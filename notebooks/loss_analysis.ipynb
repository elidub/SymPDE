{
 "cells": [
  {
   "cell_type": "code",
   "execution_count": 55,
   "metadata": {},
   "outputs": [
    {
     "name": "stdout",
     "output_type": "stream",
     "text": [
      "The autoreload extension is already loaded. To reload it, use:\n",
      "  %reload_ext autoreload\n"
     ]
    }
   ],
   "source": [
    "%load_ext autoreload\n",
    "%autoreload 2\n",
    "\n",
    "import numpy as np\n",
    "import matplotlib.pyplot as plt\n",
    "import scipy.signal\n",
    "import matplotlib.ticker as plticker\n",
    "import time\n",
    "from mpl_toolkits.axes_grid1 import make_axes_locatable\n",
    "from tqdm import tqdm\n",
    "from collections import defaultdict\n",
    "from typing import Optional\n",
    "from scipy.integrate import solve_ivp\n",
    "from scipy.fftpack import diff as psdiff\n",
    "import torch\n",
    "import pytorch_lightning as pl\n",
    "\n",
    "import os, sys\n",
    "sys.path.append(os.path.join(os.getcwd(), '../sympde'))\n",
    "\n",
    "from data.dataset import PDEDataset, PDEDataModule\n",
    "from data.utils import d_to_LT\n",
    "\n",
    "from model.setup import setup_model\n",
    "from model.networks.fno import FNO1d\n",
    "from model.learner import Learner\n",
    "\n",
    "from viz.plot_pde_data import plot_1ds\n",
    "\n",
    "from run import parse_options, main"
   ]
  },
  {
   "cell_type": "code",
   "execution_count": 56,
   "metadata": {},
   "outputs": [],
   "source": [
    "args = parse_options(notebook=True)\n",
    "# args.pde_name = 'pde5'\n",
    "# args.seed = 1\n",
    "# args.version = f'{args.pde_name}_seed{args.seed}'\n",
    "args.version = 'test'\n",
    "args.train = False\n",
    "args.num_workers = 7\n",
    "args.local = True\n",
    "args.batch_size = 2"
   ]
  },
  {
   "cell_type": "code",
   "execution_count": 57,
   "metadata": {},
   "outputs": [
    {
     "name": "stderr",
     "output_type": "stream",
     "text": [
      "Seed set to 42\n",
      "GPU available: True (mps), used: False\n",
      "TPU available: False, using: 0 TPU cores\n",
      "IPU available: False, using: 0 IPUs\n",
      "HPU available: False, using: 0 HPUs\n",
      "/Users/elias/anaconda3/envs/sympde/lib/python3.10/site-packages/pytorch_lightning/trainer/setup.py:187: GPU available but not used. You can set it by doing `Trainer(accelerator='gpu')`.\n"
     ]
    }
   ],
   "source": [
    "pl.seed_everything(args.seed, workers=True)\n",
    "\n",
    "datamodule = PDEDataModule(\n",
    "    pde_name = args.pde_name, \n",
    "    data_dir = args.data_dir, \n",
    "    batch_size = args.batch_size, \n",
    "    num_workers = args.num_workers\n",
    ")\n",
    "\n",
    "model = setup_model(args)\n",
    "\n",
    "trainer = pl.Trainer(\n",
    "    logger=pl.loggers.TensorBoardLogger(\n",
    "        args.log_dir, name=args.net, version=args.version\n",
    "    ),\n",
    "    max_epochs=args.max_epochs,\n",
    "    log_every_n_steps=1,\n",
    "    accelerator=\"gpu\" if torch.cuda.is_available() else \"cpu\",\n",
    "    callbacks = [\n",
    "        pl.callbacks.TQDMProgressBar(refresh_rate=1000),\n",
    "    ],\n",
    "    deterministic=True\n",
    ")  \n",
    "\n",
    "# if args.train:\n",
    "#     trainer.fit(model, datamodule=datamodule)\n",
    "\n",
    "# trainer.test(model, datamodule=datamodule)"
   ]
  },
  {
   "cell_type": "code",
   "execution_count": 58,
   "metadata": {},
   "outputs": [],
   "source": [
    "datamodule.setup(stage='test')\n",
    "batch = next(iter(datamodule.train_dataloader()))"
   ]
  },
  {
   "cell_type": "code",
   "execution_count": 59,
   "metadata": {},
   "outputs": [],
   "source": [
    "y_hat, y = model(batch)"
   ]
  },
  {
   "cell_type": "code",
   "execution_count": 60,
   "metadata": {},
   "outputs": [
    {
     "name": "stdout",
     "output_type": "stream",
     "text": [
      "tensor(0.0045, grad_fn=<MseLossBackward0>)\n"
     ]
    }
   ],
   "source": [
    "# Current implementation\n",
    "criterion = torch.nn.MSELoss()\n",
    "loss = criterion(y_hat, y)\n",
    "print(loss)"
   ]
  },
  {
   "cell_type": "code",
   "execution_count": 61,
   "metadata": {},
   "outputs": [
    {
     "name": "stdout",
     "output_type": "stream",
     "text": [
      "tensor(0.0045, grad_fn=<MseLossBackward0>)\n"
     ]
    }
   ],
   "source": [
    "# Current implementation (cross check)\n",
    "criterion = torch.nn.MSELoss(reduction='mean')\n",
    "loss = criterion(y_hat, y)\n",
    "print(loss)"
   ]
  },
  {
   "cell_type": "code",
   "execution_count": 62,
   "metadata": {},
   "outputs": [
    {
     "name": "stdout",
     "output_type": "stream",
     "text": [
      "tensor(0.0045, grad_fn=<DivBackward0>)\n"
     ]
    }
   ],
   "source": [
    "# Current implementation (cross check)\n",
    "criterion = torch.nn.MSELoss(reduction='none')\n",
    "loss = criterion(y_hat, y)\n",
    "loss = loss.sum() / loss.numel()\n",
    "print(loss)"
   ]
  },
  {
   "cell_type": "code",
   "execution_count": 84,
   "metadata": {},
   "outputs": [
    {
     "name": "stdout",
     "output_type": "stream",
     "text": [
      "torch.Size([2, 5, 256])\n",
      "tensor(11.5324, grad_fn=<SumBackward0>)\n",
      "tensor(5.7662, grad_fn=<DivBackward0>)\n"
     ]
    }
   ],
   "source": [
    "# LPSDA\n",
    "criterion = torch.nn.MSELoss(reduction='none')\n",
    "loss = criterion(y_hat, y)\n",
    "print(loss.shape)\n",
    "loss = loss.sum()\n",
    "print(loss)\n",
    "loss /= y.shape[0] # Divide by batch size\n",
    "print(loss)"
   ]
  },
  {
   "cell_type": "code",
   "execution_count": 86,
   "metadata": {},
   "outputs": [
    {
     "name": "stdout",
     "output_type": "stream",
     "text": [
      "tensor([[0.1190],\n",
      "        [0.1058]], grad_fn=<MeanBackward1>)\n",
      "tensor(0.2248, grad_fn=<SumBackward0>)\n",
      "tensor(0.1124, grad_fn=<MeanBackward0>)\n"
     ]
    }
   ],
   "source": [
    "# G-FNO\n",
    "p = 2\n",
    "dim = (1, 2)\n",
    "diff_norms = torch.norm(y_hat - y, p=p, dim=(1,2), keepdim=True)\n",
    "y_norms = torch.norm(y, p=p, dim=(1,2), keepdim=True)\n",
    "\n",
    "loss = (diff_norms/y_norms)\n",
    "loss = loss.mean(-1)\n",
    "print(loss)\n",
    "loss = loss.sum()\n",
    "print(loss)\n",
    "\n",
    "loss = (diff_norms/y_norms).mean()\n",
    "print(loss)\n",
    "\n",
    "# criterion = torch.nn.MSELoss(reduction='none')\n",
    "# loss = criterion(y_hat, y)\n",
    "# loss = loss.sum()\n",
    "# print(loss)\n",
    "# loss /= y.shape[0] # Divide by batch size\n",
    "# print(loss)"
   ]
  }
 ],
 "metadata": {
  "kernelspec": {
   "display_name": "sympde",
   "language": "python",
   "name": "python3"
  },
  "language_info": {
   "codemirror_mode": {
    "name": "ipython",
    "version": 3
   },
   "file_extension": ".py",
   "mimetype": "text/x-python",
   "name": "python",
   "nbconvert_exporter": "python",
   "pygments_lexer": "ipython3",
   "version": "3.10.13"
  }
 },
 "nbformat": 4,
 "nbformat_minor": 2
}
