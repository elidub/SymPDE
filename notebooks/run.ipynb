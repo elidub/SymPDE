{
 "cells": [
  {
   "cell_type": "code",
<<<<<<< HEAD
   "execution_count": 33,
=======
   "execution_count": 2,
>>>>>>> refs/remotes/origin/main
   "metadata": {},
   "outputs": [
    {
     "name": "stdout",
     "output_type": "stream",
     "text": [
      "The autoreload extension is already loaded. To reload it, use:\n",
      "  %reload_ext autoreload\n"
     ]
    }
   ],
   "source": [
    "%load_ext autoreload\n",
    "%autoreload 2\n",
    "\n",
    "import numpy as np\n",
    "import matplotlib.pyplot as plt\n",
    "import scipy.signal\n",
    "import matplotlib.ticker as plticker\n",
    "import time\n",
    "from mpl_toolkits.axes_grid1 import make_axes_locatable\n",
    "from tqdm import tqdm\n",
    "from collections import defaultdict\n",
    "from typing import Optional\n",
    "from scipy.integrate import solve_ivp\n",
    "from scipy.fftpack import diff as psdiff\n",
    "import torch\n",
    "import pytorch_lightning as pl\n",
    "from torch import nn\n",
    "from collections import defaultdict\n",
    "import numpy as np\n",
    "\n",
    "import os, sys\n",
    "sys.path.append(os.path.join(os.getcwd(), '../sympde'))\n",
    "\n",
    "from data.dataset import PDEDataset, PDEDataModule\n",
    "from data.utils import d_to_LT\n",
    "from misc.utils import load_obj\n",
    "\n",
    "from model.setup import setup_model\n",
    "from model.learner import Learner\n",
    "\n",
    "\n",
    "from viz.plot_pde_data import plot_1ds, plot_1d_dict\n",
    "from misc.utils import load_obj, save_obj\n",
    "\n",
    "from run import parse_options, main"
   ]
  },
  {
   "cell_type": "code",
   "execution_count": 47,
   "metadata": {},
   "outputs": [
    {
     "name": "stderr",
     "output_type": "stream",
     "text": [
      "Seed set to 42\n",
      "/home/eliasd/.conda/envs/sympde/lib/python3.10/site-packages/lightning_fabric/plugins/environments/slurm.py:191: The `srun` command is available on your system but is not used. HINT: If your intention is to run Lightning on SLURM, prepend your python command with `srun` like so: srun python /home/eliasd/.conda/envs/sympde/lib/python3.10/site- ...\n",
      "GPU available: False, used: False\n",
      "TPU available: False, using: 0 TPU cores\n",
      "IPU available: False, using: 0 IPUs\n",
      "HPU available: False, using: 0 HPUs\n"
     ]
    },
    {
     "name": "stdout",
     "output_type": "stream",
     "text": [
      "\n",
      "\n",
      "###\tVersion:  None \t###\n",
      "###\tName:  datatest_netMLP_KdV_aug0_seed42_mlp100-100-100-100-100-100-100-100-100-100 \t###\n",
      "\n",
      "\n",
      "Selecting 10 out of the 10 train samples!\n",
      "Selecting 2 out of the 2 val samples!\n",
      "Selecting 2 out of the 2 test samples!\n"
     ]
    },
    {
     "data": {
      "text/plain": [
       "92705"
      ]
     },
     "execution_count": 47,
     "metadata": {},
     "output_type": "execute_result"
    }
   ],
   "source": [
    "\n",
    "args = parse_options(notebook=True)\n",
    "args.train = True\n",
    "args.pde_name = 'KdV'\n",
    "args.net = 'MLP' #'FNO1d' # FNO1d, CNN, ResNet\n",
    "args.max_epochs = 10\n",
    "args.num_workers = 0\n",
    "args.persistent_workers = False\n",
    "\n",
    "args.do_return = True\n",
    "args.data_dir = '../data/test'\n",
    "args.mlp_hidden_channels = [100] * 10\n",
    "\n",
    "model, trainer, datamodule = main(args)\n",
    "\n",
    "pytorch_total_params = sum(p.numel() for p in model.parameters() if p.requires_grad)\n",
    "\n",
    "pytorch_total_params"
   ]
  },
  {
   "cell_type": "code",
   "execution_count": 44,
   "metadata": {},
   "outputs": [
    {
     "data": {
      "text/plain": [
       "99117005"
      ]
     },
     "execution_count": 44,
     "metadata": {},
     "output_type": "execute_result"
    }
   ],
   "source": []
  },
  {
   "cell_type": "code",
   "execution_count": 30,
   "metadata": {},
   "outputs": [
    {
     "name": "stdout",
     "output_type": "stream",
     "text": [
      "FNO1d:\t10851589\n",
      "CNN:\t1002885\n",
      "ResNet:\t3158533\n",
      "MLP:\t32105\n"
     ]
    }
   ],
   "source": [
    "for net, param in zip(nets, params):\n",
    "    print(f'{net}:\\t{param}')"
   ]
  },
  {
   "cell_type": "code",
   "execution_count": 32,
   "metadata": {},
   "outputs": [
    {
     "data": {
      "text/plain": [
       "'100-100-100'"
      ]
     },
     "execution_count": 32,
     "metadata": {},
     "output_type": "execute_result"
    }
   ],
   "source": [
    "a = [100, 100, 100]\n",
    "'-'.join([str(i) for i in a])"
   ]
  },
  {
   "cell_type": "code",
   "execution_count": 31,
   "metadata": {},
   "outputs": [
    {
     "name": "stdout",
     "output_type": "stream",
     "text": [
      "x.shape:  torch.Size([10, 256, 12])\n",
      "x.shape:  torch.Size([10, 256, 5])\n"
     ]
    },
    {
     "data": {
      "text/plain": [
       "(tensor([[[ 0.1069,  0.1068,  0.1066,  ...,  0.1074,  0.1072,  0.1070],\n",
       "          [-0.0900, -0.0899, -0.0897,  ..., -0.0904, -0.0903, -0.0902],\n",
       "          [ 0.0532,  0.0530,  0.0529,  ...,  0.0537,  0.0535,  0.0534],\n",
       "          [ 0.0377,  0.0377,  0.0377,  ...,  0.0378,  0.0378,  0.0377],\n",
       "          [ 0.0974,  0.0971,  0.0969,  ...,  0.0981,  0.0979,  0.0977]],\n",
       " \n",
       "         [[ 0.1083,  0.1084,  0.1085,  ...,  0.1081,  0.1082,  0.1082],\n",
       "          [-0.0904, -0.0905, -0.0907,  ..., -0.0898, -0.0900, -0.0902],\n",
       "          [ 0.0523,  0.0523,  0.0524,  ...,  0.0519,  0.0521,  0.0522],\n",
       "          [ 0.0379,  0.0378,  0.0378,  ...,  0.0378,  0.0379,  0.0379],\n",
       "          [ 0.0969,  0.0971,  0.0972,  ...,  0.0960,  0.0964,  0.0967]],\n",
       " \n",
       "         [[ 0.1062,  0.1064,  0.1067,  ...,  0.1056,  0.1058,  0.1060],\n",
       "          [-0.0817, -0.0817, -0.0817,  ..., -0.0817, -0.0818, -0.0817],\n",
       "          [ 0.0414,  0.0414,  0.0414,  ...,  0.0414,  0.0414,  0.0414],\n",
       "          [ 0.0388,  0.0389,  0.0391,  ...,  0.0384,  0.0385,  0.0386],\n",
       "          [ 0.0766,  0.0764,  0.0763,  ...,  0.0772,  0.0770,  0.0768]],\n",
       " \n",
       "         ...,\n",
       " \n",
       "         [[ 0.1117,  0.1118,  0.1118,  ...,  0.1116,  0.1116,  0.1117],\n",
       "          [-0.0828, -0.0829, -0.0830,  ..., -0.0827, -0.0828, -0.0828],\n",
       "          [ 0.0425,  0.0426,  0.0426,  ...,  0.0425,  0.0425,  0.0425],\n",
       "          [ 0.0391,  0.0391,  0.0391,  ...,  0.0390,  0.0390,  0.0390],\n",
       "          [ 0.0831,  0.0833,  0.0835,  ...,  0.0825,  0.0827,  0.0829]],\n",
       " \n",
       "         [[ 0.1048,  0.1047,  0.1046,  ...,  0.1049,  0.1049,  0.1048],\n",
       "          [-0.0860, -0.0859, -0.0858,  ..., -0.0861, -0.0861, -0.0860],\n",
       "          [ 0.0487,  0.0485,  0.0484,  ...,  0.0490,  0.0489,  0.0488],\n",
       "          [ 0.0363,  0.0363,  0.0363,  ...,  0.0363,  0.0363,  0.0363],\n",
       "          [ 0.0903,  0.0901,  0.0898,  ...,  0.0909,  0.0907,  0.0905]],\n",
       " \n",
       "         [[ 0.1120,  0.1124,  0.1130,  ...,  0.1105,  0.1114,  0.1115],\n",
       "          [-0.0827, -0.0829, -0.0832,  ..., -0.0818, -0.0822, -0.0823],\n",
       "          [ 0.0434,  0.0438,  0.0439,  ...,  0.0424,  0.0425,  0.0430],\n",
       "          [ 0.0391,  0.0394,  0.0396,  ...,  0.0388,  0.0387,  0.0390],\n",
       "          [ 0.0834,  0.0844,  0.0860,  ...,  0.0799,  0.0812,  0.0821]]],\n",
       "        grad_fn=<PermuteBackward0>),\n",
       " tensor([[[-0.7444, -0.7303, -0.7160,  ..., -0.7854, -0.7720, -0.7583],\n",
       "          [-0.7153, -0.7014, -0.6874,  ..., -0.7559, -0.7426, -0.7290],\n",
       "          [-0.6878, -0.6742, -0.6605,  ..., -0.7278, -0.7146, -0.7013],\n",
       "          [-0.6619, -0.6486, -0.6352,  ..., -0.7011, -0.6882, -0.6751],\n",
       "          [-0.6375, -0.6246, -0.6116,  ..., -0.6759, -0.6632, -0.6504]],\n",
       " \n",
       "         [[-0.9348, -0.9282, -0.9212,  ..., -0.9511, -0.9463, -0.9408],\n",
       "          [-0.9170, -0.9095, -0.9015,  ..., -0.9370, -0.9308, -0.9241],\n",
       "          [-0.8975, -0.8892, -0.8807,  ..., -0.9201, -0.9129, -0.9054],\n",
       "          [-0.8769, -0.8682, -0.8592,  ..., -0.9014, -0.8936, -0.8854],\n",
       "          [-0.8558, -0.8468, -0.8375,  ..., -0.8817, -0.8733, -0.8647]],\n",
       " \n",
       "         [[-0.1364, -0.1259, -0.1153,  ..., -0.1677, -0.1573, -0.1469],\n",
       "          [-0.1331, -0.1228, -0.1124,  ..., -0.1636, -0.1535, -0.1433],\n",
       "          [-0.1299, -0.1198, -0.1097,  ..., -0.1598, -0.1499, -0.1399],\n",
       "          [-0.1269, -0.1170, -0.1071,  ..., -0.1561, -0.1464, -0.1367],\n",
       "          [-0.1240, -0.1143, -0.1047,  ..., -0.1526, -0.1431, -0.1335]],\n",
       " \n",
       "         ...,\n",
       " \n",
       "         [[ 0.1245,  0.1308,  0.1374,  ...,  0.1081,  0.1132,  0.1187],\n",
       "          [ 0.1230,  0.1291,  0.1355,  ...,  0.1070,  0.1120,  0.1173],\n",
       "          [ 0.1216,  0.1275,  0.1337,  ...,  0.1060,  0.1108,  0.1160],\n",
       "          [ 0.1202,  0.1259,  0.1319,  ...,  0.1051,  0.1097,  0.1148],\n",
       "          [ 0.1188,  0.1244,  0.1303,  ...,  0.1042,  0.1087,  0.1136]],\n",
       " \n",
       "         [[-0.5911, -0.5824, -0.5734,  ..., -0.6162, -0.6081, -0.5997],\n",
       "          [-0.5774, -0.5686, -0.5596,  ..., -0.6028, -0.5945, -0.5860],\n",
       "          [-0.5639, -0.5551, -0.5461,  ..., -0.5895, -0.5811, -0.5726],\n",
       "          [-0.5508, -0.5420, -0.5331,  ..., -0.5764, -0.5680, -0.5594],\n",
       "          [-0.5380, -0.5293, -0.5205,  ..., -0.5635, -0.5551, -0.5466]],\n",
       " \n",
       "         [[ 0.2148,  0.2138,  0.1927,  ..., -0.0388,  0.0573,  0.1263],\n",
       "          [-0.0209, -0.2084, -0.2514,  ...,  0.2497,  0.2689,  0.1291],\n",
       "          [-0.4622, -0.1762,  0.2867,  ..., -0.2045, -0.4390, -0.5557],\n",
       "          [ 0.7025,  1.1215,  1.1028,  ..., -0.7450, -0.4301,  0.1047],\n",
       "          [ 0.9289,  0.2454, -0.4871,  ...,  0.5367,  1.1183,  1.3119]]]))"
      ]
     },
     "execution_count": 31,
     "metadata": {},
     "output_type": "execute_result"
    }
   ],
   "source": [
    "model(batch)"
   ]
  },
  {
   "cell_type": "code",
   "execution_count": 14,
   "metadata": {},
   "outputs": [],
   "source": [
    "us, dxs, dts = batch = next(iter(datamodule.train_dataloader()))"
   ]
  },
  {
   "cell_type": "code",
   "execution_count": 15,
   "metadata": {},
   "outputs": [
    {
     "data": {
      "text/plain": [
       "(torch.Size([10, 5, 256]), torch.Size([10, 5, 256]))"
      ]
     },
     "execution_count": 15,
     "metadata": {},
     "output_type": "execute_result"
    }
   ],
   "source": [
    "out = model(batch)\n",
    "out[0].shape, out[1].shape"
   ]
  },
  {
   "cell_type": "code",
   "execution_count": null,
   "metadata": {},
   "outputs": [],
   "source": [
    "print([b.shape for b in batch])"
   ]
  },
  {
   "cell_type": "code",
   "execution_count": null,
   "metadata": {},
   "outputs": [],
   "source": [
    "batch2 = (us[:, :12, :200], dxs, dts)\n",
    "print([b.shape for b in batch2])"
   ]
  },
  {
   "cell_type": "code",
   "execution_count": null,
   "metadata": {},
   "outputs": [],
   "source": [
    "x = batch2[0]\n",
    "\n",
    "fc0 = nn.Linear(12, 256)\n",
    "print('fc0', fc0)\n",
    "x = x.permute(0, 2, 1)\n",
    "print(\"x.shape: \", x.shape)\n",
    "x = fc0(x)\n",
    "print(\"x.shape: \", x.shape)"
   ]
  },
  {
   "cell_type": "code",
   "execution_count": null,
   "metadata": {},
   "outputs": [],
   "source": [
    "model(batch2)"
   ]
  },
  {
   "cell_type": "code",
   "execution_count": null,
   "metadata": {},
   "outputs": [],
   "source": [
    "us.shape"
   ]
  },
  {
   "cell_type": "code",
   "execution_count": 4,
   "metadata": {},
   "outputs": [
    {
     "data": {
      "text/plain": [
       "torch.Size([10, 10, 256])"
      ]
     },
     "execution_count": 4,
     "metadata": {},
     "output_type": "execute_result"
    }
   ],
   "source": [
    "# import torch\n",
    "# import torchvision\n",
    "\n",
    "# class myMLP(torch.nn.Module):\n",
    "#     def __init__(self, \n",
    "#             time_history: int,\n",
    "#             time_future: int,\n",
    "#             hidden_channels: list = [256, 256, 256],\n",
    "#             activation = torch.nn.ReLU,\n",
    "#         ):\n",
    "#         super(myMLP, self).__init__()\n",
    "\n",
    "#         channels = hidden_channels + [time_future]\n",
    "#         self.mlp = torchvision.ops.MLP(\n",
    "#             in_channels = time_history, \n",
    "#             hidden_channels = channels,\n",
    "#             norm_layer = None,\n",
    "#             activation_layer = activation,\n",
    "#         )\n",
    "\n",
    "#     def forward(self, x):\n",
    "#         x = x.permute(0, 2, 1)\n",
    "#         x = self.mlp(x)\n",
    "#         print(x.shape)\n",
    "#         x = x.permute(0, 2, 1)\n",
    "#         print(x.shape)\n",
    "#         return x\n",
    "\n",
    "mlpmodel = myMLP(time_history = 40, time_future = 10, hidden_channels = [100, 100, 100])\n",
    "\n",
    "out = mlpmodel(us[:, :, :])\n",
    "out.shape"
   ]
  },
  {
   "cell_type": "code",
   "execution_count": null,
   "metadata": {},
   "outputs": [],
   "source": [
    "# print pytorch version\n",
    "print(torch.__version__)\n",
    "assert False"
   ]
  },
  {
   "cell_type": "markdown",
   "metadata": {},
   "source": [
    "### E2CNN"
   ]
  },
  {
   "cell_type": "code",
   "execution_count": null,
   "metadata": {},
   "outputs": [],
   "source": [
    "datamodule = PDEDataModule(\n",
    "    pde_name = args.pde_name, \n",
    "    data_dir = args.data_dir, \n",
    "    batch_size = args.batch_size, \n",
    "    num_workers = args.num_workers,\n",
    "    n_splits = [int(n_split) for n_split in args.n_splits],\n",
    "    generators = args.generators,\n",
    "    persistent_workers = args.persistent_workers,\n",
    ")\n",
    "datamodule.setup()\n",
    "batch = next(iter(datamodule.train_dataloader()))"
   ]
  },
  {
   "cell_type": "markdown",
   "metadata": {},
   "source": [
    "The 1D ResNet has 8 convolutional layers using residual connections and increasing receptive fields (kernel size 3 to kernel size 15) a"
   ]
  },
  {
   "cell_type": "code",
   "execution_count": null,
   "metadata": {},
   "outputs": [],
   "source": [
    "net = CNN(\n",
    "    # block = BasicBlock1d,\n",
    "    # num_blocks = [2, 2, 2, 2],\n",
    "    time_history = 10,\n",
    "    time_future  = 5,\n",
    ")\n",
    "\n",
    "model = Learner(net, nn.MSELoss())\n",
    "\n",
    "y_pred, y = model(batch)\n",
    "y_pred = y_pred.detach().numpy()"
   ]
  },
  {
   "cell_type": "code",
   "execution_count": null,
   "metadata": {},
   "outputs": [],
   "source": [
    "plt.imshow(y_pred[0], aspect='auto')"
   ]
  },
  {
   "cell_type": "code",
   "execution_count": null,
   "metadata": {},
   "outputs": [],
   "source": [
    "# args.generators = False\n",
    "# args.do_return = False\n",
    "\n",
    "# # model, trainer, datamodule = main(args)"
   ]
  },
  {
   "cell_type": "code",
   "execution_count": null,
   "metadata": {},
   "outputs": [],
   "source": [
    "dataset_train = datamodule.train_dataloader().dataset"
   ]
  },
  {
   "cell_type": "code",
   "execution_count": null,
   "metadata": {},
   "outputs": [],
   "source": [
    "datamodule.setup(stage='test')\n",
    "batch = next(iter(datamodule.train_dataloader()))"
   ]
  },
  {
   "cell_type": "code",
   "execution_count": null,
   "metadata": {},
   "outputs": [],
   "source": [
    "# set to inference mode\n",
    "model.eval()"
   ]
  },
  {
   "cell_type": "code",
   "execution_count": null,
   "metadata": {},
   "outputs": [],
   "source": [
    "def flip_batch(batch):\n",
    "    batch_flipped = batch.copy()\n",
    "    batch_flipped[0] = batch_flipped[0].flip(2)\n",
    "    return batch_flipped\n",
    "\n",
    "def flip_y(y):\n",
    "    y_flipped = y.clone()\n",
    "    y_flipped = y_flipped.flip(2)\n",
    "    return y_flipped\n",
    "\n",
    "def pred(batch):\n",
    "    y_pred, y = model(batch)\n",
    "    y_pred = y_pred.detach()\n",
    "    y = y.detach()\n",
    "    return y_pred, y"
   ]
  },
  {
   "cell_type": "code",
   "execution_count": null,
   "metadata": {},
   "outputs": [],
   "source": [
    "y_pred1, y1 = pred(batch)\n",
    "y_pred_flipped1, y_flipped1 = flip_y(y_pred1), flip_y(y1)"
   ]
  },
  {
   "cell_type": "code",
   "execution_count": null,
   "metadata": {},
   "outputs": [],
   "source": [
    "batch_flipped = flip_batch(batch)\n",
    "y_pred_flipped2, y_flipped2 = pred(batch_flipped)"
   ]
  },
  {
   "cell_type": "code",
   "execution_count": null,
   "metadata": {},
   "outputs": [],
   "source": [
    "(y_flipped1 == y_flipped2).all(), (y_pred_flipped1 == y_pred_flipped2).all()"
   ]
  },
  {
   "cell_type": "code",
   "execution_count": null,
   "metadata": {},
   "outputs": [],
   "source": [
    "_, dx, dt = batch"
   ]
  },
  {
   "cell_type": "code",
   "execution_count": null,
   "metadata": {},
   "outputs": [],
   "source": [
    "diff = (y_pred_flipped1-y_pred_flipped2)"
   ]
  },
  {
   "cell_type": "code",
   "execution_count": null,
   "metadata": {},
   "outputs": [],
   "source": [
    "plots = [y_pred_flipped1, y_pred_flipped2, diff]\n",
    "\n",
    "plot_1ds(torch.cat(plots).unsqueeze(0), dx, dt, vminmax = False)"
   ]
  },
  {
   "cell_type": "code",
   "execution_count": null,
   "metadata": {},
   "outputs": [],
   "source": [
    "plots_dict = {\n",
    "    'y_flips' : [y_pred_flipped1, y_pred_flipped2, y_pred_flipped1-y_pred_flipped2]\n",
    "}\n",
    "\n",
    "plot_1d_dict(plots_dict)"
   ]
  },
  {
   "cell_type": "code",
   "execution_count": null,
   "metadata": {},
   "outputs": [],
   "source": [
    "model.log_fig(batch_flipped, y_pred_flipped1)"
   ]
  },
  {
   "cell_type": "code",
   "execution_count": null,
   "metadata": {},
   "outputs": [],
   "source": [
    "model.log_fig(batch_flipped, y_pred_flipped2)\n"
   ]
  },
  {
   "cell_type": "code",
   "execution_count": null,
   "metadata": {},
   "outputs": [],
   "source": []
  },
  {
   "cell_type": "markdown",
   "metadata": {},
   "source": [
    "## G-FNO"
   ]
  },
  {
   "cell_type": "code",
   "execution_count": null,
   "metadata": {},
   "outputs": [],
   "source": [
    "num_channels = 1\n",
    "modes = 12\n",
    "width = 10 # for G-FNO p4, for G-FNO p4m then 7\n",
    "T_in = initial_step = 10 # input time (history)\n",
    "reflection = False # False if p4, if p4m then True\n",
    "grid_type = 'symmetric'\n",
    "strategy = 'teacher_forcing'\n",
    "T = 20\n",
    "noise_std = 0"
   ]
  },
  {
   "cell_type": "code",
   "execution_count": null,
   "metadata": {},
   "outputs": [],
   "source": [
    "from model.networks.gfno import GFNO2d, pde_data"
   ]
  },
  {
   "cell_type": "code",
   "execution_count": null,
   "metadata": {},
   "outputs": [],
   "source": [
    "model = GFNO2d(\n",
    "    num_channels=num_channels,\n",
    "    modes=modes,\n",
    "    width=width,\n",
    "    initial_step=initial_step,\n",
    "    reflection=reflection,\n",
    "    grid_type=grid_type,\n",
    ")"
   ]
  },
  {
   "cell_type": "code",
   "execution_count": null,
   "metadata": {},
   "outputs": [],
   "source": [
    "# x = us[:, :10, :]\n",
    "# model(x)"
   ]
  },
  {
   "cell_type": "code",
   "execution_count": null,
   "metadata": {},
   "outputs": [],
   "source": [
    "data_path = '../ext_repos/G-FNO/data'\n",
    "\n",
    "train_path = os.path.join(data_path, 'ns_V0.01_N10_T30_cos4_super.mat')\n",
    "data = scipy.io.loadmat(os.path.expandvars(train_path))['u'].astype(np.float32)\n",
    "data = torch.from_numpy(data).float()\n",
    "print(data.shape)\n",
    "data = data.unsqueeze(-1)\n",
    "print(data.shape)"
   ]
  },
  {
   "cell_type": "code",
   "execution_count": null,
   "metadata": {},
   "outputs": [],
   "source": [
    "train_dataset = pde_data(data, strategy=strategy, T_in=T_in, T_out=T, std=noise_std)"
   ]
  },
  {
   "cell_type": "code",
   "execution_count": null,
   "metadata": {},
   "outputs": [],
   "source": [
    "x, y = train_dataset[0]"
   ]
  },
  {
   "cell_type": "code",
   "execution_count": null,
   "metadata": {},
   "outputs": [],
   "source": [
    "dataloader = torch.utils.data.DataLoader(train_dataset, batch_size=1, shuffle=False)"
   ]
  },
  {
   "cell_type": "code",
   "execution_count": null,
   "metadata": {},
   "outputs": [],
   "source": [
    "xx, yy = next(iter(dataloader))"
   ]
  },
  {
   "cell_type": "code",
   "execution_count": null,
   "metadata": {},
   "outputs": [],
   "source": [
    "x_pred = model(xx)"
   ]
  },
  {
   "cell_type": "code",
   "execution_count": null,
   "metadata": {},
   "outputs": [],
   "source": [
    "x_pred.shape"
   ]
  },
  {
   "cell_type": "code",
   "execution_count": null,
   "metadata": {},
   "outputs": [],
   "source": [
    "x.shape, y.shape"
   ]
  }
 ],
 "metadata": {
  "kernelspec": {
   "display_name": "sympde",
   "language": "python",
   "name": "python3"
  },
  "language_info": {
   "codemirror_mode": {
    "name": "ipython",
    "version": 3
   },
   "file_extension": ".py",
   "mimetype": "text/x-python",
   "name": "python",
   "nbconvert_exporter": "python",
   "pygments_lexer": "ipython3",
   "version": "3.10.13"
  }
 },
 "nbformat": 4,
 "nbformat_minor": 2
}
