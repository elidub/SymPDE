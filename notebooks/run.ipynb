{
 "cells": [
  {
   "cell_type": "code",
   "execution_count": 2,
   "metadata": {},
   "outputs": [],
   "source": [
    "%load_ext autoreload\n",
    "%autoreload 2\n",
    "\n",
    "import numpy as np\n",
    "import matplotlib.pyplot as plt\n",
    "import scipy.signal\n",
    "import matplotlib.ticker as plticker\n",
    "import time\n",
    "from mpl_toolkits.axes_grid1 import make_axes_locatable\n",
    "from tqdm import tqdm\n",
    "from collections import defaultdict\n",
    "from typing import Optional\n",
    "from scipy.integrate import solve_ivp\n",
    "from scipy.fftpack import diff as psdiff\n",
    "import torch\n",
    "import pytorch_lightning as pl\n",
    "from torch import nn\n",
    "from collections import defaultdict\n",
    "import numpy as np\n",
    "\n",
    "import os, sys\n",
    "sys.path.append(os.path.join(os.getcwd(), '../sympde'))\n",
    "\n",
    "from data.dataset import PDEDataset, PDEDataModule\n",
    "from data.utils import d_to_LT\n",
    "from misc.utils import load_obj\n",
    "\n",
    "from model.setup import setup_model\n",
    "from model.learner import Learner\n",
    "\n",
    "\n",
    "from viz.plot_pde_data import plot_1ds, plot_1d_dict\n",
    "from misc.utils import load_obj, save_obj\n",
    "\n",
    "from run import parse_options, main"
   ]
  },
  {
   "cell_type": "code",
   "execution_count": 4,
   "metadata": {},
   "outputs": [
    {
     "name": "stdout",
     "output_type": "stream",
     "text": [
      "MLP\n",
      "CNN\n",
      "ResNet\n",
      "FNO1d\n"
     ]
    }
   ],
   "source": []
  },
  {
   "cell_type": "code",
   "execution_count": 9,
   "metadata": {},
   "outputs": [
    {
     "name": "stderr",
     "output_type": "stream",
     "text": [
      "Seed set to 42\n",
      "/home/eliasd/.conda/envs/sympde/lib/python3.10/site-packages/lightning_fabric/plugins/environments/slurm.py:191: The `srun` command is available on your system but is not used. HINT: If your intention is to run Lightning on SLURM, prepend your python command with `srun` like so: srun python /home/eliasd/.conda/envs/sympde/lib/python3.10/site- ...\n",
      "GPU available: False, used: False\n",
      "TPU available: False, using: 0 TPU cores\n",
      "IPU available: False, using: 0 IPUs\n",
      "HPU available: False, using: 0 HPUs\n",
      "Seed set to 42\n"
     ]
    },
    {
     "name": "stdout",
     "output_type": "stream",
     "text": [
      "\n",
      "\n",
      "###\tVersion:  None \t###\n",
      "###\tName:  datav1_netMLP_KdV_aug0_seed42 \t###\n",
      "\n",
      "\n",
      "Selecting 500 out of the 500 train samples!\n",
      "Selecting 100 out of the 100 val samples!\n",
      "Selecting 100 out of the 100 test samples!\n",
      "\n",
      "\n",
      "###\tVersion:  None \t###\n",
      "###\tName:  datav1_netCNN_KdV_aug0_seed42 \t###\n",
      "\n",
      "\n"
     ]
    },
    {
     "name": "stderr",
     "output_type": "stream",
     "text": [
      "GPU available: False, used: False\n",
      "TPU available: False, using: 0 TPU cores\n",
      "IPU available: False, using: 0 IPUs\n",
      "HPU available: False, using: 0 HPUs\n",
      "Seed set to 42\n"
     ]
    },
    {
     "name": "stdout",
     "output_type": "stream",
     "text": [
      "Selecting 500 out of the 500 train samples!\n",
      "Selecting 100 out of the 100 val samples!\n",
      "Selecting 100 out of the 100 test samples!\n",
      "\n",
      "\n",
      "###\tVersion:  None \t###\n",
      "###\tName:  datav1_netResNet_KdV_aug0_seed42 \t###\n",
      "\n",
      "\n"
     ]
    },
    {
     "name": "stderr",
     "output_type": "stream",
     "text": [
      "GPU available: False, used: False\n",
      "TPU available: False, using: 0 TPU cores\n",
      "IPU available: False, using: 0 IPUs\n",
      "HPU available: False, using: 0 HPUs\n",
      "Seed set to 42\n"
     ]
    },
    {
     "name": "stdout",
     "output_type": "stream",
     "text": [
      "Selecting 500 out of the 500 train samples!\n",
      "Selecting 100 out of the 100 val samples!\n",
      "Selecting 100 out of the 100 test samples!\n",
      "\n",
      "\n",
      "###\tVersion:  None \t###\n",
      "###\tName:  datav1_netFNO1d_KdV_aug0_seed42 \t###\n",
      "\n",
      "\n"
     ]
    },
    {
     "name": "stderr",
     "output_type": "stream",
     "text": [
      "GPU available: False, used: False\n",
      "TPU available: False, using: 0 TPU cores\n",
      "IPU available: False, using: 0 IPUs\n",
      "HPU available: False, using: 0 HPUs\n"
     ]
    },
    {
     "name": "stdout",
     "output_type": "stream",
     "text": [
      "Selecting 500 out of the 500 train samples!\n",
      "Selecting 100 out of the 100 val samples!\n",
      "Selecting 100 out of the 100 test samples!\n"
     ]
    }
   ],
   "source": [
    "nets = {net: np.nan for net in ['MLP', 'CNN', 'ResNet', 'FNO1d']}\n",
    "\n",
    "\n",
    "for net, param in nets.items():\n",
    "    args = parse_options(notebook=True)\n",
    "    args.train = True\n",
    "    args.pde_name = 'KdV'\n",
    "    args.net = net # 'MLP'\n",
    "    args.max_epochs = 10\n",
    "    args.num_workers = 0\n",
    "    args.persistent_workers = False\n",
    "\n",
    "    args.do_return = True\n",
    "    args.data_dir = '../data/v1'\n",
    "\n",
    "    model, trainer, datamodule = main(args)\n",
    "\n",
    "    param = sum(p.numel() for p in model.parameters() if p.requires_grad)\n",
    "    nets[net] = param\n",
    "\n",
    "\n",
    "\n"
   ]
  },
  {
   "cell_type": "code",
   "execution_count": 10,
   "metadata": {},
   "outputs": [
    {
     "data": {
      "text/plain": [
       "{'MLP': 32105, 'CNN': 1002885, 'ResNet': 3158533, 'FNO1d': 10851589}"
      ]
     },
     "execution_count": 10,
     "metadata": {},
     "output_type": "execute_result"
    }
   ],
   "source": [
    "nets"
   ]
  },
  {
   "cell_type": "code",
   "execution_count": 14,
   "metadata": {},
   "outputs": [],
   "source": [
    "us, dxs, dts = batch = next(iter(datamodule.train_dataloader()))"
   ]
  },
  {
   "cell_type": "code",
   "execution_count": 15,
   "metadata": {},
   "outputs": [
    {
     "data": {
      "text/plain": [
       "(torch.Size([10, 5, 256]), torch.Size([10, 5, 256]))"
      ]
     },
     "execution_count": 15,
     "metadata": {},
     "output_type": "execute_result"
    }
   ],
   "source": [
    "out = model(batch)\n",
    "out[0].shape, out[1].shape"
   ]
  },
  {
   "cell_type": "code",
   "execution_count": null,
   "metadata": {},
   "outputs": [],
   "source": [
    "print([b.shape for b in batch])"
   ]
  },
  {
   "cell_type": "code",
   "execution_count": null,
   "metadata": {},
   "outputs": [],
   "source": [
    "batch2 = (us[:, :12, :200], dxs, dts)\n",
    "print([b.shape for b in batch2])"
   ]
  },
  {
   "cell_type": "code",
   "execution_count": null,
   "metadata": {},
   "outputs": [],
   "source": [
    "x = batch2[0]\n",
    "\n",
    "fc0 = nn.Linear(12, 256)\n",
    "print('fc0', fc0)\n",
    "x = x.permute(0, 2, 1)\n",
    "print(\"x.shape: \", x.shape)\n",
    "x = fc0(x)\n",
    "print(\"x.shape: \", x.shape)"
   ]
  },
  {
   "cell_type": "code",
   "execution_count": null,
   "metadata": {},
   "outputs": [],
   "source": [
    "model(batch2)"
   ]
  },
  {
   "cell_type": "code",
   "execution_count": null,
   "metadata": {},
   "outputs": [],
   "source": [
    "us.shape"
   ]
  },
  {
   "cell_type": "code",
   "execution_count": 4,
   "metadata": {},
   "outputs": [
    {
     "data": {
      "text/plain": [
       "torch.Size([10, 10, 256])"
      ]
     },
     "execution_count": 4,
     "metadata": {},
     "output_type": "execute_result"
    }
   ],
   "source": [
    "# import torch\n",
    "# import torchvision\n",
    "\n",
    "# class myMLP(torch.nn.Module):\n",
    "#     def __init__(self, \n",
    "#             time_history: int,\n",
    "#             time_future: int,\n",
    "#             hidden_channels: list = [256, 256, 256],\n",
    "#             activation = torch.nn.ReLU,\n",
    "#         ):\n",
    "#         super(myMLP, self).__init__()\n",
    "\n",
    "#         channels = hidden_channels + [time_future]\n",
    "#         self.mlp = torchvision.ops.MLP(\n",
    "#             in_channels = time_history, \n",
    "#             hidden_channels = channels,\n",
    "#             norm_layer = None,\n",
    "#             activation_layer = activation,\n",
    "#         )\n",
    "\n",
    "#     def forward(self, x):\n",
    "#         x = x.permute(0, 2, 1)\n",
    "#         x = self.mlp(x)\n",
    "#         print(x.shape)\n",
    "#         x = x.permute(0, 2, 1)\n",
    "#         print(x.shape)\n",
    "#         return x\n",
    "\n",
    "mlpmodel = myMLP(time_history = 40, time_future = 10, hidden_channels = [100, 100, 100])\n",
    "\n",
    "out = mlpmodel(us[:, :, :])\n",
    "out.shape"
   ]
  },
  {
   "cell_type": "code",
   "execution_count": null,
   "metadata": {},
   "outputs": [],
   "source": [
    "# print pytorch version\n",
    "print(torch.__version__)\n",
    "assert False"
   ]
  },
  {
   "cell_type": "markdown",
   "metadata": {},
   "source": [
    "### E2CNN"
   ]
  },
  {
   "cell_type": "code",
   "execution_count": null,
   "metadata": {},
   "outputs": [],
   "source": [
    "datamodule = PDEDataModule(\n",
    "    pde_name = args.pde_name, \n",
    "    data_dir = args.data_dir, \n",
    "    batch_size = args.batch_size, \n",
    "    num_workers = args.num_workers,\n",
    "    n_splits = [int(n_split) for n_split in args.n_splits],\n",
    "    generators = args.generators,\n",
    "    persistent_workers = args.persistent_workers,\n",
    ")\n",
    "datamodule.setup()\n",
    "batch = next(iter(datamodule.train_dataloader()))"
   ]
  },
  {
   "cell_type": "markdown",
   "metadata": {},
   "source": [
    "The 1D ResNet has 8 convolutional layers using residual connections and increasing receptive fields (kernel size 3 to kernel size 15) a"
   ]
  },
  {
   "cell_type": "code",
   "execution_count": null,
   "metadata": {},
   "outputs": [],
   "source": [
    "net = CNN(\n",
    "    # block = BasicBlock1d,\n",
    "    # num_blocks = [2, 2, 2, 2],\n",
    "    time_history = 10,\n",
    "    time_future  = 5,\n",
    ")\n",
    "\n",
    "model = Learner(net, nn.MSELoss())\n",
    "\n",
    "y_pred, y = model(batch)\n",
    "y_pred = y_pred.detach().numpy()"
   ]
  },
  {
   "cell_type": "code",
   "execution_count": null,
   "metadata": {},
   "outputs": [],
   "source": [
    "plt.imshow(y_pred[0], aspect='auto')"
   ]
  },
  {
   "cell_type": "code",
   "execution_count": null,
   "metadata": {},
   "outputs": [],
   "source": [
    "# args.generators = False\n",
    "# args.do_return = False\n",
    "\n",
    "# # model, trainer, datamodule = main(args)"
   ]
  },
  {
   "cell_type": "code",
   "execution_count": null,
   "metadata": {},
   "outputs": [],
   "source": [
    "dataset_train = datamodule.train_dataloader().dataset"
   ]
  },
  {
   "cell_type": "code",
   "execution_count": null,
   "metadata": {},
   "outputs": [],
   "source": [
    "datamodule.setup(stage='test')\n",
    "batch = next(iter(datamodule.train_dataloader()))"
   ]
  },
  {
   "cell_type": "code",
   "execution_count": null,
   "metadata": {},
   "outputs": [],
   "source": [
    "# set to inference mode\n",
    "model.eval()"
   ]
  },
  {
   "cell_type": "code",
   "execution_count": null,
   "metadata": {},
   "outputs": [],
   "source": [
    "def flip_batch(batch):\n",
    "    batch_flipped = batch.copy()\n",
    "    batch_flipped[0] = batch_flipped[0].flip(2)\n",
    "    return batch_flipped\n",
    "\n",
    "def flip_y(y):\n",
    "    y_flipped = y.clone()\n",
    "    y_flipped = y_flipped.flip(2)\n",
    "    return y_flipped\n",
    "\n",
    "def pred(batch):\n",
    "    y_pred, y = model(batch)\n",
    "    y_pred = y_pred.detach()\n",
    "    y = y.detach()\n",
    "    return y_pred, y"
   ]
  },
  {
   "cell_type": "code",
   "execution_count": null,
   "metadata": {},
   "outputs": [],
   "source": [
    "y_pred1, y1 = pred(batch)\n",
    "y_pred_flipped1, y_flipped1 = flip_y(y_pred1), flip_y(y1)"
   ]
  },
  {
   "cell_type": "code",
   "execution_count": null,
   "metadata": {},
   "outputs": [],
   "source": [
    "batch_flipped = flip_batch(batch)\n",
    "y_pred_flipped2, y_flipped2 = pred(batch_flipped)"
   ]
  },
  {
   "cell_type": "code",
   "execution_count": null,
   "metadata": {},
   "outputs": [],
   "source": [
    "(y_flipped1 == y_flipped2).all(), (y_pred_flipped1 == y_pred_flipped2).all()"
   ]
  },
  {
   "cell_type": "code",
   "execution_count": null,
   "metadata": {},
   "outputs": [],
   "source": [
    "_, dx, dt = batch"
   ]
  },
  {
   "cell_type": "code",
   "execution_count": null,
   "metadata": {},
   "outputs": [],
   "source": [
    "diff = (y_pred_flipped1-y_pred_flipped2)"
   ]
  },
  {
   "cell_type": "code",
   "execution_count": null,
   "metadata": {},
   "outputs": [],
   "source": [
    "plots = [y_pred_flipped1, y_pred_flipped2, diff]\n",
    "\n",
    "plot_1ds(torch.cat(plots).unsqueeze(0), dx, dt, vminmax = False)"
   ]
  },
  {
   "cell_type": "code",
   "execution_count": null,
   "metadata": {},
   "outputs": [],
   "source": [
    "plots_dict = {\n",
    "    'y_flips' : [y_pred_flipped1, y_pred_flipped2, y_pred_flipped1-y_pred_flipped2]\n",
    "}\n",
    "\n",
    "plot_1d_dict(plots_dict)"
   ]
  },
  {
   "cell_type": "code",
   "execution_count": null,
   "metadata": {},
   "outputs": [],
   "source": [
    "model.log_fig(batch_flipped, y_pred_flipped1)"
   ]
  },
  {
   "cell_type": "code",
   "execution_count": null,
   "metadata": {},
   "outputs": [],
   "source": [
    "model.log_fig(batch_flipped, y_pred_flipped2)\n"
   ]
  },
  {
   "cell_type": "code",
   "execution_count": null,
   "metadata": {},
   "outputs": [],
   "source": []
  },
  {
   "cell_type": "markdown",
   "metadata": {},
   "source": [
    "## G-FNO"
   ]
  },
  {
   "cell_type": "code",
   "execution_count": null,
   "metadata": {},
   "outputs": [],
   "source": [
    "num_channels = 1\n",
    "modes = 12\n",
    "width = 10 # for G-FNO p4, for G-FNO p4m then 7\n",
    "T_in = initial_step = 10 # input time (history)\n",
    "reflection = False # False if p4, if p4m then True\n",
    "grid_type = 'symmetric'\n",
    "strategy = 'teacher_forcing'\n",
    "T = 20\n",
    "noise_std = 0"
   ]
  },
  {
   "cell_type": "code",
   "execution_count": null,
   "metadata": {},
   "outputs": [],
   "source": [
    "from model.networks.gfno import GFNO2d, pde_data"
   ]
  },
  {
   "cell_type": "code",
   "execution_count": null,
   "metadata": {},
   "outputs": [],
   "source": [
    "model = GFNO2d(\n",
    "    num_channels=num_channels,\n",
    "    modes=modes,\n",
    "    width=width,\n",
    "    initial_step=initial_step,\n",
    "    reflection=reflection,\n",
    "    grid_type=grid_type,\n",
    ")"
   ]
  },
  {
   "cell_type": "code",
   "execution_count": null,
   "metadata": {},
   "outputs": [],
   "source": [
    "# x = us[:, :10, :]\n",
    "# model(x)"
   ]
  },
  {
   "cell_type": "code",
   "execution_count": null,
   "metadata": {},
   "outputs": [],
   "source": [
    "data_path = '../ext_repos/G-FNO/data'\n",
    "\n",
    "train_path = os.path.join(data_path, 'ns_V0.01_N10_T30_cos4_super.mat')\n",
    "data = scipy.io.loadmat(os.path.expandvars(train_path))['u'].astype(np.float32)\n",
    "data = torch.from_numpy(data).float()\n",
    "print(data.shape)\n",
    "data = data.unsqueeze(-1)\n",
    "print(data.shape)"
   ]
  },
  {
   "cell_type": "code",
   "execution_count": null,
   "metadata": {},
   "outputs": [],
   "source": [
    "train_dataset = pde_data(data, strategy=strategy, T_in=T_in, T_out=T, std=noise_std)"
   ]
  },
  {
   "cell_type": "code",
   "execution_count": null,
   "metadata": {},
   "outputs": [],
   "source": [
    "x, y = train_dataset[0]"
   ]
  },
  {
   "cell_type": "code",
   "execution_count": null,
   "metadata": {},
   "outputs": [],
   "source": [
    "dataloader = torch.utils.data.DataLoader(train_dataset, batch_size=1, shuffle=False)"
   ]
  },
  {
   "cell_type": "code",
   "execution_count": null,
   "metadata": {},
   "outputs": [],
   "source": [
    "xx, yy = next(iter(dataloader))"
   ]
  },
  {
   "cell_type": "code",
   "execution_count": null,
   "metadata": {},
   "outputs": [],
   "source": [
    "x_pred = model(xx)"
   ]
  },
  {
   "cell_type": "code",
   "execution_count": null,
   "metadata": {},
   "outputs": [],
   "source": [
    "x_pred.shape"
   ]
  },
  {
   "cell_type": "code",
   "execution_count": null,
   "metadata": {},
   "outputs": [],
   "source": [
    "x.shape, y.shape"
   ]
  }
 ],
 "metadata": {
  "kernelspec": {
   "display_name": "sympde",
   "language": "python",
   "name": "python3"
  },
  "language_info": {
   "codemirror_mode": {
    "name": "ipython",
    "version": 3
   },
   "file_extension": ".py",
   "mimetype": "text/x-python",
   "name": "python",
   "nbconvert_exporter": "python",
   "pygments_lexer": "ipython3",
   "version": "3.10.13"
  }
 },
 "nbformat": 4,
 "nbformat_minor": 2
}
