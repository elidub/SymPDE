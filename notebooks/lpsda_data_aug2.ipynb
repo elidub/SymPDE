{
 "cells": [
  {
   "cell_type": "code",
   "execution_count": 16,
   "metadata": {},
   "outputs": [
    {
     "name": "stdout",
     "output_type": "stream",
     "text": [
      "The autoreload extension is already loaded. To reload it, use:\n",
      "  %reload_ext autoreload\n"
     ]
    }
   ],
   "source": [
    "%load_ext autoreload\n",
    "%autoreload 2\n",
    "\n",
    "import numpy as np\n",
    "import matplotlib.pyplot as plt\n",
    "import scipy.signal\n",
    "import matplotlib.ticker as plticker\n",
    "import time\n",
    "from mpl_toolkits.axes_grid1 import make_axes_locatable\n",
    "from tqdm import tqdm\n",
    "from collections import defaultdict\n",
    "from typing import Optional\n",
    "from scipy.integrate import solve_ivp\n",
    "from scipy.fftpack import diff as psdiff\n",
    "import torch\n",
    "import pytorch_lightning as pl\n",
    "\n",
    "import os, sys\n",
    "sys.path.append(os.path.join(os.getcwd(), '../sympde'))\n",
    "\n",
    "from data.dataset import PDEDataset, PDEDataModule\n",
    "from data.utils import d_to_LT\n",
    "\n",
    "from model.setup import setup_model\n",
    "from model.networks.fno import FNO1d\n",
    "from model.learner import Learner\n",
    "\n",
    "from viz.plot_pde_data import plot_1ds, plot_1d_dict\n",
    "\n",
    "from run import parse_options, main\n",
    "from data.utils import d_to_coords\n",
    "\n",
    "from data.generate_data import GeneratePDEData\n",
    "from data.pde_collection import CollectionPDE_Pseudospectral\n",
    "from viz.plot_pde_data import plot_1d, plot_1ds, plot_1d_dict\n",
    "from data.utils import save_obj, load_obj\n",
    "\n",
    "from data.lpda_data_aug import fourier_shift\n",
    "from data.pde_data_aug import pde1_u2, pde1_u3, pde1_u4, pde1_u5, pde1_u6, KdV_u2, KdV_u3, KdV_u4\n"
   ]
  },
  {
   "cell_type": "code",
   "execution_count": 17,
   "metadata": {},
   "outputs": [],
   "source": [
    "def calculate_mse(u_cross, u_new):\n",
    "    mse = np.mean((u_cross - u_new)**2)\n",
    "    normed_mse = mse / np.mean(u_cross**2)\n",
    "    root_normed_mse = np.sqrt(normed_mse)\n",
    "    return root_normed_mse\n",
    "\n",
    "def plot_diffs(us):\n",
    "    u_org, u_aug, u_cross = us\n",
    "    vmin, vmax = np.min(us), np.max(us)\n",
    "    fig, axes = plt.subplots(1, 3, figsize=(8,2))\n",
    "    axes[0].imshow(u_org, cmap = 'PuOr_r', aspect = 'auto', vmin=vmin, vmax=vmax) #, extent=[0,Xmax,0,Tmax])\n",
    "    axes[0].set_xlabel('x')\n",
    "    axes[0].set_ylabel('t')\n",
    "    axes[0].set_title('Original')\n",
    "\n",
    "    axes[1].set_title('Data aug')\n",
    "    axes[1].imshow(u_aug, cmap = 'PuOr_r', aspect = 'auto', vmin=vmin, vmax=vmax) #, extent=[0,Xmax,0,Tmax])\n",
    "    axes[1].set_xlabel('x')\n",
    "\n",
    "    axes[2].set_title('Solver')\n",
    "    axes[2].imshow(u_cross, cmap = 'PuOr_r', aspect = 'auto', vmin=vmin, vmax=vmax) #, extent=[0,Xmax,0,Tmax])\n",
    "    axes[2].set_xlabel('x')\n",
    "\n",
    "    # for ax in axes:\n",
    "    #     ax.set_anchor('S')\n",
    "    plt.show()\n",
    "\n",
    "def report_mses(mses):\n",
    "    # Without minus in epsilon * t in gallileo\n",
    "    print(f'Mean MSE:   {np.mean(mses):.4f}', )\n",
    "    print(f'Std MSE:    {np.std(mses):.4f}', )\n",
    "    print(f'Median MSE: {np.median(mses):.4f}', )\n",
    "\n",
    "    plt.hist(mses)\n",
    "    plt.xlabel('Root normalized mean squared error')\n",
    "    plt.ylabel('Count')\n",
    "    plt.title('Difference between augmented and crosscheck solution')\n",
    "    plt.yscale('log')\n",
    "    plt.show()\n",
    "\n",
    "def plt_imshow(data, same_scale = False, titles = None):\n",
    "\n",
    "    # if data is list\n",
    "    if isinstance(data, list):\n",
    "        data = torch.stack(data)\n",
    "\n",
    "    vmin, vmax =( np.min(data), np.max(data)) if same_scale else (None, None)\n",
    "    fig, axs = plt.subplots(1, len(data), figsize=(8,2))\n",
    "\n",
    "    axs = axs if isinstance(axs, np.ndarray) else [axs]\n",
    "\n",
    "    for i, d in enumerate(data):\n",
    "        axs[i].imshow(d, cmap = 'PuOr_r', aspect = 'auto', vmin=vmin, vmax=vmax)\n",
    "        if titles is not None:\n",
    "            axs[i].set_title(titles[i])\n",
    "\n",
    "    plt.show()\n",
    "\n",
    "def calc_crosscheck(u_new, x_new, t_new, pde_func, tol):\n",
    "    Nt, Nx = u_new.shape\n",
    "    # Get new coords\n",
    "    X_new = torch.stack((x_new, t_new), dim = -1)\n",
    "\n",
    "    Xmax_cross = (X_new[0, -1, 0] - X_new[0, 0, 0])# * (Nx+1) / Nx\n",
    "    Tmax_cross = X_new[-1, 0, 1] - X_new[0, 0, 1]\n",
    "    t_cross = np.linspace(0, Tmax_cross.item(), Nt)\n",
    "\n",
    "    sol_cross = solve_ivp(\n",
    "        fun=pde_func, \n",
    "        t_span=[t_cross[0], t_cross[-1]], \n",
    "        y0=u_new[0, :], \n",
    "        method='Radau', \n",
    "        t_eval=t_cross, \n",
    "        atol=tol, \n",
    "        rtol=tol\n",
    "        )\n",
    "    u_cross = sol_cross.y.T\n",
    "    return u_cross\n"
   ]
  },
  {
   "cell_type": "code",
   "execution_count": 18,
   "metadata": {},
   "outputs": [],
   "source": [
    "args = parse_options(notebook=True)\n",
    "args.pde_name = 'pde1'\n",
    "# args.seed = 1\n",
    "# args.version = f'{args.pde_name}_seed{args.seed}'\n",
    "args.version = 'test'\n",
    "args.train = True\n",
    "args.num_workers = 7\n",
    "args.local = True\n",
    "args.batch_size = 2\n",
    "args.do_return = True"
   ]
  },
  {
   "cell_type": "code",
   "execution_count": 70,
   "metadata": {},
   "outputs": [
    {
     "name": "stderr",
     "output_type": "stream",
     "text": [
      "Seed set to 42\n",
      "GPU available: True (mps), used: False\n",
      "TPU available: False, using: 0 TPU cores\n",
      "IPU available: False, using: 0 IPUs\n",
      "HPU available: False, using: 0 HPUs\n"
     ]
    }
   ],
   "source": [
    "model, trainer, datamodule = main(args)\n",
    "\n",
    "datamodule.setup()\n",
    "dataset_train = datamodule.train_dataloader().dataset\n",
    "\n",
    "# Get original coords\n",
    "# u, dx, dt = dataset_train[1]\n"
   ]
  },
  {
   "cell_type": "code",
   "execution_count": 87,
   "metadata": {},
   "outputs": [
    {
     "name": "stdout",
     "output_type": "stream",
     "text": [
      "tensor(1.0977)\n",
      "tensor(0.0155)\n",
      "tensor(0.0008)\n",
      "tensor(0.0004)\n",
      "tensor(-0.2824)\n"
     ]
    },
    {
     "data": {
      "text/plain": [
       "(tensor([[-1.4870e+00, -1.5418e+00, -1.5950e+00,  ..., -3.3288e-07,\n",
       "          -3.0665e-07, -2.8176e-07],\n",
       "         [-1.4847e+00, -1.5393e+00, -1.5923e+00,  ..., -3.4093e-07,\n",
       "          -3.1411e-07, -2.8865e-07],\n",
       "         [-1.4824e+00, -1.5368e+00, -1.5896e+00,  ..., -3.4914e-07,\n",
       "          -3.2171e-07, -2.9568e-07],\n",
       "         ...,\n",
       "         [-1.4042e+00, -1.4529e+00, -1.5002e+00,  ..., -7.6541e-07,\n",
       "          -7.0827e-07, -6.5385e-07],\n",
       "         [-1.4020e+00, -1.4506e+00, -1.4977e+00,  ..., -7.8175e-07,\n",
       "          -7.2348e-07, -6.6796e-07],\n",
       "         [-1.3998e+00, -1.4483e+00, -1.4953e+00,  ..., -7.9839e-07,\n",
       "          -7.3896e-07, -6.8234e-07]]),\n",
       " tensor(0.2462),\n",
       " tensor(0.9927))"
      ]
     },
     "execution_count": 87,
     "metadata": {},
     "output_type": "execute_result"
    }
   ],
   "source": [
    "dataset_train[1]"
   ]
  },
  {
   "cell_type": "code",
   "execution_count": 20,
   "metadata": {},
   "outputs": [],
   "source": [
    "L, Nx = 64, 256\n",
    "T, Nt = 40, 40\n",
    "tol = 1e-6\n"
   ]
  },
  {
   "cell_type": "code",
   "execution_count": 67,
   "metadata": {},
   "outputs": [
    {
     "name": "stdout",
     "output_type": "stream",
     "text": [
      "tensor(0.1877)\n",
      "tensor(0.0286)\n",
      "tensor(0.0016)\n",
      "tensor(0.0004)\n",
      "tensor(-0.0153)\n"
     ]
    },
    {
     "data": {
      "image/png": "[encoded data removed]",
      "text/plain": [
       "<Figure size 800x200 with 1 Axes>"
      ]
     },
     "metadata": {},
     "output_type": "display_data"
    }
   ],
   "source": [
    "i = 0\n",
    "u, dx, dt = dataset_train[i]\n",
    "plt_imshow([u])"
   ]
  },
  {
   "cell_type": "code",
   "execution_count": 7,
   "metadata": {},
   "outputs": [],
   "source": [
    "\n",
    "\n",
    "pde_collection = CollectionPDE_Pseudospectral(L = L).collection\n",
    "pde_func = pde_collection[args.pde_name]"
   ]
  },
  {
   "cell_type": "code",
   "execution_count": 51,
   "metadata": {},
   "outputs": [
    {
     "name": "stdout",
     "output_type": "stream",
     "text": [
      "tensor(-0.4738)\n",
      "tensor(0.0450)\n",
      "tensor(-0.0009)\n",
      "tensor(-0.0004)\n",
      "tensor(-0.1351)\n"
     ]
    },
    {
     "data": {
      "image/png": "[encoded data removed]",
      "text/plain": [
       "<Figure size 800x200 with 3 Axes>"
      ]
     },
     "metadata": {},
     "output_type": "display_data"
    },
    {
     "name": "stdout",
     "output_type": "stream",
     "text": [
      "tensor(0.0468)\n",
      "tensor(-0.0494)\n",
      "tensor(-0.0039)\n",
      "tensor(-0.0001)\n",
      "tensor(-0.0765)\n"
     ]
    },
    {
     "data": {
      "image/png": "[encoded data removed]",
      "text/plain": [
       "<Figure size 800x200 with 3 Axes>"
      ]
     },
     "metadata": {},
     "output_type": "display_data"
    },
    {
     "name": "stdout",
     "output_type": "stream",
     "text": [
      "tensor(-1.1063)\n",
      "tensor(0.0205)\n",
      "tensor(-0.0026)\n",
      "tensor(-0.0004)\n",
      "tensor(0.0924)\n"
     ]
    },
    {
     "data": {
      "image/png": "[encoded data removed]",
      "text/plain": [
       "<Figure size 800x200 with 3 Axes>"
      ]
     },
     "metadata": {},
     "output_type": "display_data"
    },
    {
     "name": "stdout",
     "output_type": "stream",
     "text": [
      "tensor(-0.2850)\n",
      "tensor(0.0499)\n",
      "tensor(-0.0038)\n",
      "tensor(0.0002)\n",
      "tensor(-0.4100)\n"
     ]
    },
    {
     "data": {
      "image/png": "[encoded data removed]",
      "text/plain": [
       "<Figure size 800x200 with 3 Axes>"
      ]
     },
     "metadata": {},
     "output_type": "display_data"
    },
    {
     "name": "stdout",
     "output_type": "stream",
     "text": [
      "tensor(-1.3929)\n",
      "tensor(-0.0327)\n",
      "tensor(-0.0050)\n",
      "tensor(-0.0002)\n",
      "tensor(-0.4189)\n"
     ]
    },
    {
     "data": {
      "image/png": "[encoded data removed]",
      "text/plain": [
       "<Figure size 800x200 with 3 Axes>"
      ]
     },
     "metadata": {},
     "output_type": "display_data"
    }
   ],
   "source": [
    "def augment(u, x, t):\n",
    "\n",
    "    u_new, x_new, t_new = u.clone(), x.clone(), t.clone()\n",
    "\n",
    "    # u_new, x_new, t_new = KdV_u2(u_new, x_new, t_new, eps = (torch.rand(()) - 0.5) ) # \n",
    "    # u_new, x_new, t_new = KdV_u3(u_new, x_new, t_new, eps = (torch.rand(()) - 0.5) * 2) # \n",
    "    # u_new, x_new, t_new = KdV_u4(u_new, x_new, t_new, eps = (torch.rand(()) - 0.5) * 0.1) # Max scale is important!\n",
    "\n",
    "    u_new, x_new, t_new = pde1_u2(u_new, x_new, t_new, eps = (torch.rand(()) - 0.5) * 3 ) #  \n",
    "    u_new, x_new, t_new = pde1_u3(u_new, x_new, t_new, eps = (torch.rand(()) - 0.5) * 0.1) # have to be low\n",
    "    u_new, x_new, t_new = pde1_u4(u_new, x_new, t_new, eps = (torch.rand(()) - 0.5) * 0.01) # have to be low\n",
    "    u_new, x_new, t_new = pde1_u5(u_new, x_new, t_new, eps = (torch.rand(()) - 0.5) * 0.001) # kinda okish\n",
    "    u_new, x_new, t_new = pde1_u6(u_new, x_new, t_new, eps = (torch.rand(()) - 0.5) * 1.) # \n",
    "\n",
    "\n",
    "\n",
    "    u_new = u_new.numpy()\n",
    "    return u_new, x_new, t_new\n",
    "\n",
    "\n",
    "for i in range(5):\n",
    "    # Get original coords\n",
    "    u, dx, dt = dataset_train[i]\n",
    "    X = d_to_coords(u, dx, dt)\n",
    "    x, t = X.permute(2, 0, 1)[:2]\n",
    "\n",
    "    u_new, x_new, t_new = augment(u, x, t)\n",
    "    u_cross = calc_crosscheck(u_new, x_new, t_new, pde_func, tol)\n",
    "    us = np.stack((u.numpy(), u_new, u_cross))\n",
    "    plt_imshow(us, titles = ['Original', 'Augmented', 'Crosscheck'], same_scale = True)"
   ]
  },
  {
   "cell_type": "code",
   "execution_count": 8,
   "metadata": {},
   "outputs": [
    {
     "ename": "AssertionError",
     "evalue": "",
     "output_type": "error",
     "traceback": [
      "\u001b[0;31m---------------------------------------------------------------------------\u001b[0m",
      "\u001b[0;31mAssertionError\u001b[0m                            Traceback (most recent call last)",
      "\u001b[1;32m/Users/elias/Documenten MBA/Studie/Thesis/SymPDE/notebooks/lpsda_data_aug2.ipynb Cell 8\u001b[0m line \u001b[0;36m1\n\u001b[0;32m----> <a href='vscode-notebook-cell:/Users/elias/Documenten%20MBA/Studie/Thesis/SymPDE/notebooks/lpsda_data_aug2.ipynb#Y131sZmlsZQ%3D%3D?line=0'>1</a>\u001b[0m \u001b[39massert\u001b[39;00m \u001b[39mFalse\u001b[39;00m\n",
      "\u001b[0;31mAssertionError\u001b[0m: "
     ]
    }
   ],
   "source": [
    "assert False"
   ]
  },
  {
   "cell_type": "code",
   "execution_count": null,
   "metadata": {},
   "outputs": [],
   "source": [
    "def augment(u, x, t, eps1, eps2, eps3, esp4, eps5, eps6, method = 0):\n",
    "\n",
    "    u_new, x_new, t_new = u.clone(), x.clone(), t.clone()\n",
    "\n",
    "    # u_new, x_new, t_new = pde1_u3(u_new, x_new, t_new, eps = (torch.rand(()) - 0.5) * 1 )\n",
    "    # u_new, x_new, t_new = pde1_u4(u_new, x_new, t_new, eps = eps4, method = method )    \n",
    "    # u_new, x_new, t_new = pde1_u(u_new, x_new, t_new, eps = eps6)    \n",
    "\n",
    "    # u_new, x_new, t_new = KdV_u2(u_new, x_new, t_new, eps = (torch.rand(()) - 0.5) ) # time\n",
    "    # u_new, x_new, t_new = KdV_u3(u_new, x_new, t_new, eps = (torch.rand(()) - 0.5) ) # space\n",
    "    # u_new, x_new, t_new = KdV_u4(u_new, x_new, t_new, eps = (torch.rand(()) - 0.5) * 0.) # galileo\n",
    "\n",
    "\n",
    "    u_new = u_new.numpy()\n",
    "    return u_new, x_new, t_new\n",
    "\n",
    "n_methods = 1\n",
    "n_samples = 5\n",
    "\n",
    "methods = range(n_methods)\n",
    "mses = np.zeros((n_methods, n_samples))\n",
    "\n",
    "for sample_id in tqdm(range(n_samples)):\n",
    "    eps1 = (torch.rand(()) - 0.5)\n",
    "    eps2 = (torch.rand(()) - 0.5)\n",
    "    eps3 = (torch.rand(()) - 0.5) * 2\n",
    "    eps4 = (torch.rand(()) - 0.5) * 0.01\n",
    "    eps5 = (torch.rand(()) - 0.5) \n",
    "    eps6 = (torch.rand(()) - 0.5) * .0001\n",
    "    for method in methods:\n",
    "        u_new, x_new, t_new = augment(u, x, t, eps1, eps2, eps3, eps4, eps5, eps6, method = method)\n",
    "        u_cross = calc_crosscheck(u_new, x_new, t_new)\n",
    "        if sample_id == 0 or True:\n",
    "        # if sample_id == 0:\n",
    "            print(method)\n",
    "            us = u.numpy(), u_new, u_cross\n",
    "            plot_diffs(us)\n",
    "        mse = calculate_mse(u_cross, u_new)\n",
    "        mses[method, sample_id] = mse\n",
    "\n",
    "# print(mses)\n",
    "# plot_diffs(u, u_new, u_cross)\n",
    "# report_mses(mses)\n",
    "\n",
    "# mses = np.array(mses)\n",
    "# mses_diff = mses[0] - mses[1]"
   ]
  },
  {
   "cell_type": "code",
   "execution_count": null,
   "metadata": {},
   "outputs": [],
   "source": [
    "assert False"
   ]
  },
  {
   "cell_type": "code",
   "execution_count": null,
   "metadata": {},
   "outputs": [],
   "source": [
    "# def pde_u2(u, x, t, eps):\n",
    "#     x_new = x\n",
    "#     t_new = t\n",
    "#     # u_new = fourier_shift(u, eps = -eps, dim = -1)\n",
    "#     u_new = (fourier_shift(u.unsqueeze(0), eps, dim = -1)).squeeze(0)\n",
    "#     return u_new, x_new, t_new\n",
    "\n",
    "# def pde1_u3(u, x, t, eps):\n",
    "#     x_new = x * torch.exp(-eps)\n",
    "#     t_new = t * torch.exp(-2 * eps)\n",
    "#     u_new = u\n",
    "#     return u_new, x_new, t_new\n",
    "\n",
    "# def pde1_u4(u, x, t, eps):\n",
    "#     d = - 2*eps * (t[:, 0] / L)\n",
    "#     eps_u = - eps\n",
    "#     x_new = x\n",
    "#     t_new = t\n",
    "\n",
    "#     u_mult = torch.exp(-eps_u * (x + -eps_u * t) / 0.1)\n",
    "#     u_new = (fourier_shift(u, eps=d[:, None], dim=-1)).squeeze(0) * u_mult\n",
    "#     return u_new, x_new, t_new\n",
    "\n",
    "# def pde1_u5(u, x, t, eps):\n",
    "\n",
    "#     eps = np.abs(eps)\n",
    "\n",
    "#     eps_u = - eps\n",
    "#     shift1 = 1 + 4*eps * t\n",
    "#     shift1_u = 1 + 4*-eps_u * t\n",
    "#     u_mult = torch.exp( (-eps * x**2) / (0.1 * shift1_u) ) / torch.sqrt(shift1_u)\n",
    "\n",
    "#     x_new = x / shift1 \n",
    "#     t_new = t / shift1 \n",
    "\n",
    "#     u_new = u * u_mult\n",
    "#     return u_new, x_new, t_new\n",
    "\n",
    "# def pde1_u6(u, x, t, eps):\n",
    "#     eps_u = - eps\n",
    "#     x_new = x\n",
    "#     t_new = t\n",
    "#     u_new = torch.exp(eps_u) * u\n",
    "#     return u_new, x_new, t_new\n",
    "\n",
    "\n",
    "# def KdV_u2(u, x, t, eps):\n",
    "#     x_new = x\n",
    "#     t_new = t\n",
    "#     # u_new = fourier_shift(u, eps = -eps, dim = -1)\n",
    "#     u_new = (fourier_shift(u.unsqueeze(0), eps, dim = -1)).squeeze(0)\n",
    "#     return u_new, x_new, t_new\n",
    "\n",
    "# def KdV_u3(u, x, t, eps):\n",
    "#     # scaling\n",
    "#     d = - eps * (t[:, 0] / L) # minus, t, L are all necessary\n",
    "#     eps_u = - eps\n",
    "#     x_new = x\n",
    "#     t_new = t\n",
    "#     u_new = (fourier_shift(u, eps=d[:, None], dim=-1) + eps_u).squeeze(0) # minus is necassary\n",
    "#     return u_new, x_new, t_new\n",
    "\n",
    "# def KdV_u4(u, x, t, eps):\n",
    "#     eps_u = - eps\n",
    "#     x_new = x * torch.exp(-eps)\n",
    "#     t_new = t * torch.exp(-3 * eps)\n",
    "#     u_new = u * torch.exp(- 2 * eps_u)\n",
    "#     return u_new, x_new, t_new"
   ]
  },
  {
   "cell_type": "code",
   "execution_count": null,
   "metadata": {},
   "outputs": [],
   "source": [
    "from data.pde_data_aug import pde1_u3, pde1_u4, pde1_u5, KdV_u1, KdV_u2, KdV_u3_0, KdV_u3_1\n",
    "\n",
    "\n",
    "def augment(u, x, t, eps1, eps2, eps3, esp4, eps5, eps6, method = 0):\n",
    "\n",
    "    u_new, x_new, t_new = u.clone(), x.clone(), t.clone()\n",
    "\n",
    "    # u_new, x_new, t_new = pde1_u3(u_new, x_new, t_new, eps = (torch.rand(()) - 0.5) * 1 )\n",
    "    # u_new, x_new, t_new = pde1_u4(u_new, x_new, t_new, eps = eps4, method = method )    \n",
    "    u_new, x_new, t_new = pde1_u5(u_new, x_new, t_new, eps = eps6)    \n",
    "\n",
    "    # u_new, x_new, t_new = KdV_u1(u_new, x_new, t_new, eps = eps1 ) # time\n",
    "    # u_new, x_new, t_new = KdV_u2(u_new, x_new, t_new, eps = eps2 ) # space\n",
    "    \n",
    "    # if method == 0:\n",
    "    #     u_new, x_new, t_new = KdV_u3_0(u_new, x_new, t_new, eps = eps3) # galileo\n",
    "    # elif method == 1:\n",
    "    #     u_new, x_new, t_new = KdV_u3_1(u_new, x_new, t_new, eps = eps3) # galileo\n",
    "    # else:\n",
    "    #     raise ValueError('method must be 0, 1 or 2')\n",
    "\n",
    "    # u_new, x_new, t_new = KdV_u3(u_new, x_new, t_new, eps = eps3) # galileo\n",
    "\n",
    "\n",
    "    u_new = u_new.numpy()\n",
    "    return u_new, x_new, t_new\n",
    "\n",
    "n_methods = 1\n",
    "n_samples = 5\n",
    "\n",
    "methods = range(n_methods)\n",
    "mses = np.zeros((n_methods, n_samples))\n",
    "\n",
    "for sample_id in tqdm(range(n_samples)):\n",
    "    eps1 = (torch.rand(()) - 0.5)\n",
    "    eps2 = (torch.rand(()) - 0.5)\n",
    "    eps3 = (torch.rand(()) - 0.5) * 2\n",
    "    eps4 = (torch.rand(()) - 0.5) * 0.01\n",
    "    eps5 = (torch.rand(()) - 0.5) \n",
    "    eps6 = (torch.rand(()) - 0.5) * .0001\n",
    "    for method in methods:\n",
    "        u_new, x_new, t_new = augment(u, x, t, eps1, eps2, eps3, eps4, eps5, eps6, method = method)\n",
    "        u_cross = calc_crosscheck(u_new, x_new, t_new)\n",
    "        if sample_id == 0 or True:\n",
    "        # if sample_id == 0:\n",
    "            print(method)\n",
    "            us = u.numpy(), u_new, u_cross\n",
    "            plot_diffs(us)\n",
    "        mse = calculate_mse(u_cross, u_new)\n",
    "        mses[method, sample_id] = mse\n",
    "\n",
    "# print(mses)\n",
    "# plot_diffs(u, u_new, u_cross)\n",
    "# report_mses(mses)\n",
    "\n",
    "# mses = np.array(mses)\n",
    "# mses_diff = mses[0] - mses[1]"
   ]
  },
  {
   "cell_type": "code",
   "execution_count": null,
   "metadata": {},
   "outputs": [],
   "source": [
    "print(np.mean(mses, axis = 1), np.std(mses, axis = 1))\n",
    "\n",
    "for method in methods:\n",
    "    plt.scatter(method * np.ones_like(mses[method]), mses[method])\n",
    "    plt.hlines(np.mean(mses[method]), method - 0.2, method + 0.2, linestyle = ':', color = 'k')\n",
    "    plt.hlines(np.mean(mses[method]) + np.std(mses[method]), method - 0.2, method + 0.2, linestyle = ':', color = 'k')\n",
    "    plt.hlines(np.mean(mses[method]) - np.std(mses[method]), method - 0.2, method + 0.2, linestyle = ':', color = 'k')\n",
    "    \n",
    "plt.xticks(methods, methods)\n",
    "plt.xlabel('Method')\n",
    "plt.show()\n",
    "\n",
    "# plt.plot(mses_diff)\n",
    "# plt.hlines(0, 0, len(mses_diff), linestyle = ':', color = 'k')\n",
    "# plt.show()"
   ]
  },
  {
   "cell_type": "code",
   "execution_count": null,
   "metadata": {},
   "outputs": [],
   "source": [
    "assert False"
   ]
  },
  {
   "cell_type": "code",
   "execution_count": null,
   "metadata": {},
   "outputs": [],
   "source": [
    "us, dx, dt = dataset_train[:10][0], dataset_train[0][1].item(), dataset_train[0][2].item()\n",
    "us = us.view(2, 5, us.shape[1], us.shape[2])\n",
    "plot_1ds(us, dx, dt)"
   ]
  },
  {
   "cell_type": "markdown",
   "metadata": {},
   "source": [
    "assert False"
   ]
  },
  {
   "cell_type": "code",
   "execution_count": null,
   "metadata": {},
   "outputs": [],
   "source": [
    "from data.lpda_data_aug import SpaceTranslate, Scale, Galileo, to_coords\n",
    "from data.utils import d_to_coords\n",
    "\n",
    "generators = [\n",
    "    SpaceTranslate(max_x_shift=1),\n",
    "    Galileo(max_velocity=0.1),\n",
    "    Scale(max_scale=1),\n",
    "]\n",
    "\n",
    "def augment(u, dx, dt):\n",
    "    # Get coordinates\n",
    "    X = d_to_coords(u, dx, dt)\n",
    "\n",
    "    # Augment\n",
    "    sol = (u, X)\n",
    "    for g in generators:\n",
    "        sol = g(sol, shift = 'fourier')\n",
    "    u, X = sol\n",
    "\n",
    "    # Get new coordinates\n",
    "    dx = X[0, 1, 0] - X[0, 0, 0]\n",
    "    dt = X[1, 0, 1] - X[0, 0, 1]\n",
    "\n",
    "    return u, dx, dt\n",
    "\n",
    "u, dx, dt = us[0], dxs[0], dts[0]\n",
    "augment(u, dx, dt)"
   ]
  },
  {
   "cell_type": "code",
   "execution_count": null,
   "metadata": {},
   "outputs": [],
   "source": []
  },
  {
   "cell_type": "code",
   "execution_count": null,
   "metadata": {},
   "outputs": [],
   "source": [
    "Nt, Nx = u.shape\n",
    "x = torch.arange(0, Nx) * dx\n",
    "t = torch.arange(0, Nt) * dt\n",
    "\n",
    "X = to_coords(x, t)"
   ]
  },
  {
   "cell_type": "code",
   "execution_count": null,
   "metadata": {},
   "outputs": [],
   "source": [
    "sol = (u, X)\n",
    "for g in generators:\n",
    "    sol = g(sol, shift = 'fourier')\n",
    "u, X = sol"
   ]
  },
  {
   "cell_type": "code",
   "execution_count": null,
   "metadata": {},
   "outputs": [],
   "source": [
    "x = X[0, 1, 0] - X[0, 0, 0]\n",
    "dt = X[1, 0, 1] - X[0, 0, 1]\n",
    "dx, dt"
   ]
  },
  {
   "cell_type": "markdown",
   "metadata": {},
   "source": [
    "### LPSDA"
   ]
  },
  {
   "cell_type": "code",
   "execution_count": null,
   "metadata": {},
   "outputs": [],
   "source": [
    "from data.lpda_data_aug import SpaceTranslate, Scale, Galileo, to_coords\n",
    "\n",
    "generators = [\n",
    "    SpaceTranslate(max_x_shift=1),\n",
    "    Galileo(max_velocity=0.1),\n",
    "    Scale(max_scale=1),\n",
    "]"
   ]
  },
  {
   "cell_type": "code",
   "execution_count": null,
   "metadata": {},
   "outputs": [],
   "source": [
    "us.shape"
   ]
  },
  {
   "cell_type": "code",
   "execution_count": null,
   "metadata": {},
   "outputs": [],
   "source": [
    "# set to inference mode\n",
    "model.eval()\n"
   ]
  },
  {
   "cell_type": "code",
   "execution_count": null,
   "metadata": {},
   "outputs": [],
   "source": [
    "model = model.eval()\n",
    "y_pred, y = model(batch)\n",
    "y_pred = y_pred.detach().cpu().numpy()"
   ]
  },
  {
   "cell_type": "code",
   "execution_count": null,
   "metadata": {},
   "outputs": [],
   "source": [
    "y_pred.shape"
   ]
  },
  {
   "cell_type": "code",
   "execution_count": null,
   "metadata": {},
   "outputs": [],
   "source": [
    "model.log_fig(batch, y_pred.detach())"
   ]
  }
 ],
 "metadata": {
  "kernelspec": {
   "display_name": "sympde",
   "language": "python",
   "name": "python3"
  },
  "language_info": {
   "codemirror_mode": {
    "name": "ipython",
    "version": 3
   },
   "file_extension": ".py",
   "mimetype": "text/x-python",
   "name": "python",
   "nbconvert_exporter": "python",
   "pygments_lexer": "ipython3",
   "version": "3.10.13"
  }
 },
 "nbformat": 4,
 "nbformat_minor": 2
}
