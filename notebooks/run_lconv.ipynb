{
 "cells": [
  {
   "cell_type": "code",
   "execution_count": 23,
   "metadata": {},
   "outputs": [
    {
     "name": "stdout",
     "output_type": "stream",
     "text": [
      "The autoreload extension is already loaded. To reload it, use:\n",
      "  %reload_ext autoreload\n"
     ]
    }
   ],
   "source": [
    "%load_ext autoreload\n",
    "%autoreload 2\n",
    "\n",
    "import numpy as np\n",
    "import matplotlib.pyplot as plt\n",
    "import scipy.signal\n",
    "import matplotlib.ticker as plticker\n",
    "import time\n",
    "from mpl_toolkits.axes_grid1 import make_axes_locatable\n",
    "from tqdm import tqdm\n",
    "from collections import defaultdict\n",
    "from typing import Optional\n",
    "from scipy.integrate import solve_ivp\n",
    "from scipy.fftpack import diff as psdiff\n",
    "import torch\n",
    "import pytorch_lightning as pl\n",
    "from torch import nn\n",
    "\n",
    "import os, sys\n",
    "sys.path.append(os.path.join(os.getcwd(), '../sympde'))\n",
    "\n",
    "from run_lconv import parse_options, main\n",
    "from misc.utils import read_lines"
   ]
  },
  {
   "cell_type": "code",
   "execution_count": 50,
   "metadata": {},
   "outputs": [],
   "source": [
    "hparams = read_lines('../jobs/arrays/lconv.txt')\n",
    "hparams = [line[:-1] for line in hparams if '\\n' in line]\n",
    "\n",
    "# # drop all substrings '--' in the string, but keep the rest\n",
    "# hparams = [line.split('--') for line in hparams]\n",
    "# hparams = [[s for s in line if s != '--'] for line in hparams]\n",
    "# hparams = [' '.join(line) for line in hparams]\n",
    "# hparams"
   ]
  },
  {
   "cell_type": "code",
   "execution_count": 51,
   "metadata": {},
   "outputs": [],
   "source": [
    "hparam = hparams[0]"
   ]
  },
  {
   "cell_type": "code",
   "execution_count": 46,
   "metadata": {},
   "outputs": [
    {
     "data": {
      "text/plain": [
       "['--digit', '0', '--dim', '4', '--rot_angle', '0\\n']"
      ]
     },
     "execution_count": 46,
     "metadata": {},
     "output_type": "execute_result"
    }
   ],
   "source": [
    "hparam.split(' ')"
   ]
  },
  {
   "cell_type": "code",
   "execution_count": 42,
   "metadata": {},
   "outputs": [
    {
     "data": {
      "text/plain": [
       "'--digit 5 --dim 25 --rot_angle 90'"
      ]
     },
     "execution_count": 42,
     "metadata": {},
     "output_type": "execute_result"
    }
   ],
   "source": [
    "hparam"
   ]
  },
  {
   "cell_type": "code",
   "execution_count": 12,
   "metadata": {},
   "outputs": [
    {
     "name": "stderr",
     "output_type": "stream",
     "text": [
      "Seed set to 42\n",
      "GPU available: True (mps), used: False\n",
      "TPU available: False, using: 0 TPU cores\n",
      "IPU available: False, using: 0 IPUs\n",
      "HPU available: False, using: 0 HPUs\n",
      "Missing logger folder: ../logs/lconv_mnist_dim5_seed42\n"
     ]
    },
    {
     "name": "stdout",
     "output_type": "stream",
     "text": [
      "\n",
      "\n",
      "###\tVersion:  None \t###\n",
      "###\tName:  lconv_mnist_dim5_seed42 \t###\n",
      "\n",
      "\n"
     ]
    },
    {
     "name": "stderr",
     "output_type": "stream",
     "text": [
      "\n",
      "  | Name      | Type     | Params\n",
      "---------------------------------------\n",
      "0 | net       | LconvNet | 626   \n",
      "1 | criterion | MSELoss  | 0     \n",
      "---------------------------------------\n",
      "626       Trainable params\n",
      "0         Non-trainable params\n",
      "626       Total params\n",
      "0.003     Total estimated model params size (MB)\n"
     ]
    },
    {
     "name": "stdout",
     "output_type": "stream",
     "text": [
      "Sanity Checking: |          | 0/? [00:00<?, ?it/s]"
     ]
    },
    {
     "name": "stderr",
     "output_type": "stream",
     "text": [
      "/Users/elias/anaconda3/envs/sympde/lib/python3.10/site-packages/pytorch_lightning/trainer/connectors/data_connector.py:436: Consider setting `persistent_workers=True` in 'val_dataloader' to speed up the dataloader worker initialization.\n"
     ]
    },
    {
     "name": "stdout",
     "output_type": "stream",
     "text": [
      "                                                                           \r"
     ]
    },
    {
     "name": "stderr",
     "output_type": "stream",
     "text": [
      "/Users/elias/anaconda3/envs/sympde/lib/python3.10/site-packages/pytorch_lightning/trainer/connectors/data_connector.py:436: Consider setting `persistent_workers=True` in 'train_dataloader' to speed up the dataloader worker initialization.\n"
     ]
    },
    {
     "name": "stdout",
     "output_type": "stream",
     "text": [
      "Testing DataLoader 0:   0%|          | 0/1563 [05:30<?, ?it/s]num=0, val_loss=0.000441, train_loss=0.000458]\n",
      "Testing DataLoader 0:   0%|          | 0/1563 [04:48<?, ?it/s]\n",
      "Testing DataLoader 0:   0%|          | 0/1563 [04:16<?, ?it/s]\n",
      "Epoch 9: 100%|██████████| 750/750 [00:06<00:00, 110.19it/s, v_num=0, val_loss=0.000407, train_loss=0.000394]"
     ]
    },
    {
     "name": "stderr",
     "output_type": "stream",
     "text": [
      "`Trainer.fit` stopped: `max_epochs=10` reached.\n"
     ]
    },
    {
     "name": "stdout",
     "output_type": "stream",
     "text": [
      "Epoch 9: 100%|██████████| 750/750 [00:06<00:00, 110.12it/s, v_num=0, val_loss=0.000407, train_loss=0.000394]\n"
     ]
    },
    {
     "name": "stderr",
     "output_type": "stream",
     "text": []
    },
    {
     "name": "stdout",
     "output_type": "stream",
     "text": [
      "Testing DataLoader 0: 100%|██████████| 1563/1563 [00:01<00:00, 948.72it/s]\n",
      "────────────────────────────────────────────────────────────────────────────────────────────────────────────────────────\n",
      "       Test metric             DataLoader 0\n",
      "────────────────────────────────────────────────────────────────────────────────────────────────────────────────────────\n",
      "        test_loss          0.0004009635595139116\n",
      "────────────────────────────────────────────────────────────────────────────────────────────────────────────────────────\n"
     ]
    }
   ],
   "source": [
    "args = parse_options(notebook=True)\n",
    "args.do_return = False\n",
    "args.train = True\n",
    "# args.pde_name = 'KdV'\n",
    "args.max_epochs = 10\n",
    "# args.n_splits = [10, 10, 10]\n",
    "# args.num_workers = 0\n",
    "# args.persistent_workers = False\n",
    "# args.verion = None\n",
    "# args.seed = 52\n",
    "# args.epsilons = [0., 1., 0.1, 0.4]\n",
    "\n",
    "model, trainer, datamodule = main(args)\n"
   ]
  }
 ],
 "metadata": {
  "kernelspec": {
   "display_name": "sympde",
   "language": "python",
   "name": "python3"
  },
  "language_info": {
   "codemirror_mode": {
    "name": "ipython",
    "version": 3
   },
   "file_extension": ".py",
   "mimetype": "text/x-python",
   "name": "python",
   "nbconvert_exporter": "python",
   "pygments_lexer": "ipython3",
   "version": "3.10.13"
  }
 },
 "nbformat": 4,
 "nbformat_minor": 2
}
