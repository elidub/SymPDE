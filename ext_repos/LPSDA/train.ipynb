{
 "cells": [
  {
   "cell_type": "code",
   "execution_count": 67,
   "metadata": {},
   "outputs": [
    {
     "name": "stdout",
     "output_type": "stream",
     "text": [
      "Set seed!\n",
      "The autoreload extension is already loaded. To reload it, use:\n",
      "  %reload_ext autoreload\n"
     ]
    }
   ],
   "source": [
    "%load_ext autoreload\n",
    "%autoreload 2\n",
    "\n",
    "import argparse\n",
    "import os\n",
    "import copy\n",
    "import sys\n",
    "import time\n",
    "from datetime import datetime\n",
    "import torch\n",
    "import random\n",
    "import numpy as np\n",
    "\n",
    "from matplotlib import pyplot as plt\n",
    "\n",
    "from typing import Tuple\n",
    "from torch import nn, optim\n",
    "from torch.nn import functional as F\n",
    "from torch.utils.data import DataLoader\n",
    "\n",
    "import sys, os\n",
    "sys.path.append(os.getcwd())\n",
    "# sys.path.append(os.path.join(os.getcwd(), '../'))\n",
    "from common.utils import HDF5Dataset, DataCreator\n",
    "from experiments.models_cnn import CNN, ResNet, BasicBlock1d\n",
    "from experiments.models_fno import FNO1d\n",
    "from experiments.train_helper import *\n",
    "from equations.PDEs import PDE, KdV, KS, Heat\n",
    "from common.augmentation import Subalgebra\n",
    "from experiments.train import parse_options as lpsda_parse_options, main as lpsda_main\n",
    "\n",
    "\n",
    "\n",
    "import os, sys\n",
    "sys.path.append(os.path.join(os.getcwd(), '../sympde'))\n",
    "from data.dataset import PDEDataset, PDEDataModule\n",
    "from data.utils import d_to_LT\n",
    "\n",
    "from model.setup import setup_model\n",
    "from model.networks.fno import FNO1d\n",
    "from model.learner import Learner\n",
    "\n",
    "from viz.plot_pde_data import plot_1ds\n",
    "\n",
    "from run import parse_options, main\n",
    "\n",
    "from data.utils import d_to_coords\n",
    "from data.pde_data_aug import augment_pde1, augment_KdV\n",
    "from data.utils import load_obj, save_obj\n"
   ]
  },
  {
   "cell_type": "markdown",
   "metadata": {},
   "source": [
    "### LPSDA"
   ]
  },
  {
   "cell_type": "code",
   "execution_count": 68,
   "metadata": {},
   "outputs": [
    {
     "name": "stdout",
     "output_type": "stream",
     "text": [
      "dataloader shapes 1 1 1\n",
      "Training on dataset data/KdV_train_10_easy.h5\n",
      "models/FNO1d_KdV_samples10_augmentation0010_shiftfourier_future20_time11271445.pt\n",
      "Number of parameters: 10856084\n",
      "Epoch 0\n",
      "Starting epoch 0...\n",
      "test\n",
      "start time [20, 20, 20, 20, 20, 20, 20, 20, 20, 20, 20, 20, 20, 20, 20, 20]\n",
      "pf_steps 0\n"
     ]
    }
   ],
   "source": [
    "args_lpsda = lpsda_parse_options(notebook = True)\n",
    "args_lpsda.train_samples=10\n",
    "args_lpsda.suffix = 'easy'\n",
    "args_lpsda.device = 'cpu'\n",
    "args_lpsda.num_workers = 0\n",
    "args_lpsda.KdV_augmentation = [0, 0.0, 0.4, 0.0]\n",
    "# args_lpsda.KdV_augmentation = [0, 0.0, 0.0, 0.0]\n",
    "\n",
    "ret_lpsda = lpsda_main(args_lpsda)"
   ]
  },
  {
   "cell_type": "code",
   "execution_count": 69,
   "metadata": {},
   "outputs": [],
   "source": [
    "## CHECK!\n",
    "data_lpsda = ret_lpsda['train_dataset'][0]"
   ]
  },
  {
   "cell_type": "code",
   "execution_count": 70,
   "metadata": {},
   "outputs": [],
   "source": [
    "# batch_lpsda = next(iter(ret_lpsda['train_loader']))"
   ]
  },
  {
   "cell_type": "code",
   "execution_count": 71,
   "metadata": {},
   "outputs": [],
   "source": [
    "# lpsda_data = ret_lpsda['data']\n",
    "u_lpsda = ret_lpsda['data']"
   ]
  },
  {
   "cell_type": "markdown",
   "metadata": {},
   "source": [
    "### SymPDE"
   ]
  },
  {
   "cell_type": "code",
   "execution_count": 72,
   "metadata": {},
   "outputs": [
    {
     "name": "stderr",
     "output_type": "stream",
     "text": [
      "Seed set to 42\n"
     ]
    },
    {
     "name": "stdout",
     "output_type": "stream",
     "text": [
      "Augmenting KdV!\n",
      "Augmenting KdV!\n",
      "Not augmenting KdV!\n",
      "Not augmenting KdV!\n"
     ]
    }
   ],
   "source": [
    "args = parse_options(notebook=True)\n",
    "args.pde_name = 'KdV'\n",
    "args.seed = 42\n",
    "args.version = f'lpsda_merge'\n",
    "args.train = True\n",
    "args.log_dir = '../logs'\n",
    "args.data_dir = '../../data'\n",
    "args.batch_size = 10\n",
    "persistent_workers = False\n",
    "args.num_workers = 0\n",
    "args.generators = True\n",
    "\n",
    "ret = main(args)"
   ]
  },
  {
   "cell_type": "code",
   "execution_count": 73,
   "metadata": {},
   "outputs": [],
   "source": [
    "# (u, dx, dt) = ret['train_dataset'][0]\n",
    "# us = u.unsqueeze(0)\n",
    "# batch = (us, dx, dt)\n",
    "\n",
    "datamodule = ret['datamodule']\n",
    "batch = next(iter(datamodule.train_dataloader()))\n",
    "u = batch[0]"
   ]
  },
  {
   "cell_type": "code",
   "execution_count": 74,
   "metadata": {},
   "outputs": [],
   "source": [
    "# data, labels = ret['model'](batch)"
   ]
  },
  {
   "cell_type": "markdown",
   "metadata": {},
   "source": [
    "### Compare"
   ]
  },
  {
   "cell_type": "code",
   "execution_count": 75,
   "metadata": {},
   "outputs": [
    {
     "name": "stdout",
     "output_type": "stream",
     "text": [
      "### LPSDA ###\n"
     ]
    }
   ],
   "source": [
    "print('### LPSDA ###')\n",
    "batch_lpsda = next(iter(ret_lpsda['train_loader']));\n",
    "u_batch_lpsda = batch_lpsda[0]"
   ]
  },
  {
   "cell_type": "code",
   "execution_count": 76,
   "metadata": {},
   "outputs": [
    {
     "name": "stdout",
     "output_type": "stream",
     "text": [
      "### IMPLEMENTATION ###\n"
     ]
    }
   ],
   "source": [
    "print('### IMPLEMENTATION ###')\n",
    "batch = next(iter(datamodule.train_dataloader()));\n",
    "u_batch = batch[0] "
   ]
  },
  {
   "cell_type": "code",
   "execution_count": 77,
   "metadata": {},
   "outputs": [],
   "source": [
    "# print('### COMPARE ###')\n",
    "\n",
    "# u_new = torch.load('u_new.pt')\n",
    "# u_new_lpsda = torch.load('u_new_lpsda.pt')\n",
    "\n",
    "# a, b = u_new, u_new_lpsda\n",
    "# # a, b = a.float(), b.float()\n",
    "# print(a.shape, b.shape)\n",
    "# print(a.dtype, b.dtype)\n",
    "\n",
    "# print((a == b).all())\n",
    "# print(a == b)\n",
    "\n",
    "# plt.imshow(a - b)\n",
    "# plt.colorbar()\n",
    "# plt.show()\n",
    "\n",
    "# plt.imshow(a)\n",
    "# plt.show()\n",
    "# plt.imshow(b)\n",
    "# plt.show()"
   ]
  },
  {
   "cell_type": "code",
   "execution_count": 78,
   "metadata": {},
   "outputs": [],
   "source": [
    "# print('### COMPARE ###')\n",
    "\n",
    "# a, b = u_batch_lpsda, u_batch\n",
    "# print(a.shape, b.shape)\n",
    "# print(a.dtype, b.dtype)\n",
    "\n",
    "# print((a == b).all())\n",
    "# print(a == b)\n",
    "\n",
    "# i = -1\n",
    "# a, b = a[i], b[i]\n",
    "\n",
    "# plt.imshow((a - b))\n",
    "# plt.colorbar()\n",
    "# plt.show()\n",
    "\n",
    "\n",
    "# plt.imshow(a)\n",
    "# plt.show()\n",
    "\n",
    "# plt.imshow(b)\n",
    "# plt.show()"
   ]
  },
  {
   "cell_type": "markdown",
   "metadata": {},
   "source": [
    "### Check"
   ]
  },
  {
   "cell_type": "code",
   "execution_count": 79,
   "metadata": {},
   "outputs": [],
   "source": [
    "# # CHECK1\n",
    "# for i in range(3):\n",
    "#     r = ret['train_dataset']\n",
    "#     r_lpsda = ret_lpsda['train_dataset']\n",
    "#     print(r[0][i] == r_lpsda[0][i])\n"
   ]
  },
  {
   "cell_type": "code",
   "execution_count": 80,
   "metadata": {},
   "outputs": [
    {
     "name": "stdout",
     "output_type": "stream",
     "text": [
      "tensor(True)\n"
     ]
    },
    {
     "data": {
      "text/plain": [
       "tensor([[[True, True, True,  ..., True, True, True],\n",
       "         [True, True, True,  ..., True, True, True],\n",
       "         [True, True, True,  ..., True, True, True],\n",
       "         ...,\n",
       "         [True, True, True,  ..., True, True, True],\n",
       "         [True, True, True,  ..., True, True, True],\n",
       "         [True, True, True,  ..., True, True, True]],\n",
       "\n",
       "        [[True, True, True,  ..., True, True, True],\n",
       "         [True, True, True,  ..., True, True, True],\n",
       "         [True, True, True,  ..., True, True, True],\n",
       "         ...,\n",
       "         [True, True, True,  ..., True, True, True],\n",
       "         [True, True, True,  ..., True, True, True],\n",
       "         [True, True, True,  ..., True, True, True]],\n",
       "\n",
       "        [[True, True, True,  ..., True, True, True],\n",
       "         [True, True, True,  ..., True, True, True],\n",
       "         [True, True, True,  ..., True, True, True],\n",
       "         ...,\n",
       "         [True, True, True,  ..., True, True, True],\n",
       "         [True, True, True,  ..., True, True, True],\n",
       "         [True, True, True,  ..., True, True, True]],\n",
       "\n",
       "        ...,\n",
       "\n",
       "        [[True, True, True,  ..., True, True, True],\n",
       "         [True, True, True,  ..., True, True, True],\n",
       "         [True, True, True,  ..., True, True, True],\n",
       "         ...,\n",
       "         [True, True, True,  ..., True, True, True],\n",
       "         [True, True, True,  ..., True, True, True],\n",
       "         [True, True, True,  ..., True, True, True]],\n",
       "\n",
       "        [[True, True, True,  ..., True, True, True],\n",
       "         [True, True, True,  ..., True, True, True],\n",
       "         [True, True, True,  ..., True, True, True],\n",
       "         ...,\n",
       "         [True, True, True,  ..., True, True, True],\n",
       "         [True, True, True,  ..., True, True, True],\n",
       "         [True, True, True,  ..., True, True, True]],\n",
       "\n",
       "        [[True, True, True,  ..., True, True, True],\n",
       "         [True, True, True,  ..., True, True, True],\n",
       "         [True, True, True,  ..., True, True, True],\n",
       "         ...,\n",
       "         [True, True, True,  ..., True, True, True],\n",
       "         [True, True, True,  ..., True, True, True],\n",
       "         [True, True, True,  ..., True, True, True]]])"
      ]
     },
     "execution_count": 80,
     "metadata": {},
     "output_type": "execute_result"
    }
   ],
   "source": [
    "print((u == u_lpsda).all())\n",
    "u == u_lpsda"
   ]
  },
  {
   "cell_type": "markdown",
   "metadata": {},
   "source": [
    "## Change data"
   ]
  },
  {
   "cell_type": "code",
   "execution_count": 81,
   "metadata": {},
   "outputs": [],
   "source": [
    "# import h5py"
   ]
  },
  {
   "cell_type": "code",
   "execution_count": 82,
   "metadata": {},
   "outputs": [],
   "source": [
    "# for split in ['valid', 'test']:\n",
    "#     f = h5py.File(f'data/KdV_{split}_easy.h5', 'r')\n",
    "#     data = f[split]\n",
    "\n",
    "#     us, dxs, dts = [], [], []\n",
    "\n",
    "#     for idx in range(10):\n",
    "#         u = data['pde_140-256'][idx]\n",
    "#         x = data['x'][idx]\n",
    "#         t = data['t'][idx]\n",
    "\n",
    "#         dx = x[1] - x[0]\n",
    "#         dt = t[1] - t[0]\n",
    "\n",
    "#         us.append(u)\n",
    "#         dxs.append(dx)\n",
    "#         dts.append(dt)\n",
    "\n",
    "#     us = np.array(us)\n",
    "#     dxs = np.array(dxs)\n",
    "#     dts = np.array(dts)\n",
    "\n",
    "#     save_obj((us, dxs, dts), f'../../data/{split}/KdV')\n"
   ]
  }
 ],
 "metadata": {
  "kernelspec": {
   "display_name": "sympde",
   "language": "python",
   "name": "python3"
  },
  "language_info": {
   "codemirror_mode": {
    "name": "ipython",
    "version": 3
   },
   "file_extension": ".py",
   "mimetype": "text/x-python",
   "name": "python",
   "nbconvert_exporter": "python",
   "pygments_lexer": "ipython3",
   "version": "3.10.13"
  }
 },
 "nbformat": 4,
 "nbformat_minor": 2
}
