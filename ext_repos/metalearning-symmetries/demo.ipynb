{
 "cells": [
  {
   "cell_type": "code",
   "execution_count": 12,
   "metadata": {},
   "outputs": [
    {
     "name": "stdout",
     "output_type": "stream",
     "text": [
      "The autoreload extension is already loaded. To reload it, use:\n",
      "  %reload_ext autoreload\n"
     ]
    }
   ],
   "source": [
    "%load_ext autoreload\n",
    "%autoreload 2\n",
    "\n",
    "import argparse\n",
    "import os\n",
    "import time\n",
    "import scipy.stats as st\n",
    "import wandb\n",
    "import numpy as np\n",
    "import torch\n",
    "from torch import nn\n",
    "from torch import optim\n",
    "import torch.nn.functional as F\n",
    "import higher\n",
    "\n",
    "from tqdm import tqdm\n",
    "from matplotlib import pyplot as plt\n",
    "\n",
    "import layers\n",
    "from synthetic_loader import SyntheticLoader\n",
    "from inner_optimizers import InnerOptBuilder\n",
    "from train_synthetic import train"
   ]
  },
  {
   "cell_type": "code",
   "execution_count": 13,
   "metadata": {},
   "outputs": [
    {
     "data": {
      "text/html": [
       "wandb version 0.16.4 is available!  To upgrade, please run:\n",
       " $ pip install wandb --upgrade"
      ],
      "text/plain": [
       "<IPython.core.display.HTML object>"
      ]
     },
     "metadata": {},
     "output_type": "display_data"
    },
    {
     "data": {
      "text/html": [
       "Tracking run with wandb version 0.16.2"
      ],
      "text/plain": [
       "<IPython.core.display.HTML object>"
      ]
     },
     "metadata": {},
     "output_type": "display_data"
    },
    {
     "data": {
      "text/html": [
       "Run data is saved locally in <code>./outputs/synthetic_outputs/wandb/run-20240325_113538-tbbc5j4c</code>"
      ],
      "text/plain": [
       "<IPython.core.display.HTML object>"
      ]
     },
     "metadata": {},
     "output_type": "display_data"
    },
    {
     "data": {
      "text/html": [
       "Syncing run <strong><a href='https://wandb.ai/eliasdubbeldam/weight_sharing_toy/runs/tbbc5j4c' target=\"_blank\">denim-puddle-7</a></strong> to <a href='https://wandb.ai/eliasdubbeldam/weight_sharing_toy' target=\"_blank\">Weights & Biases</a> (<a href='https://wandb.me/run' target=\"_blank\">docs</a>)<br/>"
      ],
      "text/plain": [
       "<IPython.core.display.HTML object>"
      ]
     },
     "metadata": {},
     "output_type": "display_data"
    },
    {
     "data": {
      "text/html": [
       " View project at <a href='https://wandb.ai/eliasdubbeldam/weight_sharing_toy' target=\"_blank\">https://wandb.ai/eliasdubbeldam/weight_sharing_toy</a>"
      ],
      "text/plain": [
       "<IPython.core.display.HTML object>"
      ]
     },
     "metadata": {},
     "output_type": "display_data"
    },
    {
     "data": {
      "text/html": [
       " View run at <a href='https://wandb.ai/eliasdubbeldam/weight_sharing_toy/runs/tbbc5j4c' target=\"_blank\">https://wandb.ai/eliasdubbeldam/weight_sharing_toy/runs/tbbc5j4c</a>"
      ],
      "text/plain": [
       "<IPython.core.display.HTML object>"
      ]
     },
     "metadata": {},
     "output_type": "display_data"
    },
    {
     "data": {
      "text/html": [
       "<button onClick=\"this.nextSibling.style.display='block';this.style.display='none';\">Display W&B run</button><iframe src='https://wandb.ai/eliasdubbeldam/weight_sharing_toy/runs/tbbc5j4c?jupyter=true' style='border:none;width:100%;height:420px;display:none;'></iframe>"
      ],
      "text/plain": [
       "<wandb.sdk.wandb_run.Run at 0x2b8312c50>"
      ]
     },
     "execution_count": 13,
     "metadata": {},
     "output_type": "execute_result"
    }
   ],
   "source": [
    "OUTPUT_PATH = \"./outputs/synthetic_outputs\"\n",
    "\n",
    "if not os.path.exists(OUTPUT_PATH):\n",
    "        os.makedirs(OUTPUT_PATH)\n",
    "wandb.init(project=\"weight_sharing_toy\", dir=OUTPUT_PATH, mode='online')"
   ]
  },
  {
   "cell_type": "code",
   "execution_count": 14,
   "metadata": {},
   "outputs": [],
   "source": [
    "class Config:\n",
    "    def __init__(self, **kwargs):\n",
    "        self.__dict__.update(kwargs)\n",
    "\n",
    "cfg = Config(**dict(\n",
    "    device = 'cpu',\n",
    "    problem = 'rank1',\n",
    "    model = 'share_fc',\n",
    "    k_spt = 1,\n",
    "    k_qry = 19,\n",
    "    inner_opt = 'maml',\n",
    "    outer_opt = 'Adam',\n",
    "    init_inner_lr = 0.1,\n",
    "    lr_mode = 'per_layer',\n",
    "    outer_lr = 0.001,\n",
    "    num_inner_steps = 1,\n",
    "    num_outer_steps = 1000,\n",
    "))\n",
    "\n",
    "device = torch.device(cfg.device)\n",
    "db = SyntheticLoader(device, problem=cfg.problem, k_spt=cfg.k_spt, k_qry=cfg.k_qry)\n",
    "\n",
    "\n",
    "latent = {\"rank1\": 3, \"rank2\": 6, \"rank5\": 30}[cfg.problem]\n",
    "net = nn.Sequential(layers.ShareLinearFull(70, 68, bias=False, latent_size=latent)).to(device)\n",
    "\n",
    "inner_opt_builder = InnerOptBuilder(net, device, cfg.inner_opt, cfg.init_inner_lr, \"learned\", cfg.lr_mode)\n",
    "meta_opt = optim.Adam(inner_opt_builder.metaparams.values(), lr=cfg.outer_lr)"
   ]
  },
  {
   "cell_type": "code",
   "execution_count": 15,
   "metadata": {},
   "outputs": [
    {
     "data": {
      "text/plain": [
       "4760"
      ]
     },
     "execution_count": 15,
     "metadata": {},
     "output_type": "execute_result"
    }
   ],
   "source": [
    "70*68"
   ]
  },
  {
   "cell_type": "code",
   "execution_count": 16,
   "metadata": {},
   "outputs": [
    {
     "name": "stdout",
     "output_type": "stream",
     "text": [
      "0.latent_params torch.Size([3])\n",
      "0.warp torch.Size([4760, 3])\n"
     ]
    }
   ],
   "source": [
    "for name, l in net.named_parameters():\n",
    "    print(name, l.size())"
   ]
  },
  {
   "cell_type": "markdown",
   "metadata": {},
   "source": [
    "## Train loop"
   ]
  },
  {
   "cell_type": "code",
   "execution_count": 17,
   "metadata": {},
   "outputs": [],
   "source": [
    "data, _filters = db.next(32, \"train\")"
   ]
  },
  {
   "cell_type": "code",
   "execution_count": 18,
   "metadata": {},
   "outputs": [
    {
     "data": {
      "text/plain": [
       "(torch.Size([32, 1, 1, 70]),\n",
       " torch.Size([32, 1, 1, 68]),\n",
       " torch.Size([32, 19, 1, 70]),\n",
       " torch.Size([32, 19, 1, 68]))"
      ]
     },
     "execution_count": 18,
     "metadata": {},
     "output_type": "execute_result"
    }
   ],
   "source": [
    "x_spt, y_spt, x_qry, y_qry = data\n",
    "x_spt.shape, y_spt.shape, x_qry.shape, y_qry.shape"
   ]
  },
  {
   "cell_type": "code",
   "execution_count": 19,
   "metadata": {},
   "outputs": [
    {
     "name": "stderr",
     "output_type": "stream",
     "text": [
      "100%|██████████| 1000/1000 [00:14<00:00, 69.07it/s]\n"
     ]
    }
   ],
   "source": [
    "for step_idx in tqdm(range(cfg.num_outer_steps)):\n",
    "    data, _filters = db.next(32, \"train\")\n",
    "    train(step_idx, data, net, inner_opt_builder, meta_opt, cfg.num_inner_steps)"
   ]
  },
  {
   "cell_type": "code",
   "execution_count": 20,
   "metadata": {},
   "outputs": [
    {
     "data": {
      "text/plain": [
       "Sequential(\n",
       "  (0): ShareLinearFull()\n",
       ")"
      ]
     },
     "execution_count": 20,
     "metadata": {},
     "output_type": "execute_result"
    }
   ],
   "source": [
    "net.eval()"
   ]
  },
  {
   "cell_type": "code",
   "execution_count": 21,
   "metadata": {},
   "outputs": [
    {
     "data": {
      "text/plain": [
       "tensor(3.0194, grad_fn=<MseLossBackward0>)"
      ]
     },
     "execution_count": 21,
     "metadata": {},
     "output_type": "execute_result"
    }
   ],
   "source": [
    "i = 0\n",
    "spt_pred = net(x_spt[i])\n",
    "F.mse_loss(spt_pred, y_spt[i])\n"
   ]
  },
  {
   "cell_type": "code",
   "execution_count": 22,
   "metadata": {},
   "outputs": [
    {
     "data": {
      "text/plain": [
       "tensor(3.6468, grad_fn=<MseLossBackward0>)"
      ]
     },
     "execution_count": 22,
     "metadata": {},
     "output_type": "execute_result"
    }
   ],
   "source": [
    "qry_pred = net(x_qry[i])\n",
    "F.mse_loss(qry_pred, y_qry[i])"
   ]
  },
  {
   "cell_type": "code",
   "execution_count": 35,
   "metadata": {},
   "outputs": [
    {
     "name": "stdout",
     "output_type": "stream",
     "text": [
      "0.latent_params torch.Size([3])\n",
      "0.warp torch.Size([4760, 3])\n"
     ]
    }
   ],
   "source": [
    "params = dict(net.named_parameters())\n",
    "for name, param in params.items():\n",
    "    print(name, param.shape)"
   ]
  },
  {
   "cell_type": "code",
   "execution_count": 41,
   "metadata": {},
   "outputs": [
    {
     "data": {
      "text/plain": [
       "torch.Size([70, 68, 3])"
      ]
     },
     "execution_count": 41,
     "metadata": {},
     "output_type": "execute_result"
    }
   ],
   "source": [
    "U = params['0.warp'].data.reshape(70, 68, 3)\n",
    "U.shape"
   ]
  },
  {
   "cell_type": "code",
   "execution_count": 43,
   "metadata": {},
   "outputs": [
    {
     "data": {
      "image/png": "[encoded data removed]",
      "text/plain": [
       "<Figure size 640x480 with 1 Axes>"
      ]
     },
     "metadata": {},
     "output_type": "display_data"
    },
    {
     "data": {
      "image/png": "[encoded data removed]",
      "text/plain": [
       "<Figure size 640x480 with 1 Axes>"
      ]
     },
     "metadata": {},
     "output_type": "display_data"
    },
    {
     "data": {
      "image/png": "[encoded data removed]",
      "text/plain": [
       "<Figure size 640x480 with 1 Axes>"
      ]
     },
     "metadata": {},
     "output_type": "display_data"
    },
    {
     "name": "stderr",
     "output_type": "stream",
     "text": [
      "wandb: Network error (ConnectionError), entering retry loop.\n"
     ]
    }
   ],
   "source": [
    "for U_i in U.T:\n",
    "    plt.imshow(U_i)\n",
    "    plt.show()"
   ]
  }
 ],
 "metadata": {
  "kernelspec": {
   "display_name": "sympde",
   "language": "python",
   "name": "python3"
  },
  "language_info": {
   "codemirror_mode": {
    "name": "ipython",
    "version": 3
   },
   "file_extension": ".py",
   "mimetype": "text/x-python",
   "name": "python",
   "nbconvert_exporter": "python",
   "pygments_lexer": "ipython3",
   "version": "3.10.13"
  }
 },
 "nbformat": 4,
 "nbformat_minor": 2
}
