{
 "cells": [
  {
   "cell_type": "code",
   "execution_count": 1,
   "metadata": {
    "colab": {
     "base_uri": "https://localhost:8080/",
     "height": 34
    },
    "colab_type": "code",
    "id": "L6Q9A-AvgeCn",
    "outputId": "c2755a01-3585-4ab1-e378-a3eb70478363"
   },
   "outputs": [
    {
     "name": "stdout",
     "output_type": "stream",
     "text": [
      "Populating the interactive namespace from numpy and matplotlib\n"
     ]
    }
   ],
   "source": [
    "%pylab inline\n",
    "\n",
    "%config InlineBackend.figure_format = 'retina'"
   ]
  },
  {
   "cell_type": "code",
   "execution_count": 2,
   "metadata": {},
   "outputs": [],
   "source": [
    "import lconv\n",
    "import tensorflow as tf\n",
    "\n",
    "import os\n",
    "os.environ[\"CUDA_VISIBLE_DEVICES\"]=\"0\" \n",
    "\n",
    "sess = tf.compat.v1.InteractiveSession()\n",
    "# K = tf.keras.backend\n",
    "\n",
    "from tensorflow.keras import Model, Sequential\n",
    "from tensorflow.keras.layers import Layer, Input, Flatten, Reshape, Dense, Conv2D, MaxPool2D\n",
    "\n",
    "import pickle as pk\n",
    "import json\n",
    "# import numpy as np\n",
    "\n",
    "\n",
    "from scipy import ndimage\n"
   ]
  },
  {
   "cell_type": "code",
   "execution_count": 3,
   "metadata": {},
   "outputs": [],
   "source": [
    "\n",
    "def rotated_ims_rand(x):\n",
    "    return np.float32([ndimage.rotate(i, (np.random.rand()-.5)*180, reshape=False, mode='nearest') for i in x])\n",
    "        \n",
    "class Scramble_x:\n",
    "    def __init__(self,x):\n",
    "        s = x.shape[1:-1]\n",
    "        self.idx = np.argsort(np.random.rand(np.prod(s)))\n",
    "        r,c = np.int0(self.idx/s[0]), (self.idx % s[1]) \n",
    "        self.x = np.float32([i[r,c].reshape(s+(x.shape[-1],)) for i in x])\n",
    "\n"
   ]
  },
  {
   "cell_type": "code",
   "execution_count": 6,
   "metadata": {},
   "outputs": [],
   "source": [
    "\n",
    "# Defaults        \n",
    "configs= {\n",
    "    'dataset': dict(name= 'mnist',#'cifar100', #'mnist' ,#'mnist',cifar100, \n",
    "                    rotate=True, \n",
    "                    scramble=True,\n",
    "                   ),\n",
    "    'net': dict(architecture= 'lconv', # 'cnn', 'fc', \n",
    "                num_filters=16, \n",
    "                kernel_size=6, \n",
    "                L_hid= [8], #[16], \n",
    "                activation = 'relu',\n",
    "                L_trainable = True,\n",
    "                num_layers = 1,\n",
    "               ),\n",
    "}\n"
   ]
  },
  {
   "cell_type": "code",
   "execution_count": 7,
   "metadata": {},
   "outputs": [
    {
     "name": "stdout",
     "output_type": "stream",
     "text": [
      "Rotating images\n",
      "Scrambling images\n"
     ]
    }
   ],
   "source": [
    "\n",
    "dataset_name = configs['dataset']['name']\n",
    "\n",
    "dataset = eval(\"tf.keras.datasets.%s.load_data()\" %dataset_name) \n",
    "(x_train, y_train), (x_test,y_test) = dataset\n",
    "if len(x_train.shape) == 3:\n",
    "    # mnist channel is missing\n",
    "    x_train = x_train[...,np.newaxis]\n",
    "    \n",
    "# normalize\n",
    "x_train = x_train/x_train[:100].max() -.5 \n",
    "# make categorical\n",
    "y_train = tf.keras.utils.to_categorical(y_train)\n",
    "\n",
    "\n",
    "results = {'configs':configs,}\n",
    "\n",
    "if configs['dataset']['rotate']:\n",
    "    print('Rotating images')\n",
    "    x_train = rotated_ims_rand(x_train)\n",
    "    \n",
    "if configs['dataset']['scramble']:\n",
    "    print('Scrambling images')\n",
    "    scr = Scramble_x(x_train)\n",
    "    x_train = scr.x\n",
    "    results['scramble_idx']=scr.idx.tolist()\n",
    "\n",
    "##### Make model #####\n",
    "\n",
    "net = configs['net']\n",
    "# arch = net['architecture']\n"
   ]
  },
  {
   "cell_type": "markdown",
   "metadata": {},
   "source": [
    "# Matching number parameters: L-conv and CNN"
   ]
  },
  {
   "cell_type": "code",
   "execution_count": 45,
   "metadata": {},
   "outputs": [],
   "source": [
    "results_same_params = {}"
   ]
  },
  {
   "cell_type": "code",
   "execution_count": 125,
   "metadata": {},
   "outputs": [
    {
     "name": "stdout",
     "output_type": "stream",
     "text": [
      "Model: \"functional_53\"\n",
      "_________________________________________________________________\n",
      "Layer (type)                 Output Shape              Param #   \n",
      "=================================================================\n",
      "input_28 (InputLayer)        [(None, 28, 28, 1)]       0         \n",
      "_________________________________________________________________\n",
      "tf_op_layer_Reshape_10 (Tens [(None, 784, 1)]          0         \n",
      "_________________________________________________________________\n",
      "l__conv_10 (L_Conv)          (None, 784, 24)           47328     \n",
      "_________________________________________________________________\n",
      "flatten_26 (Flatten)         (None, 18816)             0         \n",
      "_________________________________________________________________\n",
      "dense_26 (Dense)             (None, 10)                188170    \n",
      "=================================================================\n",
      "Total params: 235,498\n",
      "Trainable params: 235,498\n",
      "Non-trainable params: 0\n",
      "_________________________________________________________________\n"
     ]
    }
   ],
   "source": [
    "net = configs['net']\n",
    "\n",
    "net['kernel_size'] = 6\n",
    "net['L_hid'] = [6]\n",
    "net['num_filters'] = 24\n",
    "\n",
    "inp = Input(x_train[0].shape)\n",
    "\n",
    "x = inp\n",
    "for _ in range(net['num_layers']):\n",
    "    x = tf.reshape(x, shape=(-1,np.prod(x.shape[1:-1]), x.shape[-1]))\n",
    "    lay = lconv.L_Conv(num_filters= net['num_filters'], \n",
    "                          kernel_size= net['kernel_size'], \n",
    "                          L_hid = net['L_hid'], \n",
    "                          activation = net['activation'],)\n",
    "\n",
    "    x = lay(x)\n",
    "    lay.L.trainable = net['L_trainable']\n",
    "\n",
    "\n",
    "x = Flatten()(x)\n",
    "\n",
    "# x = Dense(100, activation = 'relu')(x)\n",
    "\n",
    "out = Dense(y_train.shape[-1], activation='softmax')(x)\n",
    "\n",
    "model = Model(inputs = [inp], outputs = [out])\n",
    "model.compile(loss = tf.keras.losses.categorical_crossentropy, metrics = ['accuracy'])\n",
    "\n",
    "model.summary()\n",
    "\n",
    "model._model_name = 'L-conv-n_L%d-d_h%d-nf%d' %(net['kernel_size'],\n",
    "                                   net['L_hid'][0],net['num_filters'],)\n"
   ]
  },
  {
   "cell_type": "code",
   "execution_count": 101,
   "metadata": {},
   "outputs": [
    {
     "name": "stdout",
     "output_type": "stream",
     "text": [
      "Epoch 1/30\n",
      "1500/1500 [==============================] - 7s 5ms/step - loss: 0.7813 - accuracy: 0.7498 - val_loss: 0.4263 - val_accuracy: 0.8635\n",
      "Epoch 2/30\n",
      "1500/1500 [==============================] - 7s 4ms/step - loss: 0.3782 - accuracy: 0.8878 - val_loss: 0.2993 - val_accuracy: 0.9136\n",
      "Epoch 3/30\n",
      "1500/1500 [==============================] - 7s 4ms/step - loss: 0.2813 - accuracy: 0.9179 - val_loss: 0.2877 - val_accuracy: 0.9183\n",
      "Epoch 4/30\n",
      "1500/1500 [==============================] - 7s 4ms/step - loss: 0.2312 - accuracy: 0.9339 - val_loss: 0.2445 - val_accuracy: 0.9313\n",
      "Epoch 5/30\n",
      "1500/1500 [==============================] - 7s 4ms/step - loss: 0.2005 - accuracy: 0.9433 - val_loss: 0.2456 - val_accuracy: 0.9317\n",
      "Epoch 6/30\n",
      "1500/1500 [==============================] - 7s 4ms/step - loss: 0.1723 - accuracy: 0.9495 - val_loss: 0.2443 - val_accuracy: 0.9337\n",
      "Epoch 7/30\n",
      "1500/1500 [==============================] - 7s 5ms/step - loss: 0.1535 - accuracy: 0.9564 - val_loss: 0.2388 - val_accuracy: 0.9384\n",
      "Epoch 8/30\n",
      "1500/1500 [==============================] - 7s 5ms/step - loss: 0.1343 - accuracy: 0.9616 - val_loss: 0.2543 - val_accuracy: 0.9321\n",
      "Epoch 9/30\n",
      "1500/1500 [==============================] - 7s 5ms/step - loss: 0.1194 - accuracy: 0.9653 - val_loss: 0.2219 - val_accuracy: 0.9419\n",
      "Epoch 10/30\n",
      "1500/1500 [==============================] - 7s 5ms/step - loss: 0.1053 - accuracy: 0.9692 - val_loss: 0.2510 - val_accuracy: 0.9371\n",
      "Epoch 11/30\n",
      "1500/1500 [==============================] - 7s 5ms/step - loss: 0.0949 - accuracy: 0.9722 - val_loss: 0.2565 - val_accuracy: 0.9402\n",
      "Epoch 12/30\n",
      "1500/1500 [==============================] - 7s 5ms/step - loss: 0.0848 - accuracy: 0.9759 - val_loss: 0.2775 - val_accuracy: 0.9417\n",
      "Epoch 13/30\n",
      "1500/1500 [==============================] - 7s 5ms/step - loss: 0.0787 - accuracy: 0.9765 - val_loss: 0.3007 - val_accuracy: 0.9394\n",
      "Epoch 14/30\n",
      "1500/1500 [==============================] - 7s 5ms/step - loss: 0.0695 - accuracy: 0.9798 - val_loss: 0.3095 - val_accuracy: 0.9441\n",
      "Epoch 15/30\n",
      "1500/1500 [==============================] - 7s 5ms/step - loss: 0.0634 - accuracy: 0.9808 - val_loss: 0.2971 - val_accuracy: 0.9403\n",
      "Epoch 16/30\n",
      "1500/1500 [==============================] - 7s 5ms/step - loss: 0.0567 - accuracy: 0.9834 - val_loss: 0.3444 - val_accuracy: 0.9392\n",
      "Epoch 17/30\n",
      "1500/1500 [==============================] - 7s 5ms/step - loss: 0.0503 - accuracy: 0.9854 - val_loss: 0.3518 - val_accuracy: 0.9405\n",
      "Epoch 18/30\n",
      "1500/1500 [==============================] - 7s 5ms/step - loss: 0.0485 - accuracy: 0.9856 - val_loss: 0.3321 - val_accuracy: 0.9431\n",
      "Epoch 19/30\n",
      "1500/1500 [==============================] - 7s 5ms/step - loss: 0.0426 - accuracy: 0.9871 - val_loss: 0.4123 - val_accuracy: 0.9427\n",
      "Epoch 20/30\n",
      "1500/1500 [==============================] - 7s 5ms/step - loss: 0.0419 - accuracy: 0.9876 - val_loss: 0.4158 - val_accuracy: 0.9386\n",
      "Epoch 21/30\n",
      "1500/1500 [==============================] - 7s 5ms/step - loss: 0.0382 - accuracy: 0.9888 - val_loss: 0.4005 - val_accuracy: 0.9411\n",
      "Epoch 22/30\n",
      "1500/1500 [==============================] - 7s 5ms/step - loss: 0.0370 - accuracy: 0.9895 - val_loss: 0.4164 - val_accuracy: 0.9413\n",
      "Epoch 23/30\n",
      "1500/1500 [==============================] - 7s 4ms/step - loss: 0.0335 - accuracy: 0.9903 - val_loss: 0.5447 - val_accuracy: 0.9331\n",
      "Epoch 24/30\n",
      "1500/1500 [==============================] - 7s 5ms/step - loss: 0.0303 - accuracy: 0.9908 - val_loss: 0.4416 - val_accuracy: 0.9418\n",
      "Epoch 25/30\n",
      "1500/1500 [==============================] - 7s 4ms/step - loss: 0.0275 - accuracy: 0.9920 - val_loss: 0.4565 - val_accuracy: 0.9402\n",
      "Epoch 26/30\n",
      "1500/1500 [==============================] - 7s 4ms/step - loss: 0.0291 - accuracy: 0.9925 - val_loss: 0.4483 - val_accuracy: 0.9428\n",
      "Epoch 27/30\n",
      "1500/1500 [==============================] - 7s 4ms/step - loss: 0.0261 - accuracy: 0.9924 - val_loss: 0.5069 - val_accuracy: 0.9415\n",
      "Epoch 28/30\n",
      "1500/1500 [==============================] - 7s 5ms/step - loss: 0.0269 - accuracy: 0.9922 - val_loss: 0.5669 - val_accuracy: 0.9394\n",
      "Epoch 29/30\n",
      "1500/1500 [==============================] - 7s 5ms/step - loss: 0.0235 - accuracy: 0.9936 - val_loss: 0.6285 - val_accuracy: 0.9388\n",
      "Epoch 30/30\n",
      "1500/1500 [==============================] - 7s 5ms/step - loss: 0.0253 - accuracy: 0.9929 - val_loss: 0.4973 - val_accuracy: 0.9411\n"
     ]
    }
   ],
   "source": [
    "h = model.fit(x_train, y_train, validation_split=0.2, epochs=30)"
   ]
  },
  {
   "cell_type": "code",
   "execution_count": 102,
   "metadata": {},
   "outputs": [
    {
     "data": {
      "image/png": "[encoded data removed]",
      "text/plain": [
       "<Figure size 432x288 with 1 Axes>"
      ]
     },
     "metadata": {
      "image/png": {
       "height": 248,
       "width": 380
      },
      "needs_background": "light"
     },
     "output_type": "display_data"
    }
   ],
   "source": [
    "for k in ['accuracy', 'val_accuracy']:\n",
    "    plot(h.history[k], )"
   ]
  },
  {
   "cell_type": "code",
   "execution_count": 103,
   "metadata": {},
   "outputs": [],
   "source": [
    "\n",
    "results_same_params.update({model._model_name: {'params' :model.count_params(), \n",
    "                                                      'acc':max(h.history['val_accuracy']) }})\n"
   ]
  },
  {
   "cell_type": "code",
   "execution_count": 104,
   "metadata": {},
   "outputs": [
    {
     "data": {
      "text/plain": [
       "{'L-conv-n_L6-d_h8-nf16': {'params': 188362, 'acc': 0.9445000290870667},\n",
       " 'CNN-ker(2, 3)-nf32': {'params': 224874, 'acc': 0.9046666622161865},\n",
       " 'CNN-ker(3, 3)-nf32': {'params': 216650, 'acc': 0.9159166812896729},\n",
       " 'CNN-ker(4, 4)-nf32': {'params': 200554, 'acc': 0.922249972820282},\n",
       " 'L-conv-n_L8-d_h6-nf16': {'params': 191562, 'acc': 0.9440833330154419}}"
      ]
     },
     "execution_count": 104,
     "metadata": {},
     "output_type": "execute_result"
    }
   ],
   "source": [
    "results_same_params"
   ]
  },
  {
   "cell_type": "markdown",
   "metadata": {},
   "source": [
    "## CNN with similar parameters\n",
    "We may increase either the number of filters or the kernel-size to math parameters"
   ]
  },
  {
   "cell_type": "markdown",
   "metadata": {},
   "source": [
    "### more filters"
   ]
  },
  {
   "cell_type": "code",
   "execution_count": 52,
   "metadata": {},
   "outputs": [
    {
     "name": "stdout",
     "output_type": "stream",
     "text": [
      "Model: \"functional_15\"\n",
      "_________________________________________________________________\n",
      "Layer (type)                 Output Shape              Param #   \n",
      "=================================================================\n",
      "input_8 (InputLayer)         [(None, 28, 28, 1)]       0         \n",
      "_________________________________________________________________\n",
      "conv2d_3 (Conv2D)            (None, 27, 26, 32)        224       \n",
      "_________________________________________________________________\n",
      "flatten_7 (Flatten)          (None, 22464)             0         \n",
      "_________________________________________________________________\n",
      "dense_7 (Dense)              (None, 10)                224650    \n",
      "=================================================================\n",
      "Total params: 224,874\n",
      "Trainable params: 224,874\n",
      "Non-trainable params: 0\n",
      "_________________________________________________________________\n"
     ]
    }
   ],
   "source": [
    "net = configs['net']\n",
    "\n",
    "kx = int(0.5+np.sqrt(net['kernel_size']))\n",
    "ky = int(0.5+net['kernel_size']/kx)\n",
    "kernel_size = (kx,ky)\n",
    "\n",
    "nf = 32\n",
    "\n",
    "inp = Input(x_train[0].shape)\n",
    "\n",
    "x = inp\n",
    "for _ in range(net['num_layers']):\n",
    "    x = Conv2D(filters=nf, \n",
    "                 kernel_size=kernel_size, \n",
    "                 activation = net['activation'])(x)\n",
    "\n",
    "    #x = MaxPool2D(pool_size=(2, 2),strides=(1, 1), padding='valid')(x)\n",
    "\n",
    "\n",
    "x = Flatten()(x)\n",
    "\n",
    "# x = Dense(100, activation = 'relu')(x)\n",
    "\n",
    "out = Dense(y_train.shape[-1], activation='softmax')(x)\n",
    "\n",
    "model = Model(inputs = [inp], outputs = [out])\n",
    "model.compile(loss = tf.keras.losses.categorical_crossentropy, metrics = ['accuracy'])\n",
    "\n",
    "model.summary()\n",
    "\n",
    "model._model_name = 'CNN-ker%s-nf%d' %(kernel_size,nf,)\n"
   ]
  },
  {
   "cell_type": "code",
   "execution_count": 53,
   "metadata": {},
   "outputs": [
    {
     "name": "stdout",
     "output_type": "stream",
     "text": [
      "Epoch 1/30\n",
      "1500/1500 [==============================] - 6s 4ms/step - loss: 0.7701 - accuracy: 0.7611 - val_loss: 0.5283 - val_accuracy: 0.8453\n",
      "Epoch 2/30\n",
      "1500/1500 [==============================] - 6s 4ms/step - loss: 0.4742 - accuracy: 0.8617 - val_loss: 0.4343 - val_accuracy: 0.8733\n",
      "Epoch 3/30\n",
      "1500/1500 [==============================] - 6s 4ms/step - loss: 0.3895 - accuracy: 0.8865 - val_loss: 0.3921 - val_accuracy: 0.8889\n",
      "Epoch 4/30\n",
      "1500/1500 [==============================] - 6s 4ms/step - loss: 0.3427 - accuracy: 0.8984 - val_loss: 0.3802 - val_accuracy: 0.8891\n",
      "Epoch 5/30\n",
      "1500/1500 [==============================] - 6s 4ms/step - loss: 0.3085 - accuracy: 0.9104 - val_loss: 0.3653 - val_accuracy: 0.8968\n",
      "Epoch 6/30\n",
      "1500/1500 [==============================] - 6s 4ms/step - loss: 0.2847 - accuracy: 0.9181 - val_loss: 0.3785 - val_accuracy: 0.8896\n",
      "Epoch 7/30\n",
      "1500/1500 [==============================] - 6s 4ms/step - loss: 0.2637 - accuracy: 0.9247 - val_loss: 0.3480 - val_accuracy: 0.9033\n",
      "Epoch 8/30\n",
      "1500/1500 [==============================] - 6s 4ms/step - loss: 0.2460 - accuracy: 0.9285 - val_loss: 0.3491 - val_accuracy: 0.9019\n",
      "Epoch 9/30\n",
      "1500/1500 [==============================] - 6s 4ms/step - loss: 0.2332 - accuracy: 0.9341 - val_loss: 0.3526 - val_accuracy: 0.9003\n",
      "Epoch 10/30\n",
      "1500/1500 [==============================] - 6s 4ms/step - loss: 0.2181 - accuracy: 0.9379 - val_loss: 0.3509 - val_accuracy: 0.9037\n",
      "Epoch 11/30\n",
      "1500/1500 [==============================] - 6s 4ms/step - loss: 0.2078 - accuracy: 0.9408 - val_loss: 0.3567 - val_accuracy: 0.9041\n",
      "Epoch 12/30\n",
      "1500/1500 [==============================] - 6s 4ms/step - loss: 0.1981 - accuracy: 0.9437 - val_loss: 0.3611 - val_accuracy: 0.9047\n",
      "Epoch 13/30\n",
      "1500/1500 [==============================] - 6s 4ms/step - loss: 0.1879 - accuracy: 0.9470 - val_loss: 0.3608 - val_accuracy: 0.9013\n",
      "Epoch 14/30\n",
      "1500/1500 [==============================] - 6s 4ms/step - loss: 0.1790 - accuracy: 0.9489 - val_loss: 0.3667 - val_accuracy: 0.9028\n",
      "Epoch 15/30\n",
      "1500/1500 [==============================] - 6s 4ms/step - loss: 0.1716 - accuracy: 0.9522 - val_loss: 0.3650 - val_accuracy: 0.9033\n",
      "Epoch 16/30\n",
      "1500/1500 [==============================] - 6s 4ms/step - loss: 0.1640 - accuracy: 0.9538 - val_loss: 0.3733 - val_accuracy: 0.9013\n",
      "Epoch 17/30\n",
      "1500/1500 [==============================] - 6s 4ms/step - loss: 0.1570 - accuracy: 0.9560 - val_loss: 0.3633 - val_accuracy: 0.9045\n",
      "Epoch 18/30\n",
      "1500/1500 [==============================] - 6s 4ms/step - loss: 0.1507 - accuracy: 0.9578 - val_loss: 0.3903 - val_accuracy: 0.9016\n",
      "Epoch 19/30\n",
      "1500/1500 [==============================] - 6s 4ms/step - loss: 0.1447 - accuracy: 0.9600 - val_loss: 0.3853 - val_accuracy: 0.9025\n",
      "Epoch 20/30\n",
      "1500/1500 [==============================] - 6s 4ms/step - loss: 0.1392 - accuracy: 0.9613 - val_loss: 0.4063 - val_accuracy: 0.9001\n",
      "Epoch 21/30\n",
      "1500/1500 [==============================] - 6s 4ms/step - loss: 0.1352 - accuracy: 0.9625 - val_loss: 0.3982 - val_accuracy: 0.9022\n",
      "Epoch 22/30\n",
      "1500/1500 [==============================] - 6s 4ms/step - loss: 0.1290 - accuracy: 0.9645 - val_loss: 0.3954 - val_accuracy: 0.9003\n",
      "Epoch 23/30\n",
      "1500/1500 [==============================] - 6s 4ms/step - loss: 0.1230 - accuracy: 0.9650 - val_loss: 0.4105 - val_accuracy: 0.9029\n",
      "Epoch 24/30\n",
      "1500/1500 [==============================] - 6s 4ms/step - loss: 0.1191 - accuracy: 0.9671 - val_loss: 0.4295 - val_accuracy: 0.8963\n",
      "Epoch 25/30\n",
      "1500/1500 [==============================] - 6s 4ms/step - loss: 0.1134 - accuracy: 0.9692 - val_loss: 0.4156 - val_accuracy: 0.9001\n",
      "Epoch 26/30\n",
      "1500/1500 [==============================] - 6s 4ms/step - loss: 0.1096 - accuracy: 0.9700 - val_loss: 0.4468 - val_accuracy: 0.8936\n",
      "Epoch 27/30\n",
      "1500/1500 [==============================] - 6s 4ms/step - loss: 0.1070 - accuracy: 0.9710 - val_loss: 0.4570 - val_accuracy: 0.8947\n",
      "Epoch 28/30\n",
      "1500/1500 [==============================] - 6s 4ms/step - loss: 0.1025 - accuracy: 0.9722 - val_loss: 0.4432 - val_accuracy: 0.8969\n",
      "Epoch 29/30\n",
      "1500/1500 [==============================] - 6s 4ms/step - loss: 0.0985 - accuracy: 0.9732 - val_loss: 0.4498 - val_accuracy: 0.8965\n",
      "Epoch 30/30\n",
      "1500/1500 [==============================] - 6s 4ms/step - loss: 0.0961 - accuracy: 0.9741 - val_loss: 0.4511 - val_accuracy: 0.8947\n"
     ]
    }
   ],
   "source": [
    "h = model.fit(x_train, y_train, validation_split=0.2, epochs=30)"
   ]
  },
  {
   "cell_type": "code",
   "execution_count": 54,
   "metadata": {},
   "outputs": [],
   "source": [
    "\n",
    "results_same_params.update({model._model_name: {'params' :model.count_params(), \n",
    "                                                      'acc':max(h.history['val_accuracy']) }})\n"
   ]
  },
  {
   "cell_type": "markdown",
   "metadata": {},
   "source": [
    "### larger kernel"
   ]
  },
  {
   "cell_type": "code",
   "execution_count": 130,
   "metadata": {},
   "outputs": [
    {
     "name": "stdout",
     "output_type": "stream",
     "text": [
      "Model: \"functional_61\"\n",
      "_________________________________________________________________\n",
      "Layer (type)                 Output Shape              Param #   \n",
      "=================================================================\n",
      "input_32 (InputLayer)        [(None, 28, 28, 1)]       0         \n",
      "_________________________________________________________________\n",
      "conv2d_20 (Conv2D)           (None, 27, 27, 24)        120       \n",
      "_________________________________________________________________\n",
      "flatten_30 (Flatten)         (None, 17496)             0         \n",
      "_________________________________________________________________\n",
      "dense_30 (Dense)             (None, 10)                174970    \n",
      "=================================================================\n",
      "Total params: 175,090\n",
      "Trainable params: 175,090\n",
      "Non-trainable params: 0\n",
      "_________________________________________________________________\n"
     ]
    }
   ],
   "source": [
    "net = configs['net']\n",
    "\n",
    "kernel_size = (2,2)\n",
    "\n",
    "nf = 24\n",
    "\n",
    "inp = Input(x_train[0].shape)\n",
    "\n",
    "x = inp\n",
    "for _ in range(net['num_layers']):\n",
    "    x = Conv2D(filters=nf, \n",
    "                 kernel_size=kernel_size, \n",
    "                 activation = net['activation'])(x)\n",
    "\n",
    "    #x = MaxPool2D(pool_size=(2, 2),strides=(1, 1), padding='valid')(x)\n",
    "\n",
    "\n",
    "x = Flatten()(x)\n",
    "\n",
    "# x = Dense(100, activation = 'relu')(x)\n",
    "\n",
    "out = Dense(y_train.shape[-1], activation='softmax')(x)\n",
    "\n",
    "model = Model(inputs = [inp], outputs = [out])\n",
    "model.compile(loss = tf.keras.losses.categorical_crossentropy, metrics = ['accuracy'])\n",
    "\n",
    "model.summary()\n",
    "\n",
    "model._model_name = 'CNN-ker%s-nf%d' %(kernel_size,nf,)\n"
   ]
  },
  {
   "cell_type": "code",
   "execution_count": 131,
   "metadata": {},
   "outputs": [
    {
     "name": "stdout",
     "output_type": "stream",
     "text": [
      "Epoch 1/30\n",
      "1500/1500 [==============================] - 6s 4ms/step - loss: 0.8166 - accuracy: 0.7431 - val_loss: 0.5618 - val_accuracy: 0.8315\n",
      "Epoch 2/30\n",
      "1500/1500 [==============================] - 6s 4ms/step - loss: 0.5268 - accuracy: 0.8440 - val_loss: 0.4743 - val_accuracy: 0.8609\n",
      "Epoch 3/30\n",
      "1500/1500 [==============================] - 6s 4ms/step - loss: 0.4427 - accuracy: 0.8704 - val_loss: 0.4295 - val_accuracy: 0.8739\n",
      "Epoch 4/30\n",
      "1500/1500 [==============================] - 6s 4ms/step - loss: 0.3987 - accuracy: 0.8836 - val_loss: 0.4113 - val_accuracy: 0.8802\n",
      "Epoch 5/30\n",
      "1500/1500 [==============================] - 6s 4ms/step - loss: 0.3678 - accuracy: 0.8927 - val_loss: 0.4090 - val_accuracy: 0.8814\n",
      "Epoch 6/30\n",
      "1500/1500 [==============================] - 6s 4ms/step - loss: 0.3444 - accuracy: 0.9010 - val_loss: 0.3960 - val_accuracy: 0.8873\n",
      "Epoch 7/30\n",
      "1500/1500 [==============================] - 6s 4ms/step - loss: 0.3263 - accuracy: 0.9049 - val_loss: 0.3876 - val_accuracy: 0.8882\n",
      "Epoch 8/30\n",
      "1500/1500 [==============================] - 6s 4ms/step - loss: 0.3106 - accuracy: 0.9106 - val_loss: 0.3861 - val_accuracy: 0.8882\n",
      "Epoch 9/30\n",
      "1500/1500 [==============================] - 6s 4ms/step - loss: 0.2975 - accuracy: 0.9127 - val_loss: 0.3867 - val_accuracy: 0.8917\n",
      "Epoch 10/30\n",
      "1500/1500 [==============================] - 6s 4ms/step - loss: 0.2857 - accuracy: 0.9177 - val_loss: 0.3848 - val_accuracy: 0.8905\n",
      "Epoch 11/30\n",
      "1500/1500 [==============================] - 6s 4ms/step - loss: 0.2755 - accuracy: 0.9211 - val_loss: 0.3865 - val_accuracy: 0.8900\n",
      "Epoch 12/30\n",
      "1500/1500 [==============================] - 6s 4ms/step - loss: 0.2648 - accuracy: 0.9241 - val_loss: 0.3847 - val_accuracy: 0.8914\n",
      "Epoch 13/30\n",
      "1500/1500 [==============================] - 6s 4ms/step - loss: 0.2574 - accuracy: 0.9259 - val_loss: 0.3881 - val_accuracy: 0.8896\n",
      "Epoch 14/30\n",
      "1500/1500 [==============================] - 6s 4ms/step - loss: 0.2492 - accuracy: 0.9283 - val_loss: 0.3854 - val_accuracy: 0.8921\n",
      "Epoch 15/30\n",
      "1500/1500 [==============================] - 6s 4ms/step - loss: 0.2415 - accuracy: 0.9299 - val_loss: 0.3883 - val_accuracy: 0.8914\n",
      "Epoch 16/30\n",
      "1500/1500 [==============================] - 6s 4ms/step - loss: 0.2357 - accuracy: 0.9321 - val_loss: 0.3895 - val_accuracy: 0.8910\n",
      "Epoch 17/30\n",
      "1500/1500 [==============================] - 6s 4ms/step - loss: 0.2281 - accuracy: 0.9346 - val_loss: 0.3887 - val_accuracy: 0.8926\n",
      "Epoch 18/30\n",
      "1500/1500 [==============================] - 6s 4ms/step - loss: 0.2224 - accuracy: 0.9357 - val_loss: 0.3989 - val_accuracy: 0.8897\n",
      "Epoch 19/30\n",
      "1500/1500 [==============================] - 6s 4ms/step - loss: 0.2174 - accuracy: 0.9375 - val_loss: 0.4117 - val_accuracy: 0.8891\n",
      "Epoch 20/30\n",
      "1500/1500 [==============================] - 6s 4ms/step - loss: 0.2129 - accuracy: 0.9382 - val_loss: 0.4012 - val_accuracy: 0.8929\n",
      "Epoch 21/30\n",
      "1500/1500 [==============================] - 6s 4ms/step - loss: 0.2085 - accuracy: 0.9398 - val_loss: 0.4019 - val_accuracy: 0.8904\n",
      "Epoch 22/30\n",
      "1500/1500 [==============================] - 6s 4ms/step - loss: 0.2031 - accuracy: 0.9406 - val_loss: 0.4081 - val_accuracy: 0.8902\n",
      "Epoch 23/30\n",
      "1500/1500 [==============================] - 6s 4ms/step - loss: 0.1973 - accuracy: 0.9433 - val_loss: 0.4072 - val_accuracy: 0.8907\n",
      "Epoch 24/30\n",
      "1500/1500 [==============================] - 6s 4ms/step - loss: 0.1949 - accuracy: 0.9433 - val_loss: 0.4224 - val_accuracy: 0.8881\n",
      "Epoch 25/30\n",
      "1500/1500 [==============================] - 6s 4ms/step - loss: 0.1913 - accuracy: 0.9447 - val_loss: 0.4190 - val_accuracy: 0.8898\n",
      "Epoch 26/30\n",
      "1500/1500 [==============================] - 6s 4ms/step - loss: 0.1864 - accuracy: 0.9465 - val_loss: 0.4230 - val_accuracy: 0.8866\n",
      "Epoch 27/30\n",
      "1500/1500 [==============================] - 6s 4ms/step - loss: 0.1820 - accuracy: 0.9480 - val_loss: 0.4272 - val_accuracy: 0.8894\n",
      "Epoch 28/30\n",
      "1500/1500 [==============================] - 6s 4ms/step - loss: 0.1796 - accuracy: 0.9495 - val_loss: 0.4210 - val_accuracy: 0.8860\n",
      "Epoch 29/30\n",
      "1500/1500 [==============================] - 6s 4ms/step - loss: 0.1751 - accuracy: 0.9501 - val_loss: 0.4324 - val_accuracy: 0.8879\n",
      "Epoch 30/30\n",
      "1500/1500 [==============================] - 6s 4ms/step - loss: 0.1718 - accuracy: 0.9506 - val_loss: 0.4259 - val_accuracy: 0.8882\n"
     ]
    }
   ],
   "source": [
    "h = model.fit(x_train, y_train, validation_split=0.2, epochs=30)"
   ]
  },
  {
   "cell_type": "code",
   "execution_count": 132,
   "metadata": {},
   "outputs": [],
   "source": [
    "\n",
    "results_same_params.update({model._model_name: {'params' :model.count_params(), \n",
    "                                                      'acc':max(h.history['val_accuracy']) }})\n"
   ]
  },
  {
   "cell_type": "code",
   "execution_count": 133,
   "metadata": {},
   "outputs": [
    {
     "data": {
      "text/plain": [
       "{'L-conv-n_L6-d_h8-nf16': {'params': 188362, 'acc': 0.9445000290870667},\n",
       " 'CNN-ker(2, 3)-nf32': {'params': 224874, 'acc': 0.9046666622161865},\n",
       " 'CNN-ker(3, 3)-nf32': {'params': 216650, 'acc': 0.9159166812896729},\n",
       " 'CNN-ker(4, 4)-nf32': {'params': 200554, 'acc': 0.922249972820282},\n",
       " 'L-conv-n_L8-d_h6-nf16': {'params': 191562, 'acc': 0.9440833330154419},\n",
       " 'CNN-ker(5, 5)-nf32': {'params': 185162, 'acc': 0.9259166717529297},\n",
       " 'CNN-ker(2, 2)-nf24': {'params': 175090, 'acc': 0.8929166793823242}}"
      ]
     },
     "execution_count": 133,
     "metadata": {},
     "output_type": "execute_result"
    }
   ],
   "source": [
    "results_same_params"
   ]
  },
  {
   "cell_type": "code",
   "execution_count": null,
   "metadata": {},
   "outputs": [],
   "source": []
  },
  {
   "cell_type": "code",
   "execution_count": 136,
   "metadata": {},
   "outputs": [
    {
     "data": {
      "image/png": "[encoded data removed]",
      "text/plain": [
       "<Figure size 720x504 with 1 Axes>"
      ]
     },
     "metadata": {
      "image/png": {
       "height": 493,
       "width": 711
      },
      "needs_background": "light"
     },
     "output_type": "display_data"
    }
   ],
   "source": [
    "figure(figsize=(10,7))\n",
    "col = dict(zip(['L','C'], mpl.colors.TABLEAU_COLORS))\n",
    "for k,v in results_same_params.items():\n",
    "    a = 0.003\n",
    "    if 'n_L8' in k: \n",
    "        a = -0.004\n",
    "        #continue\n",
    "    x = v['params']\n",
    "    y = v['acc']\n",
    "    plot([x], [y], marker='o', ms = 10, c=col[k[:1]])\n",
    "    text(x, y+a, k, ha='center', size = 12)\n",
    "    \n",
    "xlim(1.7e5, 2.4e5)\n",
    "\n",
    "ylim(0.89, 0.96)\n",
    "ylabel('Test Accuracy',size = 14)\n",
    "\n",
    "xlabel('# parameters',size = 14)\n",
    "title('L-conv vs CNN matching parameters\\nRot. Scrambled %s'%(dataset_name), size = 14)\n",
    "xt = xticks()[0]\n",
    "xticks(xt, [r'$%.1f\\times10^5$'%(i/1e5) for i in xt],rotation=30);\n",
    "\n",
    "tight_layout()\n",
    "# grid()\n",
    "\n",
    "savefig('figs/L-conv-CNN-match-%d.pdf'%(len(results_same_params)))\n",
    "savefig('figs/L-conv-CNN-match-%d.png'%(len(results_same_params)))"
   ]
  },
  {
   "cell_type": "markdown",
   "metadata": {},
   "source": [
    "# Shallow FC with parameters matching the L-conv model "
   ]
  },
  {
   "cell_type": "markdown",
   "metadata": {},
   "source": [
    "The parameters \n",
    "xs * u + u* 10"
   ]
  },
  {
   "cell_type": "code",
   "execution_count": 8,
   "metadata": {},
   "outputs": [
    {
     "data": {
      "text/plain": [
       "1075"
      ]
     },
     "execution_count": 8,
     "metadata": {},
     "output_type": "execute_result"
    }
   ],
   "source": [
    "xs = np.prod(inp.shape[1:])\n",
    "# u = int(0.5+ lay.count_params()/ xs)\n",
    "u = int(.5+ model.count_params() / (model.output_shape[-1] + xs ))\n",
    "u"
   ]
  },
  {
   "cell_type": "code",
   "execution_count": 9,
   "metadata": {},
   "outputs": [
    {
     "name": "stdout",
     "output_type": "stream",
     "text": [
      "Model: \"functional_3\"\n",
      "_________________________________________________________________\n",
      "Layer (type)                 Output Shape              Param #   \n",
      "=================================================================\n",
      "input_2 (InputLayer)         [(None, 32, 32, 3)]       0         \n",
      "_________________________________________________________________\n",
      "flatten_1 (Flatten)          (None, 3072)              0         \n",
      "_________________________________________________________________\n",
      "dense_1 (Dense)              (None, 1075)              3303475   \n",
      "_________________________________________________________________\n",
      "dense_2 (Dense)              (None, 100)               107600    \n",
      "=================================================================\n",
      "Total params: 3,411,075\n",
      "Trainable params: 3,411,075\n",
      "Non-trainable params: 0\n",
      "_________________________________________________________________\n"
     ]
    }
   ],
   "source": [
    "net = configs['net']\n",
    "\n",
    "inp = Input(x_train[0].shape)\n",
    "\n",
    "x = inp\n",
    "\n",
    "x = Flatten()(inp)\n",
    "# FC comparable to L-conv, but no shared weights \n",
    "x = Dense(u, activation = net['activation'])(x)\n",
    "\n",
    "out = Dense(y_train.shape[-1], activation='softmax')(x)\n",
    "\n",
    "model = Model(inputs = [inp], outputs = [out])\n",
    "model.compile(loss = tf.keras.losses.categorical_crossentropy, metrics = ['accuracy'])\n",
    "\n",
    "model.summary()\n",
    "\n"
   ]
  },
  {
   "cell_type": "code",
   "execution_count": 10,
   "metadata": {},
   "outputs": [
    {
     "name": "stdout",
     "output_type": "stream",
     "text": [
      "Epoch 1/30\n",
      "1250/1250 [==============================] - 5s 4ms/step - loss: 4.3505 - accuracy: 0.1206 - val_loss: 4.1713 - val_accuracy: 0.1420\n",
      "Epoch 2/30\n",
      "1250/1250 [==============================] - 5s 4ms/step - loss: 3.9070 - accuracy: 0.1848 - val_loss: 4.2039 - val_accuracy: 0.1650\n",
      "Epoch 3/30\n",
      "1250/1250 [==============================] - 5s 4ms/step - loss: 3.7058 - accuracy: 0.2255 - val_loss: 4.1117 - val_accuracy: 0.1878\n",
      "Epoch 4/30\n",
      "1250/1250 [==============================] - 5s 4ms/step - loss: 3.5451 - accuracy: 0.2544 - val_loss: 4.8140 - val_accuracy: 0.1781\n",
      "Epoch 5/30\n",
      "1250/1250 [==============================] - 5s 4ms/step - loss: 3.3958 - accuracy: 0.2869 - val_loss: 4.3992 - val_accuracy: 0.1821\n",
      "Epoch 6/30\n",
      "1250/1250 [==============================] - 5s 4ms/step - loss: 3.2576 - accuracy: 0.3169 - val_loss: 4.5950 - val_accuracy: 0.1988\n",
      "Epoch 7/30\n",
      "1250/1250 [==============================] - 5s 4ms/step - loss: 3.1092 - accuracy: 0.3451 - val_loss: 4.9388 - val_accuracy: 0.1893\n",
      "Epoch 8/30\n",
      "1250/1250 [==============================] - 5s 4ms/step - loss: 2.9819 - accuracy: 0.3800 - val_loss: 5.1262 - val_accuracy: 0.1933\n",
      "Epoch 9/30\n",
      "1250/1250 [==============================] - 5s 4ms/step - loss: 2.8600 - accuracy: 0.4033 - val_loss: 5.4323 - val_accuracy: 0.1927\n",
      "Epoch 10/30\n",
      "1250/1250 [==============================] - 5s 4ms/step - loss: 2.7234 - accuracy: 0.4313 - val_loss: 5.6304 - val_accuracy: 0.1902\n",
      "Epoch 11/30\n",
      "1250/1250 [==============================] - 5s 4ms/step - loss: 2.6202 - accuracy: 0.4598 - val_loss: 5.6795 - val_accuracy: 0.2021\n",
      "Epoch 12/30\n",
      "1250/1250 [==============================] - 5s 4ms/step - loss: 2.4936 - accuracy: 0.4812 - val_loss: 6.2062 - val_accuracy: 0.1952\n",
      "Epoch 13/30\n",
      "1250/1250 [==============================] - 5s 4ms/step - loss: 2.3621 - accuracy: 0.5110 - val_loss: 6.3498 - val_accuracy: 0.2006\n",
      "Epoch 14/30\n",
      "1250/1250 [==============================] - 5s 4ms/step - loss: 2.2828 - accuracy: 0.5314 - val_loss: 6.8185 - val_accuracy: 0.2076\n",
      "Epoch 15/30\n",
      "1250/1250 [==============================] - 5s 4ms/step - loss: 2.1961 - accuracy: 0.5562 - val_loss: 6.9912 - val_accuracy: 0.1992\n",
      "Epoch 16/30\n",
      "1250/1250 [==============================] - 5s 4ms/step - loss: 2.0824 - accuracy: 0.5715 - val_loss: 7.3662 - val_accuracy: 0.2000\n",
      "Epoch 17/30\n",
      "1250/1250 [==============================] - 5s 4ms/step - loss: 2.0096 - accuracy: 0.5952 - val_loss: 7.7374 - val_accuracy: 0.1947\n",
      "Epoch 18/30\n",
      "1250/1250 [==============================] - 5s 4ms/step - loss: 1.9498 - accuracy: 0.6051 - val_loss: 8.0833 - val_accuracy: 0.2032\n",
      "Epoch 19/30\n",
      "1250/1250 [==============================] - 5s 4ms/step - loss: 1.8755 - accuracy: 0.6250 - val_loss: 8.6338 - val_accuracy: 0.1993\n",
      "Epoch 20/30\n",
      "1250/1250 [==============================] - 5s 4ms/step - loss: 1.7955 - accuracy: 0.6419 - val_loss: 8.6264 - val_accuracy: 0.2086\n",
      "Epoch 21/30\n",
      "1250/1250 [==============================] - 5s 4ms/step - loss: 1.7687 - accuracy: 0.6562 - val_loss: 8.9263 - val_accuracy: 0.2076\n",
      "Epoch 22/30\n",
      "1250/1250 [==============================] - 5s 4ms/step - loss: 1.6695 - accuracy: 0.6693 - val_loss: 9.6866 - val_accuracy: 0.2030\n",
      "Epoch 23/30\n",
      "1250/1250 [==============================] - 5s 4ms/step - loss: 1.6299 - accuracy: 0.6830 - val_loss: 9.7473 - val_accuracy: 0.2070\n",
      "Epoch 24/30\n",
      "1250/1250 [==============================] - 5s 4ms/step - loss: 1.5655 - accuracy: 0.6931 - val_loss: 10.7333 - val_accuracy: 0.2005\n",
      "Epoch 25/30\n",
      "1250/1250 [==============================] - 5s 4ms/step - loss: 1.5255 - accuracy: 0.7073 - val_loss: 10.8067 - val_accuracy: 0.2012\n",
      "Epoch 26/30\n",
      "1250/1250 [==============================] - 5s 4ms/step - loss: 1.4941 - accuracy: 0.7142 - val_loss: 10.9942 - val_accuracy: 0.2002\n",
      "Epoch 27/30\n",
      "1250/1250 [==============================] - 5s 4ms/step - loss: 1.4608 - accuracy: 0.7237 - val_loss: 11.6645 - val_accuracy: 0.2034\n",
      "Epoch 28/30\n",
      "1250/1250 [==============================] - 5s 4ms/step - loss: 1.3985 - accuracy: 0.7359 - val_loss: 11.6220 - val_accuracy: 0.2058\n",
      "Epoch 29/30\n",
      "1250/1250 [==============================] - 5s 4ms/step - loss: 1.3767 - accuracy: 0.7433 - val_loss: 12.3072 - val_accuracy: 0.2017\n",
      "Epoch 30/30\n",
      "1250/1250 [==============================] - 5s 4ms/step - loss: 1.3341 - accuracy: 0.7549 - val_loss: 12.7778 - val_accuracy: 0.1996\n"
     ]
    }
   ],
   "source": [
    "h = model.fit(x_train, y_train, validation_split=0.2, epochs=30)"
   ]
  },
  {
   "cell_type": "code",
   "execution_count": 11,
   "metadata": {},
   "outputs": [
    {
     "data": {
      "image/png": "[encoded data removed]",
      "text/plain": [
       "<Figure size 432x288 with 1 Axes>"
      ]
     },
     "metadata": {
      "image/png": {
       "height": 248,
       "width": 373
      },
      "needs_background": "light"
     },
     "output_type": "display_data"
    }
   ],
   "source": [
    "for k in ['accuracy', 'val_accuracy']:\n",
    "    plot(h.history[k], )"
   ]
  },
  {
   "cell_type": "code",
   "execution_count": 12,
   "metadata": {},
   "outputs": [
    {
     "name": "stdout",
     "output_type": "stream",
     "text": [
      "./results-v2/cifar100/FC_shallow-u1075-n_lay-1-act-relu-rotate=False-scramble=False.json\n"
     ]
    }
   ],
   "source": [
    "model_name = f\"FC_shallow-u{u}\" \n",
    "\n",
    "\n",
    "model_name += f\"-n_lay-{net['num_layers']}\"\n",
    "model_name += f\"-act-{net['activation']}\"\n",
    "num_params = model.count_params() \n",
    "out_file_name = f\"./results-v2/{dataset_name}/{model_name}-rotate={bool(configs['dataset']['rotate'])}-scramble={bool(configs['dataset']['scramble'])}.json\"\n",
    "\n",
    "configs['net']['architecture'] = 'fc_shallow'\n",
    "\n",
    "results = {}\n",
    "results.update({\n",
    "    'num_params':num_params,\n",
    "    'result':h.history,\n",
    "    'configs':configs,\n",
    "#     'result': {k: np.float32(v).tolist() for k,v in h.history.items()}, # bug in json or TF2\n",
    "          })\n",
    "\n",
    "\n",
    "\n",
    "# for k,v in results['result'].items():\n",
    "#     print(k,type(v))\n",
    "\n",
    "import os\n",
    "\n",
    "# print(h.history)\n",
    "\n",
    "dirs = os.path.split(out_file_name)[0]\n",
    "os.makedirs(dirs,exist_ok=True)\n",
    "\n",
    "print(out_file_name)\n",
    "\n",
    "json.dump(results, open(out_file_name, 'w'))"
   ]
  },
  {
   "cell_type": "markdown",
   "metadata": {},
   "source": [
    "# CNN + Max pool"
   ]
  },
  {
   "cell_type": "code",
   "execution_count": 7,
   "metadata": {},
   "outputs": [
    {
     "data": {
      "text/plain": [
       "{'dataset': {'name': 'cifar100', 'rotate': True, 'scramble': True},\n",
       " 'net': {'architecture': 'lconv',\n",
       "  'num_filters': 32,\n",
       "  'kernel_size': 9,\n",
       "  'L_hid': [8],\n",
       "  'activation': 'relu',\n",
       "  'L_trainable': True,\n",
       "  'num_layers': 1}}"
      ]
     },
     "execution_count": 7,
     "metadata": {},
     "output_type": "execute_result"
    }
   ],
   "source": [
    "net['num_layers'] = 1\n",
    "configs\n"
   ]
  },
  {
   "cell_type": "code",
   "execution_count": 8,
   "metadata": {},
   "outputs": [
    {
     "name": "stdout",
     "output_type": "stream",
     "text": [
      "Model: \"functional_3\"\n",
      "_________________________________________________________________\n",
      "Layer (type)                 Output Shape              Param #   \n",
      "=================================================================\n",
      "input_2 (InputLayer)         [(None, 32, 32, 3)]       0         \n",
      "_________________________________________________________________\n",
      "conv2d (Conv2D)              (None, 30, 30, 32)        896       \n",
      "_________________________________________________________________\n",
      "max_pooling2d (MaxPooling2D) (None, 29, 29, 32)        0         \n",
      "_________________________________________________________________\n",
      "flatten_1 (Flatten)          (None, 26912)             0         \n",
      "_________________________________________________________________\n",
      "dense_1 (Dense)              (None, 100)               2691300   \n",
      "=================================================================\n",
      "Total params: 2,692,196\n",
      "Trainable params: 2,692,196\n",
      "Non-trainable params: 0\n",
      "_________________________________________________________________\n"
     ]
    }
   ],
   "source": [
    "net = configs['net']\n",
    "\n",
    "kx = int(0.5+np.sqrt(net['kernel_size']))\n",
    "ky = int(0.5+net['kernel_size']/kx)\n",
    "kernel_size = (kx,ky)\n",
    "\n",
    "\n",
    "inp = Input(x_train[0].shape)\n",
    "\n",
    "x = inp\n",
    "for _ in range(net['num_layers']):\n",
    "    x = Conv2D(filters=net['num_filters'], \n",
    "                 kernel_size=kernel_size, \n",
    "                 activation = net['activation'])(x)\n",
    "\n",
    "    x = MaxPool2D(pool_size=(2, 2),strides=(1, 1), padding='valid')(x)\n",
    "\n",
    "\n",
    "x = Flatten()(x)\n",
    "\n",
    "# x = Dense(100, activation = 'relu')(x)\n",
    "\n",
    "out = Dense(y_train.shape[-1], activation='softmax')(x)\n",
    "\n",
    "model = Model(inputs = [inp], outputs = [out])\n",
    "model.compile(loss = tf.keras.losses.categorical_crossentropy, metrics = ['accuracy'])\n",
    "\n",
    "model.summary()\n",
    "\n"
   ]
  },
  {
   "cell_type": "code",
   "execution_count": 9,
   "metadata": {},
   "outputs": [
    {
     "name": "stdout",
     "output_type": "stream",
     "text": [
      "Epoch 1/30\n",
      "1250/1250 [==============================] - 5s 4ms/step - loss: 3.9167 - accuracy: 0.1236 - val_loss: 3.7271 - val_accuracy: 0.1473\n",
      "Epoch 2/30\n",
      "1250/1250 [==============================] - 5s 4ms/step - loss: 3.5135 - accuracy: 0.1927 - val_loss: 3.6933 - val_accuracy: 0.1582\n",
      "Epoch 3/30\n",
      "1250/1250 [==============================] - 5s 4ms/step - loss: 3.3421 - accuracy: 0.2239 - val_loss: 3.6467 - val_accuracy: 0.1758\n",
      "Epoch 4/30\n",
      "1250/1250 [==============================] - 5s 4ms/step - loss: 3.2010 - accuracy: 0.2546 - val_loss: 3.6889 - val_accuracy: 0.1663\n",
      "Epoch 5/30\n",
      "1250/1250 [==============================] - 5s 4ms/step - loss: 3.0754 - accuracy: 0.2845 - val_loss: 3.8055 - val_accuracy: 0.1799\n",
      "Epoch 6/30\n",
      "1250/1250 [==============================] - 5s 4ms/step - loss: 2.9545 - accuracy: 0.3071 - val_loss: 3.7576 - val_accuracy: 0.1786\n",
      "Epoch 7/30\n",
      "1250/1250 [==============================] - 5s 4ms/step - loss: 2.8452 - accuracy: 0.3301 - val_loss: 3.8578 - val_accuracy: 0.1732\n",
      "Epoch 8/30\n",
      "1250/1250 [==============================] - 5s 4ms/step - loss: 2.7313 - accuracy: 0.3489 - val_loss: 3.8588 - val_accuracy: 0.1688\n",
      "Epoch 9/30\n",
      "1250/1250 [==============================] - 5s 4ms/step - loss: 2.6140 - accuracy: 0.3762 - val_loss: 3.9497 - val_accuracy: 0.1739\n",
      "Epoch 10/30\n",
      "1250/1250 [==============================] - 5s 4ms/step - loss: 2.5057 - accuracy: 0.4000 - val_loss: 3.9963 - val_accuracy: 0.1631\n",
      "Epoch 11/30\n",
      "1250/1250 [==============================] - 5s 4ms/step - loss: 2.3924 - accuracy: 0.4230 - val_loss: 4.0768 - val_accuracy: 0.1632\n",
      "Epoch 12/30\n",
      "1250/1250 [==============================] - 5s 4ms/step - loss: 2.2901 - accuracy: 0.4454 - val_loss: 4.1800 - val_accuracy: 0.1581\n",
      "Epoch 13/30\n",
      "1250/1250 [==============================] - 5s 4ms/step - loss: 2.1808 - accuracy: 0.4697 - val_loss: 4.2969 - val_accuracy: 0.1600\n",
      "Epoch 14/30\n",
      "1250/1250 [==============================] - 5s 4ms/step - loss: 2.0804 - accuracy: 0.4894 - val_loss: 4.4049 - val_accuracy: 0.1651\n",
      "Epoch 15/30\n",
      "1250/1250 [==============================] - 5s 4ms/step - loss: 1.9885 - accuracy: 0.5112 - val_loss: 4.4964 - val_accuracy: 0.1609\n",
      "Epoch 16/30\n",
      "1250/1250 [==============================] - 5s 4ms/step - loss: 1.8966 - accuracy: 0.5336 - val_loss: 4.6298 - val_accuracy: 0.1590\n",
      "Epoch 17/30\n",
      "1250/1250 [==============================] - 5s 4ms/step - loss: 1.8040 - accuracy: 0.5528 - val_loss: 4.6630 - val_accuracy: 0.1627\n",
      "Epoch 18/30\n",
      "1250/1250 [==============================] - 5s 4ms/step - loss: 1.7130 - accuracy: 0.5712 - val_loss: 4.8223 - val_accuracy: 0.1548\n",
      "Epoch 19/30\n",
      "1250/1250 [==============================] - 5s 4ms/step - loss: 1.6312 - accuracy: 0.5905 - val_loss: 4.9647 - val_accuracy: 0.1609\n",
      "Epoch 20/30\n",
      "1250/1250 [==============================] - 5s 4ms/step - loss: 1.5499 - accuracy: 0.6095 - val_loss: 5.1244 - val_accuracy: 0.1548\n",
      "Epoch 21/30\n",
      "1250/1250 [==============================] - 5s 4ms/step - loss: 1.4663 - accuracy: 0.6308 - val_loss: 5.3002 - val_accuracy: 0.1550\n",
      "Epoch 22/30\n",
      "1250/1250 [==============================] - 5s 4ms/step - loss: 1.3956 - accuracy: 0.6469 - val_loss: 5.4341 - val_accuracy: 0.1556\n",
      "Epoch 23/30\n",
      "1250/1250 [==============================] - 5s 4ms/step - loss: 1.3252 - accuracy: 0.6654 - val_loss: 5.7170 - val_accuracy: 0.1451\n",
      "Epoch 24/30\n",
      "1250/1250 [==============================] - 5s 4ms/step - loss: 1.2559 - accuracy: 0.6827 - val_loss: 5.7569 - val_accuracy: 0.1495\n",
      "Epoch 25/30\n",
      "1250/1250 [==============================] - 5s 4ms/step - loss: 1.1830 - accuracy: 0.6993 - val_loss: 5.9255 - val_accuracy: 0.1458\n",
      "Epoch 26/30\n",
      "1250/1250 [==============================] - 5s 4ms/step - loss: 1.1174 - accuracy: 0.7147 - val_loss: 6.1386 - val_accuracy: 0.1498\n",
      "Epoch 27/30\n",
      "1250/1250 [==============================] - 5s 4ms/step - loss: 1.0562 - accuracy: 0.7307 - val_loss: 6.3020 - val_accuracy: 0.1465\n",
      "Epoch 28/30\n",
      "1250/1250 [==============================] - 5s 4ms/step - loss: 0.9958 - accuracy: 0.7465 - val_loss: 6.4740 - val_accuracy: 0.1424\n",
      "Epoch 29/30\n",
      "1250/1250 [==============================] - 5s 4ms/step - loss: 0.9368 - accuracy: 0.7599 - val_loss: 6.6097 - val_accuracy: 0.1445\n",
      "Epoch 30/30\n",
      "1250/1250 [==============================] - 5s 4ms/step - loss: 0.8849 - accuracy: 0.7746 - val_loss: 6.8493 - val_accuracy: 0.1477\n"
     ]
    }
   ],
   "source": [
    "h = model.fit(x_train, y_train, validation_split=0.2, epochs=30)"
   ]
  },
  {
   "cell_type": "code",
   "execution_count": 10,
   "metadata": {},
   "outputs": [
    {
     "data": {
      "image/png": "[encoded data removed]",
      "text/plain": [
       "<Figure size 432x288 with 1 Axes>"
      ]
     },
     "metadata": {
      "image/png": {
       "height": 249,
       "width": 373
      },
      "needs_background": "light"
     },
     "output_type": "display_data"
    }
   ],
   "source": [
    "for k in ['accuracy', 'val_accuracy']:\n",
    "    plot(h.history[k], )"
   ]
  },
  {
   "cell_type": "code",
   "execution_count": 11,
   "metadata": {},
   "outputs": [
    {
     "name": "stdout",
     "output_type": "stream",
     "text": [
      "Model: \"functional_3\"\n",
      "_________________________________________________________________\n",
      "Layer (type)                 Output Shape              Param #   \n",
      "=================================================================\n",
      "input_2 (InputLayer)         [(None, 32, 32, 3)]       0         \n",
      "_________________________________________________________________\n",
      "conv2d (Conv2D)              (None, 30, 30, 32)        896       \n",
      "_________________________________________________________________\n",
      "max_pooling2d (MaxPooling2D) (None, 29, 29, 32)        0         \n",
      "_________________________________________________________________\n",
      "flatten_1 (Flatten)          (None, 26912)             0         \n",
      "_________________________________________________________________\n",
      "dense_1 (Dense)              (None, 100)               2691300   \n",
      "=================================================================\n",
      "Total params: 2,692,196\n",
      "Trainable params: 2,692,196\n",
      "Non-trainable params: 0\n",
      "_________________________________________________________________\n"
     ]
    }
   ],
   "source": [
    "model.summary()"
   ]
  },
  {
   "cell_type": "code",
   "execution_count": null,
   "metadata": {},
   "outputs": [],
   "source": []
  },
  {
   "cell_type": "code",
   "execution_count": 12,
   "metadata": {},
   "outputs": [
    {
     "name": "stdout",
     "output_type": "stream",
     "text": [
      "./results-v2/cifar100/CNN_maxpool-nf32-ker(3, 3)-n_lay-1-act-relu-rotate=True-scramble=True.json\n"
     ]
    }
   ],
   "source": [
    "configs['net']['architecture'] = 'cnn_maxpool'\n",
    "\n",
    "model_name = f\"CNN_maxpool-nf{net['num_filters']}-ker{kernel_size}\"\n",
    "\n",
    "model_name += f\"-n_lay-{net['num_layers']}\"\n",
    "model_name += f\"-act-{net['activation']}\"\n",
    "num_params = model.count_params() \n",
    "\n",
    "out_file_name = f\"./results-v2/{dataset_name}/{model_name}-rotate={bool(configs['dataset']['rotate'])}-scramble={bool(configs['dataset']['scramble'])}.json\"\n",
    "\n",
    "configs['net']['architecture'] = 'cnn_maxpool'\n",
    "\n",
    "results = {}\n",
    "results.update({\n",
    "    'num_params':num_params,\n",
    "    'result':h.history,\n",
    "    'configs':configs,\n",
    "#     'result': {k: np.float32(v).tolist() for k,v in h.history.items()}, # bug in json or TF2\n",
    "          })\n",
    "\n",
    "\n",
    "\n",
    "# for k,v in results['result'].items():\n",
    "#     print(k,type(v))\n",
    "\n",
    "import os\n",
    "\n",
    "# print(h.history)\n",
    "\n",
    "dirs = os.path.split(out_file_name)[0]\n",
    "os.makedirs(dirs,exist_ok=True)\n",
    "\n",
    "print(out_file_name)\n",
    "\n",
    "\n",
    "json.dump(results, open(out_file_name, 'w'))"
   ]
  }
 ],
 "metadata": {
  "kernelspec": {
   "display_name": "TF2.0 Py3",
   "language": "python",
   "name": "tf2"
  },
  "language_info": {
   "codemirror_mode": {
    "name": "ipython",
    "version": 3
   },
   "file_extension": ".py",
   "mimetype": "text/x-python",
   "name": "python",
   "nbconvert_exporter": "python",
   "pygments_lexer": "ipython3",
   "version": "3.7.5"
  }
 },
 "nbformat": 4,
 "nbformat_minor": 4
}
