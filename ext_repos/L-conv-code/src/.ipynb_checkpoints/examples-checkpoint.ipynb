{
 "cells": [
  {
   "cell_type": "code",
   "execution_count": 1,
   "id": "c71613f7-6f96-4c85-aa8f-e56eb35b30cf",
   "metadata": {},
   "outputs": [],
   "source": [
    "from lconv import Lconv"
   ]
  },
  {
   "cell_type": "code",
   "execution_count": 2,
   "id": "65d9c034-6cfe-4640-b86b-c0f14d0cf971",
   "metadata": {},
   "outputs": [],
   "source": [
    "import torch"
   ]
  },
  {
   "cell_type": "code",
   "execution_count": 3,
   "id": "4124cfe2-6c17-47ea-aaa9-b59c10afeba0",
   "metadata": {},
   "outputs": [],
   "source": [
    "n = 10\n",
    "d = 7\n",
    "c = 3\n",
    "# channel first\n",
    "x = torch.rand(n,c,d)"
   ]
  },
  {
   "cell_type": "markdown",
   "id": "67a78d5c-758d-49bd-96bc-c4abc7dd3160",
   "metadata": {},
   "source": [
    "## Basic usage"
   ]
  },
  {
   "cell_type": "code",
   "execution_count": 5,
   "id": "70f5dfcb-e608-4eed-8dab-cf6353463b23",
   "metadata": {},
   "outputs": [],
   "source": [
    "num_L = 2\n",
    "co = 5\n",
    "l = Lconv(d,num_L, cin=c, cout= co)"
   ]
  },
  {
   "cell_type": "code",
   "execution_count": 6,
   "id": "b9f51920-6495-425f-94b9-2e9a51dbb5ec",
   "metadata": {},
   "outputs": [],
   "source": [
    "y = l(x)"
   ]
  },
  {
   "cell_type": "code",
   "execution_count": 7,
   "id": "2e380c7d-5f1e-456e-b3a5-21042bb6ac4e",
   "metadata": {},
   "outputs": [
    {
     "data": {
      "text/plain": [
       "torch.Size([10, 5, 7])"
      ]
     },
     "execution_count": 7,
     "metadata": {},
     "output_type": "execute_result"
    }
   ],
   "source": [
    "y.shape"
   ]
  },
  {
   "cell_type": "markdown",
   "id": "5c6c2860-59e8-4a6f-a2f8-5673d885feb6",
   "metadata": {},
   "source": [
    "# Updated soon"
   ]
  },
  {
   "cell_type": "code",
   "execution_count": null,
   "id": "aad5bb07-2ac4-43bb-a678-4913219b9840",
   "metadata": {},
   "outputs": [],
   "source": []
  }
 ],
 "metadata": {
  "kernelspec": {
   "display_name": "Python 3",
   "language": "python",
   "name": "python3"
  },
  "language_info": {
   "codemirror_mode": {
    "name": "ipython",
    "version": 3
   },
   "file_extension": ".py",
   "mimetype": "text/x-python",
   "name": "python",
   "nbconvert_exporter": "python",
   "pygments_lexer": "ipython3",
   "version": "3.8.1"
  }
 },
 "nbformat": 4,
 "nbformat_minor": 5
}
