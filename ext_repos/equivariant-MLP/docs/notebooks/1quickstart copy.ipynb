{
 "cells": [
  {
   "cell_type": "code",
   "execution_count": 27,
   "metadata": {},
   "outputs": [
    {
     "name": "stdout",
     "output_type": "stream",
     "text": [
      "The autoreload extension is already loaded. To reload it, use:\n",
      "  %reload_ext autoreload\n"
     ]
    }
   ],
   "source": [
    "%load_ext autoreload\n",
    "%autoreload 2\n",
    "\n",
    "import os, sys\n",
    "sys.path.append(os.path.join(os.getcwd(), '../..'))"
   ]
  },
  {
   "cell_type": "markdown",
   "metadata": {},
   "source": [
    "# Getting Started with Equivariant Representations"
   ]
  },
  {
   "cell_type": "markdown",
   "metadata": {},
   "source": [
    "Our general approach to equivariance is centered around the idea of _representations_, a prescription of how a group element acts on a given vector space.\n",
    "\n",
    "Given a vector space $V$ and a group $G$, elements of the group $g\\in G$ can act on a vector $v\\in V$ by the representation matrix $v\\mapsto \\rho(g)v$. The vector space $V$ and the matrix $\\rho$ are often referred to interchangeably as the representation.\n",
    "\n",
    "For example with the cyclic translation group $\\mathbb{Z}_4$, we implement a (faithful) base representation $V$ which cyclicly translates the elements. Sampling an arbitrary transformation, we have"
   ]
  },
  {
   "cell_type": "code",
   "execution_count": 92,
   "metadata": {},
   "outputs": [],
   "source": [
    "from emlp.reps import V,sparsify_basis\n",
    "from emlp.groups import Z,S,SO,O,O13,SO13,RubiksCube, noise2samples\n",
    "import jax.numpy as jnp\n",
    "import numpy as np"
   ]
  },
  {
   "cell_type": "code",
   "execution_count": 59,
   "metadata": {},
   "outputs": [
    {
     "data": {
      "text/plain": [
       "(4, 4)"
      ]
     },
     "execution_count": 59,
     "metadata": {},
     "output_type": "execute_result"
    }
   ],
   "source": [
    "G.discrete_generators[0].shape"
   ]
  },
  {
   "cell_type": "code",
   "execution_count": 84,
   "metadata": {},
   "outputs": [],
   "source": [
    "h_dense = jnp.stack([hi@jnp.eye(G.d) for hi in G.discrete_generators]) "
   ]
  },
  {
   "cell_type": "code",
   "execution_count": 104,
   "metadata": {},
   "outputs": [
    {
     "data": {
      "text/plain": [
       "Array([[[0., 0., 1., 0.],\n",
       "        [0., 0., 0., 1.],\n",
       "        [1., 0., 0., 0.],\n",
       "        [0., 1., 0., 0.]]], dtype=float32)"
      ]
     },
     "execution_count": 104,
     "metadata": {},
     "output_type": "execute_result"
    }
   ],
   "source": [
    "N = 1\n",
    "A_dense = jnp.stack([Ai@jnp.eye(G.d) for Ai in G.lie_algebra]) if len(G.lie_algebra) else jnp.zeros((0,G.d,G.d))\n",
    "h_dense = jnp.stack([hi@jnp.eye(G.d) for hi in G.discrete_generators]) if len(G.discrete_generators) else jnp.zeros((0,G.d,G.d))\n",
    "z = np.random.randn(N,A_dense.shape[0])\n",
    "if G.z_scale is not None:\n",
    "    z*= G.z_scale\n",
    "k = np.random.randint(-5,5,size=(N,h_dense.shape[0],3))\n",
    "jax_seed= np.random.randint(100)\n",
    "\n",
    "noise2samples(z,k,A_dense,h_dense,jax_seed)"
   ]
  },
  {
   "cell_type": "code",
   "execution_count": 91,
   "metadata": {},
   "outputs": [
    {
     "data": {
      "text/plain": [
       "array([[[-5, -4, -5]]])"
      ]
     },
     "execution_count": 91,
     "metadata": {},
     "output_type": "execute_result"
    }
   ],
   "source": [
    "k = np.random.randint(-5,5,size=(1,h_dense.shape[0],3))\n",
    "jax_seed=  np.random.randint(100)\n",
    "noise2samples()"
   ]
  },
  {
   "cell_type": "code",
   "execution_count": 74,
   "metadata": {},
   "outputs": [
    {
     "data": {
      "text/plain": [
       "0"
      ]
     },
     "execution_count": 74,
     "metadata": {},
     "output_type": "execute_result"
    }
   ],
   "source": [
    "len(G.lie_algebra)"
   ]
  },
  {
   "cell_type": "code",
   "execution_count": 69,
   "metadata": {},
   "outputs": [
    {
     "name": "stdout",
     "output_type": "stream",
     "text": [
      "𝜌(g) =\n",
      "[[0. 0. 0. 1.]\n",
      " [1. 0. 0. 0.]\n",
      " [0. 1. 0. 0.]\n",
      " [0. 0. 1. 0.]]\n",
      "v = [-0.14245027  0.06231451 -0.82636948  0.53054457]\n",
      "𝜌(g)v = [ 0.5305446  -0.14245027  0.06231451 -0.82636946]\n"
     ]
    }
   ],
   "source": [
    "G=Z(4)\n",
    "rep = V(G)\n",
    "v = np.random.randn(rep.size())\n",
    "g = G.sample()\n",
    "print(f\"𝜌(g) =\\n{rep.rho(g)}\")\n",
    "print(f\"v = {v}\")\n",
    "print(f\"𝜌(g)v = {rep.rho(g)@v:}\")"
   ]
  },
  {
   "cell_type": "markdown",
   "metadata": {},
   "source": [
    "The symmetric subspace of the representation is the space of solutions to the constraint $\\forall g\\in G: \\ \\ \\rho(g)v=v$.\n",
    "For any representation, you can get the basis $Q \\in \\mathbb{R}^{n\\times r}$ for this symmetric subspace with `rep.equivariant_basis()` and the matrix $P=QQ^T$ which projects to this subspace with `rep.equivariant_projector()`."
   ]
  },
  {
   "cell_type": "markdown",
   "metadata": {},
   "source": [
    "For example, we can find invariant vectors of the cyclic translation group $\\mathbb{Z}_n$ which is just the constant $\\vec{1}$ scaled to have unit norm."
   ]
  },
  {
   "cell_type": "code",
   "execution_count": 30,
   "metadata": {},
   "outputs": [
    {
     "data": {
      "text/plain": [
       "Array([[0.44721356],\n",
       "       [0.44721374],\n",
       "       [0.44721374],\n",
       "       [0.44721356],\n",
       "       [0.44721347]], dtype=float32)"
      ]
     },
     "execution_count": 30,
     "metadata": {},
     "output_type": "execute_result"
    }
   ],
   "source": [
    "V(Z(5)).equivariant_basis()"
   ]
  },
  {
   "cell_type": "markdown",
   "metadata": {},
   "source": [
    "## The Representation Type System"
   ]
  },
  {
   "cell_type": "markdown",
   "metadata": {},
   "source": [
    "Each implemented group comes with a faithful 'base' representation $V$. Because faithful representations are one-to-one, we can build any representation by transforming this base representation.\n",
    "\n",
    "We provide several operators to transform and construct representations in different ways built and later go on to show how to do this more generally. In our type system, representations can be combined with the direct sum $\\rho_a \\oplus\\rho_b$ operator, the tensor product $\\rho_a\\otimes\\rho_b$, the dual $\\rho^*$ and these operators are implemented as the python operators `+`, `*`, and `.T`."
   ]
  },
  {
   "cell_type": "code",
   "execution_count": 31,
   "metadata": {},
   "outputs": [
    {
     "data": {
      "text/plain": [
       "((V+V), V⊗V, V*)"
      ]
     },
     "execution_count": 31,
     "metadata": {},
     "output_type": "execute_result"
    }
   ],
   "source": [
    "V+V,  V*V,  V.T"
   ]
  },
  {
   "cell_type": "markdown",
   "metadata": {},
   "source": [
    "We can combine and use these operators interchangeably:"
   ]
  },
  {
   "cell_type": "code",
   "execution_count": 32,
   "metadata": {},
   "outputs": [
    {
     "data": {
      "text/plain": [
       "(V+V*)⊗(V⊗V*+V)"
      ]
     },
     "execution_count": 32,
     "metadata": {},
     "output_type": "execute_result"
    }
   ],
   "source": [
    "(V+V.T)*(V*V.T+V)"
   ]
  },
  {
   "cell_type": "markdown",
   "metadata": {},
   "source": [
    "We use the shorthand $cV$ to mean $V\\oplus V\\oplus...\\oplus V$ and $V^c = V\\otimes V\\otimes...\\otimes V$. Note that this differs from the common notation where $V^c$ denotes the cartesian products the set (like with $\\mathbb{R}^c$) which would be the same as $cV$ in this notation. Being more formal we could distinguish the two by denoting $V^{\\otimes c}=V\\otimes V\\otimes...\\otimes V$ but to stay consistent with the python interface, we will not."
   ]
  },
  {
   "cell_type": "code",
   "execution_count": 33,
   "metadata": {},
   "outputs": [
    {
     "data": {
      "text/plain": [
       "(V+V+V+V+V+V+V+V+V+V)"
      ]
     },
     "execution_count": 33,
     "metadata": {},
     "output_type": "execute_result"
    }
   ],
   "source": [
    "5*V*2"
   ]
  },
  {
   "cell_type": "code",
   "execution_count": 34,
   "metadata": {},
   "outputs": [
    {
     "data": {
      "text/plain": [
       "(V⊗V⊗V+V⊗V⊗V)"
      ]
     },
     "execution_count": 34,
     "metadata": {},
     "output_type": "execute_result"
    }
   ],
   "source": [
    "2*V**3"
   ]
  },
  {
   "cell_type": "markdown",
   "metadata": {},
   "source": [
    "When a particular symmetry group is specified, the representation can be collapsed down to a more compact form:"
   ]
  },
  {
   "cell_type": "code",
   "execution_count": 35,
   "metadata": {},
   "outputs": [
    {
     "data": {
      "text/plain": [
       "2V³"
      ]
     },
     "execution_count": 35,
     "metadata": {},
     "output_type": "execute_result"
    }
   ],
   "source": [
    "G=O(4)\n",
    "2*V(G)**3"
   ]
  },
  {
   "cell_type": "code",
   "execution_count": 36,
   "metadata": {},
   "outputs": [
    {
     "data": {
      "text/plain": [
       "2V³"
      ]
     },
     "execution_count": 36,
     "metadata": {},
     "output_type": "execute_result"
    }
   ],
   "source": [
    "(2*V**3)(G)"
   ]
  },
  {
   "cell_type": "markdown",
   "metadata": {},
   "source": [
    "Although for groups like the Lorentz group $SO(1,3)$ with non orthogonal representations, a distinction needs to be made between the representation and it's dual. In both cases the representation is converted down to a canonical form (but the ordering you gave is preserved as a permutation)."
   ]
  },
  {
   "cell_type": "code",
   "execution_count": 37,
   "metadata": {},
   "outputs": [
    {
     "data": {
      "text/plain": [
       "2V"
      ]
     },
     "execution_count": 37,
     "metadata": {},
     "output_type": "execute_result"
    }
   ],
   "source": [
    "V(SO(3)).T+V(SO(3))"
   ]
  },
  {
   "cell_type": "code",
   "execution_count": 38,
   "metadata": {},
   "outputs": [
    {
     "data": {
      "text/plain": [
       "V+V*"
      ]
     },
     "execution_count": 38,
     "metadata": {},
     "output_type": "execute_result"
    }
   ],
   "source": [
    "V(SO13()).T+V(SO13())"
   ]
  },
  {
   "cell_type": "markdown",
   "metadata": {},
   "source": [
    "Linear maps from $V_1\\rightarrow V_2$ have the type $V_2\\otimes V_1^*$. The `V>>W` is shorthand for `W*V.T` and produces linear maps from `V` to `W`.\n",
    "\n",
    "Imposing (cyclic) Translation Equivariance $G=\\mathbb{Z}_n$ on linear maps $V\\rightarrow V$ yields circular convolutions (circulant matrices) which can be expressed as a linear combination of $n$ basis elements of size $n\\times n$."
   ]
  },
  {
   "cell_type": "markdown",
   "metadata": {},
   "source": [
    "## Exploring and Visualizing Equivariant Bases"
   ]
  },
  {
   "cell_type": "code",
   "execution_count": 39,
   "metadata": {},
   "outputs": [
    {
     "name": "stdout",
     "output_type": "stream",
     "text": [
      "Conv basis has shape (36, 6)\n"
     ]
    }
   ],
   "source": [
    "G = Z(6)\n",
    "repin = V(G)\n",
    "repout = V(G)\n",
    "conv_basis = (repin>>repout).equivariant_basis()\n",
    "print(f\"Conv basis has shape {conv_basis.shape}\")"
   ]
  },
  {
   "cell_type": "markdown",
   "metadata": {},
   "source": [
    "While we provide an orthogonal basis, these bases are not always easy to make sense of as an array of numbers (any rotation of an orthogonal basis is still an orthogonal basis)"
   ]
  },
  {
   "cell_type": "code",
   "execution_count": 40,
   "metadata": {},
   "outputs": [
    {
     "data": {
      "text/plain": [
       "Array([-0.1546345 ,  0.26888803, -0.16306758,  0.07573703, -0.19462179,\n",
       "        0.01579757,  0.01579724, -0.15463413,  0.26888806, -0.16306749,\n",
       "        0.07573721, -0.19462138, -0.19462171,  0.01579699, -0.15463421,\n",
       "        0.26888776, -0.1630673 ,  0.07573732,  0.07573705, -0.19462131,\n",
       "        0.01579705, -0.15463448,  0.26888755, -0.1630673 , -0.16306736,\n",
       "        0.0757368 , -0.19462158,  0.01579736, -0.1546349 ,  0.2688875 ,\n",
       "        0.2688878 , -0.16306758,  0.07573678, -0.19462138,  0.01579751,\n",
       "       -0.1546349 ], dtype=float32)"
      ]
     },
     "execution_count": 40,
     "metadata": {},
     "output_type": "execute_result"
    }
   ],
   "source": [
    "conv_basis[:,0]"
   ]
  },
  {
   "cell_type": "markdown",
   "metadata": {},
   "source": [
    "To more easily visualize the result, we can define the following function which projects a random vector and then plots components with the same values as different colors, arranged in a desired shape."
   ]
  },
  {
   "cell_type": "code",
   "execution_count": 44,
   "metadata": {},
   "outputs": [],
   "source": [
    "import numpy as np\n",
    "import matplotlib.pyplot as plt\n",
    "from sklearn.cluster import KMeans\n",
    "\n",
    "def vis_basis(basis,shape,cluster=True):\n",
    "    Q=basis@jnp.eye(basis.shape[-1]) # convert to a dense matrix if necessary\n",
    "    v = np.random.randn(Q.shape[0])  # sample random vector\n",
    "    v = Q@(Q.T@v)                    # project onto equivariant subspace\n",
    "    if cluster: # cluster nearby values for better color separation in plot\n",
    "        v = KMeans(n_clusters=Q.shape[-1]).fit(v.reshape(-1,1)).labels_\n",
    "    plt.imshow(v.reshape(shape))\n",
    "    plt.axis('off')\n",
    "    \n",
    "    return v\n",
    "\n",
    "def vis(repin,repout,cluster=True):\n",
    "    Q = (repin>>repout).equivariant_basis() # compute the equivariant basis\n",
    "    vis_basis(Q,(repout.size(),repin.size()),cluster) # visualize it"
   ]
  },
  {
   "cell_type": "markdown",
   "metadata": {},
   "source": [
    "Our convolutional basis is the familiar (circulant) convolution matrix."
   ]
  },
  {
   "cell_type": "code",
   "execution_count": 46,
   "metadata": {},
   "outputs": [
    {
     "name": "stderr",
     "output_type": "stream",
     "text": [
      "/Users/elias/anaconda3/envs/sympde/lib/python3.10/site-packages/sklearn/cluster/_kmeans.py:1416: FutureWarning: The default value of `n_init` will change from 10 to 'auto' in 1.4. Set the value of `n_init` explicitly to suppress the warning\n",
      "  super()._check_params_vs_input(X, default_n_init=10)\n"
     ]
    },
    {
     "data": {
      "image/png": "[encoded data removed]",
      "text/plain": [
       "<Figure size 640x480 with 1 Axes>"
      ]
     },
     "metadata": {},
     "output_type": "display_data"
    }
   ],
   "source": [
    "v = vis_basis(conv_basis,(repin.size(),repout.size()))"
   ]
  },
  {
   "cell_type": "code",
   "execution_count": 50,
   "metadata": {},
   "outputs": [
    {
     "data": {
      "text/plain": [
       "array([[4, 2, 3, 0, 1, 5],\n",
       "       [5, 4, 2, 3, 0, 1],\n",
       "       [1, 5, 4, 2, 3, 0],\n",
       "       [0, 1, 5, 4, 2, 3],\n",
       "       [3, 0, 1, 5, 4, 2],\n",
       "       [2, 3, 0, 1, 5, 4]], dtype=int32)"
      ]
     },
     "execution_count": 50,
     "metadata": {},
     "output_type": "execute_result"
    }
   ],
   "source": [
    "shape = (repin.size(),repout.size())\n",
    "v.reshape(shape)"
   ]
  },
  {
   "cell_type": "code",
   "execution_count": 47,
   "metadata": {},
   "outputs": [
    {
     "data": {
      "text/plain": [
       "array([4, 2, 3, 0, 1, 5, 5, 4, 2, 3, 0, 1, 1, 5, 4, 2, 3, 0, 0, 1, 5, 4,\n",
       "       2, 3, 3, 0, 1, 5, 4, 2, 2, 3, 0, 1, 5, 4], dtype=int32)"
      ]
     },
     "execution_count": 47,
     "metadata": {},
     "output_type": "execute_result"
    }
   ],
   "source": [
    "v"
   ]
  },
  {
   "cell_type": "markdown",
   "metadata": {},
   "source": [
    "2D translation equivariange $G=\\mathbb{Z}_n\\times \\mathbb{Z}_n$ yields 2D convolutions (bicurculant matrices)"
   ]
  },
  {
   "cell_type": "code",
   "execution_count": 19,
   "metadata": {},
   "outputs": [
    {
     "name": "stderr",
     "output_type": "stream",
     "text": [
      "/Users/elias/anaconda3/envs/sympde/lib/python3.10/site-packages/sklearn/cluster/_kmeans.py:1416: FutureWarning: The default value of `n_init` will change from 10 to 'auto' in 1.4. Set the value of `n_init` explicitly to suppress the warning\n",
      "  super()._check_params_vs_input(X, default_n_init=10)\n"
     ]
    },
    {
     "data": {
      "image/png": "[encoded data removed]",
      "text/plain": [
       "<Figure size 640x480 with 1 Axes>"
      ]
     },
     "metadata": {},
     "output_type": "display_data"
    }
   ],
   "source": [
    "G = Z(3)*Z(4) #[Not recommended way of building product groups, there is a faster way shown in section 5]\n",
    "repin = V(G)\n",
    "repout = V(G)\n",
    "vis(repin,repout)"
   ]
  },
  {
   "cell_type": "markdown",
   "metadata": {},
   "source": [
    "How about the permutation group $G=S_n$, where the vector space $V$ represents a set of elements? In deep sets it was shown there are only two basis elements for equivariant linear maps $V\\rightarrow V$."
   ]
  },
  {
   "cell_type": "code",
   "execution_count": 20,
   "metadata": {},
   "outputs": [
    {
     "name": "stderr",
     "output_type": "stream",
     "text": [
      "/Users/elias/anaconda3/envs/sympde/lib/python3.10/site-packages/sklearn/cluster/_kmeans.py:1416: FutureWarning: The default value of `n_init` will change from 10 to 'auto' in 1.4. Set the value of `n_init` explicitly to suppress the warning\n",
      "  super()._check_params_vs_input(X, default_n_init=10)\n"
     ]
    },
    {
     "data": {
      "image/png": "[encoded data removed]",
      "text/plain": [
       "<Figure size 640x480 with 1 Axes>"
      ]
     },
     "metadata": {},
     "output_type": "display_data"
    }
   ],
   "source": [
    "repin = V(S(6))\n",
    "repout = V(S(6))\n",
    "vis(repin,repout)"
   ]
  },
  {
   "cell_type": "markdown",
   "metadata": {},
   "source": [
    "What about graphs, which are composed both of sets as well as adjacency matrices or graph laplacians? These matrices are examples of objects from $V\\otimes V$ with $G=S_n$, and in Invariant and Equivariant Graph Networks () it was shown through a challenging proof that there are at most 15 basis elements which were derived analytically. We can solve for them here:"
   ]
  },
  {
   "cell_type": "code",
   "execution_count": 21,
   "metadata": {},
   "outputs": [
    {
     "name": "stdout",
     "output_type": "stream",
     "text": [
      "Basis matrix of shape (1296, 15)\n"
     ]
    },
    {
     "name": "stderr",
     "output_type": "stream",
     "text": [
      "/Users/elias/anaconda3/envs/sympde/lib/python3.10/site-packages/sklearn/cluster/_kmeans.py:1416: FutureWarning: The default value of `n_init` will change from 10 to 'auto' in 1.4. Set the value of `n_init` explicitly to suppress the warning\n",
      "  super()._check_params_vs_input(X, default_n_init=10)\n"
     ]
    },
    {
     "data": {
      "image/png": "[encoded data removed]",
      "text/plain": [
       "<Figure size 640x480 with 1 Axes>"
      ]
     },
     "metadata": {},
     "output_type": "display_data"
    }
   ],
   "source": [
    "repin = V(S(6))**2\n",
    "repout = V(S(6))**2\n",
    "vis(repin,repout)\n",
    "print(f\"Basis matrix of shape {(repin>>repout).equivariant_basis().shape}\")"
   ]
  },
  {
   "cell_type": "markdown",
   "metadata": {},
   "source": [
    "How about the continuous $2D$ rotation group $SO(3)$? It's well known that the only equivariant object for the vector space $V^{\\otimes 3}$ is the Levi-Civita symbol $\\epsilon_{ijk}$. Since the values are both $0$, positive, and negative (leading to more than `Q.shape[-1]` clusters) we disable the clustering."
   ]
  },
  {
   "cell_type": "code",
   "execution_count": 22,
   "metadata": {},
   "outputs": [
    {
     "name": "stdout",
     "output_type": "stream",
     "text": [
      "Basis matrix of shape (27, 1)\n"
     ]
    },
    {
     "data": {
      "image/png": "[encoded data removed]",
      "text/plain": [
       "<Figure size 640x480 with 1 Axes>"
      ]
     },
     "metadata": {},
     "output_type": "display_data"
    }
   ],
   "source": [
    "W = V(SO(3))\n",
    "repin = W**2\n",
    "repout = W\n",
    "Q = (repin>>repout).equivariant_basis()\n",
    "print(f\"Basis matrix of shape {Q.shape}\")\n",
    "vis(repin,repout,cluster=False)"
   ]
  },
  {
   "cell_type": "code",
   "execution_count": 23,
   "metadata": {},
   "outputs": [
    {
     "name": "stderr",
     "output_type": "stream",
     "text": [
      "sparsifying basis: 100%|██████████| 3000/3000 [00:00<00:00, 8011.26it/s]"
     ]
    },
    {
     "name": "stdout",
     "output_type": "stream",
     "text": [
      "[[[ 0.  0.  0.]\n",
      "  [ 0.  0.  1.]\n",
      "  [ 0. -1.  0.]]\n",
      "\n",
      " [[ 0.  0. -1.]\n",
      "  [ 0.  0.  0.]\n",
      "  [ 1.  0.  0.]]\n",
      "\n",
      " [[ 0.  1.  0.]\n",
      "  [-1.  0.  0.]\n",
      "  [ 0.  0.  0.]]]\n"
     ]
    },
    {
     "name": "stderr",
     "output_type": "stream",
     "text": [
      "\n"
     ]
    }
   ],
   "source": [
    "print(sparsify_basis(Q).reshape(3,3,3))"
   ]
  },
  {
   "cell_type": "markdown",
   "metadata": {},
   "source": [
    "We can also solve for very high dimensional representations which we automatically switch to using the automated iterative Krylov subspace method"
   ]
  },
  {
   "cell_type": "code",
   "execution_count": 24,
   "metadata": {},
   "outputs": [
    {
     "name": "stderr",
     "output_type": "stream",
     "text": [
      "/Users/elias/anaconda3/envs/sympde/lib/python3.10/site-packages/sklearn/cluster/_kmeans.py:1416: FutureWarning: The default value of `n_init` will change from 10 to 'auto' in 1.4. Set the value of `n_init` explicitly to suppress the warning\n",
      "  super()._check_params_vs_input(X, default_n_init=10)\n"
     ]
    },
    {
     "data": {
      "image/png": "[encoded data removed]",
      "text/plain": [
       "<Figure size 640x480 with 1 Axes>"
      ]
     },
     "metadata": {},
     "output_type": "display_data"
    }
   ],
   "source": [
    "vis(W**3,W**3)"
   ]
  },
  {
   "cell_type": "code",
   "execution_count": 25,
   "metadata": {},
   "outputs": [
    {
     "name": "stderr",
     "output_type": "stream",
     "text": [
      "Krylov Solving for Equivariant Subspace r<=10: 100%|██████████| 100/100 [00:04<00:00, 23.70it/s] \n",
      "Krylov Solving for Equivariant Subspace r<=20: 100%|██████████| 100/100 [00:06<00:00, 15.82it/s] \n",
      "Krylov Solving for Equivariant Subspace r<=40: 100%|██████████| 100/100 [00:09<00:00, 10.30it/s] \n",
      "Krylov Solving for Equivariant Subspace r<=80: 100%|██████████| 100/100 [00:18<00:00,  5.31it/s] \n",
      "Krylov Solving for Equivariant Subspace r<=160: 100%|██████████| 100/100 [00:39<00:00,  2.56it/s] \n",
      "/Users/elias/anaconda3/envs/sympde/lib/python3.10/site-packages/sklearn/cluster/_kmeans.py:1416: FutureWarning: The default value of `n_init` will change from 10 to 'auto' in 1.4. Set the value of `n_init` explicitly to suppress the warning\n",
      "  super()._check_params_vs_input(X, default_n_init=10)\n"
     ]
    },
    {
     "data": {
      "image/png": "[encoded data removed]",
      "text/plain": [
       "<Figure size 640x480 with 1 Axes>"
      ]
     },
     "metadata": {},
     "output_type": "display_data"
    }
   ],
   "source": [
    "vis(W**5,W**3)"
   ]
  },
  {
   "cell_type": "code",
   "execution_count": 23,
   "metadata": {
    "scrolled": false
   },
   "outputs": [
    {
     "data": {
      "image/png": "[encoded data removed]",
      "text/plain": [
       "<Figure size 432x288 with 1 Axes>"
      ]
     },
     "metadata": {
      "needs_background": "light"
     },
     "output_type": "display_data"
    }
   ],
   "source": [
    "vis(V(RubiksCube()),V(RubiksCube()))"
   ]
  },
  {
   "cell_type": "markdown",
   "metadata": {},
   "source": [
    "## Composite Representations and Lazy Matrices"
   ]
  },
  {
   "cell_type": "markdown",
   "metadata": {},
   "source": [
    "How about maps from graphs to sets? Lets say a graph consists of one node feature and one edge feature which can be represented with the $\\oplus$ operator."
   ]
  },
  {
   "cell_type": "code",
   "execution_count": 24,
   "metadata": {},
   "outputs": [
    {
     "name": "stdout",
     "output_type": "stream",
     "text": [
      "(252, 7)\n"
     ]
    },
    {
     "data": {
      "image/png": "[encoded data removed]",
      "text/plain": [
       "<Figure size 432x288 with 1 Axes>"
      ]
     },
     "metadata": {
      "needs_background": "light"
     },
     "output_type": "display_data"
    }
   ],
   "source": [
    "W = V(S(6))\n",
    "repin = W+W**2 # (one set feature and one edge feature)\n",
    "repout = W     # (one set feature)\n",
    "vis(repin,repout)\n",
    "print(f\"Basis matrix of shape {(repin>>repout).equivariant_basis().shape}\")"
   ]
  },
  {
   "cell_type": "markdown",
   "metadata": {},
   "source": [
    "Representations that have many copies or multiplicity of a given representation type, such as for the many channels in a neural network, are simply examples of the $\\oplus$ operator (`+` in python). The `rep.equivariant_basis()` and `rep.equivariant_projector()` can return lazy matrices $Q$ and $P=QQ^T$ when the representations are composite (or when the representation is specified lazily). These Lazy matrices are modeled after [scipy LinearOperators](https://docs.scipy.org/doc/scipy/reference/generated/scipy.sparse.linalg.LinearOperator.html). By exploiting structure in the matrices via fast matrix vector multiplies (MVMs), it can be possible to work with extremely large matrices."
   ]
  },
  {
   "cell_type": "markdown",
   "metadata": {},
   "source": [
    "For example with a more realistically sized layer with 100 global constants, 100 set feature channels, and 20 edge feature channels ($100V^0+100V^1+20V^2$) we have"
   ]
  },
  {
   "cell_type": "code",
   "execution_count": 25,
   "metadata": {},
   "outputs": [
    {
     "name": "stdout",
     "output_type": "stream",
     "text": [
      "10000V⁰+20000V+14000V²+4000V³+400V⁴, of size 2016400\n",
      "Basis matrix of shape (2016400, 84000)\n"
     ]
    }
   ],
   "source": [
    "W = V(S(6))\n",
    "repin = 100*W**0 + 100*W+20*W**2\n",
    "repout = repin\n",
    "rep_map = repin>>repout\n",
    "print(f\"{rep_map}, of size {rep_map.size()}\")\n",
    "\n",
    "Q = rep_map.equivariant_basis()\n",
    "print(f\"Basis matrix of shape {Q.shape}\")"
   ]
  },
  {
   "cell_type": "markdown",
   "metadata": {},
   "source": [
    "Unfortunately the larger matrices are harder to visualize as for the matrix above we need 84000 different colors! We are happy to field suggestions for visualizing very large bases."
   ]
  },
  {
   "cell_type": "code",
   "execution_count": 26,
   "metadata": {},
   "outputs": [
    {
     "data": {
      "text/plain": [
       "(-0.5, 1419.5, 1419.5, -0.5)"
      ]
     },
     "execution_count": 26,
     "metadata": {},
     "output_type": "execute_result"
    },
    {
     "data": {
      "image/png": "[encoded data removed]",
      "text/plain": [
       "<Figure size 432x288 with 1 Axes>"
      ]
     },
     "metadata": {
      "needs_background": "light"
     },
     "output_type": "display_data"
    }
   ],
   "source": [
    "P =rep_map.equivariant_projector()\n",
    "v = np.random.randn(P.shape[-1])\n",
    "v = P@v\n",
    "plt.imshow(v.reshape(repout.size(),repin.size()))\n",
    "plt.axis('off');"
   ]
  },
  {
   "cell_type": "code",
   "execution_count": null,
   "metadata": {},
   "outputs": [],
   "source": []
  }
 ],
 "metadata": {
  "kernelspec": {
   "display_name": "Python 3",
   "language": "python",
   "name": "python3"
  },
  "language_info": {
   "codemirror_mode": {
    "name": "ipython",
    "version": 3
   },
   "file_extension": ".py",
   "mimetype": "text/x-python",
   "name": "python",
   "nbconvert_exporter": "python",
   "pygments_lexer": "ipython3",
   "version": "3.10.13"
  }
 },
 "nbformat": 4,
 "nbformat_minor": 4
}
