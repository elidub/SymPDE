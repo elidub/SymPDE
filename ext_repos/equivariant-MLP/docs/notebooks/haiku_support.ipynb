{
 "cells": [
  {
   "cell_type": "markdown",
   "metadata": {},
   "source": [
    "# Using EMLP with Haiku"
   ]
  },
  {
   "cell_type": "markdown",
   "metadata": {},
   "source": [
    "There are many neural network frameworks for jax, and they are often incompatible. Since most of the functionality of this package is written in pure jax, it can be used with flax, trax, linen, haiku, objax, or whatever your favorite jax NN framework.\n",
    "\n",
    "\n",
    "However, the equivariant neural network layers provided in the [Layers and Models](https://emlp.readthedocs.io/en/latest/package/emlp.nn.html) are made for objax.\n",
    "If we try to use them with the popular [Haiku framework](https://dm-haiku.readthedocs.io/en/latest/),  things will not work as expected.\n",
    "\n",
    "## Dont Do This:"
   ]
  },
  {
   "cell_type": "code",
   "execution_count": 1,
   "metadata": {},
   "outputs": [],
   "source": [
    "import haiku as hk\n",
    "from jax import random\n",
    "import numpy as np\n",
    "import emlp.nn as nn\n",
    "from emlp.reps import T,V\n",
    "from emlp.groups import SO\n",
    "\n",
    "repin= 4*V # Setup some example data representations\n",
    "repout = V\n",
    "G = SO(3)\n",
    "\n",
    "x = np.random.randn(10,repin(G).size()) # generate some random data"
   ]
  },
  {
   "cell_type": "code",
   "execution_count": 2,
   "metadata": {},
   "outputs": [],
   "source": [
    "model = nn.EMLP(repin,repout,G)\n",
    "net = hk.without_apply_rng(hk.transform(model))\n",
    "\n",
    "key = random.PRNGKey(0)\n",
    "params = net.init(random.PRNGKey(42), x)\n",
    "\n",
    "y = net.apply(params,  x)"
   ]
  },
  {
   "cell_type": "markdown",
   "metadata": {},
   "source": [
    "Although the code executes, we see that Haiku does not recognize the model parameters and treats the network as if it is a stateless jax function."
   ]
  },
  {
   "cell_type": "code",
   "execution_count": 3,
   "metadata": {},
   "outputs": [
    {
     "data": {
      "text/plain": [
       "FlatMapping({})"
      ]
     },
     "execution_count": 3,
     "metadata": {},
     "output_type": "execute_result"
    }
   ],
   "source": [
    "params"
   ]
  },
  {
   "cell_type": "markdown",
   "metadata": {},
   "source": [
    "It's not hard to build EMLP layers in Haiku, and for each of the nn layers in [Layers and Models](https://emlp.readthedocs.io/en/latest/package/emlp.nn.html) we have implemented a Haiku version with the same arguments. These layers are accessible via `emlp.nn.haiku` rather than `emlp.nn`. To use EMLP models and equivariant layers with Haiku, instead of the above you should import from `emlp.nn.haiku`."
   ]
  },
  {
   "cell_type": "markdown",
   "metadata": {},
   "source": [
    "## Instead, Do This:"
   ]
  },
  {
   "cell_type": "code",
   "execution_count": 4,
   "metadata": {
    "scrolled": true
   },
   "outputs": [],
   "source": [
    "import emlp.nn.haiku as ehk\n",
    "\n",
    "model = ehk.EMLP(repin,repout,SO(3))\n",
    "net = hk.without_apply_rng(hk.transform(model))\n",
    "\n",
    "key = random.PRNGKey(0)\n",
    "params = net.init(random.PRNGKey(42), x)\n",
    "y = net.apply(params,  x)"
   ]
  },
  {
   "cell_type": "code",
   "execution_count": 5,
   "metadata": {},
   "outputs": [
    {
     "data": {
      "text/plain": [
       "KeysOnlyKeysView(['sequential/hk_linear', 'sequential/hk_bi_linear', 'sequential/hk_linear_1', 'sequential/hk_bi_linear_1', 'sequential/hk_linear_2', 'sequential/hk_bi_linear_2', 'sequential/hk_linear_3'])"
      ]
     },
     "execution_count": 5,
     "metadata": {},
     "output_type": "execute_result"
    }
   ],
   "source": [
    "params.keys()"
   ]
  },
  {
   "cell_type": "markdown",
   "metadata": {},
   "source": [
    "With this Haiku EMLP, paramaters are registered as expected.\n",
    "\n",
    "If your favorite deep learning framework is not one of objax, haiku, or pytorch, don't panic. It's possible to use EMLP with other jax frameworks without much trouble, similar to the objax and haiku implementations. If you need help with this, start a pull request and we can send over some pointers."
   ]
  }
 ],
 "metadata": {
  "kernelspec": {
   "display_name": "Python 3",
   "language": "python",
   "name": "python3"
  },
  "language_info": {
   "codemirror_mode": {
    "name": "ipython",
    "version": 3
   },
   "file_extension": ".py",
   "mimetype": "text/x-python",
   "name": "python",
   "nbconvert_exporter": "python",
   "pygments_lexer": "ipython3",
   "version": "3.8.5"
  }
 },
 "nbformat": 4,
 "nbformat_minor": 4
}
