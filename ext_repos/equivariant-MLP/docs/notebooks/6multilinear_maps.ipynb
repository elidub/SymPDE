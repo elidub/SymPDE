{
 "cells": [
  {
   "cell_type": "markdown",
   "metadata": {},
   "source": [
    "# Multilinear Maps"
   ]
  },
  {
   "cell_type": "markdown",
   "metadata": {},
   "source": [
    "Our codebase extends trivially to multilinear maps, since these maps are in fact just linear maps in disguise.\n",
    "\n",
    "If we have a sequence of representations $R_1$, $R_2$, $R_3$ for example, we can write the (bi)linear maps $R_1\\rightarrow R_2\\rightarrow R_3$. This way of thinking about maps of multiple variables borrowed from programming languages and curried functions is very powerful."
   ]
  },
  {
   "cell_type": "markdown",
   "metadata": {},
   "source": [
    "We can think of such an object $R_1\\rightarrow R_2\\rightarrow R_3$ either as $R_1 \\rightarrow (R_2\\rightarrow R_3)$: a linear map from $R_1$ to linear maps from $R_2$ to $R_3$ or as\n",
    "$(R_1\\times R_2) \\rightarrow R_3$: a bilinear map from $R_1$ and $R_2$ to $R_3$. Since linear maps from one representation to another are just another representation in our type system, you can use this way of thinking to find the equivariant solutions to arbitrary multilinear maps."
   ]
  },
  {
   "cell_type": "markdown",
   "metadata": {},
   "source": [
    "For example, we can get the bilinear $SO(4)$ equivariant maps $(R_1\\times R_2) \\rightarrow R_3$ with the code below."
   ]
  },
  {
   "cell_type": "code",
   "execution_count": 1,
   "metadata": {},
   "outputs": [
    {
     "name": "stdout",
     "output_type": "stream",
     "text": [
      "(2940, 27)\n"
     ]
    }
   ],
   "source": [
    "from emlp.groups import SO,rel_err\n",
    "from emlp.reps import V\n",
    "\n",
    "G = SO(4)\n",
    "W = V(G)\n",
    "R1 = 3*W+W**2 # some example representations\n",
    "R2 = W.T+W**0\n",
    "R3 = W**0 +W**2 +W\n",
    "\n",
    "Q = (R1>>(R2>>R3)).equivariant_basis()\n",
    "print(Q.shape)"
   ]
  },
  {
   "cell_type": "markdown",
   "metadata": {},
   "source": [
    "And we can verify that these multilinear solutions are indeed equivariant"
   ]
  },
  {
   "cell_type": "code",
   "execution_count": 2,
   "metadata": {},
   "outputs": [
    {
     "data": {
      "text/plain": [
       "DeviceArray(1.2422272e-07, dtype=float32)"
      ]
     },
     "execution_count": 2,
     "metadata": {},
     "output_type": "execute_result"
    }
   ],
   "source": [
    "import numpy as np\n",
    "\n",
    "example_map = (Q@np.random.randn(Q.shape[-1]))\n",
    "example_map = example_map.reshape(R3.size(),R2.size(),R1.size())\n",
    "\n",
    "x1 = np.random.randn(R1.size())\n",
    "x2 = np.random.randn(R2.size())\n",
    "g = G.sample()\n",
    "\n",
    "out1 = np.einsum(\"ijk,j,k\",example_map,R2.rho(g)@x2,R1.rho(g)@x1)\n",
    "out2 = R3.rho(g)@np.einsum(\"ijk,j,k\",example_map,x2,x1)\n",
    "rel_err(out1,out2)"
   ]
  },
  {
   "cell_type": "markdown",
   "metadata": {},
   "source": [
    "Note that the output mapping is of shape $(\\mathrm{dim}(R_3),\\mathrm{dim}(R_2),\\mathrm{dim}(R_1))$\n",
    "with the inputs to the right as you would expect with a matrix. \n",
    "\n",
    "Note the parenthesis in the expression `(R1>>(R2>>R3))` since the python `>>` associates to the right.\n",
    "The notation $R_1\\rightarrow R_2 \\rightarrow R_3$ or `(R1>>(R2>>R3))` can be a bit confusing since the inputs are on the right. It can be easier in this concept to instead reverse the arrows and express the same object as $R_3\\leftarrow R_2\\leftarrow R_1$ or `R3<<R2<<R1` (with no parens required) that matches the axis ordering of the multilinear map (tensor). \n",
    "\n",
    "You can use `R2<<R1` in place of `R1>>R2` wherever you like, and it is usually more intuitive."
   ]
  },
  {
   "cell_type": "code",
   "execution_count": 3,
   "metadata": {},
   "outputs": [
    {
     "data": {
      "text/plain": [
       "True"
      ]
     },
     "execution_count": 3,
     "metadata": {},
     "output_type": "execute_result"
    }
   ],
   "source": [
    "R3<<R2<<R1 == (R1>>(R2>>R3))"
   ]
  }
 ],
 "metadata": {
  "kernelspec": {
   "display_name": "Python 3",
   "language": "python",
   "name": "python3"
  },
  "language_info": {
   "codemirror_mode": {
    "name": "ipython",
    "version": 3
   },
   "file_extension": ".py",
   "mimetype": "text/x-python",
   "name": "python",
   "nbconvert_exporter": "python",
   "pygments_lexer": "ipython3",
   "version": "3.8.5"
  }
 },
 "nbformat": 4,
 "nbformat_minor": 4
}
