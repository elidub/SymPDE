{
 "cells": [
  {
   "cell_type": "markdown",
   "metadata": {},
   "source": [
    "> Tutorial from [here](https://arc.net/l/quote/yxopkikd)\n",
    "\n",
    "# 10.12. Equivariant Neural Networks with Constraints¶\n",
    "\n",
    "You do not need to use irreducible representations. It is currently in 2022 the dominant paradigm due to its good accuracy. One alternative is to work in the defining/faithful representation and put equivariant constraints on your network weights. This approach is quite nice because the implementation is independent of the group. It also works for finite groups. Let’s see an example of this approach via the library released by the authors called Equivariant MLP (emlp)[FWW21]\n",
    "\n",
    "We’ll create an SO(3) equivariant neural network and check that it is equivariant to rotations. We begin by defining our group and its representation. I’ll show a few elements too, to demonstrate that this is the faithful representation and not the irreducible."
   ]
  },
  {
   "cell_type": "code",
   "execution_count": 23,
   "metadata": {},
   "outputs": [
    {
     "name": "stdout",
     "output_type": "stream",
     "text": [
      "[[1. 0. 0.]\n",
      " [0. 1. 0.]\n",
      " [0. 0. 1.]]\n"
     ]
    }
   ],
   "source": [
    "from emlp.groups import SO, S, Z\n",
    "import emlp.reps as reps\n",
    "import emlp\n",
    "# import haiku as hk\n",
    "# import emlp.nn.haiku as ehk\n",
    "import jax.numpy as jnp\n",
    "import numpy as np\n",
    "from matplotlib import pyplot as plt\n",
    "\n",
    "G = SO(3)\n",
    "G = Z(3)\n",
    "\n",
    "so3_rep = reps.V(G)\n",
    "# grab a random group element\n",
    "sampled_g = G.sample()\n",
    "dense_rep = so3_rep.rho(sampled_g)\n",
    "# check its a member of SO(3)\n",
    "# g @ g.T = I\n",
    "print(dense_rep @ dense_rep.T)"
   ]
  },
  {
   "cell_type": "markdown",
   "metadata": {},
   "source": [
    "Now we’ll apply our group element to a point to see it rotate the point. The norm should be unchanged, because it’s a rotation."
   ]
  },
  {
   "cell_type": "code",
   "execution_count": 24,
   "metadata": {},
   "outputs": [
    {
     "name": "stdout",
     "output_type": "stream",
     "text": [
      "new point [0. 0. 1.]\n",
      "norm 1.0\n"
     ]
    }
   ],
   "source": [
    "point = np.array([0, 0, 1])\n",
    "print(\"new point\", dense_rep @ point.T)\n",
    "print(\"norm\", np.sqrt(np.sum((dense_rep @ point) ** 2)))"
   ]
  },
  {
   "cell_type": "markdown",
   "metadata": {},
   "source": [
    "Now let’s assume our input function consists of 5 points (e.g., methanol molecule) defined by features (e.g., 1D element embedding) and positions. We’ll create that as a direct sum of 5 scalars and 5 vectors. Our output will be a vector (e.g., dipole). Equivariance here will then mean that if rotate the input points, our output vector should undergo the same rotation.\n",
    "\n"
   ]
  },
  {
   "cell_type": "code",
   "execution_count": 25,
   "metadata": {},
   "outputs": [
    {
     "name": "stdout",
     "output_type": "stream",
     "text": [
      "input rep 5V⁰+5V\n",
      "output rep V\n",
      "input features [-0.35448665  1.59553971  2.17042655  0.45754198 -0.1137788 ]\n",
      "input positions\n",
      " [[-0.60548318 -0.88854923 -0.36149914]\n",
      " [ 2.04598107  2.09122305  0.25649913]\n",
      " [ 0.80348364  0.86466423  0.25958641]\n",
      " [-0.22587599  0.66790673  0.48966497]\n",
      " [ 0.3770598   1.10139139 -0.10159097]]\n"
     ]
    }
   ],
   "source": [
    "input_rep = 5 * so3_rep**0 + 5 * so3_rep**1\n",
    "print(\"input rep\", input_rep)\n",
    "print(\"output rep\", so3_rep)\n",
    "\n",
    "input_point = np.random.randn(5 + 5 * 3)\n",
    "print(\"input features\", input_point[:5])\n",
    "print(\"input positions\\n\", input_point[5:].reshape(5, 3))"
   ]
  },
  {
   "cell_type": "code",
   "execution_count": 26,
   "metadata": {},
   "outputs": [
    {
     "name": "stdout",
     "output_type": "stream",
     "text": [
      "output [0.06717512 0.06940834 0.07979097]\n"
     ]
    }
   ],
   "source": [
    "model = emlp.nn.EMLP(input_rep, so3_rep, group=G, num_layers=1)\n",
    "output_point = model(input_point)\n",
    "print(\"output\", output_point)"
   ]
  },
  {
   "cell_type": "markdown",
   "metadata": {},
   "source": [
    "Now we’ll transform the input points according to a random element in the group. We could convert the input into the five spatial vectors and apply the group element to them individually and put them back together. However, emlp has a convenience function for exactly that. We can change our group element to the input representation."
   ]
  },
  {
   "cell_type": "code",
   "execution_count": 27,
   "metadata": {},
   "outputs": [
    {
     "name": "stdout",
     "output_type": "stream",
     "text": [
      "transformed input features [-0.35448664  1.5955397   2.1704266   0.45754197 -0.1137788 ]\n",
      "transformed input positions\n",
      " [[-0.6054832  -0.8885492  -0.36149913]\n",
      " [ 2.0459812   2.091223    0.25649914]\n",
      " [ 0.80348366  0.86466426  0.25958642]\n",
      " [-0.22587599  0.6679067   0.48966497]\n",
      " [ 0.3770598   1.1013914  -0.10159097]]\n"
     ]
    }
   ],
   "source": [
    "trans_input_point = input_rep.rho_dense(sampled_g) @ input_point\n",
    "print(\"transformed input features\", trans_input_point[:5])\n",
    "print(\"transformed input positions\\n\", trans_input_point[5:].reshape(5, 3))"
   ]
  },
  {
   "cell_type": "markdown",
   "metadata": {},
   "source": [
    "Now we compare running the transformed input through the model against applying the group element to the output from the untransformed input.\n",
    "\n"
   ]
  },
  {
   "cell_type": "code",
   "execution_count": 28,
   "metadata": {},
   "outputs": [
    {
     "data": {
      "text/plain": [
       "(Array([0.06717512, 0.06940834, 0.07979097], dtype=float32),\n",
       " Array([0.06717512, 0.06940834, 0.07979097], dtype=float32))"
      ]
     },
     "execution_count": 28,
     "metadata": {},
     "output_type": "execute_result"
    }
   ],
   "source": [
    "model(trans_input_point), sampled_g @ output_point\n"
   ]
  },
  {
   "cell_type": "markdown",
   "metadata": {},
   "source": [
    "Indeed they are equivalent – meaning this model is equivariant. The constraint approach is quite simple to use and can handle arbitrary groups. However, it may not be efficient when working with many input points (like a protein) and it may make sense to use an implementation specific to E(3) or SO(3).\n",
    "\n"
   ]
  },
  {
   "cell_type": "markdown",
   "metadata": {},
   "source": [
    "## 10.12.1. How the constraints work\n",
    "How does this magic happen? Rather than explicitly setting constraints on the dense layer weights, emlp always first projects the network weights into an equivariant subspace. This means that the cost of equivariance is paid when constructing the model when this projection matrix is found but not later during training and inference. The equivariant subspace is the space of allowed weights that respect the equivariance. Let’s see what this looks like.\n",
    "\n",
    "Recall that a dense layer has the equation:\n",
    "$$\n",
    "y=\\sigma(W x+b)\n",
    "$$\n",
    "where $\\sigma$ is a special nonlinearity for equivariant neural networks we won’t discuss here (see [WGW+18]). To respect the equivariance, $W, b$ will need to be projected into an equivariant subspace that depends on our group and input/output representations. So our modified equation would look like:\n",
    "$$\n",
    "y=\\sigma\\left(P_w W x+P_b b\\right)\n",
    "$$\n",
    "\n",
    "Let’s start by making these projectors. $P_b$ only will need to consider the output rep, since $b$ is the bias (same representation as output)."
   ]
  },
  {
   "cell_type": "code",
   "execution_count": 69,
   "metadata": {},
   "outputs": [
    {
     "name": "stdout",
     "output_type": "stream",
     "text": [
      "Pw shape is (60, 60) Pb shape is (3, 3)\n"
     ]
    }
   ],
   "source": [
    "Pw = (input_rep >> so3_rep).equivariant_projector()\n",
    "Pb = (so3_rep).equivariant_projector()\n",
    "\n",
    "print(\"Pw shape is\", Pw.shape, \"Pb shape is\", Pb.shape)"
   ]
  },
  {
   "cell_type": "markdown",
   "metadata": {},
   "source": [
    "Note that they are square because they should leave the underlying dimension of $W$ unchanged – we are not projecting to a reduce dimension, but a subspace within the space of possible values of the weights. Remember too our representations are flattened - that 60 comes from the fact that our weight matrix is \n",
    "$3 \\times (5 + 15)$.\n",
    "\n",
    "Now let’s show how these projectors can convert an arbitrary weight matrix into one that is equivariant"
   ]
  },
  {
   "cell_type": "code",
   "execution_count": 77,
   "metadata": {},
   "outputs": [
    {
     "name": "stdout",
     "output_type": "stream",
     "text": [
      "W is not alone equivariant [ 1.9014758 -2.2255647 -9.842474 ] != [ 1.9014758 -2.2255647 -9.842474 ]\n"
     ]
    }
   ],
   "source": [
    "W = np.random.randn(3, 5 + 5 * 3)\n",
    "# W = np.arange(3*(5+5*3)).reshape(3, 5 + 5 * 3)\n",
    "b = np.random.randn(3)\n",
    "\n",
    "\n",
    "print(\n",
    "    \"W is not alone equivariant\",\n",
    "    W @ trans_input_point.flatten(),\n",
    "    \"!=\",\n",
    "    sampled_g @ W @ input_point,\n",
    ")"
   ]
  },
  {
   "cell_type": "code",
   "execution_count": 78,
   "metadata": {},
   "outputs": [
    {
     "name": "stdout",
     "output_type": "stream",
     "text": [
      "Projected W is equivariant [ 1.4566665  -1.9830605  -0.30825925] == [ 1.4566665  -1.9830605  -0.30825925]\n"
     ]
    }
   ],
   "source": [
    "Proj_W = (Pw @ W.flatten()).reshape(W.shape)\n",
    "print(\n",
    "    \"Projected W is equivariant\",\n",
    "    Proj_W @ trans_input_point.flatten(),\n",
    "    \"==\",\n",
    "    sampled_g @ Proj_W @ input_point,\n",
    ")"
   ]
  },
  {
   "cell_type": "markdown",
   "metadata": {},
   "source": [
    "You may be wondering how much the projection affects $W$. Is there enough flexibility that you can learn? We can compare the full random matrix $W$ vs it’s projection."
   ]
  },
  {
   "cell_type": "code",
   "execution_count": 79,
   "metadata": {},
   "outputs": [
    {
     "data": {
      "image/png": "[encoded data removed]",
      "text/plain": [
       "<Figure size 640x480 with 1 Axes>"
      ]
     },
     "metadata": {},
     "output_type": "display_data"
    },
    {
     "data": {
      "image/png": "[encoded data removed]",
      "text/plain": [
       "<Figure size 640x480 with 1 Axes>"
      ]
     },
     "metadata": {},
     "output_type": "display_data"
    }
   ],
   "source": [
    "plt.title(\"Random W\")\n",
    "plt.imshow(W)\n",
    "plt.show()\n",
    "plt.title(\"Projected W\")\n",
    "plt.imshow(Proj_W)\n",
    "plt.show()"
   ]
  },
  {
   "cell_type": "code",
   "execution_count": 80,
   "metadata": {},
   "outputs": [
    {
     "data": {
      "text/plain": [
       "(60, 60)"
      ]
     },
     "execution_count": 80,
     "metadata": {},
     "output_type": "execute_result"
    }
   ],
   "source": [
    "Pw.shape"
   ]
  },
  {
   "cell_type": "code",
   "execution_count": 74,
   "metadata": {},
   "outputs": [
    {
     "data": {
      "text/plain": [
       "Array([[20.000002, 21.000004, 22.000002, 23.000002, 24.000004, 26.000006,\n",
       "        25.999998, 25.999998, 29.000008, 28.999998, 28.999998, 32.00001 ,\n",
       "        31.999996, 31.999996, 35.000008, 35.      , 34.999996, 38.00001 ,\n",
       "        38.      , 37.999996],\n",
       "       [20.000006, 21.000006, 22.000004, 23.000006, 24.000006, 26.      ,\n",
       "        26.000011, 25.999994, 29.      , 29.000013, 28.999994, 31.999996,\n",
       "        32.000015, 31.99999 , 34.999996, 35.000015, 34.999992, 38.      ,\n",
       "        38.00002 , 37.999996],\n",
       "       [20.000008, 21.000008, 22.000006, 23.000008, 24.000008, 25.999998,\n",
       "        25.999998, 26.000002, 28.999998, 28.999998, 29.000004, 31.999994,\n",
       "        31.999998, 32.000004, 34.999996, 34.999992, 35.      , 37.999996,\n",
       "        37.999996, 38.000004]], dtype=float32)"
      ]
     },
     "execution_count": 74,
     "metadata": {},
     "output_type": "execute_result"
    }
   ],
   "source": [
    "Proj_W"
   ]
  },
  {
   "cell_type": "code",
   "execution_count": 73,
   "metadata": {},
   "outputs": [
    {
     "data": {
      "text/plain": [
       "True"
      ]
     },
     "execution_count": 73,
     "metadata": {},
     "output_type": "execute_result"
    }
   ],
   "source": [
    "Pw2 = np.array(Proj_W)\n",
    "np.isin(Pw2, W).any()"
   ]
  },
  {
   "cell_type": "code",
   "execution_count": 37,
   "metadata": {},
   "outputs": [
    {
     "data": {
      "text/plain": [
       "True"
      ]
     },
     "execution_count": 37,
     "metadata": {},
     "output_type": "execute_result"
    }
   ],
   "source": [
    "# Example arrays\n",
    "array1 = np.array([[1, 2, 3], [4, 5, 6]])\n",
    "array2 = np.array([6, 7, 8, 9])\n",
    "\n",
    "# Check if any value in array1 is the same as any value in array2\n",
    "result = np.any(np.isin(array1, array2))\n",
    "result"
   ]
  },
  {
   "cell_type": "code",
   "execution_count": 38,
   "metadata": {},
   "outputs": [
    {
     "data": {
      "text/plain": [
       "((3, 20), (3, 20))"
      ]
     },
     "execution_count": 38,
     "metadata": {},
     "output_type": "execute_result"
    }
   ],
   "source": [
    "W.shape, Proj_W.shape"
   ]
  },
  {
   "cell_type": "code",
   "execution_count": 14,
   "metadata": {},
   "outputs": [
    {
     "data": {
      "text/plain": [
       "23"
      ]
     },
     "execution_count": 14,
     "metadata": {},
     "output_type": "execute_result"
    }
   ],
   "source": [
    "len(np.unique(np.round(Proj_W, 6)))"
   ]
  },
  {
   "cell_type": "markdown",
   "metadata": {},
   "source": [
    "It appears that there are only a few unique values in $W$ after projection, so that our weight space is effectively much lower dimensional. This is why it’s important to have multiple channels! This also demonstrates why emlp can be more expensive. We’re training 180 values but we could have just used a few. Similarly, the projected bias is zero for our system."
   ]
  },
  {
   "cell_type": "code",
   "execution_count": 15,
   "metadata": {},
   "outputs": [
    {
     "data": {
      "text/plain": [
       "Array([0.05033465, 0.05033465, 0.05033466], dtype=float32)"
      ]
     },
     "execution_count": 15,
     "metadata": {},
     "output_type": "execute_result"
    }
   ],
   "source": [
    "Pb @ b"
   ]
  }
 ],
 "metadata": {
  "kernelspec": {
   "display_name": "sympde",
   "language": "python",
   "name": "python3"
  },
  "language_info": {
   "codemirror_mode": {
    "name": "ipython",
    "version": 3
   },
   "file_extension": ".py",
   "mimetype": "text/x-python",
   "name": "python",
   "nbconvert_exporter": "python",
   "pygments_lexer": "ipython3",
   "version": "3.10.13"
  }
 },
 "nbformat": 4,
 "nbformat_minor": 2
}
