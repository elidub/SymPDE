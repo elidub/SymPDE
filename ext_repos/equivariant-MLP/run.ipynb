{
 "cells": [
  {
   "cell_type": "code",
   "execution_count": 20,
   "metadata": {},
   "outputs": [
    {
     "name": "stdout",
     "output_type": "stream",
     "text": [
      "The autoreload extension is already loaded. To reload it, use:\n",
      "  %reload_ext autoreload\n"
     ]
    }
   ],
   "source": [
    "%load_ext autoreload\n",
    "%autoreload 2\n",
    "\n",
    "import emlp\n",
    "from emlp.reps import V,T, vis\n",
    "from emlp.groups import *\n",
    "from emlp.groups import Lorentz\n",
    "import numpy as np"
   ]
  },
  {
   "cell_type": "code",
   "execution_count": 10,
   "metadata": {},
   "outputs": [],
   "source": [
    "G = O13()\n",
    "\n",
    "Q = (T(1,0)>>T(2,1))(G).equivariant_basis()"
   ]
  },
  {
   "cell_type": "code",
   "execution_count": 11,
   "metadata": {},
   "outputs": [],
   "source": [
    "G = RubiksCube()\n",
    "\n",
    "Q = (V(G)>>V(G)).equivariant_basis()"
   ]
  },
  {
   "cell_type": "code",
   "execution_count": 16,
   "metadata": {},
   "outputs": [
    {
     "ename": "NotImplementedError",
     "evalue": "",
     "output_type": "error",
     "traceback": [
      "\u001b[0;31m---------------------------------------------------------------------------\u001b[0m",
      "\u001b[0;31mNotImplementedError\u001b[0m                       Traceback (most recent call last)",
      "Cell \u001b[0;32mIn[16], line 7\u001b[0m\n\u001b[1;32m      4\u001b[0m repout \u001b[38;5;241m=\u001b[39m \u001b[38;5;241m3\u001b[39m\u001b[38;5;241m*\u001b[39mT(\u001b[38;5;241m0\u001b[39m)\u001b[38;5;241m+\u001b[39mT(\u001b[38;5;241m2\u001b[39m)\n\u001b[1;32m      5\u001b[0m Q \u001b[38;5;241m=\u001b[39m (repin(G)\u001b[38;5;241m>>\u001b[39mrepout(G))\u001b[38;5;241m.\u001b[39mequivariant_basis()\n\u001b[0;32m----> 7\u001b[0m \u001b[43mvis\u001b[49m\u001b[43m(\u001b[49m\u001b[43mrepin\u001b[49m\u001b[43m,\u001b[49m\u001b[43m \u001b[49m\u001b[43mrepout\u001b[49m\u001b[43m)\u001b[49m\n",
      "File \u001b[0;32m~/Documenten MBA/Studie/Thesis/SymPDE/ext_repos/equivariant-MLP/emlp/reps/representation.py:468\u001b[0m, in \u001b[0;36mvis\u001b[0;34m(repin, repout, cluster)\u001b[0m\n\u001b[1;32m    464\u001b[0m \u001b[38;5;250m\u001b[39m\u001b[38;5;124;03m\"\"\" A function to visualize the basis of equivariant maps repin>>repout\u001b[39;00m\n\u001b[1;32m    465\u001b[0m \u001b[38;5;124;03m    as an image. Only use cluster=True if you know Pv will only have\u001b[39;00m\n\u001b[1;32m    466\u001b[0m \u001b[38;5;124;03m    r distinct values (true for G<S(n) but not true for many continuous groups).\"\"\"\u001b[39;00m\n\u001b[1;32m    467\u001b[0m rep \u001b[38;5;241m=\u001b[39m (repin\u001b[38;5;241m>>\u001b[39mrepout)\n\u001b[0;32m--> 468\u001b[0m P \u001b[38;5;241m=\u001b[39m \u001b[43mrep\u001b[49m\u001b[38;5;241;43m.\u001b[39;49m\u001b[43mequivariant_projector\u001b[49m\u001b[43m(\u001b[49m\u001b[43m)\u001b[49m \u001b[38;5;66;03m# compute the equivariant basis\u001b[39;00m\n\u001b[1;32m    469\u001b[0m Q \u001b[38;5;241m=\u001b[39m rep\u001b[38;5;241m.\u001b[39mequivariant_basis()\n\u001b[1;32m    470\u001b[0m v \u001b[38;5;241m=\u001b[39m np\u001b[38;5;241m.\u001b[39mrandom\u001b[38;5;241m.\u001b[39mrandn(P\u001b[38;5;241m.\u001b[39mshape[\u001b[38;5;241m1\u001b[39m])  \u001b[38;5;66;03m# sample random vector\u001b[39;00m\n",
      "File \u001b[0;32m~/Documenten MBA/Studie/Thesis/SymPDE/ext_repos/equivariant-MLP/emlp/reps/representation.py:119\u001b[0m, in \u001b[0;36mRep.equivariant_projector\u001b[0;34m(self)\u001b[0m\n\u001b[1;32m    117\u001b[0m \u001b[38;5;28;01mdef\u001b[39;00m \u001b[38;5;21mequivariant_projector\u001b[39m(\u001b[38;5;28mself\u001b[39m):\n\u001b[1;32m    118\u001b[0m \u001b[38;5;250m    \u001b[39m\u001b[38;5;124;03m\"\"\" Computes the (lazy) projection matrix P=QQᵀ that projects to the equivariant basis.\"\"\"\u001b[39;00m\n\u001b[0;32m--> 119\u001b[0m     Q \u001b[38;5;241m=\u001b[39m \u001b[38;5;28;43mself\u001b[39;49m\u001b[38;5;241;43m.\u001b[39;49m\u001b[43mequivariant_basis\u001b[49m\u001b[43m(\u001b[49m\u001b[43m)\u001b[49m\n\u001b[1;32m    120\u001b[0m     Q_lazy \u001b[38;5;241m=\u001b[39m lazify(Q)\n\u001b[1;32m    121\u001b[0m     P \u001b[38;5;241m=\u001b[39m Q_lazy\u001b[38;5;129m@Q_lazy\u001b[39m\u001b[38;5;241m.\u001b[39mH\n",
      "File \u001b[0;32m~/Documenten MBA/Studie/Thesis/SymPDE/ext_repos/equivariant-MLP/emlp/reps/representation.py:102\u001b[0m, in \u001b[0;36mRep.equivariant_basis\u001b[0;34m(self)\u001b[0m\n\u001b[1;32m     99\u001b[0m \u001b[38;5;250m\u001b[39m\u001b[38;5;124;03m\"\"\" Computes the equivariant solution basis for the given representation of size N.\u001b[39;00m\n\u001b[1;32m    100\u001b[0m \u001b[38;5;124;03m    Canonicalizes problems and caches solutions for reuse. Output [Q (N,r)] \"\"\"\u001b[39;00m\n\u001b[1;32m    101\u001b[0m \u001b[38;5;28;01mif\u001b[39;00m \u001b[38;5;28mself\u001b[39m\u001b[38;5;241m==\u001b[39mScalar: \u001b[38;5;28;01mreturn\u001b[39;00m jnp\u001b[38;5;241m.\u001b[39mones((\u001b[38;5;241m1\u001b[39m,\u001b[38;5;241m1\u001b[39m))\n\u001b[0;32m--> 102\u001b[0m canon_rep,perm \u001b[38;5;241m=\u001b[39m \u001b[38;5;28;43mself\u001b[39;49m\u001b[38;5;241;43m.\u001b[39;49m\u001b[43mcanonicalize\u001b[49m\u001b[43m(\u001b[49m\u001b[43m)\u001b[49m\n\u001b[1;32m    103\u001b[0m invperm \u001b[38;5;241m=\u001b[39m np\u001b[38;5;241m.\u001b[39margsort(perm)\n\u001b[1;32m    104\u001b[0m \u001b[38;5;28;01mif\u001b[39;00m canon_rep \u001b[38;5;129;01mnot\u001b[39;00m \u001b[38;5;129;01min\u001b[39;00m \u001b[38;5;28mself\u001b[39m\u001b[38;5;241m.\u001b[39msolcache:\n",
      "File \u001b[0;32m~/Documenten MBA/Studie/Thesis/SymPDE/ext_repos/equivariant-MLP/emlp/reps/representation.py:78\u001b[0m, in \u001b[0;36mRep.canonicalize\u001b[0;34m(self)\u001b[0m\n\u001b[1;32m     72\u001b[0m \u001b[38;5;28;01mdef\u001b[39;00m \u001b[38;5;21mcanonicalize\u001b[39m(\u001b[38;5;28mself\u001b[39m): \n\u001b[1;32m     73\u001b[0m \u001b[38;5;250m    \u001b[39m\u001b[38;5;124;03m\"\"\" An optional method to convert the representation into a canonical form\u001b[39;00m\n\u001b[1;32m     74\u001b[0m \u001b[38;5;124;03m        in order to reuse equivalent solutions in the solver. Should return\u001b[39;00m\n\u001b[1;32m     75\u001b[0m \u001b[38;5;124;03m        both the canonically ordered representation, along with a permutation\u001b[39;00m\n\u001b[1;32m     76\u001b[0m \u001b[38;5;124;03m        which can be applied to vectors of the current representation to achieve\u001b[39;00m\n\u001b[1;32m     77\u001b[0m \u001b[38;5;124;03m        that ordering. \"\"\"\u001b[39;00m\n\u001b[0;32m---> 78\u001b[0m     \u001b[38;5;28;01mreturn\u001b[39;00m \u001b[38;5;28mself\u001b[39m, np\u001b[38;5;241m.\u001b[39marange(\u001b[38;5;28;43mself\u001b[39;49m\u001b[38;5;241;43m.\u001b[39;49m\u001b[43msize\u001b[49m\u001b[43m(\u001b[49m\u001b[43m)\u001b[49m)\n",
      "File \u001b[0;32m~/Documenten MBA/Studie/Thesis/SymPDE/ext_repos/equivariant-MLP/emlp/reps/representation.py:70\u001b[0m, in \u001b[0;36mRep.size\u001b[0;34m(self)\u001b[0m\n\u001b[1;32m     68\u001b[0m     \u001b[38;5;28mself\u001b[39m\u001b[38;5;241m.\u001b[39m_size \u001b[38;5;241m=\u001b[39m \u001b[38;5;28mself\u001b[39m\u001b[38;5;241m.\u001b[39mrho(\u001b[38;5;28mself\u001b[39m\u001b[38;5;241m.\u001b[39mG\u001b[38;5;241m.\u001b[39msample())\u001b[38;5;241m.\u001b[39mshape[\u001b[38;5;241m-\u001b[39m\u001b[38;5;241m1\u001b[39m]\n\u001b[1;32m     69\u001b[0m     \u001b[38;5;28;01mreturn\u001b[39;00m \u001b[38;5;28mself\u001b[39m\u001b[38;5;241m.\u001b[39m_size\n\u001b[0;32m---> 70\u001b[0m \u001b[38;5;28;01melse\u001b[39;00m: \u001b[38;5;28;01mraise\u001b[39;00m \u001b[38;5;167;01mNotImplementedError\u001b[39;00m\n",
      "\u001b[0;31mNotImplementedError\u001b[0m: "
     ]
    }
   ],
   "source": [
    "G=S(5)\n",
    "\n",
    "repin = 10*T(1)+5*T(2)\n",
    "repout = 3*T(0)+T(2)\n",
    "Q = (repin(G)>>repout(G)).equivariant_basis()\n",
    "\n",
    "vis(repin, repout)\n"
   ]
  },
  {
   "cell_type": "code",
   "execution_count": null,
   "metadata": {},
   "outputs": [],
   "source": [
    "\n",
    "rep = 2*V(Z(3))*V(S(4))+V(O(3))**2\n",
    "Q = (rep>>rep).equivariant_basis()"
   ]
  },
  {
   "cell_type": "markdown",
   "metadata": {},
   "source": [
    "### Simple example of using EMLP as a full equivariant model"
   ]
  },
  {
   "cell_type": "code",
   "execution_count": 19,
   "metadata": {},
   "outputs": [],
   "source": [
    "repin = 4*T(1)+2*T(0) # 4 four vectors and 2 scalars for the charges\n",
    "repout = 3*T(0) # 3 output logits for the 3 classes of collisions"
   ]
  },
  {
   "cell_type": "code",
   "execution_count": 24,
   "metadata": {},
   "outputs": [
    {
     "ename": "NotImplementedError",
     "evalue": "",
     "output_type": "error",
     "traceback": [
      "\u001b[0;31m---------------------------------------------------------------------------\u001b[0m",
      "\u001b[0;31mNotImplementedError\u001b[0m                       Traceback (most recent call last)",
      "Cell \u001b[0;32mIn[24], line 1\u001b[0m\n\u001b[0;32m----> 1\u001b[0m \u001b[43mvis\u001b[49m\u001b[43m(\u001b[49m\u001b[43mrepin\u001b[49m\u001b[43m,\u001b[49m\u001b[43m \u001b[49m\u001b[43mrepout\u001b[49m\u001b[43m)\u001b[49m\n",
      "File \u001b[0;32m~/Documenten MBA/Studie/Thesis/SymPDE/ext_repos/equivariant-MLP/emlp/reps/representation.py:468\u001b[0m, in \u001b[0;36mvis\u001b[0;34m(repin, repout, cluster)\u001b[0m\n\u001b[1;32m    464\u001b[0m \u001b[38;5;250m\u001b[39m\u001b[38;5;124;03m\"\"\" A function to visualize the basis of equivariant maps repin>>repout\u001b[39;00m\n\u001b[1;32m    465\u001b[0m \u001b[38;5;124;03m    as an image. Only use cluster=True if you know Pv will only have\u001b[39;00m\n\u001b[1;32m    466\u001b[0m \u001b[38;5;124;03m    r distinct values (true for G<S(n) but not true for many continuous groups).\"\"\"\u001b[39;00m\n\u001b[1;32m    467\u001b[0m rep \u001b[38;5;241m=\u001b[39m (repin\u001b[38;5;241m>>\u001b[39mrepout)\n\u001b[0;32m--> 468\u001b[0m P \u001b[38;5;241m=\u001b[39m \u001b[43mrep\u001b[49m\u001b[38;5;241;43m.\u001b[39;49m\u001b[43mequivariant_projector\u001b[49m\u001b[43m(\u001b[49m\u001b[43m)\u001b[49m \u001b[38;5;66;03m# compute the equivariant basis\u001b[39;00m\n\u001b[1;32m    469\u001b[0m Q \u001b[38;5;241m=\u001b[39m rep\u001b[38;5;241m.\u001b[39mequivariant_basis()\n\u001b[1;32m    470\u001b[0m v \u001b[38;5;241m=\u001b[39m np\u001b[38;5;241m.\u001b[39mrandom\u001b[38;5;241m.\u001b[39mrandn(P\u001b[38;5;241m.\u001b[39mshape[\u001b[38;5;241m1\u001b[39m])  \u001b[38;5;66;03m# sample random vector\u001b[39;00m\n",
      "File \u001b[0;32m~/Documenten MBA/Studie/Thesis/SymPDE/ext_repos/equivariant-MLP/emlp/reps/representation.py:119\u001b[0m, in \u001b[0;36mRep.equivariant_projector\u001b[0;34m(self)\u001b[0m\n\u001b[1;32m    117\u001b[0m \u001b[38;5;28;01mdef\u001b[39;00m \u001b[38;5;21mequivariant_projector\u001b[39m(\u001b[38;5;28mself\u001b[39m):\n\u001b[1;32m    118\u001b[0m \u001b[38;5;250m    \u001b[39m\u001b[38;5;124;03m\"\"\" Computes the (lazy) projection matrix P=QQᵀ that projects to the equivariant basis.\"\"\"\u001b[39;00m\n\u001b[0;32m--> 119\u001b[0m     Q \u001b[38;5;241m=\u001b[39m \u001b[38;5;28;43mself\u001b[39;49m\u001b[38;5;241;43m.\u001b[39;49m\u001b[43mequivariant_basis\u001b[49m\u001b[43m(\u001b[49m\u001b[43m)\u001b[49m\n\u001b[1;32m    120\u001b[0m     Q_lazy \u001b[38;5;241m=\u001b[39m lazify(Q)\n\u001b[1;32m    121\u001b[0m     P \u001b[38;5;241m=\u001b[39m Q_lazy\u001b[38;5;129m@Q_lazy\u001b[39m\u001b[38;5;241m.\u001b[39mH\n",
      "File \u001b[0;32m~/Documenten MBA/Studie/Thesis/SymPDE/ext_repos/equivariant-MLP/emlp/reps/representation.py:102\u001b[0m, in \u001b[0;36mRep.equivariant_basis\u001b[0;34m(self)\u001b[0m\n\u001b[1;32m     99\u001b[0m \u001b[38;5;250m\u001b[39m\u001b[38;5;124;03m\"\"\" Computes the equivariant solution basis for the given representation of size N.\u001b[39;00m\n\u001b[1;32m    100\u001b[0m \u001b[38;5;124;03m    Canonicalizes problems and caches solutions for reuse. Output [Q (N,r)] \"\"\"\u001b[39;00m\n\u001b[1;32m    101\u001b[0m \u001b[38;5;28;01mif\u001b[39;00m \u001b[38;5;28mself\u001b[39m\u001b[38;5;241m==\u001b[39mScalar: \u001b[38;5;28;01mreturn\u001b[39;00m jnp\u001b[38;5;241m.\u001b[39mones((\u001b[38;5;241m1\u001b[39m,\u001b[38;5;241m1\u001b[39m))\n\u001b[0;32m--> 102\u001b[0m canon_rep,perm \u001b[38;5;241m=\u001b[39m \u001b[38;5;28;43mself\u001b[39;49m\u001b[38;5;241;43m.\u001b[39;49m\u001b[43mcanonicalize\u001b[49m\u001b[43m(\u001b[49m\u001b[43m)\u001b[49m\n\u001b[1;32m    103\u001b[0m invperm \u001b[38;5;241m=\u001b[39m np\u001b[38;5;241m.\u001b[39margsort(perm)\n\u001b[1;32m    104\u001b[0m \u001b[38;5;28;01mif\u001b[39;00m canon_rep \u001b[38;5;129;01mnot\u001b[39;00m \u001b[38;5;129;01min\u001b[39;00m \u001b[38;5;28mself\u001b[39m\u001b[38;5;241m.\u001b[39msolcache:\n",
      "File \u001b[0;32m~/Documenten MBA/Studie/Thesis/SymPDE/ext_repos/equivariant-MLP/emlp/reps/representation.py:78\u001b[0m, in \u001b[0;36mRep.canonicalize\u001b[0;34m(self)\u001b[0m\n\u001b[1;32m     72\u001b[0m \u001b[38;5;28;01mdef\u001b[39;00m \u001b[38;5;21mcanonicalize\u001b[39m(\u001b[38;5;28mself\u001b[39m): \n\u001b[1;32m     73\u001b[0m \u001b[38;5;250m    \u001b[39m\u001b[38;5;124;03m\"\"\" An optional method to convert the representation into a canonical form\u001b[39;00m\n\u001b[1;32m     74\u001b[0m \u001b[38;5;124;03m        in order to reuse equivalent solutions in the solver. Should return\u001b[39;00m\n\u001b[1;32m     75\u001b[0m \u001b[38;5;124;03m        both the canonically ordered representation, along with a permutation\u001b[39;00m\n\u001b[1;32m     76\u001b[0m \u001b[38;5;124;03m        which can be applied to vectors of the current representation to achieve\u001b[39;00m\n\u001b[1;32m     77\u001b[0m \u001b[38;5;124;03m        that ordering. \"\"\"\u001b[39;00m\n\u001b[0;32m---> 78\u001b[0m     \u001b[38;5;28;01mreturn\u001b[39;00m \u001b[38;5;28mself\u001b[39m, np\u001b[38;5;241m.\u001b[39marange(\u001b[38;5;28;43mself\u001b[39;49m\u001b[38;5;241;43m.\u001b[39;49m\u001b[43msize\u001b[49m\u001b[43m(\u001b[49m\u001b[43m)\u001b[49m)\n",
      "File \u001b[0;32m~/Documenten MBA/Studie/Thesis/SymPDE/ext_repos/equivariant-MLP/emlp/reps/representation.py:70\u001b[0m, in \u001b[0;36mRep.size\u001b[0;34m(self)\u001b[0m\n\u001b[1;32m     68\u001b[0m     \u001b[38;5;28mself\u001b[39m\u001b[38;5;241m.\u001b[39m_size \u001b[38;5;241m=\u001b[39m \u001b[38;5;28mself\u001b[39m\u001b[38;5;241m.\u001b[39mrho(\u001b[38;5;28mself\u001b[39m\u001b[38;5;241m.\u001b[39mG\u001b[38;5;241m.\u001b[39msample())\u001b[38;5;241m.\u001b[39mshape[\u001b[38;5;241m-\u001b[39m\u001b[38;5;241m1\u001b[39m]\n\u001b[1;32m     69\u001b[0m     \u001b[38;5;28;01mreturn\u001b[39;00m \u001b[38;5;28mself\u001b[39m\u001b[38;5;241m.\u001b[39m_size\n\u001b[0;32m---> 70\u001b[0m \u001b[38;5;28;01melse\u001b[39;00m: \u001b[38;5;28;01mraise\u001b[39;00m \u001b[38;5;167;01mNotImplementedError\u001b[39;00m\n",
      "\u001b[0;31mNotImplementedError\u001b[0m: "
     ]
    }
   ],
   "source": [
    "vis(repin, repout)"
   ]
  },
  {
   "cell_type": "code",
   "execution_count": 22,
   "metadata": {},
   "outputs": [
    {
     "name": "stderr",
     "output_type": "stream",
     "text": [
      "Krylov Solving for Equivariant Subspace r<=10: 100%|██████████| 100/100 [00:02<00:00, 47.52it/s] \n",
      "Krylov Solving for Equivariant Subspace r<=20: 100%|██████████| 100/100 [00:03<00:00, 29.66it/s] \n"
     ]
    }
   ],
   "source": [
    "group = Lorentz()\n",
    "model = emlp.nn.EMLP(repin,repout,group=group,num_layers=3,ch=384)"
   ]
  },
  {
   "cell_type": "code",
   "execution_count": 23,
   "metadata": {},
   "outputs": [],
   "source": [
    "x = np.random.randn(32,repin(group).size()) # Create a minibatch of data\n",
    "y = model(x) # Outputs the 3 class logits"
   ]
  }
 ],
 "metadata": {
  "kernelspec": {
   "display_name": "sympde",
   "language": "python",
   "name": "python3"
  },
  "language_info": {
   "codemirror_mode": {
    "name": "ipython",
    "version": 3
   },
   "file_extension": ".py",
   "mimetype": "text/x-python",
   "name": "python",
   "nbconvert_exporter": "python",
   "pygments_lexer": "ipython3",
   "version": "3.10.13"
  }
 },
 "nbformat": 4,
 "nbformat_minor": 2
}
