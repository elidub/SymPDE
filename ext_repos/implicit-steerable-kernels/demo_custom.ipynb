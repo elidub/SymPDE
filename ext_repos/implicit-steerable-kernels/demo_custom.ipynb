{
 "cells": [
  {
   "cell_type": "code",
   "execution_count": 61,
   "metadata": {},
   "outputs": [
    {
     "name": "stdout",
     "output_type": "stream",
     "text": [
      "The autoreload extension is already loaded. To reload it, use:\n",
      "  %reload_ext autoreload\n"
     ]
    }
   ],
   "source": [
    "%load_ext autoreload\n",
    "%autoreload 2\n",
    "\n",
    "import torch\n",
    "import numpy as np\n",
    "from escnn import nn, group, gspaces\n",
    "from matplotlib import pyplot as plt\n",
    "\n",
    "from models.core.point_convolution import ImplicitPointConv\n",
    "from utils.utils import get_elu\n",
    "from models.core.implicit_kernel import ImplicitKernelSON"
   ]
  },
  {
   "cell_type": "markdown",
   "metadata": {},
   "source": [
    "# Azymuthal-rotation equivariant model"
   ]
  },
  {
   "cell_type": "markdown",
   "metadata": {},
   "source": [
    "Let's implement a convolutional layer that is equivariant under rotations around the z-axis and acts on field on $\\mathbb{R}^3$.\n",
    "\n",
    "Since we work in escnn, we need to specify the group space, and indicate which subgroup of O(3) we work with."
   ]
  },
  {
   "cell_type": "code",
   "execution_count": 62,
   "metadata": {},
   "outputs": [],
   "source": [
    "gspace = gspaces.rot2dOnR3() # SO(2) on R^3\n",
    "subgroup_id = gspace._sg_id[:-1] # indicator for the subgroup SO(2) \\in O(3)"
   ]
  },
  {
   "cell_type": "markdown",
   "metadata": {},
   "source": [
    "We assume that our input is 3 vector fields and 2 scalar fields, and the output is 1 vector field."
   ]
  },
  {
   "cell_type": "code",
   "execution_count": 63,
   "metadata": {},
   "outputs": [],
   "source": [
    "# restrict the standard representation of O(3) to SO(2)\n",
    "std_repr = group.o3_group().standard_representation().restrict(subgroup_id) \n",
    "triv_repr = gspace.trivial_repr \n",
    "\n",
    "in_repr = 3*[std_repr] + 2*[triv_repr]\n",
    "out_repr = 1*[std_repr] + 1*[triv_repr]\n",
    "\n",
    "# set field type of the input and output\n",
    "in_type = gspace.type(*in_repr)\n",
    "out_type = gspace.type(*out_repr)"
   ]
  },
  {
   "cell_type": "markdown",
   "metadata": {},
   "source": [
    "Implicit point convolution takes as input node and edge features of a geometric graph.\n",
    "\n",
    "Hence, we have to specify the representation of edge features.\n",
    "\n",
    "Let us assume that we have 2 edge features,  one of which is a scalar field and one is a vector field."
   ]
  },
  {
   "cell_type": "code",
   "execution_count": 64,
   "metadata": {},
   "outputs": [],
   "source": [
    "edge_repr = 1*[gspaces.no_base_space(group.o3_group()).trivial_repr] + 1*[group.o3_group().standard_representation()]"
   ]
  },
  {
   "cell_type": "markdown",
   "metadata": {},
   "source": [
    "[OPTIONAL] For better initialization, we can give an approximate feature distribution to the kernel.\n",
    "\n",
    "First element is for relative positions, second is for additional edge features specified above.\n",
    "\n",
    "Assuming that edge features follow a normal distribution with mean 0 and std 0.5, we have:"
   ]
  },
  {
   "cell_type": "code",
   "execution_count": 65,
   "metadata": {},
   "outputs": [],
   "source": [
    "edge_distr = [None, torch.distributions.Normal(torch.zeros(4), 0.5*torch.ones(4))]"
   ]
  },
  {
   "cell_type": "markdown",
   "metadata": {},
   "source": [
    "We also need to specify the order of harmonic polynomials we use in the implicit kernel.\n",
    "\n",
    "Let's use polynomials of order 2."
   ]
  },
  {
   "cell_type": "code",
   "execution_count": 66,
   "metadata": {},
   "outputs": [],
   "source": [
    "hp_order = 2"
   ]
  },
  {
   "cell_type": "markdown",
   "metadata": {},
   "source": [
    "Let us now build a Steerable CNN model with 3 convolutional layers and QuotientFourier non-linearity.\n",
    "\n",
    "It is important to say that implicit kernels only support uniform representations.\n",
    "\n",
    "It means that the input and output representations of the model must be the copies of the same representation.\n",
    "\n",
    "This is not a limitatiom per se, since we can always map a non-uniform representation to a uniform one, e.g. using a Projector module."
   ]
  },
  {
   "cell_type": "markdown",
   "metadata": {},
   "source": [
    "Last, we need to specify parameters of the MLP with which we parametrize steerable filters."
   ]
  },
  {
   "cell_type": "code",
   "execution_count": 67,
   "metadata": {},
   "outputs": [],
   "source": [
    "mlp_params = dict(n_layers=3, \n",
    "                  n_channels=8, \n",
    "                  act_fn='elu', \n",
    "                  use_tp=False)"
   ]
  },
  {
   "cell_type": "code",
   "execution_count": 68,
   "metadata": {},
   "outputs": [],
   "source": [
    "class Projector(nn.EquivariantModule):\n",
    "    def __init__(self, in_type: nn.FieldType, out_type: nn.FieldType):\n",
    "        super().__init__()\n",
    "        G = in_type.gspace.fibergroup\n",
    "        gspace = gspaces.no_base_space(G)\n",
    "        self.in_type = in_type\n",
    "        self.hid_type1 = gspace.type(*in_type.representations)\n",
    "        self.hid_type2 = gspace.type(*out_type.representations)\n",
    "        self.linear = nn.Linear(self.hid_type1, self.hid_type2) \n",
    "        self.out_type = out_type\n",
    "    \n",
    "    def forward(self, x):\n",
    "        x, coords = x.tensor, x.coords\n",
    "        x = self.hid_type1(x)\n",
    "        x = self.linear(x)\n",
    "        x = nn.GeometricTensor(x.tensor, self.out_type, coords)\n",
    "        return x\n",
    "    \n",
    "    def evaluate_output_shape(self):\n",
    "        pass"
   ]
  },
  {
   "cell_type": "code",
   "execution_count": 69,
   "metadata": {},
   "outputs": [
    {
     "name": "stdout",
     "output_type": "stream",
     "text": [
      "3 hidden fields with representation: SO(2)|[regular_[(0,)|(1,)]]:3\n"
     ]
    }
   ],
   "source": [
    "# We use 16 hidden channels for all layers and band-limit representations up to frequency L=1\n",
    "hidden_channels = 3\n",
    "L = 1\n",
    "\n",
    "activation = get_elu(gspace = in_type.gspace, L = L, channels = hidden_channels)\n",
    "\n",
    "# in Steerable CNNs, hidden channels are determined by the activation function.\n",
    "hidden_type = activation.out_type\n",
    "# print(f\"hidden type: {hidden_type} with size {hidden_type.size}\\nL = {L}, hidden channels = {hidden_channels}\")\n",
    "print(f\"{hidden_channels} hidden fields with representation: {hidden_type.representations[0]}\")\n",
    "\n",
    "proj_in = Projector(in_type, hidden_type)\n",
    "\n",
    "layer1 = ImplicitPointConv(\n",
    "    in_type=hidden_type,\n",
    "    out_type=hidden_type,\n",
    "    edge_repr=edge_repr,\n",
    "    hp_order=hp_order,\n",
    "    edge_distr=edge_distr,\n",
    "    **mlp_params)\n",
    "\n",
    "x = x_org = nn.GeometricTensor(torch.randn(10,hidden_type.size), layer1.in_type, torch.randn(10,3))\n",
    "\n",
    "edge_index = torch.randint(0, 10, (2, 20))\n",
    "edge_delta = torch.randn(20,3)\n",
    "edge_attr = torch.randn(20,4)\n",
    "\n",
    "outa_orgimpl = layer1(x=x, edge_index=edge_index, edge_delta=edge_delta, edge_attr=edge_attr, idx_downsampled=None)"
   ]
  },
  {
   "cell_type": "markdown",
   "metadata": {},
   "source": [
    "# Test equivariance\n",
    "\n",
    "We need to specify the type of edge features for the layer (it is done automatically inside the implicit kernel)"
   ]
  },
  {
   "cell_type": "code",
   "execution_count": 70,
   "metadata": {},
   "outputs": [],
   "source": [
    "std_type = gspaces.no_base_space(group.o3_group()).type(*[group.o3_group().standard_representation()]).restrict(subgroup_id) \n",
    "edge_type = gspaces.no_base_space(group.o3_group()).type(*edge_repr).restrict(subgroup_id) "
   ]
  },
  {
   "cell_type": "code",
   "execution_count": 71,
   "metadata": {},
   "outputs": [],
   "source": [
    "x = x_org = nn.GeometricTensor(torch.randn(10,hidden_type.size), layer1.in_type, torch.randn(10,3))\n",
    "\n",
    "edge_index = torch.randint(0, 10, (2, 20))\n",
    "edge_delta = torch.randn(20,3)\n",
    "edge_attr = torch.randn(20,4)\n",
    "\n",
    "\n",
    "el = list(gspace.testing_elements)[10]"
   ]
  },
  {
   "cell_type": "code",
   "execution_count": 72,
   "metadata": {},
   "outputs": [],
   "source": [
    "def aggregate(src, index, dim_size, dim):\n",
    "    \"\"\"\n",
    "    From \n",
    "    - /Users/elias/anaconda3/envs/sympde/lib/python3.10/site-packages/torch_geometric/nn/conv/message_passing.py\n",
    "    - /Users/elias/anaconda3/envs/sympde/lib/python3.10/site-packages/torch_geometric/nn/resolver.py\n",
    "    - /Users/elias/anaconda3/envs/sympde/lib/python3.10/site-packages/torch_geometric/nn/aggr/base.py\n",
    "    - /Users/elias/anaconda3/envs/sympde/lib/python3.10/site-packages/torch_geometric/nn/aggr/basic.py\n",
    "    - /Users/elias/anaconda3/envs/sympde/lib/python3.10/site-packages/torch_geometric/utils/scatter.py\n",
    "    \"\"\"\n",
    "\n",
    "    def broadcast(src, ref, dim: int):\n",
    "        size = ((1, ) * dim) + (-1, ) + ((1, ) * (ref.dim() - dim - 1))\n",
    "        return src.view(size).expand_as(ref)\n",
    "    \n",
    "    size = src.size()[:dim] + (dim_size, ) + src.size()[dim + 1:]\n",
    "\n",
    "    count = src.new_zeros(dim_size)\n",
    "    count.scatter_add_(0, index, src.new_ones(src.size(dim)))\n",
    "    count = count.clamp(min=1)\n",
    "\n",
    "    index = broadcast(index, src, dim)\n",
    "    out = src.new_zeros(size).scatter_add_(dim, index, src)\n",
    "\n",
    "    out = out / broadcast(count, out, dim)\n",
    "    return out\n"
   ]
  },
  {
   "cell_type": "code",
   "execution_count": 73,
   "metadata": {},
   "outputs": [],
   "source": [
    "in_repr, out_repr = hidden_type, hidden_type\n",
    "\n",
    "k = implicit_kernel = ImplicitKernelSON(\n",
    "    in_repr=in_repr, \n",
    "    out_repr=out_repr,\n",
    "    edge_repr=edge_repr, \n",
    "    hp_order=hp_order,\n",
    "    **mlp_params\n",
    "    )"
   ]
  },
  {
   "cell_type": "code",
   "execution_count": 74,
   "metadata": {},
   "outputs": [
    {
     "data": {
      "text/plain": [
       "{'n_layers': 3, 'n_channels': 8, 'act_fn': 'elu', 'use_tp': False}"
      ]
     },
     "execution_count": 74,
     "metadata": {},
     "output_type": "execute_result"
    }
   ],
   "source": [
    "mlp_params"
   ]
  },
  {
   "cell_type": "code",
   "execution_count": 83,
   "metadata": {},
   "outputs": [
    {
     "name": "stdout",
     "output_type": "stream",
     "text": [
      "max 2.02e-03, mean 1.96e-04, std 3.06e-04\n"
     ]
    }
   ],
   "source": [
    "\n",
    "\n",
    "## Tranform a\n",
    "x_a = x_org\n",
    "\n",
    "\n",
    "\n",
    "x = k.transform_coords(edge_delta)\n",
    "x = nn.GeometricTensor(torch.cat([x.tensor, edge_attr], 1), k.mlp.in_type)\n",
    "x = k.mlp(x)\n",
    "x = k.transform_mlp(x, edge_delta, init=True)\n",
    "c_in, c_out  = len(in_repr), len(out_repr)\n",
    "delta_in, delta_out = int(in_repr.size / len(in_repr)), int(out_repr.size / len(out_repr))\n",
    "filter = x.reshape((-1, c_out * delta_out, c_in * delta_in)) # shape: [n_edges, c_out, c_in]\n",
    "\n",
    "x_j = torch.stack([x_a.tensor[i] for i in edge_index[0]]) # shape: [n_edges, c_in]\n",
    "outa_einsum = torch.einsum('noi,ni->no', filter, x_j) # shape: [2*n_edges, c_out]\n",
    "outa = aggregate(src=outa_einsum, index=edge_index[1], dim_size=10, dim=0) # shape: [n_edges, c_out]\n",
    "\n",
    "outa = nn.GeometricTensor(outa, type = hidden_type, coords=x_a.coords) \n",
    "\n",
    "outa = outa.transform_fibers(el)\n",
    "outa = outa.tensor.detach()\n",
    "\n",
    "\n",
    "\n",
    "### Tranform b\n",
    "x_b = x_transformed = x_org.transform_fibers(el)\n",
    "edge_delta_transformed = nn.GeometricTensor(edge_delta, std_type).transform_fibers(el).tensor\n",
    "edge_attr_transformed = nn.GeometricTensor(edge_attr, edge_type).transform_fibers(el).tensor\n",
    "\n",
    "x = k.transform_coords(edge_delta_transformed)\n",
    "x0 = x = nn.GeometricTensor(torch.cat([x.tensor, edge_attr_transformed], 1), k.mlp.in_type)\n",
    "x1 = x = k.mlp(x)\n",
    "x_tranf = x = k.transform_mlp(x, edge_delta_transformed, init=True)\n",
    "filter_tranformed = x.reshape((-1, c_out * delta_out, c_in * delta_in)) # shape: [n_edges, c_out, c_in]\n",
    "\n",
    "x_j = torch.stack([x_b.tensor[i] for i in edge_index[0]]) # shape: [n_edges, c_in]\n",
    "outb_einsum = torch.einsum('noi,ni->no', filter_tranformed, x_j) # shape: [2*n_edges, c_out]\n",
    "outb = aggregate(src=outb_einsum, index=edge_index[1], dim_size=10, dim=0) # shape: [n_edges, c_out]\n",
    "\n",
    "outb = nn.GeometricTensor(outb, type = hidden_type, coords=x_b.coords)\n",
    "outb = outb.tensor.detach().numpy()\n",
    "\n",
    "diff = np.abs(outa - outb)\n",
    "\n",
    "print(f\"max {diff.max():.2e}, mean {diff.mean():.2e}, std {diff.std():.2e}\")"
   ]
  },
  {
   "cell_type": "code",
   "execution_count": 84,
   "metadata": {},
   "outputs": [
    {
     "data": {
      "image/png": "[encoded data removed]",
      "text/plain": [
       "<Figure size 600x500 with 4 Axes>"
      ]
     },
     "metadata": {},
     "output_type": "display_data"
    }
   ],
   "source": [
    "plots = [filter_tranformed[0].detach().numpy(), filter[0].detach().numpy()]\n",
    "\n",
    "n_plots = len(plots)\n",
    "fig, axs = plt.subplots(1,n_plots, figsize = (3*n_plots,5))\n",
    "for ax, p in zip(axs, plots):\n",
    "    im = ax.imshow(p)\n",
    "    fig.colorbar(im, ax=ax, shrink=0.5)\n",
    "plt.show()"
   ]
  },
  {
   "cell_type": "code",
   "execution_count": 85,
   "metadata": {},
   "outputs": [
    {
     "data": {
      "text/plain": [
       "(torch.Size([20, 13]),\n",
       " torch.Size([20, 81]),\n",
       " torch.Size([20, 3, 3, 3, 3]),\n",
       " torch.Size([20, 9, 9]),\n",
       " torch.Size([20, 9]),\n",
       " (10, 9))"
      ]
     },
     "execution_count": 85,
     "metadata": {},
     "output_type": "execute_result"
    }
   ],
   "source": [
    "x0.shape, x1.shape, x_tranf.shape, filter_tranformed.shape, outb_einsum.shape, outb.shape"
   ]
  },
  {
   "cell_type": "code",
   "execution_count": 77,
   "metadata": {},
   "outputs": [
    {
     "data": {
      "text/plain": [
       "(torch.Size([20, 3]),\n",
       " torch.Size([20, 4]),\n",
       " torch.Size([20, 9, 9]),\n",
       " torch.Size([20, 9]))"
      ]
     },
     "execution_count": 77,
     "metadata": {},
     "output_type": "execute_result"
    }
   ],
   "source": [
    "edge_delta.shape, edge_attr.shape, filter_tranformed.shape, outb_einsum.shape"
   ]
  },
  {
   "cell_type": "code",
   "execution_count": 78,
   "metadata": {},
   "outputs": [
    {
     "name": "stdout",
     "output_type": "stream",
     "text": [
      "max 1.83e-03, mean 2.42e-04, std 3.26e-04\n"
     ]
    }
   ],
   "source": [
    "x = x_org\n",
    "\n",
    "outa_orgimpl = layer1(x=x, edge_index=edge_index, edge_delta=edge_delta, edge_attr=edge_attr, idx_downsampled=None).transform_fibers(el).tensor.detach().numpy()\n",
    "\n",
    "edge_delta_ = nn.GeometricTensor(edge_delta, std_type)\n",
    "edge_attr_ = nn.GeometricTensor(edge_attr, edge_type)\n",
    "outb_orgimpl = layer1(x.transform_fibers(el), \n",
    "                edge_index=edge_index, \n",
    "                edge_delta=edge_delta_.transform_fibers(el).tensor, \n",
    "                edge_attr=edge_attr_.transform_fibers(el).tensor, \n",
    "                idx_downsampled=None).tensor.detach().numpy()\n",
    "\n",
    "diff = np.abs(outa_orgimpl - outb_orgimpl)\n",
    "\n",
    "print(f\"max {diff.max():.2e}, mean {diff.mean():.2e}, std {diff.std():.2e}\")\n"
   ]
  },
  {
   "cell_type": "markdown",
   "metadata": {},
   "source": [
    "### Compare x_j and x"
   ]
  },
  {
   "cell_type": "code",
   "execution_count": 79,
   "metadata": {},
   "outputs": [
    {
     "ename": "AssertionError",
     "evalue": "",
     "output_type": "error",
     "traceback": [
      "\u001b[0;31m---------------------------------------------------------------------------\u001b[0m",
      "\u001b[0;31mAssertionError\u001b[0m                            Traceback (most recent call last)",
      "Cell \u001b[0;32mIn[79], line 1\u001b[0m\n\u001b[0;32m----> 1\u001b[0m \u001b[38;5;28;01massert\u001b[39;00m \u001b[38;5;28;01mFalse\u001b[39;00m\n",
      "\u001b[0;31mAssertionError\u001b[0m: "
     ]
    }
   ],
   "source": [
    "assert False"
   ]
  },
  {
   "cell_type": "code",
   "execution_count": null,
   "metadata": {},
   "outputs": [],
   "source": [
    "x_j = torch.stack([x_org.tensor[i] for i in edge_index[0]])\n",
    "assert (x_j == torch.load(\"x_j.pt\")).all()\n",
    "x_j.shape"
   ]
  },
  {
   "cell_type": "code",
   "execution_count": null,
   "metadata": {},
   "outputs": [],
   "source": [
    "x_cat = torch.cat(x)\n",
    "x_cat.shape, outa0.shape, edge_index[1].unsqueeze(1).shape"
   ]
  },
  {
   "cell_type": "markdown",
   "metadata": {},
   "source": [
    "`# self.reduce(src = x = outa0, index = edge_index[1], ptr=None, dim_size = 10, dim = -2, reduce = 'mean')`"
   ]
  },
  {
   "cell_type": "code",
   "execution_count": null,
   "metadata": {},
   "outputs": [],
   "source": [
    "def broadcast(src, ref, dim: int):\n",
    "    size = ((1, ) * dim) + (-1, ) + ((1, ) * (ref.dim() - dim - 1))\n",
    "    return src.view(size).expand_as(ref)"
   ]
  },
  {
   "cell_type": "code",
   "execution_count": null,
   "metadata": {},
   "outputs": [],
   "source": [
    "src = outa0\n",
    "index = edge_index[1]\n",
    "dim_size = 10\n",
    "dim = 0 #-2\n",
    "\n",
    "size = src.size()[:dim] + (dim_size, ) + src.size()[dim + 1:]\n",
    "\n",
    "count = src.new_zeros(dim_size)\n",
    "count.scatter_add_(0, index, src.new_ones(src.size(dim)))\n",
    "count = count.clamp(min=1)\n",
    "\n",
    "index = broadcast(index, src, dim)\n",
    "out = src.new_zeros(size).scatter_add_(dim, index, src)\n",
    "\n",
    "outa0 = out / broadcast(count, out, dim)\n"
   ]
  },
  {
   "cell_type": "code",
   "execution_count": null,
   "metadata": {},
   "outputs": [],
   "source": [
    "outa02 = np.zeros_like(outa)\n",
    "\n",
    "for i in edge_index[1]:\n",
    "    sel_idxs = torch.where(edge_index[1] == i)\n",
    "    outa0_sels = outa0[sel_idxs]\n",
    "\n",
    "    # outa02[i] = torch.max(outa0[sel_idxs], axis = 0).values\n",
    "    outa02[i] += torch.mean(outa0[sel_idxs], axis = 0).numpy()\n",
    "\n",
    "\n",
    "\n",
    "# plots = [x_cat, x_j, x_j_recon]\n",
    "plots = [outa0, outa, outa02, x_agg]\n",
    "\n",
    "n_plots = len(plots)\n",
    "fig, axs = plt.subplots(1,n_plots, figsize = (3*n_plots,5))\n",
    "for ax, p in zip(axs, plots):\n",
    "    absmax = np.abs(p).max()\n",
    "    print(absmax)\n",
    "    ax.imshow(p, vmin = -absmax, vmax = absmax)\n",
    "plt.show()"
   ]
  },
  {
   "cell_type": "code",
   "execution_count": null,
   "metadata": {},
   "outputs": [],
   "source": [
    "outa.sum()"
   ]
  },
  {
   "cell_type": "code",
   "execution_count": null,
   "metadata": {},
   "outputs": [],
   "source": [
    "for p in plots:\n",
    "    print(p.min(), p.max())"
   ]
  },
  {
   "cell_type": "code",
   "execution_count": null,
   "metadata": {},
   "outputs": [],
   "source": [
    "outa02 = np.zeros_like(outa)\n",
    "\n",
    "for i, outa02_i in enumerate(outa02):\n",
    "    pass\n",
    "    # outa02_i[edge_index[0][i]] += outa[i]\n",
    "\n"
   ]
  },
  {
   "cell_type": "code",
   "execution_count": null,
   "metadata": {},
   "outputs": [],
   "source": [
    "outa02 = np.zeros_like(outa)\n",
    "\n",
    "for i in edge_index[1]:\n",
    "    # Sum\n",
    "    outa02[i] += outa0[i].detach().numpy()\n",
    "\n",
    "    # Mean\n",
    "    sel_idxs = torch.where(edge_index[1] == i)\n",
    "    outa02[i] = torch.mean(outa0[sel_idxs], axis = 0).detach().numpy()\n",
    "\n"
   ]
  },
  {
   "cell_type": "code",
   "execution_count": null,
   "metadata": {},
   "outputs": [],
   "source": [
    "outa0.shape, x_j.shape, edge_index.shape"
   ]
  }
 ],
 "metadata": {
  "kernelspec": {
   "display_name": "sympde",
   "language": "python",
   "name": "python3"
  },
  "language_info": {
   "codemirror_mode": {
    "name": "ipython",
    "version": 3
   },
   "file_extension": ".py",
   "mimetype": "text/x-python",
   "name": "python",
   "nbconvert_exporter": "python",
   "pygments_lexer": "ipython3",
   "version": "3.10.13"
  }
 },
 "nbformat": 4,
 "nbformat_minor": 2
}
