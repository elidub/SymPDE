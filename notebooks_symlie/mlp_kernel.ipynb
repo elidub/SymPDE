{
 "cells": [
  {
   "cell_type": "code",
   "execution_count": 8,
   "metadata": {},
   "outputs": [
    {
     "name": "stdout",
     "output_type": "stream",
     "text": [
      "The autoreload extension is already loaded. To reload it, use:\n",
      "  %reload_ext autoreload\n"
     ]
    }
   ],
   "source": [
    "%load_ext autoreload\n",
    "%autoreload 2\n",
    "\n",
    "import numpy as np\n",
    "import matplotlib.pyplot as plt\n",
    "from tqdm import tqdm\n",
    "import torch\n",
    "import pytorch_lightning as pl\n",
    "from torch import nn\n",
    "import math\n",
    "from itertools import product\n",
    "\n",
    "import os, sys\n",
    "sys.path.append(os.path.join(os.getcwd(), '../symlie'))\n",
    "sys.path.append(os.path.join(os.getcwd(), '../sympde/viz'))\n",
    "sys.path.append(os.path.join(os.getcwd(), '../sympde/misc'))\n",
    "\n",
    "from run import parse_options, main\n",
    "\n",
    "from data.dataset import MnistDataset\n",
    "from model.networks.linear import MyLinear\n",
    "from model.networks.mlp import MLP\n",
    "from model.networks.convs import MyConv1d\n",
    "\n",
    "from general_plots import imshows, plot_vals, simple_imshow\n",
    "from equiv import assert_equiv\n",
    "\n",
    "plt.rcParams['image.cmap'] = 'viridis'\n"
   ]
  },
  {
   "cell_type": "code",
   "execution_count": 2,
   "metadata": {},
   "outputs": [
    {
     "name": "stderr",
     "output_type": "stream",
     "text": [
      "Seed set to 9\n",
      "GPU available: True (mps), used: False\n",
      "TPU available: False, using: 0 TPU cores\n",
      "IPU available: False, using: 0 IPUs\n",
      "HPU available: False, using: 0 HPUs\n",
      "/Users/elias/anaconda3/envs/sympde/lib/python3.10/site-packages/pytorch_lightning/trainer/setup.py:187: GPU available but not used. You can set it by doing `Trainer(accelerator='gpu')`.\n",
      "/Users/elias/anaconda3/envs/sympde/lib/python3.10/site-packages/torchvision/transforms/functional.py:1603: UserWarning: The default value of the antialias parameter of all the resizing transforms (Resize(), RandomResizedCrop(), etc.) will change from None to True in v0.17, in order to be consistent across the PIL and Tensor backends. To suppress this warning, directly pass antialias=True (recommended, future default), antialias=None (current default, which means False for Tensors and True for PIL), or antialias=False (only works on Tensors - PIL will still use antialiasing). This also applies if you are using the inference transforms from the models weights: update the call to weights.transforms(antialias=True).\n",
      "  warnings.warn(\n"
     ]
    },
    {
     "name": "stdout",
     "output_type": "stream",
     "text": [
      "\n",
      "\n",
      "###\tVersion:  dev3 \t###\n",
      "###\tName:  symlie_datamnist_netMLP_transformspace_translation_seed9 \t###\n",
      "\n",
      "\n"
     ]
    }
   ],
   "source": [
    "seeds = [1, 2, 3, 4, 5, 6, 7, 8, 9, 10]\n",
    "transform_types = ['space_translation', 'none']\n",
    "do_return = False\n",
    "\n",
    "seeds = [9]\n",
    "transform_types = ['space_translation']\n",
    "do_return = True\n",
    "\n",
    "for transform_type in transform_types:\n",
    "    for seed in seeds:\n",
    "\n",
    "        args = parse_options(notebook=True)\n",
    "        args.train = True\n",
    "        args.persistent_workers = True\n",
    "\n",
    "        args.do_return = do_return\n",
    "\n",
    "        args.seed = seed\n",
    "        args.transform_type = transform_type\n",
    "\n",
    "        args.version = 'dev3'\n",
    "\n",
    "        # args.linearmodules = ['MyLinear', 'MyLinear']\n",
    "        args.linearmodules = ['MyLinear', 'nn.Linear']\n",
    "        args.bias = False\n",
    "\n",
    "        args.dim = 4\n",
    "        # args.n_splits = [100, 100, 100]\n",
    "\n",
    "        # Training\n",
    "        model, trainer, datamodule = main(args)"
   ]
  },
  {
   "cell_type": "code",
   "execution_count": 3,
   "metadata": {},
   "outputs": [],
   "source": [
    "dataset, dataset_aug = [dataloader.dataset for dataloader in datamodule.test_dataloader()]\n",
    "imgs, labels         = next(iter(datamodule.test_dataloader()[0]))\n",
    "imgs_aug, labels_aug = next(iter(datamodule.test_dataloader()[1]))\n"
   ]
  },
  {
   "cell_type": "code",
   "execution_count": 4,
   "metadata": {},
   "outputs": [
    {
     "data": {
      "image/png": "[encoded data removed]",
      "text/plain": [
       "<Figure size 400x600 with 2 Axes>"
      ]
     },
     "metadata": {},
     "output_type": "display_data"
    }
   ],
   "source": [
    "x, y = dataset[0]\n",
    "x_aug, y_aug = dataset_aug[0]\n",
    "\n",
    "imshows([x, x_aug], axis_off = True, imshow_kwargs={'cmap': 'gray'})"
   ]
  },
  {
   "cell_type": "code",
   "execution_count": 106,
   "metadata": {},
   "outputs": [
    {
     "data": {
      "text/plain": [
       "tensor([ 0.1231,  0.3878,  0.2957, -0.5282])"
      ]
     },
     "execution_count": 106,
     "metadata": {},
     "output_type": "execute_result"
    }
   ],
   "source": []
  },
  {
   "cell_type": "code",
   "execution_count": 121,
   "metadata": {},
   "outputs": [
    {
     "data": {
      "image/png": "[encoded data removed]",
      "text/plain": [
       "<Figure size 300x1200 with 1 Axes>"
      ]
     },
     "metadata": {},
     "output_type": "display_data"
    }
   ],
   "source": [
    "kernel_size = 3\n",
    "x_in = torch.randn(4)\n",
    "simple_imshow(x_in.unsqueeze(0), l = 3, precision = 2)\n",
    "\n",
    "conv = MyConv1d(\n",
    "    in_channels = 1,\n",
    "    out_channels = 1,\n",
    "    kernel_size = kernel_size,\n",
    "    padding = 1,\n",
    "    bias = False,\n",
    "    padding_mode = 'circular',\n",
    ")\n",
    "\n",
    "\n",
    "x_a = x_in.unsqueeze(0).unsqueeze(0)\n",
    "x_b_prime = torch.roll(x_a, 1, 2)\n",
    "\n",
    "out_a = conv(x_a)\n",
    "out_a_prime = torch.roll(out_a, 1, 2)\n",
    "\n",
    "out_b = conv(x_b_prime)\n",
    "\n",
    "assert torch.allclose(out_a_prime, out_b)"
   ]
  },
  {
   "cell_type": "code",
   "execution_count": 136,
   "metadata": {},
   "outputs": [],
   "source": [
    "mode, N = 'train', 10_000\n",
    "# mode, N = 'val', 2000\n",
    "# mode, N = 'test', 2000\n",
    "\n",
    "x = np.random.randn(N, 4)\n",
    "\n",
    "os.makedirs(f'../data/flat/{mode}', exist_ok=True)\n",
    "np.save(f'../data/flat/{mode}/randn.npy', x)\n"
   ]
  },
  {
   "cell_type": "code",
   "execution_count": 117,
   "metadata": {},
   "outputs": [
    {
     "data": {
      "text/plain": [
       "(tensor([[[ 1.5376, -1.4269,  0.5693, -1.1159]]], grad_fn=<PermuteBackward0>),\n",
       " tensor([[[-1.1159,  1.5376, -1.4269,  0.5693]]], grad_fn=<RollBackward0>),\n",
       " tensor([[[-1.1159,  1.5376, -1.4269,  0.5693]]], grad_fn=<PermuteBackward0>))"
      ]
     },
     "execution_count": 117,
     "metadata": {},
     "output_type": "execute_result"
    }
   ],
   "source": [
    "out_a, out_a_prime, out_b"
   ]
  },
  {
   "cell_type": "code",
   "execution_count": 113,
   "metadata": {},
   "outputs": [
    {
     "data": {
      "text/plain": [
       "(tensor([[[ 0.5382,  0.4660, -0.5629, -0.5770]]]),\n",
       " tensor([[[-0.5770,  0.5382,  0.4660, -0.5629]]]))"
      ]
     },
     "execution_count": 113,
     "metadata": {},
     "output_type": "execute_result"
    }
   ],
   "source": [
    "x_a, x_b_prime"
   ]
  },
  {
   "cell_type": "code",
   "execution_count": 101,
   "metadata": {},
   "outputs": [
    {
     "data": {
      "text/plain": [
       "tensor([0.0000, 0.0859, 0.7695, 0.0000])"
      ]
     },
     "execution_count": 101,
     "metadata": {},
     "output_type": "execute_result"
    }
   ],
   "source": [
    "x_in"
   ]
  },
  {
   "cell_type": "code",
   "execution_count": 70,
   "metadata": {},
   "outputs": [
    {
     "name": "stdout",
     "output_type": "stream",
     "text": [
      "tensor([ 0.9883,  0.5822, -0.0420])\n"
     ]
    }
   ],
   "source": [
    "w = conv.weights.data.squeeze()\n",
    "print(w)"
   ]
  },
  {
   "cell_type": "code",
   "execution_count": 71,
   "metadata": {},
   "outputs": [
    {
     "data": {
      "text/plain": [
       "tensor(0.0177)"
      ]
     },
     "execution_count": 71,
     "metadata": {},
     "output_type": "execute_result"
    }
   ],
   "source": [
    "(x_in.squeeze()[:kernel_size] * w).sum()"
   ]
  },
  {
   "cell_type": "code",
   "execution_count": 87,
   "metadata": {},
   "outputs": [
    {
     "data": {
      "image/png": "[encoded data removed]",
      "text/plain": [
       "<Figure size 300x300 with 1 Axes>"
      ]
     },
     "metadata": {},
     "output_type": "display_data"
    },
    {
     "name": "stdout",
     "output_type": "stream",
     "text": [
      "tensor([0.0000, 0.0859, 0.7695])\n"
     ]
    },
    {
     "data": {
      "text/plain": [
       "tensor(-0.2957, grad_fn=<SumBackward0>)"
      ]
     },
     "execution_count": 87,
     "metadata": {},
     "output_type": "execute_result"
    }
   ],
   "source": [
    "space_len = kernel_size\n",
    "\n",
    "linear = MyLinear(\n",
    "    in_features = space_len,\n",
    "    out_features = space_len,\n",
    "    bias = False,\n",
    "    transform_type = 'kernelconv',\n",
    ")\n",
    "\n",
    "p1 = linear.w_index\n",
    "simple_imshow(p1, l = 1., precision = 0)\n",
    "\n",
    "linear.weight.data.flatten()[:3] = conv.weights.squeeze()\n",
    "\n",
    "\n",
    "j = 0\n",
    "x_in2 = x_in.squeeze()[j*space_len : (j+1)*space_len]\n",
    "print(x_in2) \n",
    "linear(x_in2).sum()\n"
   ]
  },
  {
   "cell_type": "code",
   "execution_count": 73,
   "metadata": {},
   "outputs": [
    {
     "data": {
      "text/plain": [
       "tensor([0.0000, 0.0859, 0.7695])"
      ]
     },
     "execution_count": 73,
     "metadata": {},
     "output_type": "execute_result"
    }
   ],
   "source": [
    "x_in2"
   ]
  }
 ],
 "metadata": {
  "kernelspec": {
   "display_name": "sympde",
   "language": "python",
   "name": "python3"
  },
  "language_info": {
   "codemirror_mode": {
    "name": "ipython",
    "version": 3
   },
   "file_extension": ".py",
   "mimetype": "text/x-python",
   "name": "python",
   "nbconvert_exporter": "python",
   "pygments_lexer": "ipython3",
   "version": "3.10.13"
  }
 },
 "nbformat": 4,
 "nbformat_minor": 2
}
