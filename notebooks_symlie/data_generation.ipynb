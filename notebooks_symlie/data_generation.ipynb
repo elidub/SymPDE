{
 "cells": [
  {
   "cell_type": "code",
   "execution_count": 1,
   "metadata": {},
   "outputs": [],
   "source": [
    "%load_ext autoreload\n",
    "%autoreload 2\n",
    "\n",
    "import numpy as np\n",
    "import sys, os\n",
    "import matplotlib.pyplot as plt\n",
    "\n",
    "sys.path.append(os.path.join(os.getcwd(), '../symlie'))\n",
    "\n",
    "from misc.viz import plot1d, plot2d\n",
    "from data.generate_2d import Create2dData\n",
    "from data.generate_2d import sine1d, sine2d, flower, mnist"
   ]
  },
  {
   "cell_type": "code",
   "execution_count": 7,
   "metadata": {},
   "outputs": [
    {
     "name": "stdout",
     "output_type": "stream",
     "text": [
      "sine2d\n"
     ]
    },
    {
     "data": {
      "image/png": "[encoded data removed]",
      "text/plain": [
       "<Figure size 1000x100 with 10 Axes>"
      ]
     },
     "metadata": {},
     "output_type": "display_data"
    }
   ],
   "source": [
    "N_plot = 10\n",
    "\n",
    "\n",
    "data_kwargs_sine1d      = {'grid_size':(1, 7), 'noise_std':0.5, 'y_low':1, 'y_high':3}\n",
    "transform_kwargs_sine1d = {'eps_mult':[0., 0., 1., 0.], 'only_flip' : False}\n",
    "\n",
    "data_kwargs_sine2d      = {'grid_size':(7, 7), 'noise_std':0.5, 'y_low':1, 'y_high':3}\n",
    "data_kwargs_sine2d      = {'grid_size':(16, 16), 'noise_std':0.0, 'y_low':1, 'y_high':3}\n",
    "transform_kwargs_sine2d = {'eps_mult':[0., 0., 1., 1.], 'only_flip' : False}\n",
    "\n",
    "data_kwargs_flower      = NotImplemented\n",
    "transform_kwargs_flower = NotImplemented\n",
    "\n",
    "data_kwargs_mnist      = {'grid_size':(7, 7), 'noise_std':0.5}\n",
    "transform_kwargs_mnist = {'eps_mult':[0., 1., 1., 1.], 'only_flip' : False}\n",
    "\n",
    "datasets = {\n",
    "    # 'sine1d' : {'create_sample_func' : sine1d, 'plot_func' : plot1d, 'data_kwargs': data_kwargs_sine1d, 'transform_kwargs' : transform_kwargs_sine1d},\n",
    "    'sine2d' : {'create_sample_func' : sine2d, 'plot_func' : plot2d, 'data_kwargs': data_kwargs_sine2d, 'transform_kwargs' : transform_kwargs_sine2d},\n",
    "    # 'flower' : {'create_sample_func' : flower, 'plot_func' : plot2d, 'data_kwargs': data_kwargs_sine1d, 'transform_kwargs' : transform_kwargs_sine1d},\n",
    "    # 'mnist'  : {'create_sample_func'  : mnist, 'plot_func' : plot2d, 'data_kwargs': data_kwargs_mnist, 'transform_kwargs' : transform_kwargs_mnist},\n",
    "}\n",
    "\n",
    "for dataset_name, dataset in datasets.items():\n",
    "    print(dataset_name)\n",
    "\n",
    "    create_data = Create2dData(dataset['create_sample_func'], dataset['data_kwargs'], dataset['transform_kwargs'])\n",
    "\n",
    "    out = create_data(N = N_plot)\n",
    "    x, y = out['x'].reshape(N_plot, *dataset['data_kwargs']['grid_size']), out['y']\n",
    "\n",
    "    dataset['plot_func'](x, y)"
   ]
  },
  {
   "cell_type": "code",
   "execution_count": null,
   "metadata": {},
   "outputs": [],
   "source": [
    "from torchvision import datasets, transforms\n",
    "import shutil\n",
    "\n",
    "def mnist(N: int, split: str, grid_size: tuple[int, int]):\n",
    "    data_dir = '../data'\n",
    "    train = {'train': True, 'val': True, 'test':False}[split]\n",
    "    idx   = {'train': 0, 'val': 50_000, 'test': 0}\n",
    "\n",
    "    # check if data exists\n",
    "    if not os.path.exists(os.path.join(data_dir, 'MNIST/raw')):\n",
    "        datasets.MNIST(data_dir, train=True, download=True)\n",
    "        datasets.MNIST(data_dir, train=False, download=True)\n",
    "    dataset = datasets.MNIST(data_dir, train=train, download=False)\n",
    "\n",
    "    x = dataset.data\n",
    "    y = dataset.targets\n",
    "    \n",
    "    # compose dataset\n",
    "    compose = transforms.Compose([\n",
    "            transforms.Normalize((0.1307,), (0.3081,)),\n",
    "            transforms.Resize((7,7), antialias=True)\n",
    "    ])\n",
    "    x = compose(x / 255.)\n",
    "\n",
    "\n",
    "    i = idx[split]\n",
    "    assert i + N < len(dataset), f\"{i+N} >= {len(dataset)}\"\n",
    "    if split == 'train':\n",
    "        assert i + N < idx['val'] , f\"{i+N} >= {idx['val']}\"\n",
    "\n",
    "    x = x[i:i+N]\n",
    "    y = y[i:i+N]\n",
    "    return x, y\n",
    "\n",
    "x, y = mnist(10, 'test', (7, 7))\n",
    "x.shape"
   ]
  },
  {
   "cell_type": "code",
   "execution_count": null,
   "metadata": {},
   "outputs": [],
   "source": [
    "plot2d(x, y)"
   ]
  },
  {
   "cell_type": "code",
   "execution_count": null,
   "metadata": {},
   "outputs": [],
   "source": [
    "compose = transforms.Compose([\n",
    "        transforms.Normalize((0.1307,), (0.3081,)),\n",
    "        transforms.Resize((7,7), antialias=True)\n",
    "])\n",
    "\n",
    "compose(x / 255.).shape"
   ]
  },
  {
   "cell_type": "code",
   "execution_count": null,
   "metadata": {},
   "outputs": [],
   "source": [
    "x.shape"
   ]
  },
  {
   "cell_type": "code",
   "execution_count": null,
   "metadata": {},
   "outputs": [],
   "source": [
    "len(dataset_test)"
   ]
  },
  {
   "cell_type": "code",
   "execution_count": null,
   "metadata": {},
   "outputs": [],
   "source": [
    "dataset_train[0][0].shape"
   ]
  },
  {
   "cell_type": "code",
   "execution_count": null,
   "metadata": {},
   "outputs": [],
   "source": [
    "mnist_dir = '../data/mnist2'"
   ]
  },
  {
   "cell_type": "code",
   "execution_count": null,
   "metadata": {},
   "outputs": [],
   "source": [
    "images = np.load(os.path.join(mnist_dir, 'val', 'images.npy'))\n",
    "images.shape"
   ]
  },
  {
   "cell_type": "code",
   "execution_count": null,
   "metadata": {},
   "outputs": [],
   "source": [
    "plt.imshow(dataset_test[0][0][0])"
   ]
  }
 ],
 "metadata": {
  "kernelspec": {
   "display_name": "sympde",
   "language": "python",
   "name": "python3"
  },
  "language_info": {
   "codemirror_mode": {
    "name": "ipython",
    "version": 3
   },
   "file_extension": ".py",
   "mimetype": "text/x-python",
   "name": "python",
   "nbconvert_exporter": "python",
   "pygments_lexer": "ipython3",
   "version": "3.1.0"
  }
 },
 "nbformat": 4,
 "nbformat_minor": 2
}
