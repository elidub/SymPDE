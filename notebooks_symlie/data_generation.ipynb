{
 "cells": [
  {
   "cell_type": "code",
   "execution_count": 1,
   "metadata": {},
   "outputs": [],
   "source": [
    "%load_ext autoreload\n",
    "%autoreload 2\n",
    "\n",
    "import numpy as np\n",
    "import sys, os\n",
    "import matplotlib.pyplot as plt\n",
    "\n",
    "sys.path.append(os.path.join(os.getcwd(), '../symlie'))\n",
    "\n",
    "from misc.viz import plot1d, plot2d\n",
    "from data.generate_2d import Create2dData\n",
    "from data.generate_2d import sine1d, sine2d, flower"
   ]
  },
  {
   "cell_type": "code",
   "execution_count": 12,
   "metadata": {},
   "outputs": [
    {
     "data": {
      "image/png": "[encoded data removed]",
      "text/plain": [
       "<Figure size 1000x100 with 10 Axes>"
      ]
     },
     "metadata": {},
     "output_type": "display_data"
    }
   ],
   "source": [
    "N_plot = 10\n",
    "\n",
    "data_kwargs = {\n",
    "    'grid_size'   : (100, 100),\n",
    "    'noise_std'   : 0.00, \n",
    "    'y_low'       : 1,\n",
    "    'y_high'      : 3,\n",
    "}\n",
    "\n",
    "transform_kwargs = {\n",
    "    'eps_mult'  : [0., 0., 1., 0.],\n",
    "    'only_flip' : False,\n",
    "}\n",
    "\n",
    "datasets = {\n",
    "    'sine1d' : {'create_sample_func' : sine1d, 'plot_func' : plot1d},\n",
    "    'sine2d' : {'create_sample_func' : sine2d, 'plot_func' : plot2d},\n",
    "    'flower' : {'create_sample_func' : flower, 'plot_func' : plot2d},\n",
    "}\n",
    "\n",
    "dataset = datasets['sine2d']\n",
    "\n",
    "create_data = Create2dData(dataset['create_sample_func'], **data_kwargs, **transform_kwargs)\n",
    "\n",
    "out = create_data(N = N_plot)\n",
    "x, y = out['x'].reshape(N_plot, *data_kwargs['grid_size']), out['y']\n",
    "\n",
    "dataset['plot_func'](x, y)"
   ]
  },
  {
   "cell_type": "code",
   "execution_count": null,
   "metadata": {},
   "outputs": [],
   "source": [
    "data_kwargs['grid_size']\n",
    "\n",
    "# multiplication of all elements in a tuple\n",
    "np.prod(data_kwargs['grid_size'])"
   ]
  }
 ],
 "metadata": {
  "kernelspec": {
   "display_name": "sympde",
   "language": "python",
   "name": "python3"
  },
  "language_info": {
   "codemirror_mode": {
    "name": "ipython",
    "version": 3
   },
   "file_extension": ".py",
   "mimetype": "text/x-python",
   "name": "python",
   "nbconvert_exporter": "python",
   "pygments_lexer": "ipython3",
   "version": "3.10.13"
  }
 },
 "nbformat": 4,
 "nbformat_minor": 2
}
