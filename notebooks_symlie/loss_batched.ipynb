{
 "cells": [
  {
   "cell_type": "code",
   "execution_count": 1,
   "metadata": {},
   "outputs": [],
   "source": [
    "%load_ext autoreload\n",
    "%autoreload 2\n",
    "\n",
    "import os, sys\n",
    "import numpy as np\n",
    "import matplotlib.pyplot as plt\n",
    "import torch\n",
    "from torch import nn\n",
    "\n",
    "import torch.nn.functional as F\n",
    "\n",
    "sys.path.append(os.path.join(os.getcwd(), '../symlie'))\n",
    "sys.path.append(os.path.join(os.getcwd(), '../sympdee/sympde/viz'))\n",
    "sys.path.append(os.path.join(os.getcwd(), '..'))\n",
    "\n",
    "from symlie.model.networks.linear import CalculatedP, LinearP\n",
    "from sympdee.sympde.viz.general_plots import imshows, plot_vals, simple_imshow, savefig, simple_imshow, imshow\n",
    "from symlie.misc.utils_results import get_and_check_Ps, plot_seeds_and_Ps\n",
    "from symlie.data.transforms import Transform\n",
    "from symlie.model.networks.implicit import LinearImplicit\n",
    "from symlie.model.setup import load_implicitP_statedict, load_P_pred\n",
    "from symlie.model.loss import mmd"
   ]
  },
  {
   "cell_type": "code",
   "execution_count": 2,
   "metadata": {},
   "outputs": [],
   "source": [
    "def plot_2columns(x_plots, x_titles):\n",
    "\n",
    "    nrows = len(x_plots)\n",
    "    batch_size = x_plots[0][0].shape[0]\n",
    "\n",
    "    x_idx = np.random.randint(0, batch_size, 1)[0]\n",
    "    fig, axs = plt.subplots(nrows, 2, figsize = (6, 1.*nrows), tight_layout = True)\n",
    "    for i, (x_l, x_r) in enumerate(x_plots):\n",
    "\n",
    "        for j, (x_lr, color) in enumerate(zip([x_l, x_r], ['tab:blue', 'tab:orange'])):\n",
    "            xx = x_lr[x_idx]\n",
    "            ax = axs[i, j]\n",
    "            ax.plot(xx, 'o-', color = color)\n",
    "            ax.plot([len(xx)-1, len(xx)], [xx[-1], xx[0]], '--', color=color)\n",
    "            ax.plot([-1, 0], [xx[-1], xx[0]], '--', color=color)\n",
    "            ax.set_xticks([])\n",
    "            ax.set_yticks([0])\n",
    "            ax.set_title(x_titles[i][j])\n",
    "    plt.show()\n",
    "\n",
    "def mmd_loss(x, y, kernel = 'multiscale'):\n",
    "    x, y = x.reshape(-1, 1), y.reshape(-1, 1)\n",
    "    return mmd(x, y, kernel = kernel)"
   ]
  },
  {
   "cell_type": "code",
   "execution_count": 3,
   "metadata": {},
   "outputs": [],
   "source": [
    "map_kwargs = {\n",
    "    'data_kwargs': {'grid_size': (1, 7), 'noise_std': 0.5},\n",
    "    'transform_kwargs': {'eps_mult': [0.0, 0.0, 1.0, 0.0], 'only_flip': False},\n",
    "    'data_dir': '../data/sine1d'\n",
    "}\n",
    "\n",
    "batch_size = 16\n",
    "\n",
    "size = np.prod(map_kwargs['data_kwargs']['grid_size'])\n",
    "features = size**2\n",
    "set_bias = False"
   ]
  },
  {
   "cell_type": "code",
   "execution_count": 4,
   "metadata": {},
   "outputs": [],
   "source": [
    "x = torch.randn(batch_size, size)\n",
    "\n",
    "def transform(x):\n",
    "    return torch.roll(x, 1, 1)"
   ]
  },
  {
   "cell_type": "code",
   "execution_count": 5,
   "metadata": {},
   "outputs": [
    {
     "name": "stdout",
     "output_type": "stream",
     "text": [
      "Setup implicit_P\n",
      "Loading weights P\n"
     ]
    }
   ],
   "source": [
    "\n",
    "\n",
    "# # P = torch.zeros(features, features)\n",
    "\n",
    "# P = load_P_pred('40avqgiy')\n",
    "# P = load_P_pred('temp_runid')\n",
    "\n",
    "# # P = get_and_check_Ps([1], map_kwargs, use_P_from_noise = True)[0]\n",
    "# P = 'space_translation'\n",
    "# P = 'none'\n",
    "\n",
    "linear_kwargs = {\n",
    "    'in_features': size,\n",
    "    'out_features': size,\n",
    "    'bias': set_bias,\n",
    "    'train_P': True,\n",
    "    'train_weights': False\n",
    "}\n",
    "\n",
    "batch_size_forward = None\n",
    "# batch_size_forward = batch_size\n",
    "\n",
    "# linear = LinearP(P_init = P, **linear_kwargs)\n",
    "# linear_none = LinearP(P_init = 'none', **linear_kwargs)\n",
    "# linear.reset_parameters(batch_size=batch_size_forward)\n",
    "# linear_none.reset_parameters(batch_size=batch_size)\n",
    "# linear_none.weight = linear.weight\n",
    "\n",
    "# imshow(linear.P.detach(), l = 0.5)\n",
    "\n",
    "\n",
    "P_init_statedict = load_implicitP_statedict('temp_runid')\n",
    "P_init_statedict = load_implicitP_statedict('v24f2hfu')\n",
    "linear = LinearImplicit(P_init = P_init_statedict, hidden_implicit_layers = [49, 49], **linear_kwargs)\n",
    "linear.reset_parameters()\n",
    "\n",
    "# linear_none = LinearP(P_init = 'none', **linear_kwargs)\n",
    "# linear_none.reset_parameters(batch_size=batch_size)\n",
    "# linear_none.weight = linear.weight"
   ]
  },
  {
   "cell_type": "code",
   "execution_count": 6,
   "metadata": {},
   "outputs": [],
   "source": [
    "x_a = x\n",
    "out_a = linear(x_a, batch_size=batch_size_forward).detach()\n",
    "out_a_prime = transform(out_a)\n",
    "\n",
    "# out_a_tilde = linear_none(x_a, batch_size=batch_size_implicit).detach()\n",
    "# out_a_prime_tilde = transform(out_a_tilde)\n",
    "\n",
    "x_b = x\n",
    "x_b_prime = transform(x_b)\n",
    "out_b_prime = linear(x_b_prime, batch_size=batch_size_forward).detach()\n",
    "\n",
    "# out_b_prime_tilde = linear_none(x_b_prime, batch_size=batch_size_implicit).detach()"
   ]
  },
  {
   "cell_type": "code",
   "execution_count": 7,
   "metadata": {},
   "outputs": [
    {
     "data": {
      "image/png": "[encoded data removed]",
      "text/plain": [
       "<Figure size 600x200 with 4 Axes>"
      ]
     },
     "metadata": {},
     "output_type": "display_data"
    }
   ],
   "source": [
    "x_plots = [\n",
    "    [x_a, x_b_prime],\n",
    "    [out_a_prime, out_b_prime],\n",
    "]\n",
    "\n",
    "x_titles = [\n",
    "    ['x_a', 'x_b_prime'],\n",
    "    ['out_a_prime', 'out_b_prime'],\n",
    "]\n",
    "\n",
    "\n",
    "plot_2columns(x_plots, x_titles)\n"
   ]
  },
  {
   "cell_type": "code",
   "execution_count": 8,
   "metadata": {},
   "outputs": [
    {
     "name": "stdout",
     "output_type": "stream",
     "text": [
      "[[-0.06704674 -0.00498987  0.01138531  0.01635934 -0.00859447 -0.01327092\n",
      "   0.06556355]\n",
      " [ 0.06507033 -0.06703869 -0.00423501  0.01148596  0.01691073 -0.0081828\n",
      "  -0.01395146]\n",
      " [-0.01385803  0.06532363 -0.0669459  -0.00472876  0.01146833  0.01646454\n",
      "  -0.00908605]\n",
      " [-0.00851327 -0.0140529   0.06499124 -0.0674364  -0.00498744  0.0119226\n",
      "   0.01674441]\n",
      " [ 0.0165416  -0.00878771 -0.0135197   0.06481521 -0.06691615 -0.00404174\n",
      "   0.01152063]\n",
      " [ 0.0114597   0.01683074 -0.00824561 -0.01359401  0.06567413 -0.0672422\n",
      "  -0.00515739]\n",
      " [-0.00465639  0.01145578  0.01642491 -0.00870439 -0.01377491  0.06507286\n",
      "  -0.06726125]]\n"
     ]
    },
    {
     "data": {
      "image/png": "[encoded data removed]",
      "text/plain": [
       "<Figure size 300x300 with 1 Axes>"
      ]
     },
     "metadata": {},
     "output_type": "display_data"
    }
   ],
   "source": [
    "plt.figure(figsize=(3,3))\n",
    "linear.reset_parameters()\n",
    "weight_P = linear(x, batch_size=batch_size_forward, return_weight=True).detach().cpu().numpy()\n",
    "print(weight_P  )\n",
    "plt.imshow( weight_P)\n",
    "plt.show()"
   ]
  },
  {
   "cell_type": "code",
   "execution_count": 9,
   "metadata": {},
   "outputs": [
    {
     "data": {
      "text/plain": [
       "tensor(1.1223e-06)"
      ]
     },
     "execution_count": 9,
     "metadata": {},
     "output_type": "execute_result"
    }
   ],
   "source": [
    "((out_a_prime - out_b_prime)**2).mean()"
   ]
  }
 ],
 "metadata": {
  "kernelspec": {
   "display_name": "sympde",
   "language": "python",
   "name": "python3"
  },
  "language_info": {
   "codemirror_mode": {
    "name": "ipython",
    "version": 3
   },
   "file_extension": ".py",
   "mimetype": "text/x-python",
   "name": "python",
   "nbconvert_exporter": "python",
   "pygments_lexer": "ipython3",
   "version": "3.10.13"
  }
 },
 "nbformat": 4,
 "nbformat_minor": 2
}
