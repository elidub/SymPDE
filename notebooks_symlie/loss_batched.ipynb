{
 "cells": [
  {
   "cell_type": "code",
   "execution_count": 55,
   "metadata": {},
   "outputs": [
    {
     "name": "stdout",
     "output_type": "stream",
     "text": [
      "The autoreload extension is already loaded. To reload it, use:\n",
      "  %reload_ext autoreload\n"
     ]
    }
   ],
   "source": [
    "%load_ext autoreload\n",
    "%autoreload 2\n",
    "\n",
    "import os, sys\n",
    "import numpy as np\n",
    "import matplotlib.pyplot as plt\n",
    "import torch\n",
    "from torch import nn\n",
    "\n",
    "import torch.nn.functional as F\n",
    "\n",
    "sys.path.append(os.path.join(os.getcwd(), '../symlie'))\n",
    "sys.path.append(os.path.join(os.getcwd(), '../sympdee/sympde/viz'))\n",
    "sys.path.append(os.path.join(os.getcwd(), '..'))\n",
    "\n",
    "from symlie.model.networks.linear import CalculatedP, LinearP\n",
    "from sympdee.sympde.viz.general_plots import imshows, plot_vals, simple_imshow, savefig, simple_imshow, imshow\n",
    "from symlie.misc.utils_results import get_and_check_Ps, plot_seeds_and_Ps\n",
    "from symlie.data.transforms import Transform\n",
    "from symlie.model.networks.implicit import LinearImplicit\n",
    "from symlie.model.setup import load_implicitP_statedict\n",
    "from symlie.model.loss import mmd"
   ]
  },
  {
   "cell_type": "code",
   "execution_count": 56,
   "metadata": {},
   "outputs": [],
   "source": [
    "def plot_2columns(x_plots, x_titles):\n",
    "\n",
    "    nrows = len(x_plots)\n",
    "    batch_size = x_plots[0][0].shape[0]\n",
    "\n",
    "    x_idx = np.random.randint(0, batch_size, 1)[0]\n",
    "    fig, axs = plt.subplots(nrows, 2, figsize = (6, 1.*nrows), tight_layout = True)\n",
    "    for i, (x_l, x_r) in enumerate(x_plots):\n",
    "\n",
    "        for j, (x_lr, color) in enumerate(zip([x_l, x_r], ['tab:blue', 'tab:orange'])):\n",
    "            xx = x_lr[x_idx]\n",
    "            ax = axs[i, j]\n",
    "            ax.plot(xx, 'o-', color = color)\n",
    "            ax.plot([len(xx)-1, len(xx)], [xx[-1], xx[0]], '--', color=color)\n",
    "            ax.plot([-1, 0], [xx[-1], xx[0]], '--', color=color)\n",
    "            ax.set_xticks([])\n",
    "            ax.set_yticks([0])\n",
    "            ax.set_title(x_titles[i][j])\n",
    "    plt.show()\n",
    "\n",
    "def mmd_loss(x, y, kernel = 'multiscale'):\n",
    "    x, y = x.reshape(-1, 1), y.reshape(-1, 1)\n",
    "    return mmd(x, y, kernel = kernel)"
   ]
  },
  {
   "cell_type": "code",
   "execution_count": 57,
   "metadata": {},
   "outputs": [],
   "source": [
    "map_kwargs = {\n",
    "    'data_kwargs': {'grid_size': (1, 7), 'noise_std': 0.5},\n",
    "    'transform_kwargs': {'eps_mult': [0.0, 0.0, 1.0, 0.0], 'only_flip': False},\n",
    "    'data_dir': '../data/sine1d'\n",
    "}\n",
    "\n",
    "batch_size = 16\n",
    "\n",
    "size = np.prod(map_kwargs['data_kwargs']['grid_size'])\n",
    "features = size**2\n",
    "set_bias = False"
   ]
  },
  {
   "cell_type": "code",
   "execution_count": 58,
   "metadata": {},
   "outputs": [],
   "source": [
    "x = torch.randn(batch_size, size)\n",
    "\n",
    "def transform(x):\n",
    "    return torch.roll(x, 1, 1)"
   ]
  },
  {
   "cell_type": "code",
   "execution_count": 59,
   "metadata": {},
   "outputs": [
    {
     "name": "stdout",
     "output_type": "stream",
     "text": [
      "Setup implicit_P\n",
      "Loading weights P\n"
     ]
    }
   ],
   "source": [
    "normalize_P = False\n",
    "\n",
    "\n",
    "# # P = torch.zeros(features, features)\n",
    "# # normalize_P = False\n",
    "\n",
    "# # P = get_and_check_Ps([1], map_kwargs, use_P_from_noise = True)[0]\n",
    "# P = 'space_translation'\n",
    "# P = 'none'\n",
    "\n",
    "linear_kwargs = {\n",
    "    'in_features': size,\n",
    "    'out_features': size,\n",
    "    'bias': set_bias,\n",
    "    'train_P': True,\n",
    "    'train_weights': False\n",
    "}\n",
    "\n",
    "# linear = LinearP(P_init = P, **linear_kwargs)\n",
    "# linear_none = LinearP(P_init = 'none', **linear_kwargs)\n",
    "# linear.reset_parameters(batch_size=batch_size)\n",
    "# linear_none.reset_parameters(batch_size=batch_size)\n",
    "# linear_none.weight = linear.weight\n",
    "\n",
    "# imshow(linear.P.detach(), l = 0.5)\n",
    "\n",
    "\n",
    "P_init_statedict = load_implicitP_statedict('temp_runid')\n",
    "linear = LinearImplicit(P_init = P_init_statedict, hidden_implicit_layers = [49, 49, 49], **linear_kwargs)\n",
    "linear.reset_parameters()\n",
    "\n",
    "# linear_none = LinearP(P_init = 'none', **linear_kwargs)\n",
    "# linear_none.reset_parameters(batch_size=batch_size)\n",
    "# linear_none.weight = linear.weight\n",
    "\n",
    "linear.eval();\n",
    "\n",
    "# linear.state_dict()"
   ]
  },
  {
   "cell_type": "code",
   "execution_count": 60,
   "metadata": {},
   "outputs": [],
   "source": [
    "x_a = x\n",
    "out_a = linear(x_a).detach()\n",
    "out_a_prime = transform(out_a)\n",
    "\n",
    "x_b = x\n",
    "x_b_prime = transform(x_b)\n",
    "out_b_prime = linear(x_b_prime).detach()"
   ]
  },
  {
   "cell_type": "code",
   "execution_count": 61,
   "metadata": {},
   "outputs": [
    {
     "data": {
      "image/png": "[encoded data removed]",
      "text/plain": [
       "<Figure size 300x300 with 1 Axes>"
      ]
     },
     "metadata": {},
     "output_type": "display_data"
    }
   ],
   "source": [
    "plt.figure(figsize=(3,3))\n",
    "plt.imshow( linear(x, return_weight=True).detach().cpu().numpy() )\n",
    "# plt.imshow( linear(torch.randn(1, size), torch.rand(size, size), return_weight=True).detach().cpu().numpy() )\n",
    "plt.show()"
   ]
  },
  {
   "cell_type": "code",
   "execution_count": 64,
   "metadata": {},
   "outputs": [
    {
     "data": {
      "image/png": "[encoded data removed]",
      "text/plain": [
       "<Figure size 600x200 with 4 Axes>"
      ]
     },
     "metadata": {},
     "output_type": "display_data"
    }
   ],
   "source": [
    "x_plots = [\n",
    "    [x_a, x_b_prime],\n",
    "    [out_a_prime, out_b_prime],\n",
    "]\n",
    "\n",
    "x_titles = [\n",
    "    ['x_a', 'x_b_prime'],\n",
    "    ['out_a_prime', 'out_b_prime'],\n",
    "]\n",
    "\n",
    "\n",
    "plot_2columns(x_plots, x_titles)\n"
   ]
  },
  {
   "cell_type": "code",
   "execution_count": null,
   "metadata": {},
   "outputs": [
    {
     "data": {
      "text/plain": [
       "tensor(1.5283e-05)"
      ]
     },
     "execution_count": 118,
     "metadata": {},
     "output_type": "execute_result"
    }
   ],
   "source": [
    "((out_a_prime - out_b_prime)**2).mean()"
   ]
  },
  {
   "cell_type": "code",
   "execution_count": 130,
   "metadata": {},
   "outputs": [
    {
     "data": {
      "text/plain": [
       "tensor([[-1.5783,  0.5367,  0.4917, -0.1204,  0.1175,  0.3228,  1.3046],\n",
       "        [ 1.3050, -1.5713,  0.5411,  0.4922, -0.1219,  0.1167,  0.3259],\n",
       "        [ 0.3151,  1.2995, -1.5742,  0.5434,  0.4949, -0.1174,  0.1169],\n",
       "        [ 0.1168,  0.3132,  1.3067, -1.5752,  0.5388,  0.5013, -0.1168],\n",
       "        [-0.1209,  0.1188,  0.3199,  1.3062, -1.5741,  0.5418,  0.4916],\n",
       "        [ 0.4892, -0.1171,  0.1190,  0.3251,  1.2935, -1.5726,  0.5470],\n",
       "        [ 0.5446,  0.4917, -0.1208,  0.1211,  0.3193,  1.2960, -1.5712]],\n",
       "       grad_fn=<ViewBackward0>)"
      ]
     },
     "execution_count": 130,
     "metadata": {},
     "output_type": "execute_result"
    }
   ],
   "source": [
    "weight = linear.weight.data\n",
    "implicitP = linear.implicit_P\n",
    "\n",
    "weight2 = implicitP(weight.flatten()).reshape(weight.shape)\n",
    "\n",
    "weight2"
   ]
  },
  {
   "cell_type": "code",
   "execution_count": 13,
   "metadata": {},
   "outputs": [],
   "source": [
    "# def network_simple_plot(x, savename, subdir, color, l = 1.):\n",
    "#     x = x[0]\n",
    "#     fig, ax = plt.subplots(1, 1, figsize = np.array([3, 1])*l, tight_layout = True)\n",
    "#     ax.plot(x, color = color, marker = 'o')\n",
    "#     ax.axis('off')\n",
    "#     # plt.show()\n",
    "#     # return\n",
    "#     savefig(fig, savename, subdir = subdir)\n",
    "#     plt.close()\n",
    "\n",
    "# print('tilde')\n",
    "# save_plots = [(x, 'x'), (x_b_prime, 'x_b_prime'), (out_a, 'o_a'), (out_a_prime, 'o_a_prime'), (out_b_prime, 'o_b_prime'), (out_a_tilde, 'o_a_tilde'), (out_a_prime_tilde, 'o_a_prime_tilde'), (out_b_prime_tilde, 'o_b_prime_tilde')]\n",
    "# for save_fig, save_name in save_plots:\n",
    "#     if 'x' in save_name:\n",
    "#         color = 'tab:blue'\n",
    "#     elif 'o' in save_name:\n",
    "#         color = 'tab:red'\n",
    "#     else:\n",
    "#         raise ValueError\n",
    "\n",
    "    \n",
    "#     network_simple_plot(save_fig, save_name, subdir = os.path.join('stepa', 'tilde'), color = color)"
   ]
  },
  {
   "cell_type": "code",
   "execution_count": 70,
   "metadata": {},
   "outputs": [
    {
     "data": {
      "image/png": "[encoded data removed]",
      "text/plain": [
       "<Figure size 300x300 with 1 Axes>"
      ]
     },
     "metadata": {},
     "output_type": "display_data"
    }
   ],
   "source": [
    "l = 10\n",
    "n_bins = 10\n",
    "bins = np.linspace(-l, l, n_bins)\n",
    "\n",
    "def hist(x, bins_n = len(bins)-1, bins_min = bins.min(), bins_max = bins.max(), eps = 1e-9):\n",
    "    return torch.histc(x, bins = bins_n, min = bins_min, max = bins_max) + eps\n",
    "\n",
    "def kl(p, q, make_hist = True, reduction = 'batchmean'):\n",
    "    if make_hist:\n",
    "        p = hist(p)\n",
    "        q = hist(q)\n",
    "    return F.kl_div(p.log(), q, reduction=reduction)\n",
    "\n",
    "plt.figure(figsize = (3,3))\n",
    "plt.stairs(hist(out_a_prime), bins, color = 'tab:blue')\n",
    "plt.stairs(hist(out_a_prime_tilde), bins, color = 'tab:orange')\n",
    "kl1, kl2 = kl(out_a_prime, out_a_prime_tilde), kl(out_a_prime_tilde, out_a_prime)\n",
    "plt.title(f'kl1: {kl1:.2f}, kl2: {kl2:.2f}')\n",
    "plt.show()\n"
   ]
  },
  {
   "cell_type": "code",
   "execution_count": null,
   "metadata": {},
   "outputs": [
    {
     "data": {
      "image/png": "[encoded data removed]",
      "text/plain": [
       "<Figure size 500x200 with 2 Axes>"
      ]
     },
     "metadata": {},
     "output_type": "display_data"
    }
   ],
   "source": [
    "def similarity(a, b):\n",
    "    return F.cosine_similarity(a, b, dim = 1)\n",
    "    # return F.kl_div(torch.exp(a), torch.exp(b), reduction='none')\n",
    "\n",
    "# sim_a = similarity(out_a_prime, out_a_prime_tilde)\n",
    "# sim_b = similarity(out_b_prime, out_b_prime_tilde)\n",
    "\n",
    "sim_x = similarity(x_a, x_b_prime)\n",
    "sim_o = similarity(out_a, out_b_prime)\n",
    "\n",
    "# plot2(sim_a, sim_b, 'sim_a, sim_b')\n",
    "\n",
    "sim_a, sim_b = sim_x, sim_o\n",
    "\n",
    "# plot two histograms next to each other\n",
    "fig, axs = plt.subplots(1, 2, figsize = (5, 2), tight_layout = True)\n",
    "axs[0].hist(sim_a.numpy(), bins = 20, color = 'tab:blue')\n",
    "axs[0].set_title('sim_a')\n",
    "\n",
    "axs[1].hist(sim_b.numpy(), bins = 20, color = 'tab:orange')\n",
    "axs[1].set_title('sim_b')\n",
    "\n",
    "plt.show()"
   ]
  },
  {
   "cell_type": "code",
   "execution_count": null,
   "metadata": {},
   "outputs": [
    {
     "data": {
      "image/png": "[encoded data removed]",
      "text/plain": [
       "<Figure size 300x300 with 1 Axes>"
      ]
     },
     "metadata": {},
     "output_type": "display_data"
    }
   ],
   "source": []
  },
  {
   "cell_type": "code",
   "execution_count": null,
   "metadata": {},
   "outputs": [
    {
     "data": {
      "text/plain": [
       "tensor(0.2117)"
      ]
     },
     "execution_count": 360,
     "metadata": {},
     "output_type": "execute_result"
    }
   ],
   "source": [
    "kl(out_a_prime, out_a_prime_tilde)"
   ]
  },
  {
   "cell_type": "code",
   "execution_count": null,
   "metadata": {},
   "outputs": [
    {
     "data": {
      "text/plain": [
       "tensor([   33.,    50.,    58.,    67.,    78.,    99.,   113.,   139.,   152.,\n",
       "          180.,   199.,   250.,   314.,   278.,   389.,   419.,   501.,   547.,\n",
       "          697.,   770.,   916.,   934.,  1125.,  1364.,  1490.,  1666.,  2035.,\n",
       "         2129.,  2565.,  2890.,  3206.,  3608.,  3891.,  4230.,  4900.,  5343.,\n",
       "         5993.,  6579.,  7267.,  7634.,  8302.,  8983.,  9549., 10133., 10837.,\n",
       "        11039., 11384., 11813., 11777., 12131., 11671., 11845., 11510., 11163.,\n",
       "        10646., 10053.,  9582.,  8905.,  8358.,  7723.,  7225.,  6504.,  5807.,\n",
       "         5267.,  4835.,  4458.,  3907.,  3448.,  3054.,  2798.,  2518.,  2187.,\n",
       "         1961.,  1734.,  1524.,  1367.,  1116.,  1026.,   884.,   760.,   634.,\n",
       "          607.,   506.,   429.,   377.,   339.,   263.,   245.,   208.,   192.,\n",
       "          151.,   107.,   127.,    83.,    84.,    73.,    68.,    60.,    36.])"
      ]
     },
     "execution_count": 361,
     "metadata": {},
     "output_type": "execute_result"
    }
   ],
   "source": [
    "hist(out_a_prime)"
   ]
  },
  {
   "cell_type": "code",
   "execution_count": null,
   "metadata": {},
   "outputs": [],
   "source": []
  },
  {
   "cell_type": "code",
   "execution_count": null,
   "metadata": {},
   "outputs": [
    {
     "ename": "NameError",
     "evalue": "name 'out_a_prime_hist' is not defined",
     "output_type": "error",
     "traceback": [
      "\u001b[0;31m---------------------------------------------------------------------------\u001b[0m",
      "\u001b[0;31mNameError\u001b[0m                                 Traceback (most recent call last)",
      "Cell \u001b[0;32mIn[362], line 1\u001b[0m\n\u001b[0;32m----> 1\u001b[0m F\u001b[38;5;241m.\u001b[39mkl_div(\u001b[43mout_a_prime_hist\u001b[49m\u001b[38;5;241m.\u001b[39mlog(), out_a_tilde_hist, reduction\u001b[38;5;241m=\u001b[39m\u001b[38;5;124m'\u001b[39m\u001b[38;5;124mbatchmean\u001b[39m\u001b[38;5;124m'\u001b[39m), F\u001b[38;5;241m.\u001b[39mkl_div(out_a_hist\u001b[38;5;241m.\u001b[39mlog(), out_a_tilde_hist, reduction\u001b[38;5;241m=\u001b[39m\u001b[38;5;124m'\u001b[39m\u001b[38;5;124mbatchmean\u001b[39m\u001b[38;5;124m'\u001b[39m)\n",
      "\u001b[0;31mNameError\u001b[0m: name 'out_a_prime_hist' is not defined"
     ]
    }
   ],
   "source": [
    "F.kl_div(out_a_prime_hist.log(), out_a_tilde_hist, reduction='batchmean'), F.kl_div(out_a_hist.log(), out_a_tilde_hist, reduction='batchmean')"
   ]
  },
  {
   "cell_type": "code",
   "execution_count": null,
   "metadata": {},
   "outputs": [
    {
     "data": {
      "text/plain": [
       "tensor([349., 355., 406., 422., 409., 471., 433., 441., 464., 525., 477., 507.,\n",
       "        544., 478., 488., 512., 532., 591., 558., 608., 560., 551., 523., 546.,\n",
       "        605., 570., 561., 598., 529., 526., 534., 538., 540., 543., 504., 522.,\n",
       "        534., 492., 561., 519., 484., 481., 413., 436., 385., 410., 381., 350.,\n",
       "        341.])"
      ]
     },
     "execution_count": 70,
     "metadata": {},
     "output_type": "execute_result"
    }
   ],
   "source": [
    "bins = torch.linspace(-1, 1, 50)\n",
    "\n",
    "\n",
    "x_a_hist, bin_edges = torch.histogram(x_a, bins = bins)\n",
    "# x_b_prime_hist, _ = torch.histogram(x_b_prime, bins = bins)\n",
    "x_a_hist"
   ]
  },
  {
   "cell_type": "code",
   "execution_count": null,
   "metadata": {},
   "outputs": [
    {
     "data": {
      "text/plain": [
       "tensor([349., 355., 406., 422., 409., 471., 433., 441., 464., 525., 477., 507.,\n",
       "        544., 478., 488., 512., 532., 591., 558., 608., 560., 551., 523., 546.,\n",
       "        605., 570., 561., 598., 529., 526., 534., 538., 540., 543., 504., 522.,\n",
       "        534., 492., 561., 519., 484., 481., 413., 436., 385., 410., 381., 350.,\n",
       "        341.])"
      ]
     },
     "execution_count": 76,
     "metadata": {},
     "output_type": "execute_result"
    }
   ],
   "source": [
    "torch.histc(x_a, bins = 50-1, min = -1, max = 1)"
   ]
  },
  {
   "cell_type": "code",
   "execution_count": null,
   "metadata": {},
   "outputs": [
    {
     "ename": "ValueError",
     "evalue": "x and y must have same first dimension, but have shapes torch.Size([50]) and torch.Size([49])",
     "output_type": "error",
     "traceback": [
      "\u001b[0;31m---------------------------------------------------------------------------\u001b[0m",
      "\u001b[0;31mValueError\u001b[0m                                Traceback (most recent call last)",
      "Cell \u001b[0;32mIn[69], line 1\u001b[0m\n\u001b[0;32m----> 1\u001b[0m \u001b[43mplt\u001b[49m\u001b[38;5;241;43m.\u001b[39;49m\u001b[43mstep\u001b[49m\u001b[43m(\u001b[49m\u001b[43mbin_edges\u001b[49m\u001b[43m,\u001b[49m\u001b[43m \u001b[49m\u001b[43mx_a_hist\u001b[49m\u001b[43m,\u001b[49m\u001b[43m \u001b[49m\u001b[43mcolor\u001b[49m\u001b[43m \u001b[49m\u001b[38;5;241;43m=\u001b[39;49m\u001b[43m \u001b[49m\u001b[38;5;124;43m'\u001b[39;49m\u001b[38;5;124;43mtab:blue\u001b[39;49m\u001b[38;5;124;43m'\u001b[39;49m\u001b[43m)\u001b[49m\n",
      "File \u001b[0;32m~/anaconda3/envs/sympde/lib/python3.10/site-packages/matplotlib/pyplot.py:3842\u001b[0m, in \u001b[0;36mstep\u001b[0;34m(x, y, where, data, *args, **kwargs)\u001b[0m\n\u001b[1;32m   3833\u001b[0m \u001b[38;5;129m@_copy_docstring_and_deprecators\u001b[39m(Axes\u001b[38;5;241m.\u001b[39mstep)\n\u001b[1;32m   3834\u001b[0m \u001b[38;5;28;01mdef\u001b[39;00m \u001b[38;5;21mstep\u001b[39m(\n\u001b[1;32m   3835\u001b[0m     x: ArrayLike,\n\u001b[0;32m   (...)\u001b[0m\n\u001b[1;32m   3840\u001b[0m     \u001b[38;5;241m*\u001b[39m\u001b[38;5;241m*\u001b[39mkwargs,\n\u001b[1;32m   3841\u001b[0m ) \u001b[38;5;241m-\u001b[39m\u001b[38;5;241m>\u001b[39m \u001b[38;5;28mlist\u001b[39m[Line2D]:\n\u001b[0;32m-> 3842\u001b[0m     \u001b[38;5;28;01mreturn\u001b[39;00m \u001b[43mgca\u001b[49m\u001b[43m(\u001b[49m\u001b[43m)\u001b[49m\u001b[38;5;241;43m.\u001b[39;49m\u001b[43mstep\u001b[49m\u001b[43m(\u001b[49m\n\u001b[1;32m   3843\u001b[0m \u001b[43m        \u001b[49m\u001b[43mx\u001b[49m\u001b[43m,\u001b[49m\n\u001b[1;32m   3844\u001b[0m \u001b[43m        \u001b[49m\u001b[43my\u001b[49m\u001b[43m,\u001b[49m\n\u001b[1;32m   3845\u001b[0m \u001b[43m        \u001b[49m\u001b[38;5;241;43m*\u001b[39;49m\u001b[43margs\u001b[49m\u001b[43m,\u001b[49m\n\u001b[1;32m   3846\u001b[0m \u001b[43m        \u001b[49m\u001b[43mwhere\u001b[49m\u001b[38;5;241;43m=\u001b[39;49m\u001b[43mwhere\u001b[49m\u001b[43m,\u001b[49m\n\u001b[1;32m   3847\u001b[0m \u001b[43m        \u001b[49m\u001b[38;5;241;43m*\u001b[39;49m\u001b[38;5;241;43m*\u001b[39;49m\u001b[43m(\u001b[49m\u001b[43m{\u001b[49m\u001b[38;5;124;43m\"\u001b[39;49m\u001b[38;5;124;43mdata\u001b[39;49m\u001b[38;5;124;43m\"\u001b[39;49m\u001b[43m:\u001b[49m\u001b[43m \u001b[49m\u001b[43mdata\u001b[49m\u001b[43m}\u001b[49m\u001b[43m \u001b[49m\u001b[38;5;28;43;01mif\u001b[39;49;00m\u001b[43m \u001b[49m\u001b[43mdata\u001b[49m\u001b[43m \u001b[49m\u001b[38;5;129;43;01mis\u001b[39;49;00m\u001b[43m \u001b[49m\u001b[38;5;129;43;01mnot\u001b[39;49;00m\u001b[43m \u001b[49m\u001b[38;5;28;43;01mNone\u001b[39;49;00m\u001b[43m \u001b[49m\u001b[38;5;28;43;01melse\u001b[39;49;00m\u001b[43m \u001b[49m\u001b[43m{\u001b[49m\u001b[43m}\u001b[49m\u001b[43m)\u001b[49m\u001b[43m,\u001b[49m\n\u001b[1;32m   3848\u001b[0m \u001b[43m        \u001b[49m\u001b[38;5;241;43m*\u001b[39;49m\u001b[38;5;241;43m*\u001b[39;49m\u001b[43mkwargs\u001b[49m\u001b[43m,\u001b[49m\n\u001b[1;32m   3849\u001b[0m \u001b[43m    \u001b[49m\u001b[43m)\u001b[49m\n",
      "File \u001b[0;32m~/anaconda3/envs/sympde/lib/python3.10/site-packages/matplotlib/axes/_axes.py:2209\u001b[0m, in \u001b[0;36mAxes.step\u001b[0;34m(self, x, y, where, data, *args, **kwargs)\u001b[0m\n\u001b[1;32m   2207\u001b[0m _api\u001b[38;5;241m.\u001b[39mcheck_in_list((\u001b[38;5;124m'\u001b[39m\u001b[38;5;124mpre\u001b[39m\u001b[38;5;124m'\u001b[39m, \u001b[38;5;124m'\u001b[39m\u001b[38;5;124mpost\u001b[39m\u001b[38;5;124m'\u001b[39m, \u001b[38;5;124m'\u001b[39m\u001b[38;5;124mmid\u001b[39m\u001b[38;5;124m'\u001b[39m), where\u001b[38;5;241m=\u001b[39mwhere)\n\u001b[1;32m   2208\u001b[0m kwargs[\u001b[38;5;124m'\u001b[39m\u001b[38;5;124mdrawstyle\u001b[39m\u001b[38;5;124m'\u001b[39m] \u001b[38;5;241m=\u001b[39m \u001b[38;5;124m'\u001b[39m\u001b[38;5;124msteps-\u001b[39m\u001b[38;5;124m'\u001b[39m \u001b[38;5;241m+\u001b[39m where\n\u001b[0;32m-> 2209\u001b[0m \u001b[38;5;28;01mreturn\u001b[39;00m \u001b[38;5;28;43mself\u001b[39;49m\u001b[38;5;241;43m.\u001b[39;49m\u001b[43mplot\u001b[49m\u001b[43m(\u001b[49m\u001b[43mx\u001b[49m\u001b[43m,\u001b[49m\u001b[43m \u001b[49m\u001b[43my\u001b[49m\u001b[43m,\u001b[49m\u001b[43m \u001b[49m\u001b[38;5;241;43m*\u001b[39;49m\u001b[43margs\u001b[49m\u001b[43m,\u001b[49m\u001b[43m \u001b[49m\u001b[43mdata\u001b[49m\u001b[38;5;241;43m=\u001b[39;49m\u001b[43mdata\u001b[49m\u001b[43m,\u001b[49m\u001b[43m \u001b[49m\u001b[38;5;241;43m*\u001b[39;49m\u001b[38;5;241;43m*\u001b[39;49m\u001b[43mkwargs\u001b[49m\u001b[43m)\u001b[49m\n",
      "File \u001b[0;32m~/anaconda3/envs/sympde/lib/python3.10/site-packages/matplotlib/axes/_axes.py:1721\u001b[0m, in \u001b[0;36mAxes.plot\u001b[0;34m(self, scalex, scaley, data, *args, **kwargs)\u001b[0m\n\u001b[1;32m   1478\u001b[0m \u001b[38;5;250m\u001b[39m\u001b[38;5;124;03m\"\"\"\u001b[39;00m\n\u001b[1;32m   1479\u001b[0m \u001b[38;5;124;03mPlot y versus x as lines and/or markers.\u001b[39;00m\n\u001b[1;32m   1480\u001b[0m \n\u001b[0;32m   (...)\u001b[0m\n\u001b[1;32m   1718\u001b[0m \u001b[38;5;124;03m(``'green'``) or hex strings (``'#008000'``).\u001b[39;00m\n\u001b[1;32m   1719\u001b[0m \u001b[38;5;124;03m\"\"\"\u001b[39;00m\n\u001b[1;32m   1720\u001b[0m kwargs \u001b[38;5;241m=\u001b[39m cbook\u001b[38;5;241m.\u001b[39mnormalize_kwargs(kwargs, mlines\u001b[38;5;241m.\u001b[39mLine2D)\n\u001b[0;32m-> 1721\u001b[0m lines \u001b[38;5;241m=\u001b[39m [\u001b[38;5;241m*\u001b[39m\u001b[38;5;28mself\u001b[39m\u001b[38;5;241m.\u001b[39m_get_lines(\u001b[38;5;28mself\u001b[39m, \u001b[38;5;241m*\u001b[39margs, data\u001b[38;5;241m=\u001b[39mdata, \u001b[38;5;241m*\u001b[39m\u001b[38;5;241m*\u001b[39mkwargs)]\n\u001b[1;32m   1722\u001b[0m \u001b[38;5;28;01mfor\u001b[39;00m line \u001b[38;5;129;01min\u001b[39;00m lines:\n\u001b[1;32m   1723\u001b[0m     \u001b[38;5;28mself\u001b[39m\u001b[38;5;241m.\u001b[39madd_line(line)\n",
      "File \u001b[0;32m~/anaconda3/envs/sympde/lib/python3.10/site-packages/matplotlib/axes/_base.py:303\u001b[0m, in \u001b[0;36m_process_plot_var_args.__call__\u001b[0;34m(self, axes, data, *args, **kwargs)\u001b[0m\n\u001b[1;32m    301\u001b[0m     this \u001b[38;5;241m+\u001b[39m\u001b[38;5;241m=\u001b[39m args[\u001b[38;5;241m0\u001b[39m],\n\u001b[1;32m    302\u001b[0m     args \u001b[38;5;241m=\u001b[39m args[\u001b[38;5;241m1\u001b[39m:]\n\u001b[0;32m--> 303\u001b[0m \u001b[38;5;28;01myield from\u001b[39;00m \u001b[38;5;28;43mself\u001b[39;49m\u001b[38;5;241;43m.\u001b[39;49m\u001b[43m_plot_args\u001b[49m\u001b[43m(\u001b[49m\n\u001b[1;32m    304\u001b[0m \u001b[43m    \u001b[49m\u001b[43maxes\u001b[49m\u001b[43m,\u001b[49m\u001b[43m \u001b[49m\u001b[43mthis\u001b[49m\u001b[43m,\u001b[49m\u001b[43m \u001b[49m\u001b[43mkwargs\u001b[49m\u001b[43m,\u001b[49m\u001b[43m \u001b[49m\u001b[43mambiguous_fmt_datakey\u001b[49m\u001b[38;5;241;43m=\u001b[39;49m\u001b[43mambiguous_fmt_datakey\u001b[49m\u001b[43m)\u001b[49m\n",
      "File \u001b[0;32m~/anaconda3/envs/sympde/lib/python3.10/site-packages/matplotlib/axes/_base.py:499\u001b[0m, in \u001b[0;36m_process_plot_var_args._plot_args\u001b[0;34m(self, axes, tup, kwargs, return_kwargs, ambiguous_fmt_datakey)\u001b[0m\n\u001b[1;32m    496\u001b[0m     axes\u001b[38;5;241m.\u001b[39myaxis\u001b[38;5;241m.\u001b[39mupdate_units(y)\n\u001b[1;32m    498\u001b[0m \u001b[38;5;28;01mif\u001b[39;00m x\u001b[38;5;241m.\u001b[39mshape[\u001b[38;5;241m0\u001b[39m] \u001b[38;5;241m!=\u001b[39m y\u001b[38;5;241m.\u001b[39mshape[\u001b[38;5;241m0\u001b[39m]:\n\u001b[0;32m--> 499\u001b[0m     \u001b[38;5;28;01mraise\u001b[39;00m \u001b[38;5;167;01mValueError\u001b[39;00m(\u001b[38;5;124mf\u001b[39m\u001b[38;5;124m\"\u001b[39m\u001b[38;5;124mx and y must have same first dimension, but \u001b[39m\u001b[38;5;124m\"\u001b[39m\n\u001b[1;32m    500\u001b[0m                      \u001b[38;5;124mf\u001b[39m\u001b[38;5;124m\"\u001b[39m\u001b[38;5;124mhave shapes \u001b[39m\u001b[38;5;132;01m{\u001b[39;00mx\u001b[38;5;241m.\u001b[39mshape\u001b[38;5;132;01m}\u001b[39;00m\u001b[38;5;124m and \u001b[39m\u001b[38;5;132;01m{\u001b[39;00my\u001b[38;5;241m.\u001b[39mshape\u001b[38;5;132;01m}\u001b[39;00m\u001b[38;5;124m\"\u001b[39m)\n\u001b[1;32m    501\u001b[0m \u001b[38;5;28;01mif\u001b[39;00m x\u001b[38;5;241m.\u001b[39mndim \u001b[38;5;241m>\u001b[39m \u001b[38;5;241m2\u001b[39m \u001b[38;5;129;01mor\u001b[39;00m y\u001b[38;5;241m.\u001b[39mndim \u001b[38;5;241m>\u001b[39m \u001b[38;5;241m2\u001b[39m:\n\u001b[1;32m    502\u001b[0m     \u001b[38;5;28;01mraise\u001b[39;00m \u001b[38;5;167;01mValueError\u001b[39;00m(\u001b[38;5;124mf\u001b[39m\u001b[38;5;124m\"\u001b[39m\u001b[38;5;124mx and y can be no greater than 2D, but have \u001b[39m\u001b[38;5;124m\"\u001b[39m\n\u001b[1;32m    503\u001b[0m                      \u001b[38;5;124mf\u001b[39m\u001b[38;5;124m\"\u001b[39m\u001b[38;5;124mshapes \u001b[39m\u001b[38;5;132;01m{\u001b[39;00mx\u001b[38;5;241m.\u001b[39mshape\u001b[38;5;132;01m}\u001b[39;00m\u001b[38;5;124m and \u001b[39m\u001b[38;5;132;01m{\u001b[39;00my\u001b[38;5;241m.\u001b[39mshape\u001b[38;5;132;01m}\u001b[39;00m\u001b[38;5;124m\"\u001b[39m)\n",
      "\u001b[0;31mValueError\u001b[0m: x and y must have same first dimension, but have shapes torch.Size([50]) and torch.Size([49])"
     ]
    },
    {
     "data": {
      "image/png": "[encoded data removed]",
      "text/plain": [
       "<Figure size 640x480 with 1 Axes>"
      ]
     },
     "metadata": {},
     "output_type": "display_data"
    }
   ],
   "source": [
    "plt.step(bin_edges, x_a_hist, color = 'tab:blue')"
   ]
  }
 ],
 "metadata": {
  "kernelspec": {
   "display_name": "sympde",
   "language": "python",
   "name": "python3"
  },
  "language_info": {
   "codemirror_mode": {
    "name": "ipython",
    "version": 3
   },
   "file_extension": ".py",
   "mimetype": "text/x-python",
   "name": "python",
   "nbconvert_exporter": "python",
   "pygments_lexer": "ipython3",
   "version": "3.10.13"
  }
 },
 "nbformat": 4,
 "nbformat_minor": 2
}
