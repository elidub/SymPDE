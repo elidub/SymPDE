{
 "cells": [
  {
   "cell_type": "code",
   "execution_count": 1,
   "metadata": {},
   "outputs": [],
   "source": [
    "import torch\n",
    "device = torch.device(\"cuda\" if torch.cuda.is_available() else \"cpu\")\n",
    "\n",
    "def MMD(x, y, kernel):\n",
    "    \"\"\"Emprical maximum mean discrepancy. The lower the result\n",
    "       the more evidence that distributions are the same.\n",
    "\n",
    "    Args:\n",
    "        x: first sample, distribution P\n",
    "        y: second sample, distribution Q\n",
    "        kernel: kernel type such as \"multiscale\" or \"rbf\"\n",
    "    \"\"\"\n",
    "    xx, yy, zz = torch.mm(x, x.t()), torch.mm(y, y.t()), torch.mm(x, y.t())\n",
    "    rx = (xx.diag().unsqueeze(0).expand_as(xx))\n",
    "    ry = (yy.diag().unsqueeze(0).expand_as(yy))\n",
    "\n",
    "    dxx = rx.t() + rx - 2. * xx # Used for A in (1)\n",
    "    dyy = ry.t() + ry - 2. * yy # Used for B in (1)\n",
    "    dxy = rx.t() + ry - 2. * zz # Used for C in (1)\n",
    "\n",
    "    XX, YY, XY = (torch.zeros(xx.shape).to(device),\n",
    "                  torch.zeros(xx.shape).to(device),\n",
    "                  torch.zeros(xx.shape).to(device))\n",
    "\n",
    "    if kernel == \"multiscale\":\n",
    "\n",
    "        bandwidth_range = [0.2, 0.5, 0.9, 1.3]\n",
    "        for a in bandwidth_range:\n",
    "            XX += a**2 * (a**2 + dxx)**-1\n",
    "            YY += a**2 * (a**2 + dyy)**-1\n",
    "            XY += a**2 * (a**2 + dxy)**-1\n",
    "\n",
    "    if kernel == \"rbf\":\n",
    "\n",
    "        bandwidth_range = [10, 15, 20, 50]\n",
    "        for a in bandwidth_range:\n",
    "            XX += torch.exp(-0.5*dxx/a)\n",
    "            YY += torch.exp(-0.5*dyy/a)\n",
    "            XY += torch.exp(-0.5*dxy/a)\n",
    "\n",
    "\n",
    "\n",
    "    return torch.mean(XX + YY - 2. * XY)"
   ]
  },
  {
   "cell_type": "code",
   "execution_count": 20,
   "metadata": {},
   "outputs": [
    {
     "data": {
      "text/plain": [
       "tensor(3.2664)"
      ]
     },
     "execution_count": 20,
     "metadata": {},
     "output_type": "execute_result"
    }
   ],
   "source": [
    "n = 1000\n",
    "shape = (n, 1)\n",
    "x = torch.randn(*shape, device=device) + 100\n",
    "y = torch.randn(*shape, device=device)\n",
    "\n",
    "MMD(x, y, \"multiscale\")"
   ]
  },
  {
   "cell_type": "code",
   "execution_count": 6,
   "metadata": {},
   "outputs": [
    {
     "data": {
      "text/plain": [
       "tensor([[-0.3366, -0.0248],\n",
       "        [-0.2395,  1.2967],\n",
       "        [-0.3508, -1.7608],\n",
       "        [-0.5652,  0.3536],\n",
       "        [-1.3200,  1.0945],\n",
       "        [-0.1719,  0.4574],\n",
       "        [-0.8441,  1.1226],\n",
       "        [-0.4618,  0.0602],\n",
       "        [-1.1489,  2.2684],\n",
       "        [ 2.3621, -2.1875],\n",
       "        [-0.7555,  0.8472],\n",
       "        [ 0.4164,  0.3804],\n",
       "        [-1.2010,  0.1721],\n",
       "        [ 0.5321, -1.1577],\n",
       "        [-2.2462,  0.5495],\n",
       "        [ 0.9428, -0.9436],\n",
       "        [-0.5089,  3.0139],\n",
       "        [-1.3694,  1.2250],\n",
       "        [ 1.6607, -0.4158],\n",
       "        [-0.0860,  3.2964]])"
      ]
     },
     "execution_count": 6,
     "metadata": {},
     "output_type": "execute_result"
    }
   ],
   "source": [
    "y"
   ]
  },
  {
   "cell_type": "code",
   "execution_count": 4,
   "metadata": {},
   "outputs": [
    {
     "name": "stdout",
     "output_type": "stream",
     "text": [
      "MMD result of X and Y is 0.5802701711654663\n"
     ]
    },
    {
     "data": {
      "image/png": "[encoded data removed]",
      "text/plain": [
       "<Figure size 800x400 with 2 Axes>"
      ]
     },
     "metadata": {},
     "output_type": "display_data"
    }
   ],
   "source": [
    "%matplotlib inline\n",
    "import numpy as np\n",
    "import matplotlib.pyplot as plt\n",
    "from scipy.stats import multivariate_normal\n",
    "from scipy.stats import dirichlet\n",
    "from torch.distributions.multivariate_normal import MultivariateNormal\n",
    "\n",
    "\n",
    "m = 20 # sample size\n",
    "x_mean = torch.zeros(2)+1\n",
    "y_mean = torch.zeros(2)\n",
    "x_cov = 2*torch.eye(2) # IMPORTANT: Covariance matrices must be positive definite\n",
    "y_cov = 3*torch.eye(2) - 1\n",
    "\n",
    "px = MultivariateNormal(x_mean, x_cov)\n",
    "qy = MultivariateNormal(y_mean, y_cov)\n",
    "x = px.sample([m]).to(device)\n",
    "y = qy.sample([m]).to(device)\n",
    "\n",
    "result = MMD(x, y, kernel=\"multiscale\")\n",
    "\n",
    "print(f\"MMD result of X and Y is {result.item()}\")\n",
    "\n",
    "# ---- Plotting setup ----\n",
    "\n",
    "fig, (ax1,ax2) = plt.subplots(1,2,figsize=(8,4), dpi=100)\n",
    "#plt.tight_layout()\n",
    "delta = 0.025\n",
    "\n",
    "x1_val = np.linspace(-5, 5, num=m)\n",
    "x2_val = np.linspace(-5, 5, num=m)\n",
    "\n",
    "x1, x2 = np.meshgrid(x1_val, x2_val)\n",
    "\n",
    "px_grid = torch.zeros(m,m)\n",
    "qy_grid = torch.zeros(m,m)\n",
    "\n",
    "\n",
    "for i in range(m):\n",
    "    for j in range(m):\n",
    "        px_grid[i,j] = multivariate_normal.pdf([x1_val[i],x2_val[j]], x_mean, x_cov)\n",
    "        qy_grid[i,j] = multivariate_normal.pdf([x1_val[i],x2_val[j]], y_mean, y_cov)\n",
    "\n",
    "\n",
    "# CS1 = ax1.contourf(x1, x2, px_grid,100, cmap=plt.cm.YlGnBu)\n",
    "# ax1.set_title(\"Distribution of $$X \\sim P(X)$$\")\n",
    "# ax1.set_ylabel('$$x_2$$')\n",
    "# ax1.set_xlabel('$$x_1$$')\n",
    "# ax1.set_aspect('equal')\n",
    "# ax1.scatter(x[:10,0].cpu(), x[:10,1].cpu(), label=\"$$X$$ Samples\", marker=\"o\", facecolor=\"r\", edgecolor=\"k\")\n",
    "# ax1.legend()\n",
    "\n",
    "# CS2 = ax2.contourf(x1, x2, qy_grid,100, cmap=plt.cm.YlGnBu)\n",
    "# ax2.set_title(\"Distribution of $$Y \\sim Q(Y)$$\")\n",
    "# ax2.set_xlabel('$$y_1$$')\n",
    "# ax2.set_ylabel('$$y_2$$')\n",
    "# ax2.set_aspect('equal')\n",
    "# ax2.scatter(y[:10,0].cpu(), y[:10,1].cpu(), label=\"$$Y$$ Samples\", marker=\"o\", facecolor=\"r\", edgecolor=\"k\")\n",
    "# ax2.legend()\n",
    "# #ax1.axis([-2.5, 2.5, -2.5, 2.5])\n",
    "\n",
    "# # Add colorbar and title\n",
    "# fig.subplots_adjust(right=0.8)\n",
    "# cbar_ax = fig.add_axes([0.85, 0.15, 0.02, 0.7])\n",
    "# cbar = fig.colorbar(CS2, cax=cbar_ax)\n",
    "# cbar.ax.set_ylabel('Density results')\n",
    "# plt.suptitle(f\"MMD result: {round(result.item(),3)}\",y=0.95, fontweight=\"bold\")\n",
    "# plt.show()"
   ]
  }
 ],
 "metadata": {
  "kernelspec": {
   "display_name": "sympde",
   "language": "python",
   "name": "python3"
  },
  "language_info": {
   "codemirror_mode": {
    "name": "ipython",
    "version": 3
   },
   "file_extension": ".py",
   "mimetype": "text/x-python",
   "name": "python",
   "nbconvert_exporter": "python",
   "pygments_lexer": "ipython3",
   "version": "3.10.13"
  }
 },
 "nbformat": 4,
 "nbformat_minor": 2
}
