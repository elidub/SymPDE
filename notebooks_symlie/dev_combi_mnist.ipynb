{
 "cells": [
  {
   "cell_type": "code",
   "execution_count": 40,
   "metadata": {},
   "outputs": [
    {
     "name": "stdout",
     "output_type": "stream",
     "text": [
      "The autoreload extension is already loaded. To reload it, use:\n",
      "  %reload_ext autoreload\n"
     ]
    }
   ],
   "source": [
    "%load_ext autoreload\n",
    "%autoreload 2\n",
    "\n",
    "import os, sys\n",
    "import numpy as np\n",
    "import matplotlib.pyplot as plt\n",
    "import torch\n",
    "from torch import nn\n",
    "from tqdm import tqdm\n",
    "import pandas as pd\n",
    "\n",
    "import torch.nn.functional as F\n",
    "import pytorch_lightning as pl\n",
    "import sklearn.metrics as skm\n",
    "\n",
    "sys.path.append(os.path.join(os.getcwd(), '../symlie'))\n",
    "sys.path.append(os.path.join(os.getcwd(), '../sympdee/sympde/viz'))\n",
    "sys.path.append(os.path.join(os.getcwd(), '..'))\n",
    "\n",
    "from symlie.model.networks.linear import CalculatedP, LinearP\n",
    "from sympdee.sympde.viz.general_plots import imshows, plot_vals, simple_imshow, savefig, simple_imshow, imshow\n",
    "from symlie.misc.utils_results import get_and_check_Ps, plot_seeds_and_Ps\n",
    "from symlie.data.transforms import Transform\n",
    "from symlie.model.networks.implicit import LinearImplicit\n",
    "from symlie.model.setup import load_implicitP_statedict\n",
    "from symlie.model.loss import mmd\n",
    "from symlie.run import parse_options, main, process_args\n"
   ]
  },
  {
   "cell_type": "code",
   "execution_count": 41,
   "metadata": {},
   "outputs": [],
   "source": [
    "def plot_2columns(x_plots, x_titles):\n",
    "\n",
    "    nrows = len(x_plots)\n",
    "    batch_size = x_plots[0][0].shape[0]\n",
    "\n",
    "    x_idx = np.random.randint(0, batch_size, 1)[0]\n",
    "    fig, axs = plt.subplots(nrows, 2, figsize = (6, 1.*nrows), tight_layout = True)\n",
    "    for i, (x_l, x_r) in enumerate(x_plots):\n",
    "\n",
    "        x_l, x_r = x_l.detach().cpu().numpy(), x_r.detach().cpu().numpy()\n",
    "\n",
    "        for j, (x_lr, color) in enumerate(zip([x_l, x_r], ['tab:blue', 'tab:orange'])):\n",
    "            xx = x_lr[x_idx]\n",
    "            ax = axs[i, j]\n",
    "            ax.plot(xx, 'o-', color = color)\n",
    "            ax.plot([len(xx)-1, len(xx)], [xx[-1], xx[0]], '--', color=color)\n",
    "            ax.plot([-1, 0], [xx[-1], xx[0]], '--', color=color)\n",
    "            ax.set_xticks([])\n",
    "            ax.set_yticks([0])\n",
    "            ax.set_title(x_titles[i][j])\n",
    "    plt.show()\n",
    "\n",
    "def plot1d(x, logy = True, title = None):\n",
    "    plt.figure(figsize=(5,2))\n",
    "    plt.plot(x)\n",
    "    if logy: plt.yscale('log')\n",
    "    plt.title(title)\n",
    "    plt.show()"
   ]
  },
  {
   "cell_type": "code",
   "execution_count": 42,
   "metadata": {},
   "outputs": [
    {
     "name": "stderr",
     "output_type": "stream",
     "text": [
      "Seed set to 42\n"
     ]
    },
    {
     "name": "stdout",
     "output_type": "stream",
     "text": [
      "Running without logging\n"
     ]
    },
    {
     "name": "stderr",
     "output_type": "stream",
     "text": [
      "/Users/elias/anaconda3/envs/sympde/lib/python3.10/site-packages/pytorch_lightning/trainer/setup.py:187: GPU available but not used. You can set it by doing `Trainer(accelerator='gpu')`.\n"
     ]
    }
   ],
   "source": [
    "args = parse_options(notebook=True)\n",
    "\n",
    "args.noise_std = 0.1\n",
    "args.grid_size = (7, 7)\n",
    "args.eps_mult = [0.0, 1.0, 1.0, 1.0]\n",
    "# args.eps_mult = [0.0, 0.0, 0.0, 0.0]\n",
    "args.net = 'TrainP'\n",
    "args.data_dir = '../data/MNIST'\n",
    "\n",
    "args.do_return = True\n",
    "args.logger = None\n",
    "\n",
    "args.n_train = 100\n",
    "\n",
    "process_args(args)\n",
    "\n",
    "# Training\n",
    "_, _, datamodule = main(args)\n",
    "\n",
    "n_epochs = 1000\n",
    "# n_epochs = 10\n",
    "size =  7\n",
    "features = size**2\n"
   ]
  },
  {
   "cell_type": "code",
   "execution_count": 43,
   "metadata": {},
   "outputs": [],
   "source": [
    "trainloader = datamodule.train_dataloader()\n",
    "testloader = datamodule.test_dataloader()"
   ]
  },
  {
   "cell_type": "code",
   "execution_count": 44,
   "metadata": {},
   "outputs": [],
   "source": [
    "transform_funcs = {k: v() for k, v in CalculatedP(size = features).transform_funcs.items()}"
   ]
  },
  {
   "cell_type": "code",
   "execution_count": 45,
   "metadata": {},
   "outputs": [],
   "source": [
    "class PredictionLearner(nn.Module):\n",
    "    def __init__(self, size, method):\n",
    "        super().__init__()\n",
    "        self.size = size\n",
    "        self.method = method\n",
    "\n",
    "        self.weight1 = nn.Parameter(torch.rand(size, size))\n",
    "\n",
    "        match method:\n",
    "            case 'mlp':\n",
    "                self.f_eval = self.mlp\n",
    "                self.lossweights = [1, 1]\n",
    "            case 'none':\n",
    "                self.f_eval = self.vanilla\n",
    "                self.lossweights = [0,1]\n",
    "            case 'space_translation':\n",
    "                self.f_eval = self.space_translation\n",
    "                self.lossweights = [0,1]\n",
    "\n",
    "        features = size**2\n",
    "        self.layer1 = nn.Linear(size, size, bias = True)\n",
    "        self.layers = nn.Sequential(\n",
    "            nn.Linear(features,size),\n",
    "            nn.ReLU(),\n",
    "            nn.Linear(size,features),\n",
    "            # nn.ReLU(),\n",
    "            # nn.Linear(features,features),\n",
    "            # nn.ReLU(),\n",
    "            # nn.Linear(features,features),\n",
    "        )\n",
    "        \n",
    "        self.activation = nn.ReLU()\n",
    "        self.layer2 = nn.Linear(size, 10, bias = False)\n",
    "\n",
    "    def mlp(self, weight):\n",
    "        weight = weight.view(self.size**2)\n",
    "        weight = self.layers(weight)\n",
    "        weight = weight.view(self.size, self.size)\n",
    "        return weight\n",
    "    \n",
    "    def vanilla(self, weight):\n",
    "        return weight\n",
    "        w = weight\n",
    "        w = w.view(size**2)\n",
    "        w = transform_funcs['none'] @ w\n",
    "        w = w.view(size, size)\n",
    "        return w\n",
    "    \n",
    "    def space_translation(self, weight):\n",
    "        w = weight\n",
    "        w = w.view(size**2)\n",
    "        w = transform_funcs['space_translation'] @ w\n",
    "        w = w.view(size, size)\n",
    "        return w\n",
    "\n",
    "    \n",
    "    def forward(self, x):\n",
    "        \n",
    "        # weight = self.f_eval(self.weight1)\n",
    "        # x = x @ self.weight1.T\n",
    "\n",
    "        x = self.layer1(x)\n",
    "        \n",
    "        x = self.activation(x)\n",
    "        x = self.layer2(x)\n",
    "        return x"
   ]
  },
  {
   "cell_type": "code",
   "execution_count": 46,
   "metadata": {},
   "outputs": [],
   "source": [
    "# x, y, _ = next(iter(trainloader))\n",
    "\n",
    "# i = 5\n",
    "# print(x.shape)\n",
    "# x0 = x[i].view(args.grid_size).unsqueeze(0)\n",
    "# print(x0.shape)\n",
    "\n",
    "# plt.figure(figsize=(3,3))\n",
    "# plt.imshow(x0.squeeze(0))\n",
    "# plt.show()\n",
    "\n",
    "# shiftx = -3\n",
    "# shifty = 1\n",
    "# rot    = 2\n",
    "\n",
    "# x1 = torch.roll(x0, shifts = shiftx, dims = 2)\n",
    "# x1 = torch.roll(x1, shifts = shifty, dims = 1)\n",
    "# x1 = torch.rot90(x1, k = rot, dims = (1,2))\n",
    "\n",
    "# plt.figure(figsize=(3,3))\n",
    "# plt.imshow(x1.squeeze(0))\n",
    "# plt.title(y[i].item())\n",
    "# plt.show()"
   ]
  },
  {
   "cell_type": "code",
   "execution_count": 47,
   "metadata": {},
   "outputs": [
    {
     "name": "stderr",
     "output_type": "stream",
     "text": [
      "seed=41, method=none: 100%|██████████| 1000/1000 [00:07<00:00, 128.77it/s]\n",
      "seed=42, method=none: 100%|██████████| 1000/1000 [00:04<00:00, 200.58it/s]\n"
     ]
    }
   ],
   "source": [
    "seeds = [41, 42, 43]\n",
    "methods = ['none', 'mlp']\n",
    "\n",
    "seeds = [41, 42]\n",
    "methods = ['none']\n",
    "\n",
    "rs = []\n",
    "\n",
    "for seed in seeds:\n",
    "  torch.manual_seed(seed)\n",
    "  for method in methods:\n",
    "\n",
    "    # Initialize the MLP\n",
    "    mlp = PredictionLearner(size=features, method=method)\n",
    "\n",
    "    # Define the loss function and optimizer\n",
    "    criterion1     = nn.MSELoss()\n",
    "    criterion2     = nn.CrossEntropyLoss()\n",
    "    optimizer = torch.optim.Adam(mlp.parameters(), lr=1e-3)\n",
    "\n",
    "    losses1 = []\n",
    "    losses2 = []\n",
    "\n",
    "    # Run the training loop\n",
    "    for epoch in tqdm(range(0, n_epochs), desc = f'seed={seed}, method={method}'):\n",
    "        \n",
    "        current_loss1 = 0.0\n",
    "        current_loss2 = 0.0\n",
    "        \n",
    "        # Iterate over the DataLoader for training data\n",
    "        for i, data in enumerate(trainloader, 0):\n",
    "          \n",
    "            # Get inputs\n",
    "            x, y, _ = data\n",
    "            batch_size = x.size(0)\n",
    "            \n",
    "            # Zero the gradients\n",
    "            optimizer.zero_grad()\n",
    "\n",
    "            x_a = x.clone()\n",
    "            x_b = x.clone()\n",
    "            shiftx = (torch.rand((1))*size).int().item()\n",
    "            shifty = (torch.rand((1))*size).int().item()\n",
    "            rot = (torch.rand((1))*4).int().item()\n",
    "\n",
    "            weight = mlp.weight1\n",
    "            o_a = x_a @ mlp.f_eval(weight).T\n",
    "\n",
    "            o_a_prime = o_a.reshape(batch_size, size, size)\n",
    "            o_a_prime = torch.roll(o_a_prime, shiftx, 2)\n",
    "            o_a_prime = torch.roll(o_a_prime, shifty, 1)\n",
    "            o_a_prime = torch.rot90(o_a_prime, k = rot, dims = (1,2))\n",
    "            o_a_prime = o_a_prime.reshape(batch_size, features)\n",
    "\n",
    "\n",
    "            x_b_prime = x_b.reshape(batch_size, size, size)\n",
    "            x_b_prime = torch.roll(x_b_prime, shiftx, 2)\n",
    "            x_b_prime = torch.roll(x_b_prime, shifty, 1)\n",
    "            x_b_prime = torch.rot90(x_b_prime, k = rot, dims = (1,2))\n",
    "            x_b_prime = x_b_prime.reshape(batch_size, features)\n",
    "            \n",
    "            o_b_prime = x_b_prime @ mlp.f_eval(weight).T\n",
    "\n",
    "            # Compute loss\n",
    "            loss1 = criterion1(o_a_prime, o_b_prime)\n",
    "\n",
    "\n",
    "            y_pred = mlp(x)\n",
    "\n",
    "\n",
    "            # Compute loss\n",
    "            # print(y_pred.shape, y.squeeze(1).shape)\n",
    "            loss2 = criterion2(y_pred, y.squeeze(1).long())\n",
    "\n",
    "            loss = mlp.lossweights[0]*loss1 + mlp.lossweights[1]*loss2\n",
    "\n",
    "            # Perform backward pass\n",
    "            loss.backward()\n",
    "            \n",
    "            # Perform optimization\n",
    "            optimizer.step()\n",
    "            \n",
    "            # Print statistics\n",
    "            current_loss1 += loss1.item()\n",
    "            current_loss2 += loss2.item()\n",
    "        current_loss1 = current_loss1 / len(trainloader)\n",
    "        current_loss2 = current_loss2 / len(trainloader)\n",
    "        losses1.append(current_loss1)\n",
    "        losses2.append(current_loss2)\n",
    "\n",
    "    mlp = mlp.eval()\n",
    "    test_loss = 0.0\n",
    "    y_trues, y_preds, y_preds_raw = [], [], []\n",
    "    for i, data in enumerate(testloader, 0):\n",
    "      x, y, _ = data\n",
    "      y_pred = mlp(x)\n",
    "\n",
    "      # loss = criterion2(y_pred, y)\n",
    "      loss = criterion2(y_pred, y.squeeze(1).long())\n",
    "\n",
    "      test_loss += loss.item() / len(testloader)\n",
    "      y_trues.append(y.detach().squeeze(1))\n",
    "      y_preds_raw.append(y_pred.detach())\n",
    "      y_pred = torch.argmax(y_pred, dim = 1)\n",
    "      y_preds.append(y_pred.detach())\n",
    "\n",
    "    r = {\n",
    "        'seed': seed,\n",
    "        'method': method,\n",
    "        'test_loss': test_loss,\n",
    "        'losses1': losses1,\n",
    "        'losses2': losses2,\n",
    "        'y_trues': torch.cat(y_trues),\n",
    "        'y_preds': torch.cat(y_preds),\n",
    "        'y_preds_raw': torch.cat(y_preds),\n",
    "    }\n",
    "    rs.append(r)\n",
    "\n",
    "    # plot1d(losses, logy = True, title = f'seed={seed}, loss={test_loss:.6f}')"
   ]
  },
  {
   "cell_type": "code",
   "execution_count": 48,
   "metadata": {},
   "outputs": [
    {
     "data": {
      "image/png": "[encoded data removed]",
      "text/plain": [
       "<Figure size 500x300 with 1 Axes>"
      ]
     },
     "metadata": {},
     "output_type": "display_data"
    }
   ],
   "source": [
    "results = pd.DataFrame(rs)\n",
    "results = results.set_index(['method']).sort_index()\n",
    "\n",
    "results_testloss = results.pivot(columns = 'seed', values = 'test_loss')\n",
    "results_losses = results.pivot(columns = 'seed', values = ['losses1', 'losses2'])\n",
    "results_ys = results.pivot(columns = 'seed', values = ['y_trues', 'y_preds'])\n",
    "\n",
    "fig, ax = plt.subplots(figsize=(5, 3))\n",
    "results_testloss.plot(kind = 'bar', figsize = (5, 3), logy=False, ax = ax)\n",
    "plt.show()"
   ]
  },
  {
   "cell_type": "code",
   "execution_count": 50,
   "metadata": {},
   "outputs": [
    {
     "data": {
      "image/png": "[encoded data removed]",
      "text/plain": [
       "<Figure size 300x300 with 2 Axes>"
      ]
     },
     "metadata": {},
     "output_type": "display_data"
    }
   ],
   "source": [
    "n_plots = len(methods)\n",
    "fig, axs = plt.subplots(2, n_plots, figsize = (3*n_plots, 3), tight_layout = True)\n",
    "if n_plots == 1: axs = axs[:, None]\n",
    "\n",
    "for i, method in enumerate(methods):\n",
    "    for j, seed in enumerate(seeds):\n",
    "        r = results[(results.index == method) & (results['seed'] == seed)]\n",
    "        assert len(r) == 1\n",
    "        r = r.iloc[0]\n",
    "\n",
    "        axs[0, i].plot(r['losses1'], label = f'seed={seed}')\n",
    "        axs[1, i].plot(r['losses2'], label = f'seed={seed}')\n",
    "\n",
    "    axs[0, i].set_yscale('log')\n",
    "    axs[1, i].set_yscale('log')\n",
    "\n",
    "    axs[0, i].set_title(f'{method}')\n",
    "    axs[0, 0].set_ylabel('loss1')\n",
    "    axs[1, 0].set_ylabel('loss2')"
   ]
  },
  {
   "cell_type": "code",
   "execution_count": 53,
   "metadata": {},
   "outputs": [
    {
     "data": {
      "image/png": "[encoded data removed]",
      "text/plain": [
       "<Figure size 300x600 with 2 Axes>"
      ]
     },
     "metadata": {},
     "output_type": "display_data"
    }
   ],
   "source": [
    "n_plots = len(methods)\n",
    "fig, axs = plt.subplots(len(seeds), n_plots, figsize = (3*n_plots, 3*len(seeds)), tight_layout = True)\n",
    "if n_plots == 1: axs = axs[None, :]\n",
    "\n",
    "for i, method in enumerate(methods):\n",
    "    for j, seed in enumerate(seeds):\n",
    "        r = results[(results.index == method) & (results['seed'] == seed)]\n",
    "        assert len(r) == 1\n",
    "        r = r.iloc[0]\n",
    "\n",
    "        y_trues = r['y_trues'].to(dtype = torch.int).numpy()\n",
    "        y_preds = r['y_preds'].to(dtype = torch.int).numpy()\n",
    "\n",
    "        ax = axs[i, j]\n",
    "        # ax = axs[j, i]\n",
    "        skm.ConfusionMatrixDisplay.from_predictions(y_trues, y_preds, ax = ax, colorbar=False)\n",
    "    axs[0, i].set_title(f'{method}')\n",
    "    \n"
   ]
  }
 ],
 "metadata": {
  "kernelspec": {
   "display_name": "sympde",
   "language": "python",
   "name": "python3"
  },
  "language_info": {
   "codemirror_mode": {
    "name": "ipython",
    "version": 3
   },
   "file_extension": ".py",
   "mimetype": "text/x-python",
   "name": "python",
   "nbconvert_exporter": "python",
   "pygments_lexer": "ipython3",
   "version": "3.10.13"
  }
 },
 "nbformat": 4,
 "nbformat_minor": 2
}
