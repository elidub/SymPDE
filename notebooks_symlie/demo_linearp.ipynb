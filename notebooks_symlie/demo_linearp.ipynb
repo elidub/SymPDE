{
 "cells": [
  {
   "cell_type": "code",
   "execution_count": 1,
   "metadata": {},
   "outputs": [],
   "source": [
    "%load_ext autoreload\n",
    "%autoreload 2\n",
    "\n",
    "import os, sys\n",
    "import numpy as np\n",
    "import matplotlib.pyplot as plt\n",
    "import torch\n",
    "from torch import nn\n",
    "from itertools import product\n",
    "\n",
    "from matplotlib import colors\n",
    "\n",
    "sys.path.append(os.path.join(os.getcwd(), '../symlie'))\n",
    "sys.path.append(os.path.join(os.getcwd(), '../sympdee/sympde/viz'))\n",
    "sys.path.append(os.path.join(os.getcwd(), '..'))\n",
    "\n",
    "from symlie.model.networks.linear import CalculatedP, LinearP\n",
    "from sympdee.sympde.viz.general_plots import imshows, plot_vals, simple_imshow, savefig"
   ]
  },
  {
   "cell_type": "code",
   "execution_count": 37,
   "metadata": {},
   "outputs": [],
   "source": [
    "batch_size, features = 3, 4\n",
    "set_bias = True\n",
    "x = torch.randn(batch_size, features)\n",
    "weigth, bias = torch.randn(features, features), torch.randn(features)"
   ]
  },
  {
   "cell_type": "code",
   "execution_count": 38,
   "metadata": {},
   "outputs": [],
   "source": [
    "linear_torch = nn.Linear(features, features, bias = set_bias)\n",
    "linear_torch.weight.data = weigth\n",
    "linear_torch.bias.data = bias"
   ]
  },
  {
   "cell_type": "code",
   "execution_count": 41,
   "metadata": {},
   "outputs": [],
   "source": [
    "linear_p = LinearP(features, features, bias = set_bias, P_init = 'none')\n",
    "linear_p.weight.data = weigth\n",
    "linear_p.bias.data = bias"
   ]
  },
  {
   "cell_type": "code",
   "execution_count": 42,
   "metadata": {},
   "outputs": [],
   "source": [
    "assert (linear_p(x) == linear_torch(x)).all()"
   ]
  }
 ],
 "metadata": {
  "kernelspec": {
   "display_name": "sympde",
   "language": "python",
   "name": "python3"
  },
  "language_info": {
   "codemirror_mode": {
    "name": "ipython",
    "version": 3
   },
   "file_extension": ".py",
   "mimetype": "text/x-python",
   "name": "python",
   "nbconvert_exporter": "python",
   "pygments_lexer": "ipython3",
   "version": "3.10.13"
  }
 },
 "nbformat": 4,
 "nbformat_minor": 2
}
