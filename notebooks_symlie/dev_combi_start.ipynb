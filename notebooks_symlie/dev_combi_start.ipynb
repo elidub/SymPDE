{
 "cells": [
  {
   "cell_type": "code",
   "execution_count": 1,
   "metadata": {},
   "outputs": [],
   "source": [
    "%load_ext autoreload\n",
    "%autoreload 2\n",
    "\n",
    "import os, sys\n",
    "import numpy as np\n",
    "import matplotlib.pyplot as plt\n",
    "import torch\n",
    "from torch import nn\n",
    "from tqdm import tqdm\n",
    "import pandas as pd\n",
    "\n",
    "import torch.nn.functional as F\n",
    "import pytorch_lightning as pl\n",
    "\n",
    "sys.path.append(os.path.join(os.getcwd(), '../symlie'))\n",
    "sys.path.append(os.path.join(os.getcwd(), '../sympdee/sympde/viz'))\n",
    "sys.path.append(os.path.join(os.getcwd(), '..'))\n",
    "\n",
    "from symlie.model.networks.linear import CalculatedP, LinearP\n",
    "from sympdee.sympde.viz.general_plots import imshows, plot_vals, simple_imshow, savefig, simple_imshow, imshow\n",
    "from symlie.misc.utils_results import get_and_check_Ps, plot_seeds_and_Ps\n",
    "from symlie.data.transforms import Transform\n",
    "from symlie.model.networks.implicit import LinearImplicit\n",
    "from symlie.model.setup import load_implicitP_statedict\n",
    "from symlie.model.loss import mmd\n",
    "from symlie.run import parse_options, main, process_args\n"
   ]
  },
  {
   "cell_type": "code",
   "execution_count": 2,
   "metadata": {},
   "outputs": [],
   "source": [
    "def plot_2columns(x_plots, x_titles):\n",
    "\n",
    "    nrows = len(x_plots)\n",
    "    batch_size = x_plots[0][0].shape[0]\n",
    "\n",
    "    x_idx = np.random.randint(0, batch_size, 1)[0]\n",
    "    fig, axs = plt.subplots(nrows, 2, figsize = (6, 1.*nrows), tight_layout = True)\n",
    "    for i, (x_l, x_r) in enumerate(x_plots):\n",
    "\n",
    "        x_l, x_r = x_l.detach().cpu().numpy(), x_r.detach().cpu().numpy()\n",
    "\n",
    "        for j, (x_lr, color) in enumerate(zip([x_l, x_r], ['tab:blue', 'tab:orange'])):\n",
    "            xx = x_lr[x_idx]\n",
    "            ax = axs[i, j]\n",
    "            ax.plot(xx, 'o-', color = color)\n",
    "            ax.plot([len(xx)-1, len(xx)], [xx[-1], xx[0]], '--', color=color)\n",
    "            ax.plot([-1, 0], [xx[-1], xx[0]], '--', color=color)\n",
    "            ax.set_xticks([])\n",
    "            ax.set_yticks([0])\n",
    "            ax.set_title(x_titles[i][j])\n",
    "    plt.show()"
   ]
  },
  {
   "cell_type": "code",
   "execution_count": 7,
   "metadata": {},
   "outputs": [
    {
     "name": "stderr",
     "output_type": "stream",
     "text": [
      "Seed set to 42\n"
     ]
    },
    {
     "name": "stdout",
     "output_type": "stream",
     "text": [
      "Running without logging\n"
     ]
    }
   ],
   "source": [
    "args = parse_options(notebook=True)\n",
    "\n",
    "args.noise_std = 1.\n",
    "args.grid_size = (1, 7)\n",
    "args.eps_mult = [0.0, 0.0, 1.0, 0.0]\n",
    "args.data_dir = '../data/noise'\n",
    "args.net = 'TrainP'\n",
    "\n",
    "args.do_return = True\n",
    "args.logger = None\n",
    "\n",
    "args.n_train = 16*1000\n",
    "\n",
    "process_args(args)\n",
    "\n",
    "# Training\n",
    "model, trainer, datamodule = main(args)\n",
    "size = np.prod(args.grid_size)\n"
   ]
  },
  {
   "cell_type": "code",
   "execution_count": 4,
   "metadata": {},
   "outputs": [],
   "source": [
    "trainloader = datamodule.train_dataloader()"
   ]
  },
  {
   "cell_type": "code",
   "execution_count": 9,
   "metadata": {},
   "outputs": [],
   "source": [
    "class TransformationLearner(nn.Module):\n",
    "  \n",
    "  def __init__(self, size=3):\n",
    "    super().__init__()\n",
    "    self.size = size\n",
    "    features = size**2\n",
    "    self.layers = nn.Sequential(\n",
    "      nn.Linear(features,features),\n",
    "      nn.ReLU(),\n",
    "      nn.Linear(features,features),\n",
    "      nn.ReLU(),\n",
    "      nn.Linear(features,features),\n",
    "      nn.ReLU(),\n",
    "      nn.Linear(features,features),\n",
    "    )\n",
    "    \n",
    "  def forward(self, x):\n",
    "    x = x.view(self.size**2)\n",
    "    x = self.layers(x)\n",
    "    x = x.view(self.size, self.size)\n",
    "    return x"
   ]
  },
  {
   "cell_type": "code",
   "execution_count": 5,
   "metadata": {},
   "outputs": [
    {
     "name": "stderr",
     "output_type": "stream",
     "text": [
      "100%|██████████| 15/15 [00:14<00:00,  1.02it/s]\n"
     ]
    }
   ],
   "source": [
    "\n",
    "\n",
    "torch.manual_seed(torch.randint(0, 1000, (1,)).item())\n",
    "\n",
    "size = 7\n",
    "# Initialize the MLP\n",
    "f = TransformationLearner(size=size)\n",
    "\n",
    "# Define the loss function and optimizer\n",
    "criterion     = nn.MSELoss()\n",
    "optimizer = torch.optim.Adam(f.parameters(), lr=1e-3)\n",
    "\n",
    "losses = []\n",
    "\n",
    "# Run the training loop\n",
    "for epoch in tqdm(range(0, 15)): # 5 epochs at maximum\n",
    "    \n",
    "    current_loss = 0.0\n",
    "    \n",
    "    # Iterate over the DataLoader for training data\n",
    "    for i, data in enumerate(trainloader, 0):\n",
    "      \n",
    "        # Get inputs\n",
    "        x, _, _ = data\n",
    "        batch_size = x.size(0)\n",
    "        \n",
    "        # Zero the gradients\n",
    "        optimizer.zero_grad()\n",
    "\n",
    "        weight = torch.rand(size, size)\n",
    "\n",
    "        x_a = x\n",
    "        x_b = x\n",
    "        shift = (torch.rand((1))*size).int().item()\n",
    "\n",
    "        o_a = x_a @ f(weight).T\n",
    "        o_a_prime = torch.roll(o_a, shift, 1)\n",
    "\n",
    "        x_b_prime = torch.roll(x_b, shift, 1)\n",
    "        o_b_prime = x_b_prime @ f(weight).T\n",
    "\n",
    "        # Compute loss\n",
    "        loss = criterion(o_a_prime, o_b_prime)\n",
    "\n",
    "        # Perform backward pass\n",
    "        loss.backward()\n",
    "        \n",
    "        # Perform optimization\n",
    "        optimizer.step()\n",
    "        \n",
    "        # Print statistics\n",
    "        current_loss += loss.item()\n",
    "    current_loss = current_loss / len(trainloader)\n",
    "    losses.append(current_loss)\n",
    "    "
   ]
  },
  {
   "cell_type": "code",
   "execution_count": 12,
   "metadata": {},
   "outputs": [
    {
     "data": {
      "text/plain": [
       "<matplotlib.image.AxesImage at 0x297228f10>"
      ]
     },
     "execution_count": 12,
     "metadata": {},
     "output_type": "execute_result"
    },
    {
     "data": {
      "image/png": "[encoded data removed]",
      "text/plain": [
       "<Figure size 640x480 with 1 Axes>"
      ]
     },
     "metadata": {},
     "output_type": "display_data"
    }
   ],
   "source": [
    "weight = torch.rand(size, size)\n",
    "plt.imshow( f(weight).detach().cpu().numpy() )\n"
   ]
  },
  {
   "cell_type": "code",
   "execution_count": 13,
   "metadata": {},
   "outputs": [
    {
     "ename": "NameError",
     "evalue": "name 'x_a' is not defined",
     "output_type": "error",
     "traceback": [
      "\u001b[0;31m---------------------------------------------------------------------------\u001b[0m",
      "\u001b[0;31mNameError\u001b[0m                                 Traceback (most recent call last)",
      "Cell \u001b[0;32mIn[13], line 2\u001b[0m\n\u001b[1;32m      1\u001b[0m x_plots \u001b[38;5;241m=\u001b[39m [\n\u001b[0;32m----> 2\u001b[0m     [\u001b[43mx_a\u001b[49m, x_b_prime],\n\u001b[1;32m      3\u001b[0m     [o_a_prime, o_b_prime],\n\u001b[1;32m      4\u001b[0m ]\n\u001b[1;32m      6\u001b[0m x_titles \u001b[38;5;241m=\u001b[39m [\n\u001b[1;32m      7\u001b[0m     [\u001b[38;5;124m'\u001b[39m\u001b[38;5;124mx_a\u001b[39m\u001b[38;5;124m'\u001b[39m, \u001b[38;5;124m'\u001b[39m\u001b[38;5;124mx_b_prime\u001b[39m\u001b[38;5;124m'\u001b[39m],\n\u001b[1;32m      8\u001b[0m     [\u001b[38;5;124m'\u001b[39m\u001b[38;5;124mout_a_prime\u001b[39m\u001b[38;5;124m'\u001b[39m, \u001b[38;5;124m'\u001b[39m\u001b[38;5;124mout_b_prime\u001b[39m\u001b[38;5;124m'\u001b[39m],\n\u001b[1;32m      9\u001b[0m ]\n\u001b[1;32m     11\u001b[0m plot_2columns(x_plots, x_titles)\n",
      "\u001b[0;31mNameError\u001b[0m: name 'x_a' is not defined"
     ]
    }
   ],
   "source": [
    "x_plots = [\n",
    "    [x_a, x_b_prime],\n",
    "    [o_a_prime, o_b_prime],\n",
    "]\n",
    "\n",
    "x_titles = [\n",
    "    ['x_a', 'x_b_prime'],\n",
    "    ['out_a_prime', 'out_b_prime'],\n",
    "]\n",
    "\n",
    "plot_2columns(x_plots, x_titles)\n"
   ]
  },
  {
   "cell_type": "code",
   "execution_count": 8,
   "metadata": {},
   "outputs": [
    {
     "data": {
      "image/png": "[encoded data removed]",
      "text/plain": [
       "<Figure size 640x480 with 1 Axes>"
      ]
     },
     "metadata": {},
     "output_type": "display_data"
    }
   ],
   "source": [
    "plt.plot(losses, label='o')\n",
    "plt.yscale('log')\n",
    "plt.show()"
   ]
  },
  {
   "cell_type": "markdown",
   "metadata": {},
   "source": [
    "## Step 2"
   ]
  },
  {
   "cell_type": "code",
   "execution_count": 14,
   "metadata": {},
   "outputs": [],
   "source": [
    "f.eval();"
   ]
  },
  {
   "cell_type": "code",
   "execution_count": 15,
   "metadata": {},
   "outputs": [
    {
     "name": "stderr",
     "output_type": "stream",
     "text": [
      "Seed set to 42\n"
     ]
    },
    {
     "name": "stdout",
     "output_type": "stream",
     "text": [
      "Running without logging\n"
     ]
    },
    {
     "name": "stderr",
     "output_type": "stream",
     "text": [
      "/Users/elias/anaconda3/envs/sympde/lib/python3.10/site-packages/pytorch_lightning/trainer/setup.py:187: GPU available but not used. You can set it by doing `Trainer(accelerator='gpu')`.\n"
     ]
    }
   ],
   "source": [
    "args = parse_options(notebook=True)\n",
    "\n",
    "args.noise_std = 1.\n",
    "args.grid_size = (1, 7)\n",
    "args.eps_mult = [0.0, 0.0, 1.0, 0.0]\n",
    "args.net = 'TrainP'\n",
    "args.data_dir = '../data/sine1d'\n",
    "args.y_low = 1\n",
    "args.y_high = 3\n",
    "args.noise_std = 0.5\n",
    "\n",
    "args.do_return = True\n",
    "args.logger = None\n",
    "\n",
    "args.n_train = 100\n",
    "\n",
    "process_args(args)\n",
    "\n",
    "# Training\n",
    "_, _, datamodule2 = main(args)\n",
    "\n",
    "n_epochs = 1000"
   ]
  },
  {
   "cell_type": "code",
   "execution_count": 16,
   "metadata": {},
   "outputs": [],
   "source": [
    "trainloader2 = datamodule2.train_dataloader()\n",
    "testloader2 = datamodule2.test_dataloader()\n",
    "transform_funcs = {k: v() for k, v in CalculatedP(size = size).transform_funcs.items()}"
   ]
  },
  {
   "cell_type": "code",
   "execution_count": 19,
   "metadata": {},
   "outputs": [
    {
     "name": "stderr",
     "output_type": "stream",
     "text": [
      "100%|██████████| 1000/1000 [00:02<00:00, 349.37it/s]\n",
      "100%|██████████| 1000/1000 [00:02<00:00, 352.78it/s]\n",
      "100%|██████████| 1000/1000 [00:03<00:00, 269.72it/s]\n",
      "100%|██████████| 1000/1000 [00:02<00:00, 353.45it/s]\n",
      "100%|██████████| 1000/1000 [00:02<00:00, 354.15it/s]\n",
      "100%|██████████| 1000/1000 [00:03<00:00, 259.06it/s]\n",
      "100%|██████████| 1000/1000 [00:02<00:00, 346.82it/s]\n",
      "100%|██████████| 1000/1000 [00:02<00:00, 335.18it/s]\n",
      "100%|██████████| 1000/1000 [00:03<00:00, 271.52it/s]\n"
     ]
    }
   ],
   "source": [
    "\n",
    "transform_funcs['none'].shape\n",
    "seeds = [41, 42, 43]\n",
    "methods = ['none', 'space_translation', 'mlp']\n",
    "\n",
    "rs = []\n",
    "\n",
    "for seed in seeds:\n",
    "  torch.manual_seed(seed)\n",
    "  for method in methods:\n",
    "\n",
    "    if method == 'none':\n",
    "      def f_eval(w):\n",
    "        w = w.view(size**2)\n",
    "        w = transform_funcs[method] @ w\n",
    "        w = w.view(size, size)\n",
    "        return w\n",
    "    if method == 'space_translation':\n",
    "      def f_eval(w):\n",
    "        w = w.view(size**2)\n",
    "        w = transform_funcs[method] @ w\n",
    "        w = w.view(size, size)\n",
    "        return w\n",
    "    if method == 'mlp':\n",
    "      def f_eval(w):\n",
    "        # f = fs[seed]\n",
    "        w = f(w)\n",
    "        return w\n",
    "\n",
    "    class PredictionLearner(nn.Module):\n",
    "      def __init__(self, size):\n",
    "        super().__init__()\n",
    "        self.size = size\n",
    "\n",
    "        self.weight1 = nn.Parameter(torch.rand(size, size))\n",
    "        \n",
    "        self.activation = nn.ReLU()\n",
    "        self.layer2 = nn.Linear(size, 1, bias = False)\n",
    "\n",
    "        \n",
    "      def forward(self, x):\n",
    "          \n",
    "          weight = f_eval(self.weight1)\n",
    "          x = x @ weight.T\n",
    "\n",
    "          x = self.activation(x)\n",
    "          x = self.layer2(x)\n",
    "          return x\n",
    "\n",
    "    # Initialize the MLP\n",
    "    size = 7\n",
    "    mlp = PredictionLearner(size=size)\n",
    "\n",
    "    # Define the loss function and optimizer\n",
    "    criterion     = nn.MSELoss()\n",
    "    optimizer = torch.optim.Adam(mlp.parameters(), lr=1e-3)\n",
    "\n",
    "    losses = []\n",
    "\n",
    "    # Run the training loop\n",
    "    for epoch in tqdm(range(0, n_epochs)): # 5 epochs at maximum\n",
    "        \n",
    "        current_loss = 0.0\n",
    "        \n",
    "        # Iterate over the DataLoader for training data\n",
    "        for i, data in enumerate(trainloader2, 0):\n",
    "          \n",
    "            # Get inputs\n",
    "            x, y, _ = data\n",
    "            batch_size = x.size(0)\n",
    "            \n",
    "            # Zero the gradients\n",
    "            optimizer.zero_grad()\n",
    "\n",
    "            y_pred = mlp(x)\n",
    "\n",
    "\n",
    "            # Compute loss\n",
    "            loss = criterion(y_pred, y)\n",
    "\n",
    "            # Perform backward pass\n",
    "            loss.backward()\n",
    "            \n",
    "            # Perform optimization\n",
    "            optimizer.step()\n",
    "            \n",
    "            # Print statistics\n",
    "            current_loss += loss.item()\n",
    "        current_loss = current_loss / len(trainloader2)\n",
    "        losses.append(current_loss)\n",
    "\n",
    "    mlp = mlp.eval()\n",
    "    test_loss = 0.0\n",
    "    for i, data in enumerate(testloader2, 0):\n",
    "      x, y, _ = data\n",
    "      y_pred = mlp(x)\n",
    "\n",
    "      loss = criterion(y_pred, y)\n",
    "\n",
    "      test_loss += loss.item() / len(testloader2)\n",
    "\n",
    "    r = {\n",
    "        'seed': seed,\n",
    "        'method': method,\n",
    "        'test_loss': test_loss,\n",
    "        'losses': losses,\n",
    "    }\n",
    "    rs.append(r)\n",
    "\n",
    "    # plot1d(losses, logy = True, title = f'{method}, seed={seed}, loss={losses[-1]:.6f}')"
   ]
  },
  {
   "cell_type": "code",
   "execution_count": 20,
   "metadata": {},
   "outputs": [
    {
     "data": {
      "image/png": "[encoded data removed]",
      "text/plain": [
       "<Figure size 500x300 with 1 Axes>"
      ]
     },
     "metadata": {},
     "output_type": "display_data"
    },
    {
     "data": {
      "image/png": "[encoded data removed]",
      "text/plain": [
       "<Figure size 900x300 with 3 Axes>"
      ]
     },
     "metadata": {},
     "output_type": "display_data"
    }
   ],
   "source": [
    "results = pd.DataFrame(rs)\n",
    "results = results.set_index(['method']).sort_index()\n",
    "\n",
    "results_testloss = results.pivot(columns = 'seed', values = 'test_loss')\n",
    "results_losses = results.pivot(columns = 'seed', values = 'losses')\n",
    "\n",
    "results_testloss.plot(kind = 'bar', figsize = (5, 3), logy=True)\n",
    "n_plots = len(results_losses)\n",
    "fig, axs = plt.subplots(1, n_plots, figsize = (3*n_plots, 3), tight_layout = True)\n",
    "for ax, (method, losses) in zip(axs, results_losses.iterrows()):\n",
    "    for losses_i in losses:\n",
    "        ax.plot(losses_i)\n",
    "        # ax.set_yscale('log')\n",
    "    ax.set_title(method)\n"
   ]
  },
  {
   "cell_type": "code",
   "execution_count": null,
   "metadata": {},
   "outputs": [],
   "source": [
    "# y_pred = y_pred.detach().squeeze(1)\n",
    "# y_true = y.detach().squeeze(1)\n",
    "\n",
    "# l_min, l_max = 0, 3\n",
    "# plt.plot(y_true, y_pred, '.')\n",
    "# plt.plot([l_min, l_max], [l_min, l_max], 'k--')\n"
   ]
  }
 ],
 "metadata": {
  "kernelspec": {
   "display_name": "sympde",
   "language": "python",
   "name": "python3"
  },
  "language_info": {
   "codemirror_mode": {
    "name": "ipython",
    "version": 3
   },
   "file_extension": ".py",
   "mimetype": "text/x-python",
   "name": "python",
   "nbconvert_exporter": "python",
   "pygments_lexer": "ipython3",
   "version": "3.10.13"
  }
 },
 "nbformat": 4,
 "nbformat_minor": 2
}
