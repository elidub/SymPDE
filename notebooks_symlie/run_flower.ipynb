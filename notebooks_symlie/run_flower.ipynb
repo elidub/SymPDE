{
 "cells": [
  {
   "cell_type": "code",
   "execution_count": 4,
   "metadata": {},
   "outputs": [
    {
     "name": "stdout",
     "output_type": "stream",
     "text": [
      "The autoreload extension is already loaded. To reload it, use:\n",
      "  %reload_ext autoreload\n"
     ]
    }
   ],
   "source": [
    "%load_ext autoreload\n",
    "%autoreload 2\n",
    "\n",
    "import os, sys\n",
    "import numpy as np\n",
    "import matplotlib.pyplot as plt\n",
    "import torch\n",
    "from torch import nn\n",
    "import pytorch_lightning as pl\n",
    "from itertools import product\n",
    "import torch.nn.functional as F\n",
    "import pandas as pd\n",
    "import tensorflow as tf\n",
    "import wandb\n",
    "from tqdm import tqdm\n",
    "import io\n",
    "\n",
    "sys.path.append(os.path.join(os.getcwd(), '../symlie'))\n",
    "sys.path.append(os.path.join(os.getcwd(), '../sympdee/sympde/misc'))\n",
    "\n",
    "from run import parse_options, main, process_args\n",
    "\n",
    "from data.transforms import Transform\n",
    "from model.networks.linear import CalculatedP\n",
    "from model.networks.mlp import MLP\n",
    "\n",
    "from misc.utils import NumpyUtils, Results\n"
   ]
  },
  {
   "cell_type": "code",
   "execution_count": 5,
   "metadata": {},
   "outputs": [
    {
     "name": "stderr",
     "output_type": "stream",
     "text": [
      "Seed set to 1\n"
     ]
    },
    {
     "name": "stdout",
     "output_type": "stream",
     "text": [
      "{'eps_mult': [0.0, 0.0, 1.0, 1.0], 'only_flip': True, 'augment': 'transform_flower'}\n"
     ]
    },
    {
     "ename": "AssertionError",
     "evalue": "",
     "output_type": "error",
     "traceback": [
      "\u001b[0;31m---------------------------------------------------------------------------\u001b[0m",
      "\u001b[0;31mAssertionError\u001b[0m                            Traceback (most recent call last)",
      "Cell \u001b[0;32mIn[5], line 28\u001b[0m\n\u001b[1;32m     23\u001b[0m args\u001b[38;5;241m.\u001b[39mn_val \u001b[38;5;241m=\u001b[39m \u001b[38;5;241m10\u001b[39m\n\u001b[1;32m     26\u001b[0m args \u001b[38;5;241m=\u001b[39m process_args(args)\n\u001b[0;32m---> 28\u001b[0m model, trainer, datamodule, _ \u001b[38;5;241m=\u001b[39m \u001b[43mmain\u001b[49m\u001b[43m(\u001b[49m\u001b[43margs\u001b[49m\u001b[43m)\u001b[49m\n",
      "File \u001b[0;32m~/Documenten MBA/Studie/Thesis/SymPDE/notebooks_symlie/../symlie/run.py:101\u001b[0m, in \u001b[0;36mmain\u001b[0;34m(args)\u001b[0m\n\u001b[1;32m     96\u001b[0m pl\u001b[38;5;241m.\u001b[39mseed_everything(args\u001b[38;5;241m.\u001b[39mseed, workers\u001b[38;5;241m=\u001b[39m\u001b[38;5;28;01mTrue\u001b[39;00m)\n\u001b[1;32m     99\u001b[0m args\u001b[38;5;241m.\u001b[39mdevice \u001b[38;5;241m=\u001b[39m \u001b[38;5;124m\"\u001b[39m\u001b[38;5;124mcuda\u001b[39m\u001b[38;5;124m\"\u001b[39m \u001b[38;5;28;01mif\u001b[39;00m torch\u001b[38;5;241m.\u001b[39mcuda\u001b[38;5;241m.\u001b[39mis_available() \u001b[38;5;28;01melse\u001b[39;00m \u001b[38;5;124m\"\u001b[39m\u001b[38;5;124mcpu\u001b[39m\u001b[38;5;124m\"\u001b[39m\n\u001b[0;32m--> 101\u001b[0m model, datamodule \u001b[38;5;241m=\u001b[39m \u001b[43msetup_model\u001b[49m\u001b[43m(\u001b[49m\u001b[43margs\u001b[49m\u001b[43m)\u001b[49m\n\u001b[1;32m    103\u001b[0m \u001b[38;5;28;01mif\u001b[39;00m args\u001b[38;5;241m.\u001b[39mdo_return_model:\n\u001b[1;32m    104\u001b[0m     \u001b[38;5;28;01mreturn\u001b[39;00m model, \u001b[38;5;28;01mNone\u001b[39;00m, \u001b[38;5;28;01mNone\u001b[39;00m, \u001b[38;5;28;01mNone\u001b[39;00m\n",
      "File \u001b[0;32m~/Documenten MBA/Studie/Thesis/SymPDE/notebooks_symlie/../symlie/model/setup.py:102\u001b[0m, in \u001b[0;36msetup_model\u001b[0;34m(args)\u001b[0m\n\u001b[1;32m    100\u001b[0m \u001b[38;5;28;01melse\u001b[39;00m:\n\u001b[1;32m    101\u001b[0m     \u001b[38;5;28;01mif\u001b[39;00m learner \u001b[38;5;241m==\u001b[39m TransformationLearner:\n\u001b[0;32m--> 102\u001b[0m         model \u001b[38;5;241m=\u001b[39m \u001b[43mlearner\u001b[49m\u001b[43m(\u001b[49m\u001b[43mnet\u001b[49m\u001b[43m,\u001b[49m\u001b[43m \u001b[49m\u001b[43mcriterion\u001b[49m\u001b[43m,\u001b[49m\u001b[43m \u001b[49m\u001b[43mlr\u001b[49m\u001b[38;5;241;43m=\u001b[39;49m\u001b[43margs\u001b[49m\u001b[38;5;241;43m.\u001b[39;49m\u001b[43mlr\u001b[49m\u001b[43m,\u001b[49m\u001b[43m \u001b[49m\u001b[43mtransform_kwargs\u001b[49m\u001b[38;5;241;43m=\u001b[39;49m\u001b[43margs\u001b[49m\u001b[38;5;241;43m.\u001b[39;49m\u001b[43mtransform_kwargs\u001b[49m\u001b[43m)\u001b[49m\n\u001b[1;32m    103\u001b[0m     \u001b[38;5;28;01melif\u001b[39;00m learner \u001b[38;5;241m==\u001b[39m PredictionLearner:\n\u001b[1;32m    104\u001b[0m         model \u001b[38;5;241m=\u001b[39m learner(net, criterion, lr\u001b[38;5;241m=\u001b[39margs\u001b[38;5;241m.\u001b[39mlr)\n",
      "File \u001b[0;32m~/Documenten MBA/Studie/Thesis/SymPDE/notebooks_symlie/../symlie/model/learner.py:139\u001b[0m, in \u001b[0;36mTransformationLearner.__init__\u001b[0;34m(self, net, criterion, lr, transform_kwargs)\u001b[0m\n\u001b[1;32m    137\u001b[0m \u001b[38;5;28;01mdef\u001b[39;00m \u001b[38;5;21m__init__\u001b[39m(\u001b[38;5;28mself\u001b[39m, net, criterion, lr, transform_kwargs):\n\u001b[1;32m    138\u001b[0m     \u001b[38;5;28mprint\u001b[39m(transform_kwargs)\n\u001b[0;32m--> 139\u001b[0m     \u001b[38;5;28;01massert\u001b[39;00m \u001b[38;5;28;01mFalse\u001b[39;00m\n\u001b[1;32m    140\u001b[0m     BaseLearner\u001b[38;5;241m.\u001b[39m\u001b[38;5;21m__init__\u001b[39m(\u001b[38;5;28mself\u001b[39m, net, criterion, lr)\n\u001b[1;32m    141\u001b[0m     Transform\u001b[38;5;241m.\u001b[39m\u001b[38;5;21m__init__\u001b[39m(\u001b[38;5;28mself\u001b[39m, only_flip\u001b[38;5;241m=\u001b[39mtransform_kwargs[\u001b[38;5;124m'\u001b[39m\u001b[38;5;124monly_flip\u001b[39m\u001b[38;5;124m'\u001b[39m])\n",
      "\u001b[0;31mAssertionError\u001b[0m: "
     ]
    }
   ],
   "source": [
    "args = parse_options(notebook=True)\n",
    "\n",
    "# args.net = 'Predict-NoneP'\n",
    "args.net = 'TrainP'\n",
    "args.data_dir = '../data/sinev2'\n",
    "\n",
    "args.do_return = False\n",
    "args.persistent_workers = True\n",
    "args.num_workers = 7\n",
    "\n",
    "args.max_epochs = 1\n",
    "args.seed = 1\n",
    "\n",
    "args.train = True\n",
    "args.test = True\n",
    "args.tags = ['dev']\n",
    "args.predict = False\n",
    "args.version = 'version_0'\n",
    "args.logger = False\n",
    "\n",
    "args.n_train = 10\n",
    "args.n_test = 10\n",
    "args.n_val = 10\n",
    "\n",
    "\n",
    "args = process_args(args)\n",
    "\n",
    "model, trainer, datamodule, _ = main(args)\n"
   ]
  },
  {
   "cell_type": "code",
   "execution_count": null,
   "metadata": {},
   "outputs": [],
   "source": []
  },
  {
   "cell_type": "code",
   "execution_count": null,
   "metadata": {},
   "outputs": [],
   "source": [
    "y_trues = torch.load(os.path.join(trainer.logger.log_dir, 'y_trues.pt'))\n",
    "y_preds = torch.load(os.path.join(trainer.logger.log_dir, 'y_preds.pt'))\n",
    "y_trues.shape, y_preds.shape"
   ]
  },
  {
   "cell_type": "code",
   "execution_count": null,
   "metadata": {},
   "outputs": [],
   "source": [
    "mse_loss = F.mse_loss(y_preds, y_trues)\n",
    "print(mse_loss.item())\n",
    "\n",
    "l = 4\n",
    "plt.plot(y_trues, y_preds, 'o', alpha = 0.1)\n",
    "plt.plot([0, l], [0,l], 'k--')\n",
    "plt.show()"
   ]
  },
  {
   "cell_type": "markdown",
   "metadata": {},
   "source": [
    "# Run_twice"
   ]
  },
  {
   "cell_type": "code",
   "execution_count": null,
   "metadata": {},
   "outputs": [],
   "source": [
    "# lrs = torch.logspace(-7, -1, 7)\n",
    "lrs = [1e-2]\n",
    "\n",
    "seeds = torch.arange(1,2)\n",
    "\n",
    "P_preds = {}\n",
    "for seed, lr in product(seeds, lrs):\n",
    "\n",
    "    args = parse_options(notebook=True)\n",
    "    args.net = 'TrainP'\n",
    "\n",
    "    args.data_dir = '../data/sinev2'\n",
    "\n",
    "    args.train = False\n",
    "    args.do_return = False\n",
    "\n",
    "    args.test = False\n",
    "    args.predict = True\n",
    "    args.version = 'version_0'\n",
    "\n",
    "    args.max_epochs = 5\n",
    "    # args.batch_size = 64\n",
    "\n",
    "    args.lr = lr\n",
    "    args.seed = seed\n",
    "\n",
    "    args = process_args(args)\n",
    "    model, trainer, datamodule, _ = main(args)\n",
    "\n",
    "    # Visualize and save the predicted P matrix\n",
    "    P_pred = model.net.P.data.clone()\n",
    "    P_pred = model.net.normalize_P(P_pred)\n",
    "\n",
    "    P_preds[seed.item()] = P_pred\n",
    "\n",
    "    plt.figure(figsize = (3,3))\n",
    "    plt.imshow(P_pred)\n",
    "    plt.show()"
   ]
  },
  {
   "cell_type": "code",
   "execution_count": null,
   "metadata": {},
   "outputs": [],
   "source": [
    "x, y, eps, centers = batch = next(iter(datamodule.test_dataloader()))"
   ]
  },
  {
   "cell_type": "code",
   "execution_count": null,
   "metadata": {},
   "outputs": [],
   "source": [
    "out_a, out_b = model(batch)\n",
    "\n",
    "loss_fn = nn.MSELoss()\n",
    "loss_fn(out_a, out_b)"
   ]
  },
  {
   "cell_type": "code",
   "execution_count": null,
   "metadata": {},
   "outputs": [],
   "source": [
    "out_a, out_b = model(batch)\n",
    "print('Output NOT allclose!' if not torch.allclose(out_a, out_b) else 'pass')\n",
    "out_a, out_b"
   ]
  },
  {
   "cell_type": "code",
   "execution_count": null,
   "metadata": {},
   "outputs": [],
   "source": [
    "nets = ['Predict-NoneP', 'Predict-CalculatedP', 'Predict-TrainedP']\n",
    "\n",
    "for seed, net in product(seeds, nets):\n",
    "    args = parse_options(notebook=True)\n",
    "\n",
    "    args.net = net\n",
    "    args.seed = seed\n",
    "\n",
    "    args.data_dir = '../data/sinev2'\n",
    "    \n",
    "    args.max_epochs = 5\n",
    "    args.n_splits = [400, 1000, 1000]\n",
    "\n",
    "    if net == 'Predict-TrainedP':\n",
    "        args.P_pred = P_preds[seed.item()]\n",
    "\n",
    "    args = process_args(args)\n",
    "    model, trainer, datamodule, _ = main(args)\n"
   ]
  },
  {
   "cell_type": "code",
   "execution_count": null,
   "metadata": {},
   "outputs": [],
   "source": [
    "data = get_data(filter = 'symlieflat*.seed1_ntrain100000', logdir = '../logs_symlie')\n",
    "len(data)"
   ]
  },
  {
   "cell_type": "code",
   "execution_count": null,
   "metadata": {},
   "outputs": [],
   "source": [
    "data = get_results(data, metrics = ['test_loss'])"
   ]
  },
  {
   "cell_type": "code",
   "execution_count": null,
   "metadata": {},
   "outputs": [],
   "source": [
    "df = pd.DataFrame()\n",
    "\n",
    "for k, v in data.items():\n",
    "    _, _, net, _, seed, _, _ = k.split('_')\n",
    "    net = net.split('-')[-1]\n",
    "    seed = int(seed.replace('seed', ''))\n",
    "\n",
    "    test_loss = v['test_loss']\n",
    "    if len(test_loss) == 0:\n",
    "        print(net, seed)\n",
    "        test_loss = [np.nan]\n",
    "    assert len(set(test_loss)) == 1, test_loss\n",
    "    test_loss = test_loss[0]\n",
    "\n",
    "    df.at[seed, net] = test_loss\n",
    "df"
   ]
  },
  {
   "cell_type": "code",
   "execution_count": null,
   "metadata": {},
   "outputs": [],
   "source": [
    "df = df[['NoneP', 'CalculatedP', 'TrainedP']]"
   ]
  },
  {
   "cell_type": "code",
   "execution_count": null,
   "metadata": {},
   "outputs": [],
   "source": [
    "fig, axs = plt.subplot_mosaic(\"AAA;BCD\", figsize = (8,6), tight_layout = True, gridspec_kw = dict(height_ratios = [0.5, 1]))\n",
    "\n",
    "ax = axs['A']\n",
    "\n",
    "for i, (seed, vals) in enumerate(df.iterrows()):\n",
    "    ax.plot(vals, label = seed, marker = None, ls = '--', alpha = 0.1, color = 'k')\n",
    "\n",
    "net_colors = {'NoneP': 'C0', 'CalculatedP': 'C1', 'TrainedP': 'C2'}\n",
    "\n",
    "for i, (net, test_losses) in enumerate(df.T.iterrows()):\n",
    "    vals = test_losses.values\n",
    "    ax.scatter(np.full_like(vals, i), vals, alpha = 0.5, marker = 'x', color = net_colors[net])\n",
    "\n",
    "ax.set_xticks(np.arange(len(df.T)), df.T.index)\n",
    "ax.set_ylabel('Test loss')\n",
    "\n",
    "calculated_Ps = {k: v for k, v in CalculatedP(size=7).transform_funcs.items()}\n",
    "\n",
    "P_none = calculated_Ps['none']\n",
    "P_calculated = calculated_Ps['space_translation']\n",
    "P_pred = P_preds[1]\n",
    "\n",
    "P_plots = [P_none, P_calculated, P_pred]\n",
    "\n",
    "for i, (P, ax_i) in enumerate(zip(P_plots, ['B', 'C', 'D'])):\n",
    "    ax = axs[ax_i]\n",
    "    ax.imshow(P)\n",
    "    # ax.set_axis_off()\n",
    "    ax.patch.set_edgecolor(list(net_colors.values())[i])\n",
    "\n",
    "    ax.patch.set_linewidth(5)  \n",
    "\n",
    "    # Disable ticks\n",
    "    ax.set_xticks([])\n",
    "    ax.set_yticks([])\n",
    "\n",
    "plt.show()"
   ]
  },
  {
   "cell_type": "code",
   "execution_count": null,
   "metadata": {},
   "outputs": [],
   "source": [
    "P_preds_tensor = torch.stack(list(P_preds.values()))\n",
    "\n",
    "plt.hist( P_preds_tensor.numpy().flatten(), bins = 100, alpha = 0.5, label = 'Trained P')\n",
    "plt.show()"
   ]
  },
  {
   "cell_type": "code",
   "execution_count": null,
   "metadata": {},
   "outputs": [],
   "source": [
    "torch.std(P_preds_tensor, dim = 0)"
   ]
  },
  {
   "cell_type": "code",
   "execution_count": null,
   "metadata": {},
   "outputs": [],
   "source": [
    "plt.figure(figsize = (3,3))\n",
    "plt.imshow( torch.std(P_preds_tensor, dim = 0) )\n",
    "plt.colorbar()\n",
    "plt.show()\n",
    "\n",
    "\n",
    "plt.figure(figsize = (3,3))\n",
    "plt.imshow( torch.mean(P_preds_tensor, dim = 0) )\n",
    "plt.colorbar()\n",
    "plt.show()"
   ]
  }
 ],
 "metadata": {
  "kernelspec": {
   "display_name": "sympde",
   "language": "python",
   "name": "python3"
  },
  "language_info": {
   "codemirror_mode": {
    "name": "ipython",
    "version": 3
   },
   "file_extension": ".py",
   "mimetype": "text/x-python",
   "name": "python",
   "nbconvert_exporter": "python",
   "pygments_lexer": "ipython3",
   "version": "3.10.13"
  }
 },
 "nbformat": 4,
 "nbformat_minor": 2
}
