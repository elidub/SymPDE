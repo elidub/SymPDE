{
 "cells": [
  {
   "cell_type": "code",
   "execution_count": 3,
   "metadata": {},
   "outputs": [
    {
     "name": "stdout",
     "output_type": "stream",
     "text": [
      "The autoreload extension is already loaded. To reload it, use:\n",
      "  %reload_ext autoreload\n"
     ]
    }
   ],
   "source": [
    "%load_ext autoreload\n",
    "%autoreload 2\n",
    "\n",
    "import os, sys\n",
    "import numpy as np\n",
    "import matplotlib.pyplot as plt\n",
    "import torch\n",
    "from torch import nn\n",
    "import pytorch_lightning as pl\n",
    "from itertools import product\n",
    "import torch.nn.functional as F\n",
    "import pandas as pd\n",
    "import tensorflow as tf\n",
    "import wandb\n",
    "from tqdm import tqdm\n",
    "import io\n",
    "\n",
    "sys.path.append(os.path.join(os.getcwd(), '../symlie'))\n",
    "sys.path.append(os.path.join(os.getcwd(), '../sympdee/sympde/misc'))\n",
    "\n",
    "from run import parse_options, main, process_args\n",
    "\n",
    "from data.transforms import Transform\n",
    "from model.networks.linear import CalculatedP\n",
    "from model.networks.mlp import MLP\n",
    "\n",
    "from misc.utils import NumpyUtils, Results\n"
   ]
  },
  {
   "cell_type": "code",
   "execution_count": null,
   "metadata": {},
   "outputs": [],
   "source": [
    "args = parse_options(notebook=True)\n",
    "args = process_args(args)\n",
    "\n",
    "net = MLP(\n",
    "    features = features, \n",
    "    bias = args.bias,\n",
    "    device = args.device,\n",
    "    P_init = 'none',\n",
    ")"
   ]
  },
  {
   "cell_type": "code",
   "execution_count": 2,
   "metadata": {},
   "outputs": [
    {
     "name": "stderr",
     "output_type": "stream",
     "text": [
      "Seed set to 1\n",
      "/Users/elias/Documenten MBA/Studie/Thesis/SymPDE/notebooks_symlie/../symlie/model/networks/linear.py:55: UserWarning: To copy construct from a tensor, it is recommended to use sourceTensor.clone().detach() or sourceTensor.clone().detach().requires_grad_(True), rather than torch.tensor(sourceTensor).\n",
      "  self.P = nn.Parameter(torch.tensor(self.P, device = device))\n",
      "Failed to detect the name of this notebook, you can set it manually with the WANDB_NOTEBOOK_NAME environment variable to enable code saving.\n",
      "\u001b[34m\u001b[1mwandb\u001b[0m: Currently logged in as: \u001b[33meliasdubbeldam\u001b[0m. Use \u001b[1m`wandb login --relogin`\u001b[0m to force relogin\n"
     ]
    },
    {
     "data": {
      "text/html": [
       "Tracking run with wandb version 0.16.2"
      ],
      "text/plain": [
       "<IPython.core.display.HTML object>"
      ]
     },
     "metadata": {},
     "output_type": "display_data"
    },
    {
     "data": {
      "text/html": [
       "Run data is saved locally in <code>../logs/wandb/run-20240125_183045-fgac37zv</code>"
      ],
      "text/plain": [
       "<IPython.core.display.HTML object>"
      ]
     },
     "metadata": {},
     "output_type": "display_data"
    },
    {
     "data": {
      "text/html": [
       "Syncing run <strong><a href='https://wandb.ai/eliasdubbeldam/symlie/runs/fgac37zv' target=\"_blank\">morning-vortex-205</a></strong> to <a href='https://wandb.ai/eliasdubbeldam/symlie' target=\"_blank\">Weights & Biases</a> (<a href='https://wandb.me/run' target=\"_blank\">docs</a>)<br/>"
      ],
      "text/plain": [
       "<IPython.core.display.HTML object>"
      ]
     },
     "metadata": {},
     "output_type": "display_data"
    },
    {
     "data": {
      "text/html": [
       " View project at <a href='https://wandb.ai/eliasdubbeldam/symlie' target=\"_blank\">https://wandb.ai/eliasdubbeldam/symlie</a>"
      ],
      "text/plain": [
       "<IPython.core.display.HTML object>"
      ]
     },
     "metadata": {},
     "output_type": "display_data"
    },
    {
     "data": {
      "text/html": [
       " View run at <a href='https://wandb.ai/eliasdubbeldam/symlie/runs/fgac37zv' target=\"_blank\">https://wandb.ai/eliasdubbeldam/symlie/runs/fgac37zv</a>"
      ],
      "text/plain": [
       "<IPython.core.display.HTML object>"
      ]
     },
     "metadata": {},
     "output_type": "display_data"
    },
    {
     "name": "stderr",
     "output_type": "stream",
     "text": [
      "/Users/elias/anaconda3/envs/sympde/lib/python3.10/site-packages/pytorch_lightning/loggers/wandb.py:389: There is a wandb run already in progress and newly created instances of `WandbLogger` will reuse this run. If this is not desired, call `wandb.finish()` before instantiating `WandbLogger`.\n",
      "/Users/elias/anaconda3/envs/sympde/lib/python3.10/site-packages/pytorch_lightning/trainer/setup.py:187: GPU available but not used. You can set it by doing `Trainer(accelerator='gpu')`.\n"
     ]
    },
    {
     "name": "stdout",
     "output_type": "stream",
     "text": [
      "Running morning-vortex-205 with id fgac37zv\n",
      "Epoch 0: 100%|██████████| 5/5 [00:03<00:00,  1.42it/s, v_num=37zv, val_loss=0.0278, train_loss=0.0219]\n",
      "Testing DataLoader 0: 100%|██████████| 5/5 [00:00<00:00, 41.51it/s]\n",
      "Logging P\n"
     ]
    },
    {
     "data": {
      "text/html": [
       "<pre style=\"white-space:pre;overflow-x:auto;line-height:normal;font-family:Menlo,'DejaVu Sans Mono',consolas,'Courier New',monospace\">┏━━━━━━━━━━━━━━━━━━━━━━━━━━━┳━━━━━━━━━━━━━━━━━━━━━━━━━━━┓\n",
       "┃<span style=\"font-weight: bold\">        Test metric        </span>┃<span style=\"font-weight: bold\">       DataLoader 0        </span>┃\n",
       "┡━━━━━━━━━━━━━━━━━━━━━━━━━━━╇━━━━━━━━━━━━━━━━━━━━━━━━━━━┩\n",
       "│<span style=\"color: #008080; text-decoration-color: #008080\">         test_loss         </span>│<span style=\"color: #800080; text-decoration-color: #800080\">    0.02087264135479927    </span>│\n",
       "└───────────────────────────┴───────────────────────────┘\n",
       "</pre>\n"
      ],
      "text/plain": [
       "┏━━━━━━━━━━━━━━━━━━━━━━━━━━━┳━━━━━━━━━━━━━━━━━━━━━━━━━━━┓\n",
       "┃\u001b[1m \u001b[0m\u001b[1m       Test metric       \u001b[0m\u001b[1m \u001b[0m┃\u001b[1m \u001b[0m\u001b[1m      DataLoader 0       \u001b[0m\u001b[1m \u001b[0m┃\n",
       "┡━━━━━━━━━━━━━━━━━━━━━━━━━━━╇━━━━━━━━━━━━━━━━━━━━━━━━━━━┩\n",
       "│\u001b[36m \u001b[0m\u001b[36m        test_loss        \u001b[0m\u001b[36m \u001b[0m│\u001b[35m \u001b[0m\u001b[35m   0.02087264135479927   \u001b[0m\u001b[35m \u001b[0m│\n",
       "└───────────────────────────┴───────────────────────────┘\n"
      ]
     },
     "metadata": {},
     "output_type": "display_data"
    },
    {
     "name": "stderr",
     "output_type": "stream",
     "text": [
      "wandb: WARNING Source type is set to 'repo' but some required information is missing from the environment. A job will not be created from this run. See https://docs.wandb.ai/guides/launch/create-job\n"
     ]
    },
    {
     "data": {
      "text/html": [
       "<style>\n",
       "    table.wandb td:nth-child(1) { padding: 0 10px; text-align: left ; width: auto;} td:nth-child(2) {text-align: left ; width: 100%}\n",
       "    .wandb-row { display: flex; flex-direction: row; flex-wrap: wrap; justify-content: flex-start; width: 100% }\n",
       "    .wandb-col { display: flex; flex-direction: column; flex-basis: 100%; flex: 1; padding: 10px; }\n",
       "    </style>\n",
       "<div class=\"wandb-row\"><div class=\"wandb-col\"><h3>Run history:</h3><br/><table class=\"wandb\"><tr><td>epoch</td><td>▁▁█</td></tr><tr><td>test_loss</td><td>▁</td></tr><tr><td>train_loss</td><td>▁</td></tr><tr><td>trainer/global_step</td><td>▁▁█</td></tr><tr><td>val_loss</td><td>▁</td></tr></table><br/></div><div class=\"wandb-col\"><h3>Run summary:</h3><br/><table class=\"wandb\"><tr><td>epoch</td><td>1</td></tr><tr><td>test_loss</td><td>0.02087</td></tr><tr><td>train_loss</td><td>0.02194</td></tr><tr><td>trainer/global_step</td><td>5</td></tr><tr><td>val_loss</td><td>0.02778</td></tr></table><br/></div></div>"
      ],
      "text/plain": [
       "<IPython.core.display.HTML object>"
      ]
     },
     "metadata": {},
     "output_type": "display_data"
    },
    {
     "data": {
      "text/html": [
       " View run <strong style=\"color:#cdcd00\">morning-vortex-205</strong> at: <a href='https://wandb.ai/eliasdubbeldam/symlie/runs/fgac37zv' target=\"_blank\">https://wandb.ai/eliasdubbeldam/symlie/runs/fgac37zv</a><br/>Synced 6 W&B file(s), 0 media file(s), 0 artifact file(s) and 0 other file(s)"
      ],
      "text/plain": [
       "<IPython.core.display.HTML object>"
      ]
     },
     "metadata": {},
     "output_type": "display_data"
    },
    {
     "data": {
      "text/html": [
       "Find logs at: <code>../logs/wandb/run-20240125_183045-fgac37zv/logs</code>"
      ],
      "text/plain": [
       "<IPython.core.display.HTML object>"
      ]
     },
     "metadata": {},
     "output_type": "display_data"
    }
   ],
   "source": [
    "args = parse_options(notebook=True)\n",
    "\n",
    "# args.net = 'Predict-NoneP'\n",
    "args.net = 'TrainP'\n",
    "args.data_dir = '../data/sinev2'\n",
    "\n",
    "args.do_return = False\n",
    "args.persistent_workers = True\n",
    "args.num_workers = 7\n",
    "\n",
    "args.max_epochs = 1\n",
    "args.seed = 1\n",
    "\n",
    "args.train = True\n",
    "args.test = True\n",
    "args.tags = ['dev']\n",
    "args.predict = False\n",
    "args.version = 'version_0'\n",
    "\n",
    "args.n_train = 10\n",
    "args.n_test = 10\n",
    "args.n_val = 10\n",
    "\n",
    "\n",
    "args = process_args(args)\n",
    "\n",
    "model, trainer, datamodule, _ = main(args)\n"
   ]
  },
  {
   "cell_type": "code",
   "execution_count": null,
   "metadata": {},
   "outputs": [],
   "source": [
    "y_trues = torch.load(os.path.join(trainer.logger.log_dir, 'y_trues.pt'))\n",
    "y_preds = torch.load(os.path.join(trainer.logger.log_dir, 'y_preds.pt'))\n",
    "y_trues.shape, y_preds.shape"
   ]
  },
  {
   "cell_type": "code",
   "execution_count": null,
   "metadata": {},
   "outputs": [],
   "source": [
    "mse_loss = F.mse_loss(y_preds, y_trues)\n",
    "print(mse_loss.item())\n",
    "\n",
    "l = 4\n",
    "plt.plot(y_trues, y_preds, 'o', alpha = 0.1)\n",
    "plt.plot([0, l], [0,l], 'k--')\n",
    "plt.show()"
   ]
  },
  {
   "cell_type": "markdown",
   "metadata": {},
   "source": [
    "# Run_twice"
   ]
  },
  {
   "cell_type": "code",
   "execution_count": null,
   "metadata": {},
   "outputs": [],
   "source": [
    "# lrs = torch.logspace(-7, -1, 7)\n",
    "lrs = [1e-2]\n",
    "\n",
    "seeds = torch.arange(1,2)\n",
    "\n",
    "P_preds = {}\n",
    "for seed, lr in product(seeds, lrs):\n",
    "\n",
    "    args = parse_options(notebook=True)\n",
    "    args.net = 'TrainP'\n",
    "\n",
    "    args.data_dir = '../data/sinev2'\n",
    "\n",
    "    args.train = False\n",
    "    args.do_return = False\n",
    "\n",
    "    args.test = False\n",
    "    args.predict = True\n",
    "    args.version = 'version_0'\n",
    "\n",
    "    args.max_epochs = 5\n",
    "    # args.batch_size = 64\n",
    "\n",
    "    args.lr = lr\n",
    "    args.seed = seed\n",
    "\n",
    "    args = process_args(args)\n",
    "    model, trainer, datamodule, _ = main(args)\n",
    "\n",
    "    # Visualize and save the predicted P matrix\n",
    "    P_pred = model.net.P.data.clone()\n",
    "    P_pred = model.net.normalize_P(P_pred)\n",
    "\n",
    "    P_preds[seed.item()] = P_pred\n",
    "\n",
    "    plt.figure(figsize = (3,3))\n",
    "    plt.imshow(P_pred)\n",
    "    plt.show()"
   ]
  },
  {
   "cell_type": "code",
   "execution_count": null,
   "metadata": {},
   "outputs": [],
   "source": [
    "x, y, eps, centers = batch = next(iter(datamodule.test_dataloader()))"
   ]
  },
  {
   "cell_type": "code",
   "execution_count": null,
   "metadata": {},
   "outputs": [],
   "source": [
    "out_a, out_b = model(batch)\n",
    "\n",
    "loss_fn = nn.MSELoss()\n",
    "loss_fn(out_a, out_b)"
   ]
  },
  {
   "cell_type": "code",
   "execution_count": null,
   "metadata": {},
   "outputs": [],
   "source": [
    "out_a, out_b = model(batch)\n",
    "print('Output NOT allclose!' if not torch.allclose(out_a, out_b) else 'pass')\n",
    "out_a, out_b"
   ]
  },
  {
   "cell_type": "code",
   "execution_count": null,
   "metadata": {},
   "outputs": [],
   "source": [
    "nets = ['Predict-NoneP', 'Predict-CalculatedP', 'Predict-TrainedP']\n",
    "\n",
    "for seed, net in product(seeds, nets):\n",
    "    args = parse_options(notebook=True)\n",
    "\n",
    "    args.net = net\n",
    "    args.seed = seed\n",
    "\n",
    "    args.data_dir = '../data/sinev2'\n",
    "    \n",
    "    args.max_epochs = 5\n",
    "    args.n_splits = [400, 1000, 1000]\n",
    "\n",
    "    if net == 'Predict-TrainedP':\n",
    "        args.P_pred = P_preds[seed.item()]\n",
    "\n",
    "    args = process_args(args)\n",
    "    model, trainer, datamodule, _ = main(args)\n"
   ]
  },
  {
   "cell_type": "code",
   "execution_count": null,
   "metadata": {},
   "outputs": [],
   "source": [
    "data = get_data(filter = 'symlieflat*.seed1_ntrain100000', logdir = '../logs_symlie')\n",
    "len(data)"
   ]
  },
  {
   "cell_type": "code",
   "execution_count": null,
   "metadata": {},
   "outputs": [],
   "source": [
    "data = get_results(data, metrics = ['test_loss'])"
   ]
  },
  {
   "cell_type": "code",
   "execution_count": null,
   "metadata": {},
   "outputs": [],
   "source": [
    "df = pd.DataFrame()\n",
    "\n",
    "for k, v in data.items():\n",
    "    _, _, net, _, seed, _, _ = k.split('_')\n",
    "    net = net.split('-')[-1]\n",
    "    seed = int(seed.replace('seed', ''))\n",
    "\n",
    "    test_loss = v['test_loss']\n",
    "    if len(test_loss) == 0:\n",
    "        print(net, seed)\n",
    "        test_loss = [np.nan]\n",
    "    assert len(set(test_loss)) == 1, test_loss\n",
    "    test_loss = test_loss[0]\n",
    "\n",
    "    df.at[seed, net] = test_loss\n",
    "df"
   ]
  },
  {
   "cell_type": "code",
   "execution_count": null,
   "metadata": {},
   "outputs": [],
   "source": [
    "df = df[['NoneP', 'CalculatedP', 'TrainedP']]"
   ]
  },
  {
   "cell_type": "code",
   "execution_count": null,
   "metadata": {},
   "outputs": [],
   "source": [
    "fig, axs = plt.subplot_mosaic(\"AAA;BCD\", figsize = (8,6), tight_layout = True, gridspec_kw = dict(height_ratios = [0.5, 1]))\n",
    "\n",
    "ax = axs['A']\n",
    "\n",
    "for i, (seed, vals) in enumerate(df.iterrows()):\n",
    "    ax.plot(vals, label = seed, marker = None, ls = '--', alpha = 0.1, color = 'k')\n",
    "\n",
    "net_colors = {'NoneP': 'C0', 'CalculatedP': 'C1', 'TrainedP': 'C2'}\n",
    "\n",
    "for i, (net, test_losses) in enumerate(df.T.iterrows()):\n",
    "    vals = test_losses.values\n",
    "    ax.scatter(np.full_like(vals, i), vals, alpha = 0.5, marker = 'x', color = net_colors[net])\n",
    "\n",
    "ax.set_xticks(np.arange(len(df.T)), df.T.index)\n",
    "ax.set_ylabel('Test loss')\n",
    "\n",
    "calculated_Ps = {k: v() for k, v in CalculatedP(size=7).transform_funcs.items()}\n",
    "\n",
    "P_none = calculated_Ps['none']\n",
    "P_calculated = calculated_Ps['space_translation']\n",
    "P_pred = P_preds[1]\n",
    "\n",
    "P_plots = [P_none, P_calculated, P_pred]\n",
    "\n",
    "for i, (P, ax_i) in enumerate(zip(P_plots, ['B', 'C', 'D'])):\n",
    "    ax = axs[ax_i]\n",
    "    ax.imshow(P)\n",
    "    # ax.set_axis_off()\n",
    "    ax.patch.set_edgecolor(list(net_colors.values())[i])\n",
    "\n",
    "    ax.patch.set_linewidth(5)  \n",
    "\n",
    "    # Disable ticks\n",
    "    ax.set_xticks([])\n",
    "    ax.set_yticks([])\n",
    "\n",
    "plt.show()"
   ]
  },
  {
   "cell_type": "code",
   "execution_count": null,
   "metadata": {},
   "outputs": [],
   "source": [
    "P_preds_tensor = torch.stack(list(P_preds.values()))\n",
    "\n",
    "plt.hist( P_preds_tensor.numpy().flatten(), bins = 100, alpha = 0.5, label = 'Trained P')\n",
    "plt.show()"
   ]
  },
  {
   "cell_type": "code",
   "execution_count": null,
   "metadata": {},
   "outputs": [],
   "source": [
    "torch.std(P_preds_tensor, dim = 0)"
   ]
  },
  {
   "cell_type": "code",
   "execution_count": null,
   "metadata": {},
   "outputs": [],
   "source": [
    "plt.figure(figsize = (3,3))\n",
    "plt.imshow( torch.std(P_preds_tensor, dim = 0) )\n",
    "plt.colorbar()\n",
    "plt.show()\n",
    "\n",
    "\n",
    "plt.figure(figsize = (3,3))\n",
    "plt.imshow( torch.mean(P_preds_tensor, dim = 0) )\n",
    "plt.colorbar()\n",
    "plt.show()"
   ]
  }
 ],
 "metadata": {
  "kernelspec": {
   "display_name": "sympde",
   "language": "python",
   "name": "python3"
  },
  "language_info": {
   "codemirror_mode": {
    "name": "ipython",
    "version": 3
   },
   "file_extension": ".py",
   "mimetype": "text/x-python",
   "name": "python",
   "nbconvert_exporter": "python",
   "pygments_lexer": "ipython3",
   "version": "3.10.13"
  }
 },
 "nbformat": 4,
 "nbformat_minor": 2
}
