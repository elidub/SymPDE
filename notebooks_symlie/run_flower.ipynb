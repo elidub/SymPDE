{
 "cells": [
  {
   "cell_type": "code",
   "execution_count": 11,
   "metadata": {},
   "outputs": [
    {
     "name": "stdout",
     "output_type": "stream",
     "text": [
      "The autoreload extension is already loaded. To reload it, use:\n",
      "  %reload_ext autoreload\n"
     ]
    }
   ],
   "source": [
    "%load_ext autoreload\n",
    "%autoreload 2\n",
    "\n",
    "import os, sys\n",
    "import numpy as np\n",
    "import matplotlib.pyplot as plt\n",
    "import torch\n",
    "from torch import nn\n",
    "import pytorch_lightning as pl\n",
    "from itertools import product\n",
    "import torch.nn.functional as F\n",
    "import pandas as pd\n",
    "import tensorflow as tf\n",
    "import wandb\n",
    "from tqdm import tqdm\n",
    "import io\n",
    "\n",
    "sys.path.append(os.path.join(os.getcwd(), '../symlie'))\n",
    "sys.path.append(os.path.join(os.getcwd(), '../sympdee/sympde/misc'))\n",
    "\n",
    "from run import parse_options, main, process_args, generate_data\n",
    "from generate_data import save_splits\n",
    "\n",
    "from data.generate_flat import create_flat, plot_flat\n",
    "from data.generate_flower import create_flower, plot_flower\n",
    "from data.transforms import Transform\n",
    "from model.networks.linear import CalculatedP\n",
    "\n",
    "from tb_analysis import get_data, get_results\n",
    "\n",
    "from misc.utils import NumpyUtils, Results\n",
    "\n",
    "os.environ[\"WANDB_SILENT\"] = \"true\"\n"
   ]
  },
  {
   "cell_type": "code",
   "execution_count": null,
   "metadata": {},
   "outputs": [],
   "source": [
    "args = parse_options(notebook=True)\n",
    "args = process_args(args)\n",
    "\n",
    "out = create_flower(N=10, **args.data_kwargs, **args.transform_kwargs)\n",
    "x, y, centers = out['x'], out['y'], out['centers']\n",
    "\n",
    "try:\n",
    "    x = x.reshape(-1, args.space_length, args.space_length)\n",
    "except:\n",
    "    x = x.reshape(-1, 1, args.space_length)\n",
    "plot_flower(x=x, y=y)\n",
    "\n",
    "print(x.shape)"
   ]
  },
  {
   "cell_type": "code",
   "execution_count": null,
   "metadata": {},
   "outputs": [],
   "source": [
    "# args = parse_options(notebook=True)\n",
    "# args.data_dir = '../data/sinev2'\n",
    "# args = process_args(args)\n",
    "# generate_data(args)"
   ]
  },
  {
   "cell_type": "code",
   "execution_count": 126,
   "metadata": {},
   "outputs": [],
   "source": [
    "from model.learner import PredictionLearner\n",
    "from model.networks.mlp import MLP\n"
   ]
  },
  {
   "cell_type": "code",
   "execution_count": 138,
   "metadata": {},
   "outputs": [
    {
     "data": {
      "text/plain": [
       "'zrtl2zk0'"
      ]
     },
     "execution_count": 138,
     "metadata": {},
     "output_type": "execute_result"
    }
   ],
   "source": [
    "results_df = pd.read_pickle('../logs/store/results_df.pkl')\n",
    "results_df.iloc[np.where(results_df['run_name'] == 'fresh-pine-14')[0].item()].run_id"
   ]
  },
  {
   "cell_type": "code",
   "execution_count": 128,
   "metadata": {},
   "outputs": [
    {
     "data": {
      "text/plain": [
       "PredictionLearner(\n",
       "  (net): MLP(\n",
       "    (mlp): Sequential(\n",
       "      (0): LinearP()\n",
       "      (1): ReLU()\n",
       "      (2): Linear(in_features=16, out_features=1, bias=False)\n",
       "    )\n",
       "  )\n",
       "  (criterion): MSELoss()\n",
       ")"
      ]
     },
     "execution_count": 128,
     "metadata": {},
     "output_type": "execute_result"
    }
   ],
   "source": [
    "id = 'zrtl2zk0'\n",
    "criterion = nn.MSELoss()\n",
    "learner = PredictionLearner\n",
    "\n",
    "features = args.data_kwargs['space_length']**2 # 2D\n",
    "\n",
    "net = MLP(\n",
    "                features = features, \n",
    "                bias = args.bias,\n",
    "                device = args.device,\n",
    "                P_init = 'none',\n",
    "            )\n",
    "\n",
    "model = learner.load_from_checkpoint(f'../logs/symlie/{id}/checkpoints/epoch=0-step=200.ckpt', net=net, criterion=criterion, lr=args.lr)\n",
    "\n",
    "\n",
    "model"
   ]
  },
  {
   "cell_type": "code",
   "execution_count": 22,
   "metadata": {},
   "outputs": [
    {
     "name": "stderr",
     "output_type": "stream",
     "text": [
      "Seed set to 1\n",
      "/Users/elias/anaconda3/envs/sympde/lib/python3.10/site-packages/pytorch_lightning/loggers/wandb.py:389: There is a wandb run already in progress and newly created instances of `WandbLogger` will reuse this run. If this is not desired, call `wandb.finish()` before instantiating `WandbLogger`.\n",
      "/Users/elias/anaconda3/envs/sympde/lib/python3.10/site-packages/pytorch_lightning/trainer/setup.py:187: GPU available but not used. You can set it by doing `Trainer(accelerator='gpu')`.\n"
     ]
    },
    {
     "name": "stdout",
     "output_type": "stream",
     "text": [
      "Running generous-wood-28 with id vh4jrs16\n",
      "Epoch 0: 100%|██████████| 200/200 [00:04<00:00, 42.27it/s, v_num=rs16, val_loss=0.268, train_loss=0.376]\n",
      "Testing DataLoader 0: 100%|██████████| 500/500 [00:00<00:00, 709.35it/s]\n",
      "Logging P\n"
     ]
    },
    {
     "data": {
      "text/html": [
       "<pre style=\"white-space:pre;overflow-x:auto;line-height:normal;font-family:Menlo,'DejaVu Sans Mono',consolas,'Courier New',monospace\">┏━━━━━━━━━━━━━━━━━━━━━━━━━━━┳━━━━━━━━━━━━━━━━━━━━━━━━━━━┓\n",
       "┃<span style=\"font-weight: bold\">        Test metric        </span>┃<span style=\"font-weight: bold\">       DataLoader 0        </span>┃\n",
       "┡━━━━━━━━━━━━━━━━━━━━━━━━━━━╇━━━━━━━━━━━━━━━━━━━━━━━━━━━┩\n",
       "│<span style=\"color: #008080; text-decoration-color: #008080\">         test_loss         </span>│<span style=\"color: #800080; text-decoration-color: #800080\">    0.27310794591903687    </span>│\n",
       "└───────────────────────────┴───────────────────────────┘\n",
       "</pre>\n"
      ],
      "text/plain": [
       "┏━━━━━━━━━━━━━━━━━━━━━━━━━━━┳━━━━━━━━━━━━━━━━━━━━━━━━━━━┓\n",
       "┃\u001b[1m \u001b[0m\u001b[1m       Test metric       \u001b[0m\u001b[1m \u001b[0m┃\u001b[1m \u001b[0m\u001b[1m      DataLoader 0       \u001b[0m\u001b[1m \u001b[0m┃\n",
       "┡━━━━━━━━━━━━━━━━━━━━━━━━━━━╇━━━━━━━━━━━━━━━━━━━━━━━━━━━┩\n",
       "│\u001b[36m \u001b[0m\u001b[36m        test_loss        \u001b[0m\u001b[36m \u001b[0m│\u001b[35m \u001b[0m\u001b[35m   0.27310794591903687   \u001b[0m\u001b[35m \u001b[0m│\n",
       "└───────────────────────────┴───────────────────────────┘\n"
      ]
     },
     "metadata": {},
     "output_type": "display_data"
    },
    {
     "name": "stderr",
     "output_type": "stream",
     "text": [
      "wandb: WARNING Source type is set to 'repo' but some required information is missing from the environment. A job will not be created from this run. See https://docs.wandb.ai/guides/launch/create-job\n"
     ]
    }
   ],
   "source": [
    "args = parse_options(notebook=True)\n",
    "\n",
    "args.net = 'Predict-NoneP'\n",
    "# args.net = 'TrainP'\n",
    "args.data_dir = '../data/sinev2'\n",
    "\n",
    "args.do_return = False\n",
    "args.persistent_workers = True\n",
    "args.num_workers = 7\n",
    "\n",
    "args.max_epochs = 1\n",
    "args.seed = 1\n",
    "\n",
    "args.train = True\n",
    "args.test = True\n",
    "args.version = 'dev'\n",
    "args.predict = False\n",
    "args.version = 'version_0'\n",
    "\n",
    "args.n_splits = [400, 1000, 1000]\n",
    "\n",
    "args = process_args(args)\n",
    "\n",
    "model, trainer, datamodule, _ = main(args)\n"
   ]
  },
  {
   "cell_type": "code",
   "execution_count": null,
   "metadata": {},
   "outputs": [],
   "source": [
    "y_trues = torch.load(os.path.join(trainer.logger.log_dir, 'y_trues.pt'))\n",
    "y_preds = torch.load(os.path.join(trainer.logger.log_dir, 'y_preds.pt'))\n",
    "y_trues.shape, y_preds.shape"
   ]
  },
  {
   "cell_type": "code",
   "execution_count": null,
   "metadata": {},
   "outputs": [],
   "source": [
    "mse_loss = F.mse_loss(y_preds, y_trues)\n",
    "print(mse_loss.item())\n",
    "\n",
    "l = 4\n",
    "plt.plot(y_trues, y_preds, 'o', alpha = 0.1)\n",
    "plt.plot([0, l], [0,l], 'k--')\n",
    "plt.show()"
   ]
  },
  {
   "cell_type": "markdown",
   "metadata": {},
   "source": [
    "# Run_twice"
   ]
  },
  {
   "cell_type": "code",
   "execution_count": null,
   "metadata": {},
   "outputs": [],
   "source": [
    "# lrs = torch.logspace(-7, -1, 7)\n",
    "lrs = [1e-2]\n",
    "\n",
    "seeds = torch.arange(1,2)\n",
    "\n",
    "P_preds = {}\n",
    "for seed, lr in product(seeds, lrs):\n",
    "\n",
    "    args = parse_options(notebook=True)\n",
    "    args.net = 'TrainP'\n",
    "\n",
    "    args.data_dir = '../data/sinev2'\n",
    "\n",
    "    args.train = False\n",
    "    args.do_return = False\n",
    "\n",
    "    args.test = False\n",
    "    args.predict = True\n",
    "    args.version = 'version_0'\n",
    "\n",
    "    args.max_epochs = 5\n",
    "    # args.batch_size = 64\n",
    "\n",
    "    args.lr = lr\n",
    "    args.seed = seed\n",
    "\n",
    "    args = process_args(args)\n",
    "    model, trainer, datamodule, _ = main(args)\n",
    "\n",
    "    # Visualize and save the predicted P matrix\n",
    "    P_pred = model.net.P.data.clone()\n",
    "    P_pred = model.net.normalize_P(P_pred)\n",
    "\n",
    "    P_preds[seed.item()] = P_pred\n",
    "\n",
    "    plt.figure(figsize = (3,3))\n",
    "    plt.imshow(P_pred)\n",
    "    plt.show()"
   ]
  },
  {
   "cell_type": "code",
   "execution_count": null,
   "metadata": {},
   "outputs": [],
   "source": [
    "x, y, eps, centers = batch = next(iter(datamodule.test_dataloader()))"
   ]
  },
  {
   "cell_type": "code",
   "execution_count": null,
   "metadata": {},
   "outputs": [],
   "source": [
    "out_a, out_b = model(batch)\n",
    "\n",
    "loss_fn = nn.MSELoss()\n",
    "loss_fn(out_a, out_b)"
   ]
  },
  {
   "cell_type": "code",
   "execution_count": null,
   "metadata": {},
   "outputs": [],
   "source": [
    "out_a, out_b = model(batch)\n",
    "print('Output NOT allclose!' if not torch.allclose(out_a, out_b) else 'pass')\n",
    "out_a, out_b"
   ]
  },
  {
   "cell_type": "code",
   "execution_count": null,
   "metadata": {},
   "outputs": [],
   "source": [
    "nets = ['Predict-NoneP', 'Predict-CalculatedP', 'Predict-TrainedP']\n",
    "\n",
    "for seed, net in product(seeds, nets):\n",
    "    args = parse_options(notebook=True)\n",
    "\n",
    "    args.net = net\n",
    "    args.seed = seed\n",
    "\n",
    "    args.data_dir = '../data/sinev2'\n",
    "    \n",
    "    args.max_epochs = 5\n",
    "    args.n_splits = [400, 1000, 1000]\n",
    "\n",
    "    if net == 'Predict-TrainedP':\n",
    "        args.P_pred = P_preds[seed.item()]\n",
    "\n",
    "    args = process_args(args)\n",
    "    model, trainer, datamodule, _ = main(args)\n"
   ]
  },
  {
   "cell_type": "code",
   "execution_count": null,
   "metadata": {},
   "outputs": [],
   "source": [
    "data = get_data(filter = 'symlieflat*.seed1_ntrain100000', logdir = '../logs_symlie')\n",
    "len(data)"
   ]
  },
  {
   "cell_type": "code",
   "execution_count": null,
   "metadata": {},
   "outputs": [],
   "source": [
    "data = get_results(data, metrics = ['test_loss'])"
   ]
  },
  {
   "cell_type": "code",
   "execution_count": null,
   "metadata": {},
   "outputs": [],
   "source": [
    "df = pd.DataFrame()\n",
    "\n",
    "for k, v in data.items():\n",
    "    _, _, net, _, seed, _, _ = k.split('_')\n",
    "    net = net.split('-')[-1]\n",
    "    seed = int(seed.replace('seed', ''))\n",
    "\n",
    "    test_loss = v['test_loss']\n",
    "    if len(test_loss) == 0:\n",
    "        print(net, seed)\n",
    "        test_loss = [np.nan]\n",
    "    assert len(set(test_loss)) == 1, test_loss\n",
    "    test_loss = test_loss[0]\n",
    "\n",
    "    df.at[seed, net] = test_loss\n",
    "df"
   ]
  },
  {
   "cell_type": "code",
   "execution_count": null,
   "metadata": {},
   "outputs": [],
   "source": [
    "df = df[['NoneP', 'CalculatedP', 'TrainedP']]"
   ]
  },
  {
   "cell_type": "code",
   "execution_count": null,
   "metadata": {},
   "outputs": [],
   "source": [
    "fig, axs = plt.subplot_mosaic(\"AAA;BCD\", figsize = (8,6), tight_layout = True, gridspec_kw = dict(height_ratios = [0.5, 1]))\n",
    "\n",
    "ax = axs['A']\n",
    "\n",
    "for i, (seed, vals) in enumerate(df.iterrows()):\n",
    "    ax.plot(vals, label = seed, marker = None, ls = '--', alpha = 0.1, color = 'k')\n",
    "\n",
    "net_colors = {'NoneP': 'C0', 'CalculatedP': 'C1', 'TrainedP': 'C2'}\n",
    "\n",
    "for i, (net, test_losses) in enumerate(df.T.iterrows()):\n",
    "    vals = test_losses.values\n",
    "    ax.scatter(np.full_like(vals, i), vals, alpha = 0.5, marker = 'x', color = net_colors[net])\n",
    "\n",
    "ax.set_xticks(np.arange(len(df.T)), df.T.index)\n",
    "ax.set_ylabel('Test loss')\n",
    "\n",
    "calculated_Ps = {k: v() for k, v in CalculatedP(size=7).transform_funcs.items()}\n",
    "\n",
    "P_none = calculated_Ps['none']\n",
    "P_calculated = calculated_Ps['space_translation']\n",
    "P_pred = P_preds[1]\n",
    "\n",
    "P_plots = [P_none, P_calculated, P_pred]\n",
    "\n",
    "for i, (P, ax_i) in enumerate(zip(P_plots, ['B', 'C', 'D'])):\n",
    "    ax = axs[ax_i]\n",
    "    ax.imshow(P)\n",
    "    # ax.set_axis_off()\n",
    "    ax.patch.set_edgecolor(list(net_colors.values())[i])\n",
    "\n",
    "    ax.patch.set_linewidth(5)  \n",
    "\n",
    "    # Disable ticks\n",
    "    ax.set_xticks([])\n",
    "    ax.set_yticks([])\n",
    "\n",
    "plt.show()"
   ]
  },
  {
   "cell_type": "code",
   "execution_count": null,
   "metadata": {},
   "outputs": [],
   "source": [
    "P_preds_tensor = torch.stack(list(P_preds.values()))\n",
    "\n",
    "plt.hist( P_preds_tensor.numpy().flatten(), bins = 100, alpha = 0.5, label = 'Trained P')\n",
    "plt.show()"
   ]
  },
  {
   "cell_type": "code",
   "execution_count": null,
   "metadata": {},
   "outputs": [],
   "source": [
    "torch.std(P_preds_tensor, dim = 0)"
   ]
  },
  {
   "cell_type": "code",
   "execution_count": null,
   "metadata": {},
   "outputs": [],
   "source": [
    "plt.figure(figsize = (3,3))\n",
    "plt.imshow( torch.std(P_preds_tensor, dim = 0) )\n",
    "plt.colorbar()\n",
    "plt.show()\n",
    "\n",
    "\n",
    "plt.figure(figsize = (3,3))\n",
    "plt.imshow( torch.mean(P_preds_tensor, dim = 0) )\n",
    "plt.colorbar()\n",
    "plt.show()"
   ]
  }
 ],
 "metadata": {
  "kernelspec": {
   "display_name": "sympde",
   "language": "python",
   "name": "python3"
  },
  "language_info": {
   "codemirror_mode": {
    "name": "ipython",
    "version": 3
   },
   "file_extension": ".py",
   "mimetype": "text/x-python",
   "name": "python",
   "nbconvert_exporter": "python",
   "pygments_lexer": "ipython3",
   "version": "3.10.13"
  }
 },
 "nbformat": 4,
 "nbformat_minor": 2
}
