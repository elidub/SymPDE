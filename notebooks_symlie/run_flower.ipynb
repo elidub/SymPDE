{
 "cells": [
  {
   "cell_type": "code",
   "execution_count": 1,
   "metadata": {},
   "outputs": [],
   "source": [
    "%load_ext autoreload\n",
    "%autoreload 2\n",
    "\n",
    "import os, sys\n",
    "import numpy as np\n",
    "import matplotlib.pyplot as plt\n",
    "import torch\n",
    "from torch import nn\n",
    "import pytorch_lightning as pl\n",
    "from itertools import product\n",
    "import torch.nn.functional as F\n",
    "import pandas as pd\n",
    "\n",
    "sys.path.append(os.path.join(os.getcwd(), '../symlie'))\n",
    "sys.path.append(os.path.join(os.getcwd(), '../sympdee/sympde/misc'))\n",
    "\n",
    "from run import parse_options, main, process_args, generate_data\n",
    "from generate_data import save_splits\n",
    "\n",
    "from data.generate_flat import create_flat, plot_flat\n",
    "from data.generate_flower import create_flower, plot_flower\n",
    "from data.transforms import Transform\n",
    "from model.networks.linear import CalculatedP\n",
    "\n",
    "from tb_analysis import get_data, get_results"
   ]
  },
  {
   "cell_type": "code",
   "execution_count": 2,
   "metadata": {},
   "outputs": [
    {
     "data": {
      "image/png": "[encoded data removed]",
      "text/plain": [
       "<Figure size 1000x100 with 10 Axes>"
      ]
     },
     "metadata": {},
     "output_type": "display_data"
    },
    {
     "name": "stdout",
     "output_type": "stream",
     "text": [
      "(10, 1, 7)\n"
     ]
    }
   ],
   "source": [
    "args = parse_options(notebook=True)\n",
    "args = process_args(args)\n",
    "\n",
    "out = create_flower(N=10, **args.data_kwargs, **args.transform_kwargs)\n",
    "x, y, centers = out['x'], out['y'], out['centers']\n",
    "\n",
    "try:\n",
    "    x = x.reshape(-1, args.space_length, args.space_length)\n",
    "except:\n",
    "    x = x.reshape(-1, 1, args.space_length)\n",
    "plot_flower(x=x, y=y)\n",
    "\n",
    "print(x.shape)"
   ]
  },
  {
   "cell_type": "code",
   "execution_count": 3,
   "metadata": {},
   "outputs": [
    {
     "name": "stdout",
     "output_type": "stream",
     "text": [
      "Creating 10000 for train.\n",
      "Creating 1000 for val.\n",
      "Creating 1000 for test.\n"
     ]
    }
   ],
   "source": [
    "args = parse_options(notebook=True)\n",
    "args.data_dir = '../data/sinev2'\n",
    "args = process_args(args)\n",
    "generate_data(args)"
   ]
  },
  {
   "cell_type": "code",
   "execution_count": null,
   "metadata": {},
   "outputs": [],
   "source": [
    "args = parse_options(notebook=True)\n",
    "\n",
    "args.net = 'Predict-NoneP'\n",
    "args.data_dir = '../data/sinev2'\n",
    "\n",
    "args.do_return = False\n",
    "args.persistent_workers = True\n",
    "args.num_workers = 7\n",
    "\n",
    "args.max_epochs = 10\n",
    "\n",
    "args.train = True\n",
    "args.test = False\n",
    "args.version = 'dev'\n",
    "args.predict = True\n",
    "\n",
    "args.n_splits = [400, 1000, 1000]\n",
    "\n",
    "args = process_args(args)\n",
    "\n",
    "model, trainer, datamodule, preds = main(args)\n"
   ]
  },
  {
   "cell_type": "code",
   "execution_count": null,
   "metadata": {},
   "outputs": [],
   "source": [
    "y_trues = torch.load(os.path.join(trainer.logger.log_dir, 'y_trues.pt'))\n",
    "y_preds = torch.load(os.path.join(trainer.logger.log_dir, 'y_preds.pt'))\n",
    "y_trues.shape, y_preds.shape"
   ]
  },
  {
   "cell_type": "code",
   "execution_count": null,
   "metadata": {},
   "outputs": [],
   "source": [
    "mse_loss = F.mse_loss(y_preds, y_trues)\n",
    "print(mse_loss.item())\n",
    "\n",
    "l = 4\n",
    "plt.plot(y_trues, y_preds, 'o', alpha = 0.1)\n",
    "plt.plot([0, l], [0,l], 'k--')\n",
    "plt.show()"
   ]
  },
  {
   "cell_type": "markdown",
   "metadata": {},
   "source": [
    "# Run_twice"
   ]
  },
  {
   "cell_type": "code",
   "execution_count": 3,
   "metadata": {},
   "outputs": [
    {
     "name": "stderr",
     "output_type": "stream",
     "text": [
      "Seed set to 1\n"
     ]
    },
    {
     "name": "stdout",
     "output_type": "stream",
     "text": [
      "\n",
      "\n",
      "###\tVersion:  version_0 \t###\n",
      "###\tName:  symlieflat_datasinev2_netTrainP_lr-1.00_seed1 \t###\n",
      "\n",
      "\n",
      "Loaded model from ../logs_symlie/symlieflat_datasinev2_netTrainP_lr-1.00_seed1/version_0/checkpoints\n",
      "Predicting...\n"
     ]
    },
    {
     "name": "stderr",
     "output_type": "stream",
     "text": [
      "/Users/elias/anaconda3/envs/sympde/lib/python3.10/site-packages/pytorch_lightning/trainer/setup.py:187: GPU available but not used. You can set it by doing `Trainer(accelerator='gpu')`.\n"
     ]
    },
    {
     "name": "stdout",
     "output_type": "stream",
     "text": [
      "Predicting DataLoader 0: 100%|██████████| 500/500 [00:01<00:00, 482.18it/s]\n"
     ]
    },
    {
     "data": {
      "image/png": "[encoded data removed]",
      "text/plain": [
       "<Figure size 300x300 with 1 Axes>"
      ]
     },
     "metadata": {},
     "output_type": "display_data"
    }
   ],
   "source": [
    "# lrs = torch.logspace(-7, -1, 7)\n",
    "lrs = [1e-2]\n",
    "\n",
    "seeds = torch.arange(1,2)\n",
    "\n",
    "P_preds = {}\n",
    "for seed, lr in product(seeds, lrs):\n",
    "\n",
    "    args = parse_options(notebook=True)\n",
    "    args.net = 'TrainP'\n",
    "\n",
    "    args.data_dir = '../data/sinev2'\n",
    "\n",
    "    args.train = False\n",
    "    args.do_return = False\n",
    "\n",
    "    args.test = False\n",
    "    args.predict = True\n",
    "    args.version = 'version_0'\n",
    "\n",
    "    args.max_epochs = 5\n",
    "    # args.batch_size = 64\n",
    "\n",
    "    args.lr = lr\n",
    "    args.seed = seed\n",
    "\n",
    "    args = process_args(args)\n",
    "    model, trainer, datamodule, _ = main(args)\n",
    "\n",
    "    # Visualize and save the predicted P matrix\n",
    "    P_pred = model.net.P.data.clone()\n",
    "    P_pred = model.net.normalize_P(P_pred)\n",
    "\n",
    "    P_preds[seed.item()] = P_pred\n",
    "\n",
    "    plt.figure(figsize = (3,3))\n",
    "    plt.imshow(P_pred)\n",
    "    plt.show()"
   ]
  },
  {
   "cell_type": "code",
   "execution_count": null,
   "metadata": {},
   "outputs": [],
   "source": [
    "x, y, eps, centers = batch = next(iter(datamodule.test_dataloader()))"
   ]
  },
  {
   "cell_type": "code",
   "execution_count": null,
   "metadata": {},
   "outputs": [],
   "source": [
    "out_a, out_b = model(batch)\n",
    "\n",
    "loss_fn = nn.MSELoss()\n",
    "loss_fn(out_a, out_b)"
   ]
  },
  {
   "cell_type": "code",
   "execution_count": null,
   "metadata": {},
   "outputs": [],
   "source": [
    "out_a, out_b = model(batch)\n",
    "print('Output NOT allclose!' if not torch.allclose(out_a, out_b) else 'pass')\n",
    "out_a, out_b"
   ]
  },
  {
   "cell_type": "code",
   "execution_count": null,
   "metadata": {},
   "outputs": [],
   "source": [
    "nets = ['Predict-NoneP', 'Predict-CalculatedP', 'Predict-TrainedP']\n",
    "\n",
    "for seed, net in product(seeds, nets):\n",
    "    args = parse_options(notebook=True)\n",
    "\n",
    "    args.net = net\n",
    "    args.seed = seed\n",
    "\n",
    "    args.data_dir = '../data/sinev2'\n",
    "    \n",
    "    args.max_epochs = 5\n",
    "    args.n_splits = [400, 1000, 1000]\n",
    "\n",
    "    if net == 'Predict-TrainedP':\n",
    "        args.P_pred = P_preds[seed.item()]\n",
    "\n",
    "    args = process_args(args)\n",
    "    model, trainer, datamodule, _ = main(args)\n"
   ]
  },
  {
   "cell_type": "code",
   "execution_count": null,
   "metadata": {},
   "outputs": [],
   "source": [
    "data = get_data(filter = 'symlieflat', logdir = '../logs_symlie')\n",
    "data = get_results(data, metrics = ['test_loss'])"
   ]
  },
  {
   "cell_type": "code",
   "execution_count": null,
   "metadata": {},
   "outputs": [],
   "source": [
    "df = pd.DataFrame()\n",
    "\n",
    "for k, v in data.items():\n",
    "    _, _, net, _, seed, _, _ = k.split('_')\n",
    "    net = net.split('-')[-1]\n",
    "    seed = int(seed.replace('seed', ''))\n",
    "\n",
    "    test_loss = v['test_loss']\n",
    "    if len(test_loss) == 0:\n",
    "        print(net, seed)\n",
    "        test_loss = [np.nan]\n",
    "    assert len(set(test_loss)) == 1, test_loss\n",
    "    test_loss = test_loss[0]\n",
    "\n",
    "    df.at[seed, net] = test_loss\n",
    "df"
   ]
  },
  {
   "cell_type": "code",
   "execution_count": null,
   "metadata": {},
   "outputs": [],
   "source": [
    "df = df[['NoneP', 'CalculatedP', 'TrainedP']]"
   ]
  },
  {
   "cell_type": "code",
   "execution_count": null,
   "metadata": {},
   "outputs": [],
   "source": [
    "fig, axs = plt.subplot_mosaic(\"AAA;BCD\", figsize = (8,6), tight_layout = True, gridspec_kw = dict(height_ratios = [0.5, 1]))\n",
    "\n",
    "ax = axs['A']\n",
    "\n",
    "for i, (seed, vals) in enumerate(df.iterrows()):\n",
    "    ax.plot(vals, label = seed, marker = None, ls = '--', alpha = 0.1, color = 'k')\n",
    "\n",
    "net_colors = {'NoneP': 'C0', 'CalculatedP': 'C1', 'TrainedP': 'C2'}\n",
    "\n",
    "for i, (net, test_losses) in enumerate(df.T.iterrows()):\n",
    "    vals = test_losses.values\n",
    "    ax.scatter(np.full_like(vals, i), vals, alpha = 0.5, marker = 'x', color = net_colors[net])\n",
    "\n",
    "ax.set_xticks(np.arange(len(df.T)), df.T.index)\n",
    "ax.set_ylabel('Test loss')\n",
    "\n",
    "calculated_Ps = {k: v() for k, v in CalculatedP(size=7).transform_funcs.items()}\n",
    "\n",
    "P_none = calculated_Ps['none']\n",
    "P_calculated = calculated_Ps['space_translation']\n",
    "P_pred = P_preds[1]\n",
    "\n",
    "P_plots = [P_none, P_calculated, P_pred]\n",
    "\n",
    "for i, (P, ax_i) in enumerate(zip(P_plots, ['B', 'C', 'D'])):\n",
    "    ax = axs[ax_i]\n",
    "    ax.imshow(P)\n",
    "    # ax.set_axis_off()\n",
    "    ax.patch.set_edgecolor(list(net_colors.values())[i])\n",
    "\n",
    "    ax.patch.set_linewidth(5)  \n",
    "\n",
    "    # Disable ticks\n",
    "    ax.set_xticks([])\n",
    "    ax.set_yticks([])\n",
    "\n",
    "plt.show()"
   ]
  },
  {
   "cell_type": "code",
   "execution_count": null,
   "metadata": {},
   "outputs": [],
   "source": [
    "P_preds_tensor = torch.stack(list(P_preds.values()))\n",
    "\n",
    "plt.hist( P_preds_tensor.numpy().flatten(), bins = 100, alpha = 0.5, label = 'Trained P')\n",
    "plt.show()"
   ]
  },
  {
   "cell_type": "code",
   "execution_count": null,
   "metadata": {},
   "outputs": [],
   "source": [
    "torch.std(P_preds_tensor, dim = 0)"
   ]
  },
  {
   "cell_type": "code",
   "execution_count": null,
   "metadata": {},
   "outputs": [],
   "source": [
    "plt.figure(figsize = (3,3))\n",
    "plt.imshow( torch.std(P_preds_tensor, dim = 0) )\n",
    "plt.colorbar()\n",
    "plt.show()\n",
    "\n",
    "\n",
    "plt.figure(figsize = (3,3))\n",
    "plt.imshow( torch.mean(P_preds_tensor, dim = 0) )\n",
    "plt.colorbar()\n",
    "plt.show()"
   ]
  }
 ],
 "metadata": {
  "kernelspec": {
   "display_name": "sympde",
   "language": "python",
   "name": "python3"
  },
  "language_info": {
   "codemirror_mode": {
    "name": "ipython",
    "version": 3
   },
   "file_extension": ".py",
   "mimetype": "text/x-python",
   "name": "python",
   "nbconvert_exporter": "python",
   "pygments_lexer": "ipython3",
   "version": "3.10.13"
  }
 },
 "nbformat": 4,
 "nbformat_minor": 2
}
