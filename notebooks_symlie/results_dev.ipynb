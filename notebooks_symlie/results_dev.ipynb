{
 "cells": [
  {
   "cell_type": "code",
   "execution_count": 1,
   "metadata": {},
   "outputs": [],
   "source": [
    "%load_ext autoreload\n",
    "%autoreload 2\n",
    "\n",
    "import sys, os\n",
    "import pandas as pd\n",
    "import numpy as np\n",
    "from tqdm import tqdm\n",
    "import wandb\n",
    "import matplotlib.pyplot as plt\n",
    "import torch\n",
    "import sklearn as sk\n",
    "import sklearn.metrics as skm\n",
    "\n",
    "sys.path.append(os.path.join(os.getcwd(), '../symlie'))\n",
    "from misc.utils import NumpyUtils, Results, tensor_operation, numpy_operation, Args\n",
    "from misc.viz import plot2d\n",
    "from model.networks.linear import LinearP\n",
    "from model.setup import find_id_for_P, load_P_pred\n",
    "\n",
    "from run import parse_options, main, process_args\n"
   ]
  },
  {
   "cell_type": "code",
   "execution_count": 5,
   "metadata": {},
   "outputs": [
    {
     "name": "stderr",
     "output_type": "stream",
     "text": [
      "Seed set to 1\n"
     ]
    },
    {
     "name": "stdout",
     "output_type": "stream",
     "text": [
      "Found run_id evjpekkf\n",
      "Running without logging\n"
     ]
    },
    {
     "name": "stderr",
     "output_type": "stream",
     "text": [
      "/Users/elias/anaconda3/envs/sympde/lib/python3.10/site-packages/pytorch_lightning/trainer/setup.py:187: GPU available but not used. You can set it by doing `Trainer(accelerator='gpu')`.\n"
     ]
    }
   ],
   "source": [
    "args = parse_options(notebook=True)\n",
    "\n",
    "\n",
    "args.net = 'Predict-TrainedP'\n",
    "\n",
    "args.train = False\n",
    "args.test = False\n",
    "args.do_return = True\n",
    "args.logger = False\n",
    "\n",
    "args.data_dir = '../data/MNIST'\n",
    "args.eps_mult = [0., 0., 1., 1.]\n",
    "args.grid_size = [7, 7]\n",
    "args.noise_std = 0.0\n",
    "args.seed = 1\n",
    "\n",
    "args = process_args(args)\n",
    "model, trainer, datamodule, preds = main(args)\n"
   ]
  },
  {
   "cell_type": "code",
   "execution_count": 9,
   "metadata": {},
   "outputs": [],
   "source": [
    "batch = x, y, centers = next(iter(datamodule.train_dataloader()))"
   ]
  },
  {
   "cell_type": "code",
   "execution_count": 11,
   "metadata": {},
   "outputs": [
    {
     "name": "stderr",
     "output_type": "stream",
     "text": [
      "Seed set to 1\n"
     ]
    },
    {
     "name": "stdout",
     "output_type": "stream",
     "text": [
      "Running without logging\n"
     ]
    },
    {
     "name": "stderr",
     "output_type": "stream",
     "text": [
      "/Users/elias/anaconda3/envs/sympde/lib/python3.10/site-packages/pytorch_lightning/trainer/setup.py:187: GPU available but not used. You can set it by doing `Trainer(accelerator='gpu')`.\n"
     ]
    }
   ],
   "source": [
    "args = parse_options(notebook=True)\n",
    "\n",
    "args.net = 'TrainP'\n",
    "\n",
    "args.train = False\n",
    "args.test = False\n",
    "args.do_return = True\n",
    "args.logger = False\n",
    "\n",
    "args.data_dir = '../data/MNIST'\n",
    "args.eps_mult = [0., 0., 1., 1.]\n",
    "args.grid_size = [7, 7]\n",
    "args.noise_std = 0.0\n",
    "args.seed = 1\n",
    "\n",
    "args = process_args(args)\n",
    "model_train, trainer_train, datamodule_train, preds_train = main(args)\n"
   ]
  },
  {
   "cell_type": "code",
   "execution_count": 12,
   "metadata": {},
   "outputs": [],
   "source": [
    "batch_train = x_train, y_train, centers_train = next(iter(datamodule_train.train_dataloader()))"
   ]
  },
  {
   "cell_type": "code",
   "execution_count": 15,
   "metadata": {},
   "outputs": [
    {
     "data": {
      "text/plain": [
       "(torch.Size([16, 49]), torch.Size([16]))"
      ]
     },
     "execution_count": 15,
     "metadata": {},
     "output_type": "execute_result"
    }
   ],
   "source": [
    "x_train.shape, y_train.shape"
   ]
  }
 ],
 "metadata": {
  "kernelspec": {
   "display_name": "sympde",
   "language": "python",
   "name": "python3"
  },
  "language_info": {
   "codemirror_mode": {
    "name": "ipython",
    "version": 3
   },
   "file_extension": ".py",
   "mimetype": "text/x-python",
   "name": "python",
   "nbconvert_exporter": "python",
   "pygments_lexer": "ipython3",
   "version": "3.1.0"
  }
 },
 "nbformat": 4,
 "nbformat_minor": 2
}
