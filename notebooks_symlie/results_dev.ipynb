{
 "cells": [
  {
   "cell_type": "code",
   "execution_count": null,
   "metadata": {},
   "outputs": [],
   "source": [
    "%load_ext autoreload\n",
    "%autoreload 2\n",
    "\n",
    "import sys, os\n",
    "import pandas as pd\n",
    "import numpy as np\n",
    "from tqdm import tqdm\n",
    "import wandb\n",
    "import matplotlib.pyplot as plt\n",
    "import torch\n",
    "import sklearn as sk\n",
    "import sklearn.metrics as skm\n",
    "\n",
    "sys.path.append(os.path.join(os.getcwd(), '../symlie'))\n",
    "from misc.utils import NumpyUtils, Results, tensor_operation, numpy_operation, Args\n",
    "from misc.viz import plot2d\n",
    "from model.networks.linear import LinearP\n",
    "from model.setup import find_id_for_P, load_P_pred\n",
    "\n",
    "from run import parse_options, main, process_args\n"
   ]
  },
  {
   "cell_type": "code",
   "execution_count": null,
   "metadata": {},
   "outputs": [],
   "source": [
    "log_dir = '../logs'\n",
    "wandb_dir = os.path.join(log_dir, 'wandb')"
   ]
  },
  {
   "cell_type": "code",
   "execution_count": null,
   "metadata": {},
   "outputs": [],
   "source": [
    "run_id = 'latest'\n",
    "run_dirs = [dir for dir in os.listdir(wandb_dir) if run_id in dir]\n",
    "assert len(run_dirs) == 1\n",
    "run_dir = run_dirs[0]"
   ]
  },
  {
   "cell_type": "code",
   "execution_count": null,
   "metadata": {},
   "outputs": [],
   "source": [
    "y_true = np.load(os.path.join(wandb_dir, run_dir, 'files', 'y_true.npy'))\n",
    "y_pred = np.load(os.path.join(wandb_dir, run_dir, 'files', 'y_pred.npy'))"
   ]
  },
  {
   "cell_type": "code",
   "execution_count": null,
   "metadata": {},
   "outputs": [],
   "source": [
    "np.max(y_pred)"
   ]
  },
  {
   "cell_type": "code",
   "execution_count": null,
   "metadata": {},
   "outputs": [],
   "source": [
    "l = np.max(y_pred)+1\n",
    "fig, ax = plt.subplots()\n",
    "ax.plot([0, l], [0, l], 'k:')\n",
    "ax.plot(y_true, y_pred, '.')\n",
    "plt.show()"
   ]
  },
  {
   "cell_type": "code",
   "execution_count": null,
   "metadata": {},
   "outputs": [],
   "source": [
    "y_true.shape, y_pred.shape"
   ]
  },
  {
   "cell_type": "code",
   "execution_count": null,
   "metadata": {},
   "outputs": [],
   "source": [
    "args = parse_options(notebook=True)\n",
    "\n",
    "\n",
    "args.net = 'Predict-TrainedP'\n",
    "\n",
    "args.train = False\n",
    "args.test = False\n",
    "args.do_return = True\n",
    "args.logger = False\n",
    "\n",
    "args.data_dir = '../data/MNIST'\n",
    "args.eps_mult = [0., 0., 1., 1.]\n",
    "args.grid_size = [7, 7]\n",
    "args.noise_std = 0.0\n",
    "args.seed = 1\n",
    "\n",
    "args = process_args(args)\n",
    "model, trainer, datamodule, preds = main(args)\n"
   ]
  },
  {
   "cell_type": "code",
   "execution_count": null,
   "metadata": {},
   "outputs": [],
   "source": [
    "batch = x, y, centers = next(iter(datamodule.train_dataloader()))"
   ]
  },
  {
   "cell_type": "code",
   "execution_count": null,
   "metadata": {},
   "outputs": [],
   "source": [
    "args = parse_options(notebook=True)\n",
    "\n",
    "args.net = 'TrainP'\n",
    "\n",
    "args.train = False\n",
    "args.test = False\n",
    "args.do_return = True\n",
    "args.logger = False\n",
    "\n",
    "args.data_dir = '../data/MNIST'\n",
    "args.eps_mult = [0., 0., 1., 1.]\n",
    "args.grid_size = [7, 7]\n",
    "args.noise_std = 0.0\n",
    "args.seed = 1\n",
    "\n",
    "args = process_args(args)\n",
    "model_train, trainer_train, datamodule_train, preds_train = main(args)\n"
   ]
  },
  {
   "cell_type": "code",
   "execution_count": null,
   "metadata": {},
   "outputs": [],
   "source": [
    "batch_train = x_train, y_train, centers_train = next(iter(datamodule_train.train_dataloader()))"
   ]
  },
  {
   "cell_type": "code",
   "execution_count": null,
   "metadata": {},
   "outputs": [],
   "source": [
    "x_train.shape, y_train.shape"
   ]
  }
 ],
 "metadata": {
  "kernelspec": {
   "display_name": "sympde",
   "language": "python",
   "name": "python3"
  },
  "language_info": {
   "codemirror_mode": {
    "name": "ipython",
    "version": 3
   },
   "file_extension": ".py",
   "mimetype": "text/x-python",
   "name": "python",
   "nbconvert_exporter": "python",
   "pygments_lexer": "ipython3",
   "version": "3.10.13"
  }
 },
 "nbformat": 4,
 "nbformat_minor": 2
}
