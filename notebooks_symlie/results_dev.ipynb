{
 "cells": [
  {
   "cell_type": "code",
   "execution_count": 11,
   "metadata": {},
   "outputs": [
    {
     "name": "stdout",
     "output_type": "stream",
     "text": [
      "The autoreload extension is already loaded. To reload it, use:\n",
      "  %reload_ext autoreload\n"
     ]
    }
   ],
   "source": [
    "%load_ext autoreload\n",
    "%autoreload 2\n",
    "\n",
    "import sys, os\n",
    "import pandas as pd\n",
    "import numpy as np\n",
    "from tqdm import tqdm\n",
    "import wandb\n",
    "import matplotlib.pyplot as plt\n",
    "import torch\n",
    "\n",
    "sys.path.append(os.path.join(os.getcwd(), '../symlie'))\n",
    "from misc.utils import NumpyUtils, Results, tensor_operation, numpy_operation, Args\n",
    "from misc.viz import plot2d\n",
    "from model.networks.linear import LinearP\n",
    "from model.setup import find_id_for_P, load_P_pred\n",
    "\n",
    "from run import parse_options, main, process_args\n"
   ]
  },
  {
   "cell_type": "code",
   "execution_count": 3,
   "metadata": {},
   "outputs": [],
   "source": [
    "log_dir = '../logs'\n",
    "store_dir = os.path.join(log_dir, 'store')\n",
    "wandb_dir = os.path.join(log_dir, 'wandb')"
   ]
  },
  {
   "cell_type": "code",
   "execution_count": 8,
   "metadata": {},
   "outputs": [
    {
     "data": {
      "text/plain": [
       "'run-20240130_115043-mp4plmev'"
      ]
     },
     "execution_count": 8,
     "metadata": {},
     "output_type": "execute_result"
    }
   ],
   "source": [
    "run_dirs =  np.array([[run_dir.split('-')[-1], run_dir] for run_dir in os.listdir(wandb_dir) if run_dir.startswith('run')])\n",
    "if not len(run_dirs) == 0:\n",
    "    assert len(run_dirs[:, 0]) == len(set(run_dirs[:, 0]))\n",
    "    run_dirs = {run_id: run_dir for run_id, run_dir in run_dirs}\n",
    "    run_dirs_df = pd.DataFrame(run_dirs.items(), columns = ['run_id', 'run_dir']).sort_values(by = 'run_dir', ascending = False)\n",
    "else:\n",
    "    run_dirs_df = pd.DataFrame(columns = ['run_id', 'run_dir'])\n",
    "\n",
    "run_dirs['mp4plmev']"
   ]
  },
  {
   "cell_type": "code",
   "execution_count": 15,
   "metadata": {},
   "outputs": [
    {
     "name": "stderr",
     "output_type": "stream",
     "text": [
      "Seed set to 42\n"
     ]
    },
    {
     "name": "stdout",
     "output_type": "stream",
     "text": [
      "../logs/symlie/mp4plmev/checkpoints\n",
      "epoch=15-step=80000.ckpt\n"
     ]
    },
    {
     "ename": "RuntimeError",
     "evalue": "Error(s) in loading state_dict for PredictionLearner:\n\tsize mismatch for net.mlp.0.weight: copying a param with shape torch.Size([49, 49]) from checkpoint, the shape in current model is torch.Size([7, 7]).\n\tsize mismatch for net.mlp.2.weight: copying a param with shape torch.Size([1, 49]) from checkpoint, the shape in current model is torch.Size([1, 7]).",
     "output_type": "error",
     "traceback": [
      "\u001b[0;31m---------------------------------------------------------------------------\u001b[0m",
      "\u001b[0;31mRuntimeError\u001b[0m                              Traceback (most recent call last)",
      "Cell \u001b[0;32mIn[15], line 22\u001b[0m\n\u001b[1;32m     18\u001b[0m args\u001b[38;5;241m.\u001b[39my_low \u001b[38;5;241m=\u001b[39m \u001b[38;5;241m1\u001b[39m\n\u001b[1;32m     19\u001b[0m args\u001b[38;5;241m.\u001b[39my_high \u001b[38;5;241m=\u001b[39m \u001b[38;5;241m3\u001b[39m\n\u001b[0;32m---> 22\u001b[0m model, trainer, datamodule, preds \u001b[38;5;241m=\u001b[39m \u001b[43mmain\u001b[49m\u001b[43m(\u001b[49m\u001b[43margs\u001b[49m\u001b[43m)\u001b[49m\n",
      "File \u001b[0;32m/gpfs/home6/eliasd/thesis/SymPDE/notebooks_symlie/../symlie/run.py:94\u001b[0m, in \u001b[0;36mmain\u001b[0;34m(args)\u001b[0m\n\u001b[1;32m     89\u001b[0m pl\u001b[38;5;241m.\u001b[39mseed_everything(args\u001b[38;5;241m.\u001b[39mseed, workers\u001b[38;5;241m=\u001b[39m\u001b[38;5;28;01mTrue\u001b[39;00m)\n\u001b[1;32m     92\u001b[0m args\u001b[38;5;241m.\u001b[39mdevice \u001b[38;5;241m=\u001b[39m \u001b[38;5;124m\"\u001b[39m\u001b[38;5;124mcuda\u001b[39m\u001b[38;5;124m\"\u001b[39m \u001b[38;5;28;01mif\u001b[39;00m torch\u001b[38;5;241m.\u001b[39mcuda\u001b[38;5;241m.\u001b[39mis_available() \u001b[38;5;28;01melse\u001b[39;00m \u001b[38;5;124m\"\u001b[39m\u001b[38;5;124mcpu\u001b[39m\u001b[38;5;124m\"\u001b[39m\n\u001b[0;32m---> 94\u001b[0m model, datamodule \u001b[38;5;241m=\u001b[39m \u001b[43msetup_model\u001b[49m\u001b[43m(\u001b[49m\u001b[43margs\u001b[49m\u001b[43m)\u001b[49m\n\u001b[1;32m     96\u001b[0m \u001b[38;5;28;01mif\u001b[39;00m args\u001b[38;5;241m.\u001b[39mdo_return_model:\n\u001b[1;32m     97\u001b[0m     \u001b[38;5;28;01mreturn\u001b[39;00m model, \u001b[38;5;28;01mNone\u001b[39;00m, \u001b[38;5;28;01mNone\u001b[39;00m, \u001b[38;5;28;01mNone\u001b[39;00m\n",
      "File \u001b[0;32m/gpfs/home6/eliasd/thesis/SymPDE/notebooks_symlie/../symlie/model/setup.py:137\u001b[0m, in \u001b[0;36msetup_model\u001b[0;34m(args)\u001b[0m\n\u001b[1;32m    132\u001b[0m         model \u001b[38;5;241m=\u001b[39m learner\u001b[38;5;241m.\u001b[39mload_from_checkpoint(\n\u001b[1;32m    133\u001b[0m             os\u001b[38;5;241m.\u001b[39mpath\u001b[38;5;241m.\u001b[39mjoin(ckpt_path, ckpt), net\u001b[38;5;241m=\u001b[39mnet, criterion\u001b[38;5;241m=\u001b[39mcriterion, lr\u001b[38;5;241m=\u001b[39margs\u001b[38;5;241m.\u001b[39mlr, grid_size\u001b[38;5;241m=\u001b[39margs\u001b[38;5;241m.\u001b[39mdata_kwargs[\u001b[38;5;124m'\u001b[39m\u001b[38;5;124mgrid_size\u001b[39m\u001b[38;5;124m'\u001b[39m], transform_kwargs\u001b[38;5;241m=\u001b[39margs\u001b[38;5;241m.\u001b[39mtransform_kwargs,\n\u001b[1;32m    134\u001b[0m             map_location\u001b[38;5;241m=\u001b[39mtorch\u001b[38;5;241m.\u001b[39mdevice(\u001b[38;5;124m'\u001b[39m\u001b[38;5;124mcpu\u001b[39m\u001b[38;5;124m'\u001b[39m)\n\u001b[1;32m    135\u001b[0m         )\n\u001b[1;32m    136\u001b[0m     \u001b[38;5;28;01mif\u001b[39;00m learner \u001b[38;5;241m==\u001b[39m PredictionLearner:\n\u001b[0;32m--> 137\u001b[0m         model \u001b[38;5;241m=\u001b[39m \u001b[43mlearner\u001b[49m\u001b[38;5;241;43m.\u001b[39;49m\u001b[43mload_from_checkpoint\u001b[49m\u001b[43m(\u001b[49m\n\u001b[1;32m    138\u001b[0m \u001b[43m            \u001b[49m\u001b[43mos\u001b[49m\u001b[38;5;241;43m.\u001b[39;49m\u001b[43mpath\u001b[49m\u001b[38;5;241;43m.\u001b[39;49m\u001b[43mjoin\u001b[49m\u001b[43m(\u001b[49m\u001b[43mckpt_path\u001b[49m\u001b[43m,\u001b[49m\u001b[43m \u001b[49m\u001b[43mckpt\u001b[49m\u001b[43m)\u001b[49m\u001b[43m,\u001b[49m\u001b[43m \u001b[49m\u001b[43mnet\u001b[49m\u001b[38;5;241;43m=\u001b[39;49m\u001b[43mnet\u001b[49m\u001b[43m,\u001b[49m\u001b[43m \u001b[49m\u001b[43mcriterion\u001b[49m\u001b[38;5;241;43m=\u001b[39;49m\u001b[43mcriterion\u001b[49m\u001b[43m,\u001b[49m\u001b[43m \u001b[49m\u001b[43mlr\u001b[49m\u001b[38;5;241;43m=\u001b[39;49m\u001b[43margs\u001b[49m\u001b[38;5;241;43m.\u001b[39;49m\u001b[43mlr\u001b[49m\u001b[43m,\u001b[49m\n\u001b[1;32m    139\u001b[0m \u001b[43m            \u001b[49m\u001b[43mmap_location\u001b[49m\u001b[38;5;241;43m=\u001b[39;49m\u001b[43mtorch\u001b[49m\u001b[38;5;241;43m.\u001b[39;49m\u001b[43mdevice\u001b[49m\u001b[43m(\u001b[49m\u001b[38;5;124;43m'\u001b[39;49m\u001b[38;5;124;43mcpu\u001b[39;49m\u001b[38;5;124;43m'\u001b[39;49m\u001b[43m)\u001b[49m\n\u001b[1;32m    140\u001b[0m \u001b[43m        \u001b[49m\u001b[43m)\u001b[49m\n\u001b[1;32m    141\u001b[0m     \u001b[38;5;28mprint\u001b[39m(\u001b[38;5;124mf\u001b[39m\u001b[38;5;124m\"\u001b[39m\u001b[38;5;124mLoaded model from \u001b[39m\u001b[38;5;132;01m{\u001b[39;00mckpt_path\u001b[38;5;132;01m}\u001b[39;00m\u001b[38;5;124m\"\u001b[39m)\n\u001b[1;32m    143\u001b[0m \u001b[38;5;28;01melse\u001b[39;00m:\n",
      "File \u001b[0;32m~/.conda/envs/sympde/lib/python3.10/site-packages/pytorch_lightning/core/module.py:1552\u001b[0m, in \u001b[0;36mLightningModule.load_from_checkpoint\u001b[0;34m(cls, checkpoint_path, map_location, hparams_file, strict, **kwargs)\u001b[0m\n\u001b[1;32m   1471\u001b[0m \u001b[38;5;129m@_restricted_classmethod\u001b[39m\n\u001b[1;32m   1472\u001b[0m \u001b[38;5;28;01mdef\u001b[39;00m \u001b[38;5;21mload_from_checkpoint\u001b[39m(\n\u001b[1;32m   1473\u001b[0m     \u001b[38;5;28mcls\u001b[39m,\n\u001b[0;32m   (...)\u001b[0m\n\u001b[1;32m   1478\u001b[0m     \u001b[38;5;241m*\u001b[39m\u001b[38;5;241m*\u001b[39mkwargs: Any,\n\u001b[1;32m   1479\u001b[0m ) \u001b[38;5;241m-\u001b[39m\u001b[38;5;241m>\u001b[39m Self:\n\u001b[1;32m   1480\u001b[0m \u001b[38;5;250m    \u001b[39m\u001b[38;5;124mr\u001b[39m\u001b[38;5;124;03m\"\"\"Primary way of loading a model from a checkpoint. When Lightning saves a checkpoint it stores the arguments\u001b[39;00m\n\u001b[1;32m   1481\u001b[0m \u001b[38;5;124;03m    passed to ``__init__``  in the checkpoint under ``\"hyper_parameters\"``.\u001b[39;00m\n\u001b[1;32m   1482\u001b[0m \n\u001b[0;32m   (...)\u001b[0m\n\u001b[1;32m   1550\u001b[0m \n\u001b[1;32m   1551\u001b[0m \u001b[38;5;124;03m    \"\"\"\u001b[39;00m\n\u001b[0;32m-> 1552\u001b[0m     loaded \u001b[38;5;241m=\u001b[39m \u001b[43m_load_from_checkpoint\u001b[49m\u001b[43m(\u001b[49m\n\u001b[1;32m   1553\u001b[0m \u001b[43m        \u001b[49m\u001b[38;5;28;43mcls\u001b[39;49m\u001b[43m,\u001b[49m\u001b[43m  \u001b[49m\u001b[38;5;66;43;03m# type: ignore[arg-type]\u001b[39;49;00m\n\u001b[1;32m   1554\u001b[0m \u001b[43m        \u001b[49m\u001b[43mcheckpoint_path\u001b[49m\u001b[43m,\u001b[49m\n\u001b[1;32m   1555\u001b[0m \u001b[43m        \u001b[49m\u001b[43mmap_location\u001b[49m\u001b[43m,\u001b[49m\n\u001b[1;32m   1556\u001b[0m \u001b[43m        \u001b[49m\u001b[43mhparams_file\u001b[49m\u001b[43m,\u001b[49m\n\u001b[1;32m   1557\u001b[0m \u001b[43m        \u001b[49m\u001b[43mstrict\u001b[49m\u001b[43m,\u001b[49m\n\u001b[1;32m   1558\u001b[0m \u001b[43m        \u001b[49m\u001b[38;5;241;43m*\u001b[39;49m\u001b[38;5;241;43m*\u001b[39;49m\u001b[43mkwargs\u001b[49m\u001b[43m,\u001b[49m\n\u001b[1;32m   1559\u001b[0m \u001b[43m    \u001b[49m\u001b[43m)\u001b[49m\n\u001b[1;32m   1560\u001b[0m     \u001b[38;5;28;01mreturn\u001b[39;00m cast(Self, loaded)\n",
      "File \u001b[0;32m~/.conda/envs/sympde/lib/python3.10/site-packages/pytorch_lightning/core/saving.py:89\u001b[0m, in \u001b[0;36m_load_from_checkpoint\u001b[0;34m(cls, checkpoint_path, map_location, hparams_file, strict, **kwargs)\u001b[0m\n\u001b[1;32m     87\u001b[0m     \u001b[38;5;28;01mreturn\u001b[39;00m _load_state(\u001b[38;5;28mcls\u001b[39m, checkpoint, \u001b[38;5;241m*\u001b[39m\u001b[38;5;241m*\u001b[39mkwargs)\n\u001b[1;32m     88\u001b[0m \u001b[38;5;28;01mif\u001b[39;00m \u001b[38;5;28missubclass\u001b[39m(\u001b[38;5;28mcls\u001b[39m, pl\u001b[38;5;241m.\u001b[39mLightningModule):\n\u001b[0;32m---> 89\u001b[0m     model \u001b[38;5;241m=\u001b[39m \u001b[43m_load_state\u001b[49m\u001b[43m(\u001b[49m\u001b[38;5;28;43mcls\u001b[39;49m\u001b[43m,\u001b[49m\u001b[43m \u001b[49m\u001b[43mcheckpoint\u001b[49m\u001b[43m,\u001b[49m\u001b[43m \u001b[49m\u001b[43mstrict\u001b[49m\u001b[38;5;241;43m=\u001b[39;49m\u001b[43mstrict\u001b[49m\u001b[43m,\u001b[49m\u001b[43m \u001b[49m\u001b[38;5;241;43m*\u001b[39;49m\u001b[38;5;241;43m*\u001b[39;49m\u001b[43mkwargs\u001b[49m\u001b[43m)\u001b[49m\n\u001b[1;32m     90\u001b[0m     state_dict \u001b[38;5;241m=\u001b[39m checkpoint[\u001b[38;5;124m\"\u001b[39m\u001b[38;5;124mstate_dict\u001b[39m\u001b[38;5;124m\"\u001b[39m]\n\u001b[1;32m     91\u001b[0m     \u001b[38;5;28;01mif\u001b[39;00m \u001b[38;5;129;01mnot\u001b[39;00m state_dict:\n",
      "File \u001b[0;32m~/.conda/envs/sympde/lib/python3.10/site-packages/pytorch_lightning/core/saving.py:169\u001b[0m, in \u001b[0;36m_load_state\u001b[0;34m(cls, checkpoint, strict, **cls_kwargs_new)\u001b[0m\n\u001b[1;32m    167\u001b[0m \u001b[38;5;66;03m# load the state_dict on the model automatically\u001b[39;00m\n\u001b[1;32m    168\u001b[0m \u001b[38;5;28;01massert\u001b[39;00m strict \u001b[38;5;129;01mis\u001b[39;00m \u001b[38;5;129;01mnot\u001b[39;00m \u001b[38;5;28;01mNone\u001b[39;00m\n\u001b[0;32m--> 169\u001b[0m keys \u001b[38;5;241m=\u001b[39m \u001b[43mobj\u001b[49m\u001b[38;5;241;43m.\u001b[39;49m\u001b[43mload_state_dict\u001b[49m\u001b[43m(\u001b[49m\u001b[43mcheckpoint\u001b[49m\u001b[43m[\u001b[49m\u001b[38;5;124;43m\"\u001b[39;49m\u001b[38;5;124;43mstate_dict\u001b[39;49m\u001b[38;5;124;43m\"\u001b[39;49m\u001b[43m]\u001b[49m\u001b[43m,\u001b[49m\u001b[43m \u001b[49m\u001b[43mstrict\u001b[49m\u001b[38;5;241;43m=\u001b[39;49m\u001b[43mstrict\u001b[49m\u001b[43m)\u001b[49m\n\u001b[1;32m    171\u001b[0m \u001b[38;5;28;01mif\u001b[39;00m \u001b[38;5;129;01mnot\u001b[39;00m strict:\n\u001b[1;32m    172\u001b[0m     \u001b[38;5;28;01mif\u001b[39;00m keys\u001b[38;5;241m.\u001b[39mmissing_keys:\n",
      "File \u001b[0;32m~/.conda/envs/sympde/lib/python3.10/site-packages/torch/nn/modules/module.py:2152\u001b[0m, in \u001b[0;36mModule.load_state_dict\u001b[0;34m(self, state_dict, strict, assign)\u001b[0m\n\u001b[1;32m   2147\u001b[0m         error_msgs\u001b[38;5;241m.\u001b[39minsert(\n\u001b[1;32m   2148\u001b[0m             \u001b[38;5;241m0\u001b[39m, \u001b[38;5;124m'\u001b[39m\u001b[38;5;124mMissing key(s) in state_dict: \u001b[39m\u001b[38;5;132;01m{}\u001b[39;00m\u001b[38;5;124m. \u001b[39m\u001b[38;5;124m'\u001b[39m\u001b[38;5;241m.\u001b[39mformat(\n\u001b[1;32m   2149\u001b[0m                 \u001b[38;5;124m'\u001b[39m\u001b[38;5;124m, \u001b[39m\u001b[38;5;124m'\u001b[39m\u001b[38;5;241m.\u001b[39mjoin(\u001b[38;5;124mf\u001b[39m\u001b[38;5;124m'\u001b[39m\u001b[38;5;124m\"\u001b[39m\u001b[38;5;132;01m{\u001b[39;00mk\u001b[38;5;132;01m}\u001b[39;00m\u001b[38;5;124m\"\u001b[39m\u001b[38;5;124m'\u001b[39m \u001b[38;5;28;01mfor\u001b[39;00m k \u001b[38;5;129;01min\u001b[39;00m missing_keys)))\n\u001b[1;32m   2151\u001b[0m \u001b[38;5;28;01mif\u001b[39;00m \u001b[38;5;28mlen\u001b[39m(error_msgs) \u001b[38;5;241m>\u001b[39m \u001b[38;5;241m0\u001b[39m:\n\u001b[0;32m-> 2152\u001b[0m     \u001b[38;5;28;01mraise\u001b[39;00m \u001b[38;5;167;01mRuntimeError\u001b[39;00m(\u001b[38;5;124m'\u001b[39m\u001b[38;5;124mError(s) in loading state_dict for \u001b[39m\u001b[38;5;132;01m{}\u001b[39;00m\u001b[38;5;124m:\u001b[39m\u001b[38;5;130;01m\\n\u001b[39;00m\u001b[38;5;130;01m\\t\u001b[39;00m\u001b[38;5;132;01m{}\u001b[39;00m\u001b[38;5;124m'\u001b[39m\u001b[38;5;241m.\u001b[39mformat(\n\u001b[1;32m   2153\u001b[0m                        \u001b[38;5;28mself\u001b[39m\u001b[38;5;241m.\u001b[39m\u001b[38;5;18m__class__\u001b[39m\u001b[38;5;241m.\u001b[39m\u001b[38;5;18m__name__\u001b[39m, \u001b[38;5;124m\"\u001b[39m\u001b[38;5;130;01m\\n\u001b[39;00m\u001b[38;5;130;01m\\t\u001b[39;00m\u001b[38;5;124m\"\u001b[39m\u001b[38;5;241m.\u001b[39mjoin(error_msgs)))\n\u001b[1;32m   2154\u001b[0m \u001b[38;5;28;01mreturn\u001b[39;00m _IncompatibleKeys(missing_keys, unexpected_keys)\n",
      "\u001b[0;31mRuntimeError\u001b[0m: Error(s) in loading state_dict for PredictionLearner:\n\tsize mismatch for net.mlp.0.weight: copying a param with shape torch.Size([49, 49]) from checkpoint, the shape in current model is torch.Size([7, 7]).\n\tsize mismatch for net.mlp.2.weight: copying a param with shape torch.Size([1, 49]) from checkpoint, the shape in current model is torch.Size([1, 7])."
     ]
    }
   ],
   "source": [
    "args = parse_options(notebook=True)\n",
    "\n",
    "args = process_args(args)\n",
    "\n",
    "args.net = 'Predict-NoneP'\n",
    "args.seed = 42\n",
    "\n",
    "args.train = False\n",
    "args.test = False\n",
    "args.version = 'version_0'\n",
    "args.predict = True\n",
    "args.run_id = 'mp4plmev'\n",
    "\n",
    "args.data_dir = '../data/sine2d'\n",
    "args.eps_mult = [0., 0., 1., 1.]\n",
    "args.grid_size = [7, 7]\n",
    "args.noise_std = 0.01\n",
    "args.y_low = 1\n",
    "args.y_high = 3\n",
    "\n",
    "\n",
    "model, trainer, datamodule, preds = main(args)\n"
   ]
  },
  {
   "cell_type": "code",
   "execution_count": 2,
   "metadata": {},
   "outputs": [
    {
     "name": "stdout",
     "output_type": "stream",
     "text": [
      "(83, 39)\n",
      "Index(['run_id', 'lr', 'net', 'bias', 'name', 'seed', 'tags', 'test', 'n_val',\n",
      "       'train', 'y_low', 'device', 'n_test', 'y_high', 'log_dir', 'n_train',\n",
      "       'predict', 'version', 'data_dir', 'eps_mult', 'n_splits', 'do_return',\n",
      "       'noise_std', 'only_flip', 'batch_size', 'max_epochs', 'data_kwargs',\n",
      "       'num_workers', 'space_length', 'generate_data', 'model_summary',\n",
      "       'args_processed', 'do_return_model', 'transform_kwargs',\n",
      "       'persistent_workers', 'run_name', 'test_loss', 'logger', 'grid_size'],\n",
      "      dtype='object')\n"
     ]
    },
    {
     "data": {
      "text/html": [
       "<div>\n",
       "<style scoped>\n",
       "    .dataframe tbody tr th:only-of-type {\n",
       "        vertical-align: middle;\n",
       "    }\n",
       "\n",
       "    .dataframe tbody tr th {\n",
       "        vertical-align: top;\n",
       "    }\n",
       "\n",
       "    .dataframe thead th {\n",
       "        text-align: right;\n",
       "    }\n",
       "</style>\n",
       "<table border=\"1\" class=\"dataframe\">\n",
       "  <thead>\n",
       "    <tr style=\"text-align: right;\">\n",
       "      <th></th>\n",
       "      <th>run_id</th>\n",
       "      <th>lr</th>\n",
       "      <th>net</th>\n",
       "      <th>bias</th>\n",
       "      <th>name</th>\n",
       "      <th>seed</th>\n",
       "      <th>tags</th>\n",
       "      <th>test</th>\n",
       "      <th>n_val</th>\n",
       "      <th>train</th>\n",
       "      <th>...</th>\n",
       "      <th>generate_data</th>\n",
       "      <th>model_summary</th>\n",
       "      <th>args_processed</th>\n",
       "      <th>do_return_model</th>\n",
       "      <th>transform_kwargs</th>\n",
       "      <th>persistent_workers</th>\n",
       "      <th>run_name</th>\n",
       "      <th>test_loss</th>\n",
       "      <th>logger</th>\n",
       "      <th>grid_size</th>\n",
       "    </tr>\n",
       "  </thead>\n",
       "  <tbody>\n",
       "    <tr>\n",
       "      <th>0</th>\n",
       "      <td>2m7eu5tn</td>\n",
       "      <td>0.0010</td>\n",
       "      <td>TrainP</td>\n",
       "      <td>False</td>\n",
       "      <td>None</td>\n",
       "      <td>5.0</td>\n",
       "      <td>[v5]</td>\n",
       "      <td>True</td>\n",
       "      <td>100.0</td>\n",
       "      <td>True</td>\n",
       "      <td>...</td>\n",
       "      <td>False</td>\n",
       "      <td>False</td>\n",
       "      <td>True</td>\n",
       "      <td>False</td>\n",
       "      <td>{'augment': 'transform_flower', 'eps_mult': [0...</td>\n",
       "      <td>True</td>\n",
       "      <td>worldly-snowflake-183</td>\n",
       "      <td>0.000473</td>\n",
       "      <td>NaN</td>\n",
       "      <td>NaN</td>\n",
       "    </tr>\n",
       "    <tr>\n",
       "      <th>1</th>\n",
       "      <td>ugylvzz6</td>\n",
       "      <td>0.0001</td>\n",
       "      <td>TrainP</td>\n",
       "      <td>False</td>\n",
       "      <td>None</td>\n",
       "      <td>5.0</td>\n",
       "      <td>[v5]</td>\n",
       "      <td>True</td>\n",
       "      <td>100.0</td>\n",
       "      <td>True</td>\n",
       "      <td>...</td>\n",
       "      <td>False</td>\n",
       "      <td>False</td>\n",
       "      <td>True</td>\n",
       "      <td>False</td>\n",
       "      <td>{'augment': 'transform_flower', 'eps_mult': [0...</td>\n",
       "      <td>True</td>\n",
       "      <td>classic-glade-184</td>\n",
       "      <td>0.009489</td>\n",
       "      <td>NaN</td>\n",
       "      <td>NaN</td>\n",
       "    </tr>\n",
       "    <tr>\n",
       "      <th>2</th>\n",
       "      <td>unpw27ml</td>\n",
       "      <td>0.1000</td>\n",
       "      <td>TrainP</td>\n",
       "      <td>False</td>\n",
       "      <td>None</td>\n",
       "      <td>5.0</td>\n",
       "      <td>[v5]</td>\n",
       "      <td>True</td>\n",
       "      <td>100.0</td>\n",
       "      <td>True</td>\n",
       "      <td>...</td>\n",
       "      <td>False</td>\n",
       "      <td>False</td>\n",
       "      <td>True</td>\n",
       "      <td>False</td>\n",
       "      <td>{'augment': 'transform_flower', 'eps_mult': [0...</td>\n",
       "      <td>True</td>\n",
       "      <td>sage-river-182</td>\n",
       "      <td>0.003589</td>\n",
       "      <td>NaN</td>\n",
       "      <td>NaN</td>\n",
       "    </tr>\n",
       "    <tr>\n",
       "      <th>3</th>\n",
       "      <td>w4yjcu25</td>\n",
       "      <td>0.0100</td>\n",
       "      <td>TrainP</td>\n",
       "      <td>False</td>\n",
       "      <td>None</td>\n",
       "      <td>5.0</td>\n",
       "      <td>[v5]</td>\n",
       "      <td>True</td>\n",
       "      <td>100.0</td>\n",
       "      <td>True</td>\n",
       "      <td>...</td>\n",
       "      <td>False</td>\n",
       "      <td>False</td>\n",
       "      <td>True</td>\n",
       "      <td>False</td>\n",
       "      <td>{'augment': 'transform_flower', 'eps_mult': [0...</td>\n",
       "      <td>True</td>\n",
       "      <td>azure-grass-181</td>\n",
       "      <td>0.003185</td>\n",
       "      <td>NaN</td>\n",
       "      <td>NaN</td>\n",
       "    </tr>\n",
       "    <tr>\n",
       "      <th>4</th>\n",
       "      <td>q86f7s5e</td>\n",
       "      <td>0.0001</td>\n",
       "      <td>TrainP</td>\n",
       "      <td>False</td>\n",
       "      <td>None</td>\n",
       "      <td>5.0</td>\n",
       "      <td>[v5]</td>\n",
       "      <td>True</td>\n",
       "      <td>100.0</td>\n",
       "      <td>True</td>\n",
       "      <td>...</td>\n",
       "      <td>False</td>\n",
       "      <td>False</td>\n",
       "      <td>True</td>\n",
       "      <td>False</td>\n",
       "      <td>{'augment': 'transform_flower', 'eps_mult': [0...</td>\n",
       "      <td>True</td>\n",
       "      <td>blooming-star-180</td>\n",
       "      <td>0.023643</td>\n",
       "      <td>NaN</td>\n",
       "      <td>NaN</td>\n",
       "    </tr>\n",
       "  </tbody>\n",
       "</table>\n",
       "<p>5 rows × 39 columns</p>\n",
       "</div>"
      ],
      "text/plain": [
       "     run_id      lr     net   bias  name  seed  tags  test  n_val train  ...  \\\n",
       "0  2m7eu5tn  0.0010  TrainP  False  None   5.0  [v5]  True  100.0  True  ...   \n",
       "1  ugylvzz6  0.0001  TrainP  False  None   5.0  [v5]  True  100.0  True  ...   \n",
       "2  unpw27ml  0.1000  TrainP  False  None   5.0  [v5]  True  100.0  True  ...   \n",
       "3  w4yjcu25  0.0100  TrainP  False  None   5.0  [v5]  True  100.0  True  ...   \n",
       "4  q86f7s5e  0.0001  TrainP  False  None   5.0  [v5]  True  100.0  True  ...   \n",
       "\n",
       "   generate_data model_summary  args_processed  do_return_model  \\\n",
       "0          False         False            True            False   \n",
       "1          False         False            True            False   \n",
       "2          False         False            True            False   \n",
       "3          False         False            True            False   \n",
       "4          False         False            True            False   \n",
       "\n",
       "                                    transform_kwargs  persistent_workers  \\\n",
       "0  {'augment': 'transform_flower', 'eps_mult': [0...                True   \n",
       "1  {'augment': 'transform_flower', 'eps_mult': [0...                True   \n",
       "2  {'augment': 'transform_flower', 'eps_mult': [0...                True   \n",
       "3  {'augment': 'transform_flower', 'eps_mult': [0...                True   \n",
       "4  {'augment': 'transform_flower', 'eps_mult': [0...                True   \n",
       "\n",
       "                run_name test_loss logger grid_size  \n",
       "0  worldly-snowflake-183  0.000473    NaN       NaN  \n",
       "1      classic-glade-184  0.009489    NaN       NaN  \n",
       "2         sage-river-182  0.003589    NaN       NaN  \n",
       "3        azure-grass-181  0.003185    NaN       NaN  \n",
       "4      blooming-star-180  0.023643    NaN       NaN  \n",
       "\n",
       "[5 rows x 39 columns]"
      ]
     },
     "execution_count": 2,
     "metadata": {},
     "output_type": "execute_result"
    }
   ],
   "source": [
    "df = pd.read_pickle('../logs/store/results_df.pkl')\n",
    "print(df.shape)\n",
    "print(df.columns)\n",
    "df.head()"
   ]
  },
  {
   "cell_type": "markdown",
   "metadata": {},
   "source": [
    "## Sine1d"
   ]
  },
  {
   "cell_type": "code",
   "execution_count": 67,
   "metadata": {},
   "outputs": [
    {
     "data": {
      "text/plain": [
       "(40, 39)"
      ]
     },
     "execution_count": 67,
     "metadata": {},
     "output_type": "execute_result"
    }
   ],
   "source": [
    "d = df[df['tags'].astype(str).str.contains('sine1d')]\n",
    "d.shape"
   ]
  },
  {
   "cell_type": "code",
   "execution_count": 68,
   "metadata": {},
   "outputs": [
    {
     "data": {
      "text/plain": [
       "(array([10000.,  1000.]),\n",
       " array([0.0001, 0.01  , 0.001 , 0.1   ]),\n",
       " array([5., 4., 3., 2., 1.]))"
      ]
     },
     "execution_count": 68,
     "metadata": {},
     "output_type": "execute_result"
    }
   ],
   "source": [
    "n_trains = d['n_train'].unique()\n",
    "lrs = d['lr'].unique()\n",
    "seeds = d['seed'].unique()\n",
    "n_trains, lrs, seeds"
   ]
  },
  {
   "cell_type": "code",
   "execution_count": 83,
   "metadata": {},
   "outputs": [
    {
     "data": {
      "image/png": "[encoded data removed]",
      "text/plain": [
       "<Figure size 640x480 with 1 Axes>"
      ]
     },
     "metadata": {},
     "output_type": "display_data"
    }
   ],
   "source": [
    "d_agg = d.groupby(['n_train', 'lr'])['test_loss']\n",
    "means = d_agg.mean()\n",
    "stds = d_agg.std()\n",
    "\n",
    "fig, ax = plt.subplots()\n",
    "means.plot(kind='barh', xerr=stds, ax = ax)\n",
    "ax.set_xlabel('Test Loss')\n",
    "ax.set_xscale('log')\n",
    "plt.show()"
   ]
  },
  {
   "cell_type": "code",
   "execution_count": 147,
   "metadata": {},
   "outputs": [
    {
     "data": {
      "text/html": [
       "<div>\n",
       "<style scoped>\n",
       "    .dataframe tbody tr th:only-of-type {\n",
       "        vertical-align: middle;\n",
       "    }\n",
       "\n",
       "    .dataframe tbody tr th {\n",
       "        vertical-align: top;\n",
       "    }\n",
       "\n",
       "    .dataframe thead th {\n",
       "        text-align: right;\n",
       "    }\n",
       "</style>\n",
       "<table border=\"1\" class=\"dataframe\">\n",
       "  <thead>\n",
       "    <tr style=\"text-align: right;\">\n",
       "      <th></th>\n",
       "      <th>run_id</th>\n",
       "      <th>tags</th>\n",
       "      <th>data_kwargs</th>\n",
       "      <th>transform_kwargs</th>\n",
       "      <th>seed</th>\n",
       "    </tr>\n",
       "  </thead>\n",
       "  <tbody>\n",
       "    <tr>\n",
       "      <th>0</th>\n",
       "      <td>wqmfolq3</td>\n",
       "      <td>['sine1d']</td>\n",
       "      <td>{'y_low': 1, 'y_high': 3, 'grid_size': [1, 7],...</td>\n",
       "      <td>{'eps_mult': [0, 0, 1, 0], 'only_flip': False}</td>\n",
       "      <td>5.0</td>\n",
       "    </tr>\n",
       "    <tr>\n",
       "      <th>1</th>\n",
       "      <td>9g2e5b7x</td>\n",
       "      <td>['sine1d']</td>\n",
       "      <td>{'y_low': 1, 'y_high': 3, 'grid_size': [1, 7],...</td>\n",
       "      <td>{'eps_mult': [0, 0, 1, 0], 'only_flip': False}</td>\n",
       "      <td>4.0</td>\n",
       "    </tr>\n",
       "    <tr>\n",
       "      <th>2</th>\n",
       "      <td>vgc5pdak</td>\n",
       "      <td>['sine1d']</td>\n",
       "      <td>{'y_low': 1, 'y_high': 3, 'grid_size': [1, 7],...</td>\n",
       "      <td>{'eps_mult': [0, 0, 1, 0], 'only_flip': False}</td>\n",
       "      <td>3.0</td>\n",
       "    </tr>\n",
       "    <tr>\n",
       "      <th>3</th>\n",
       "      <td>ihexez6d</td>\n",
       "      <td>['sine1d']</td>\n",
       "      <td>{'y_low': 1, 'y_high': 3, 'grid_size': [1, 7],...</td>\n",
       "      <td>{'eps_mult': [0, 0, 1, 0], 'only_flip': False}</td>\n",
       "      <td>2.0</td>\n",
       "    </tr>\n",
       "    <tr>\n",
       "      <th>4</th>\n",
       "      <td>xppfwtlj</td>\n",
       "      <td>['sine1d']</td>\n",
       "      <td>{'y_low': 1, 'y_high': 3, 'grid_size': [1, 7],...</td>\n",
       "      <td>{'eps_mult': [0, 0, 1, 0], 'only_flip': False}</td>\n",
       "      <td>1.0</td>\n",
       "    </tr>\n",
       "  </tbody>\n",
       "</table>\n",
       "</div>"
      ],
      "text/plain": [
       "     run_id        tags                                        data_kwargs  \\\n",
       "0  wqmfolq3  ['sine1d']  {'y_low': 1, 'y_high': 3, 'grid_size': [1, 7],...   \n",
       "1  9g2e5b7x  ['sine1d']  {'y_low': 1, 'y_high': 3, 'grid_size': [1, 7],...   \n",
       "2  vgc5pdak  ['sine1d']  {'y_low': 1, 'y_high': 3, 'grid_size': [1, 7],...   \n",
       "3  ihexez6d  ['sine1d']  {'y_low': 1, 'y_high': 3, 'grid_size': [1, 7],...   \n",
       "4  xppfwtlj  ['sine1d']  {'y_low': 1, 'y_high': 3, 'grid_size': [1, 7],...   \n",
       "\n",
       "                                 transform_kwargs  seed  \n",
       "0  {'eps_mult': [0, 0, 1, 0], 'only_flip': False}   5.0  \n",
       "1  {'eps_mult': [0, 0, 1, 0], 'only_flip': False}   4.0  \n",
       "2  {'eps_mult': [0, 0, 1, 0], 'only_flip': False}   3.0  \n",
       "3  {'eps_mult': [0, 0, 1, 0], 'only_flip': False}   2.0  \n",
       "4  {'eps_mult': [0, 0, 1, 0], 'only_flip': False}   1.0  "
      ]
     },
     "execution_count": 147,
     "metadata": {},
     "output_type": "execute_result"
    }
   ],
   "source": [
    "df_map_old = pd.read_pickle('../logs/store/map_df.pkl')\n",
    "df_map_old"
   ]
  },
  {
   "cell_type": "code",
   "execution_count": 148,
   "metadata": {},
   "outputs": [
    {
     "data": {
      "text/html": [
       "<div>\n",
       "<style scoped>\n",
       "    .dataframe tbody tr th:only-of-type {\n",
       "        vertical-align: middle;\n",
       "    }\n",
       "\n",
       "    .dataframe tbody tr th {\n",
       "        vertical-align: top;\n",
       "    }\n",
       "\n",
       "    .dataframe thead th {\n",
       "        text-align: right;\n",
       "    }\n",
       "</style>\n",
       "<table border=\"1\" class=\"dataframe\">\n",
       "  <thead>\n",
       "    <tr style=\"text-align: right;\">\n",
       "      <th></th>\n",
       "      <th>run_id</th>\n",
       "      <th>tags</th>\n",
       "      <th>data_kwargs</th>\n",
       "      <th>transform_kwargs</th>\n",
       "      <th>seed</th>\n",
       "    </tr>\n",
       "  </thead>\n",
       "  <tbody>\n",
       "    <tr>\n",
       "      <th>43</th>\n",
       "      <td>wqmfolq3</td>\n",
       "      <td>['sine1d']</td>\n",
       "      <td>{'y_low': 1, 'y_high': 3, 'grid_size': [1, 7],...</td>\n",
       "      <td>{'eps_mult': [0, 0, 1, 0], 'only_flip': False}</td>\n",
       "      <td>5.0</td>\n",
       "    </tr>\n",
       "    <tr>\n",
       "      <th>50</th>\n",
       "      <td>9g2e5b7x</td>\n",
       "      <td>['sine1d']</td>\n",
       "      <td>{'y_low': 1, 'y_high': 3, 'grid_size': [1, 7],...</td>\n",
       "      <td>{'eps_mult': [0, 0, 1, 0], 'only_flip': False}</td>\n",
       "      <td>4.0</td>\n",
       "    </tr>\n",
       "    <tr>\n",
       "      <th>59</th>\n",
       "      <td>vgc5pdak</td>\n",
       "      <td>['sine1d']</td>\n",
       "      <td>{'y_low': 1, 'y_high': 3, 'grid_size': [1, 7],...</td>\n",
       "      <td>{'eps_mult': [0, 0, 1, 0], 'only_flip': False}</td>\n",
       "      <td>3.0</td>\n",
       "    </tr>\n",
       "    <tr>\n",
       "      <th>69</th>\n",
       "      <td>ihexez6d</td>\n",
       "      <td>['sine1d']</td>\n",
       "      <td>{'y_low': 1, 'y_high': 3, 'grid_size': [1, 7],...</td>\n",
       "      <td>{'eps_mult': [0, 0, 1, 0], 'only_flip': False}</td>\n",
       "      <td>2.0</td>\n",
       "    </tr>\n",
       "    <tr>\n",
       "      <th>77</th>\n",
       "      <td>xppfwtlj</td>\n",
       "      <td>['sine1d']</td>\n",
       "      <td>{'y_low': 1, 'y_high': 3, 'grid_size': [1, 7],...</td>\n",
       "      <td>{'eps_mult': [0, 0, 1, 0], 'only_flip': False}</td>\n",
       "      <td>1.0</td>\n",
       "    </tr>\n",
       "  </tbody>\n",
       "</table>\n",
       "</div>"
      ],
      "text/plain": [
       "      run_id        tags                                        data_kwargs  \\\n",
       "43  wqmfolq3  ['sine1d']  {'y_low': 1, 'y_high': 3, 'grid_size': [1, 7],...   \n",
       "50  9g2e5b7x  ['sine1d']  {'y_low': 1, 'y_high': 3, 'grid_size': [1, 7],...   \n",
       "59  vgc5pdak  ['sine1d']  {'y_low': 1, 'y_high': 3, 'grid_size': [1, 7],...   \n",
       "69  ihexez6d  ['sine1d']  {'y_low': 1, 'y_high': 3, 'grid_size': [1, 7],...   \n",
       "77  xppfwtlj  ['sine1d']  {'y_low': 1, 'y_high': 3, 'grid_size': [1, 7],...   \n",
       "\n",
       "                                  transform_kwargs  seed  \n",
       "43  {'eps_mult': [0, 0, 1, 0], 'only_flip': False}   5.0  \n",
       "50  {'eps_mult': [0, 0, 1, 0], 'only_flip': False}   4.0  \n",
       "59  {'eps_mult': [0, 0, 1, 0], 'only_flip': False}   3.0  \n",
       "69  {'eps_mult': [0, 0, 1, 0], 'only_flip': False}   2.0  \n",
       "77  {'eps_mult': [0, 0, 1, 0], 'only_flip': False}   1.0  "
      ]
     },
     "execution_count": 148,
     "metadata": {},
     "output_type": "execute_result"
    }
   ],
   "source": [
    "df_map_new = d[(d['n_train'] == 10_000) & (d['lr'] == 1e-3)][df_map_old.columns]\n",
    "df_map_new"
   ]
  },
  {
   "cell_type": "code",
   "execution_count": 150,
   "metadata": {},
   "outputs": [
    {
     "data": {
      "text/html": [
       "<div>\n",
       "<style scoped>\n",
       "    .dataframe tbody tr th:only-of-type {\n",
       "        vertical-align: middle;\n",
       "    }\n",
       "\n",
       "    .dataframe tbody tr th {\n",
       "        vertical-align: top;\n",
       "    }\n",
       "\n",
       "    .dataframe thead th {\n",
       "        text-align: right;\n",
       "    }\n",
       "</style>\n",
       "<table border=\"1\" class=\"dataframe\">\n",
       "  <thead>\n",
       "    <tr style=\"text-align: right;\">\n",
       "      <th></th>\n",
       "      <th>run_id</th>\n",
       "      <th>tags</th>\n",
       "      <th>data_kwargs</th>\n",
       "      <th>transform_kwargs</th>\n",
       "      <th>seed</th>\n",
       "    </tr>\n",
       "  </thead>\n",
       "  <tbody>\n",
       "    <tr>\n",
       "      <th>0</th>\n",
       "      <td>wqmfolq3</td>\n",
       "      <td>['sine1d']</td>\n",
       "      <td>{'y_low': 1, 'y_high': 3, 'grid_size': [1, 7],...</td>\n",
       "      <td>{'eps_mult': [0, 0, 1, 0], 'only_flip': False}</td>\n",
       "      <td>5.0</td>\n",
       "    </tr>\n",
       "    <tr>\n",
       "      <th>1</th>\n",
       "      <td>9g2e5b7x</td>\n",
       "      <td>['sine1d']</td>\n",
       "      <td>{'y_low': 1, 'y_high': 3, 'grid_size': [1, 7],...</td>\n",
       "      <td>{'eps_mult': [0, 0, 1, 0], 'only_flip': False}</td>\n",
       "      <td>4.0</td>\n",
       "    </tr>\n",
       "    <tr>\n",
       "      <th>2</th>\n",
       "      <td>vgc5pdak</td>\n",
       "      <td>['sine1d']</td>\n",
       "      <td>{'y_low': 1, 'y_high': 3, 'grid_size': [1, 7],...</td>\n",
       "      <td>{'eps_mult': [0, 0, 1, 0], 'only_flip': False}</td>\n",
       "      <td>3.0</td>\n",
       "    </tr>\n",
       "    <tr>\n",
       "      <th>3</th>\n",
       "      <td>ihexez6d</td>\n",
       "      <td>['sine1d']</td>\n",
       "      <td>{'y_low': 1, 'y_high': 3, 'grid_size': [1, 7],...</td>\n",
       "      <td>{'eps_mult': [0, 0, 1, 0], 'only_flip': False}</td>\n",
       "      <td>2.0</td>\n",
       "    </tr>\n",
       "    <tr>\n",
       "      <th>4</th>\n",
       "      <td>xppfwtlj</td>\n",
       "      <td>['sine1d']</td>\n",
       "      <td>{'y_low': 1, 'y_high': 3, 'grid_size': [1, 7],...</td>\n",
       "      <td>{'eps_mult': [0, 0, 1, 0], 'only_flip': False}</td>\n",
       "      <td>1.0</td>\n",
       "    </tr>\n",
       "  </tbody>\n",
       "</table>\n",
       "</div>"
      ],
      "text/plain": [
       "     run_id        tags                                        data_kwargs  \\\n",
       "0  wqmfolq3  ['sine1d']  {'y_low': 1, 'y_high': 3, 'grid_size': [1, 7],...   \n",
       "1  9g2e5b7x  ['sine1d']  {'y_low': 1, 'y_high': 3, 'grid_size': [1, 7],...   \n",
       "2  vgc5pdak  ['sine1d']  {'y_low': 1, 'y_high': 3, 'grid_size': [1, 7],...   \n",
       "3  ihexez6d  ['sine1d']  {'y_low': 1, 'y_high': 3, 'grid_size': [1, 7],...   \n",
       "4  xppfwtlj  ['sine1d']  {'y_low': 1, 'y_high': 3, 'grid_size': [1, 7],...   \n",
       "\n",
       "                                 transform_kwargs  seed  \n",
       "0  {'eps_mult': [0, 0, 1, 0], 'only_flip': False}   5.0  \n",
       "1  {'eps_mult': [0, 0, 1, 0], 'only_flip': False}   4.0  \n",
       "2  {'eps_mult': [0, 0, 1, 0], 'only_flip': False}   3.0  \n",
       "3  {'eps_mult': [0, 0, 1, 0], 'only_flip': False}   2.0  \n",
       "4  {'eps_mult': [0, 0, 1, 0], 'only_flip': False}   1.0  "
      ]
     },
     "execution_count": 150,
     "metadata": {},
     "output_type": "execute_result"
    }
   ],
   "source": [
    "df_map = pd.concat([df_map_old, df_map_new]).drop_duplicates(subset=['run_id']).reset_index(drop=True)\n",
    "df_map\n",
    "# df_map.to_pickle('../logs/store/map_df.pkl')"
   ]
  },
  {
   "cell_type": "code",
   "execution_count": 165,
   "metadata": {},
   "outputs": [
    {
     "name": "stdout",
     "output_type": "stream",
     "text": [
      "Found run_id wqmfolq3\n",
      "Found run_id wqmfolq3\n",
      "Found run_id wqmfolq3\n",
      "Found run_id wqmfolq3\n",
      "Found run_id wqmfolq3\n"
     ]
    },
    {
     "data": {
      "image/png": "[encoded data removed]",
      "text/plain": [
       "<Figure size 5000x1000 with 5 Axes>"
      ]
     },
     "metadata": {},
     "output_type": "display_data"
    }
   ],
   "source": [
    "Ps = []\n",
    "for seed in seeds:\n",
    "\n",
    "    args = Args(**dict(\n",
    "        n_train = 10_000,\n",
    "        lr = 0.001,\n",
    "        tags = ['sine1d'],\n",
    "        seed = 5,\n",
    "        data_kwargs = {'y_low': 1, 'y_high': 3, 'grid_size': [1, 7], 'noise_std': 0.5},\n",
    "        transform_kwargs = {'eps_mult': [0, 0, 1, 0], 'only_flip': False},\n",
    "    ))\n",
    "\n",
    "    run_id = find_id_for_P(args)\n",
    "    P = load_P_pred(run_id)\n",
    "    Ps.append(P)\n",
    "Ps = torch.stack(Ps)\n",
    "\n",
    "plot2d(Ps, l = 10)"
   ]
  },
  {
   "cell_type": "markdown",
   "metadata": {},
   "source": [
    "## V5"
   ]
  },
  {
   "cell_type": "code",
   "execution_count": 52,
   "metadata": {},
   "outputs": [],
   "source": [
    "df_v5 = df[df['tags'].astype(str).str.contains('v5')]\n",
    "df_v5['test_loss'] = df_v5['test_loss'].astype(float)"
   ]
  },
  {
   "cell_type": "code",
   "execution_count": 60,
   "metadata": {},
   "outputs": [],
   "source": [
    "run_ids = df_v5[(df_v5['lr'] == 0.001) & (df_v5['n_train'] == 10_000)]['run_id'].values"
   ]
  },
  {
   "cell_type": "code",
   "execution_count": 77,
   "metadata": {},
   "outputs": [
    {
     "name": "stderr",
     "output_type": "stream",
     "text": [
      "                                     \r"
     ]
    }
   ],
   "source": [
    "P_dir = '../logs/store/P/'\n",
    "\n",
    "npu = NumpyUtils(dir = P_dir)\n",
    "Ps = {run_id: npu.load(run_id) for run_id in tqdm(run_ids, leave=False)}\n",
    "Ps_array = np.array(list(Ps.values()))"
   ]
  },
  {
   "cell_type": "code",
   "execution_count": 80,
   "metadata": {},
   "outputs": [
    {
     "data": {
      "text/plain": [
       "array([[[ 2.1465273 ,  0.5118638 , -1.4161533 , ..., -1.5310299 ,\n",
       "         -0.28795776, -0.5887528 ],\n",
       "        [ 0.91931355,  0.4689858 ,  0.43658555, ..., -0.41603547,\n",
       "          0.2763254 , -1.7111584 ],\n",
       "        [ 0.62887174, -2.0006282 ,  0.1005771 , ...,  0.6630132 ,\n",
       "         -0.9503757 , -0.98250175],\n",
       "        ...,\n",
       "        [ 0.51184046,  1.0171272 ,  0.21487394, ..., -1.1071765 ,\n",
       "          0.10788131, -0.5576322 ],\n",
       "        [-0.6080637 ,  0.32362258, -0.264464  , ..., -1.6654371 ,\n",
       "          1.3535056 ,  0.37845826],\n",
       "        [-1.5061336 , -1.3545781 , -0.42104182, ..., -1.8227649 ,\n",
       "         -0.31854895, -1.0481161 ]],\n",
       "\n",
       "       [[-1.1060088 ,  1.2400032 ,  0.40283015, ..., -0.3369692 ,\n",
       "         -1.0142059 ,  0.616472  ],\n",
       "        [-0.44799823,  2.1870542 ,  1.5378758 , ..., -0.55853057,\n",
       "         -2.0008779 , -1.0810724 ],\n",
       "        [ 1.7416807 ,  0.4476581 ,  0.09050039, ..., -1.5524039 ,\n",
       "         -0.55676043, -0.32442003],\n",
       "        ...,\n",
       "        [ 0.81434923,  1.4386965 , -0.9788595 , ...,  1.3663673 ,\n",
       "          1.0276986 , -0.5321299 ],\n",
       "        [ 0.98549074,  1.6403767 , -0.43581924, ..., -0.7545077 ,\n",
       "         -0.0089445 ,  1.1479518 ],\n",
       "        [-0.7043467 ,  0.2829493 , -0.94213194, ..., -0.700019  ,\n",
       "          1.2404678 , -0.5289098 ]],\n",
       "\n",
       "       [[-0.9853024 ,  0.56431574, -0.89031947, ...,  2.1670954 ,\n",
       "          0.96336603, -1.7914447 ],\n",
       "        [-1.5102675 , -0.4242792 ,  0.4362784 , ..., -1.9668294 ,\n",
       "         -0.6702114 ,  0.3944737 ],\n",
       "        [ 0.5664393 , -0.05476068, -0.3430144 , ...,  1.0674549 ,\n",
       "         -1.3641948 ,  0.9376952 ],\n",
       "        ...,\n",
       "        [ 0.92287064,  1.2117742 , -0.9461461 , ..., -1.2774243 ,\n",
       "         -1.1802495 , -0.6871758 ],\n",
       "        [-0.45834067,  1.9325831 ,  1.4516584 , ...,  0.6953351 ,\n",
       "          1.06165   , -1.1089994 ],\n",
       "        [-0.5892587 ,  0.5532289 ,  1.5591823 , ...,  0.5318627 ,\n",
       "         -0.16885789, -1.7252042 ]],\n",
       "\n",
       "       [[-1.5172657 , -0.61699885, -0.7875933 , ...,  0.78204226,\n",
       "         -0.32783434, -0.4964976 ],\n",
       "        [ 1.6464305 ,  1.4945697 , -1.4230835 , ..., -0.82637346,\n",
       "          2.495581  ,  1.1418748 ],\n",
       "        [-1.0228698 ,  0.31676894, -0.4968262 , ...,  0.24492191,\n",
       "         -1.6828012 ,  1.089802  ],\n",
       "        ...,\n",
       "        [-1.5852005 , -0.8770223 , -2.349792  , ..., -0.76216257,\n",
       "         -0.3362036 , -1.3398329 ],\n",
       "        [-0.5614721 , -0.8574629 ,  0.52952   , ...,  0.32150465,\n",
       "         -0.27848345, -0.9029135 ],\n",
       "        [-0.28288233,  0.6879102 ,  0.08756425, ..., -0.7225179 ,\n",
       "         -0.23956093,  1.4023908 ]],\n",
       "\n",
       "       [[-0.7325282 ,  1.4078101 , -1.2328609 , ..., -0.30601037,\n",
       "          0.20028949, -0.82483345],\n",
       "        [-0.5777864 , -0.5145938 , -0.35421252, ...,  0.99047476,\n",
       "          1.0043203 , -0.2242678 ],\n",
       "        [-1.1371893 ,  0.5635242 ,  0.19306518, ..., -1.9740604 ,\n",
       "         -0.661788  , -1.1422392 ],\n",
       "        ...,\n",
       "        [ 2.0929112 ,  0.7484008 ,  0.7885784 , ...,  0.29592612,\n",
       "         -0.3052597 , -0.8322105 ],\n",
       "        [-0.86994743,  0.27671808, -0.8067337 , ...,  1.1385577 ,\n",
       "          0.91137046,  0.9315595 ],\n",
       "        [-1.5853796 ,  0.17562804, -1.1271949 , ..., -0.70253   ,\n",
       "         -0.53304595, -0.20069234]]], dtype=float32)"
      ]
     },
     "execution_count": 80,
     "metadata": {},
     "output_type": "execute_result"
    }
   ],
   "source": [
    "Ps_array"
   ]
  },
  {
   "cell_type": "code",
   "execution_count": 81,
   "metadata": {},
   "outputs": [
    {
     "data": {
      "text/plain": [
       "<matplotlib.image.AxesImage at 0x142d66980>"
      ]
     },
     "execution_count": 81,
     "metadata": {},
     "output_type": "execute_result"
    },
    {
     "data": {
      "image/png": "[encoded data removed]",
      "text/plain": [
       "<Figure size 640x480 with 1 Axes>"
      ]
     },
     "metadata": {},
     "output_type": "display_data"
    }
   ],
   "source": [
    "plt.imshow(Ps_array[0][:10, :10])"
   ]
  },
  {
   "cell_type": "code",
   "execution_count": null,
   "metadata": {},
   "outputs": [],
   "source": [
    "    #     array = np.load(os.path.join(store_dir, store_dir_dir, f'{id}.npy'))    \n",
    "    #     config[store_dir_dir] = array"
   ]
  },
  {
   "cell_type": "code",
   "execution_count": 28,
   "metadata": {},
   "outputs": [],
   "source": [
    "lrs = df_v5['lr'].unique()\n",
    "n_train = df_v5['n_train'].unique()\n",
    "seed = df_v5['seed'].unique()"
   ]
  },
  {
   "cell_type": "code",
   "execution_count": null,
   "metadata": {},
   "outputs": [],
   "source": []
  },
  {
   "cell_type": "code",
   "execution_count": 49,
   "metadata": {},
   "outputs": [
    {
     "data": {
      "text/plain": [
       "lr      n_train\n",
       "0.0001  1000.0     0.023878\n",
       "        10000.0    0.009311\n",
       "0.0010  1000.0     0.011597\n",
       "        10000.0    0.000490\n",
       "0.0100  1000.0     0.022928\n",
       "        10000.0    0.003206\n",
       "0.1000  1000.0     0.099470\n",
       "        10000.0    0.003027\n",
       "Name: test_loss, dtype: float64"
      ]
     },
     "execution_count": 49,
     "metadata": {},
     "output_type": "execute_result"
    }
   ],
   "source": [
    "df_v5_agg = df_v5.groupby(['lr', 'n_train'])['test_loss']\n",
    "means = df_v5_agg.mean()\n",
    "stds = df_v5_agg.std()\n",
    "\n",
    "means"
   ]
  },
  {
   "cell_type": "code",
   "execution_count": 43,
   "metadata": {},
   "outputs": [
    {
     "data": {
      "text/plain": [
       "0.023878485336899756"
      ]
     },
     "execution_count": 43,
     "metadata": {},
     "output_type": "execute_result"
    }
   ],
   "source": [
    "df_v5[(df_v5['lr'] == 0.0001) & (df_v5['n_train'] == 1000)]['test_loss'].mean()"
   ]
  },
  {
   "cell_type": "code",
   "execution_count": 48,
   "metadata": {},
   "outputs": [
    {
     "name": "stdout",
     "output_type": "stream",
     "text": [
      "lr: 0.001, n_train: 10000.0\n",
      "mean: 0.0004903466324321926, std: 4.631198272287724e-05\n",
      "lr: 0.001, n_train: 1000.0\n",
      "mean: 0.011597345769405364, std: 0.0006435792996111161\n",
      "lr: 0.0001, n_train: 10000.0\n",
      "mean: 0.009310855902731419, std: 0.0002827898501148915\n",
      "lr: 0.0001, n_train: 1000.0\n",
      "mean: 0.023878485336899756, std: 0.0012433230968027036\n",
      "lr: 0.1, n_train: 10000.0\n",
      "mean: 0.003027223888784647, std: 0.000677990662473712\n",
      "lr: 0.1, n_train: 1000.0\n",
      "mean: 0.09946968853473663, std: 0.0052732493963134\n",
      "lr: 0.01, n_train: 10000.0\n",
      "mean: 0.0032063113059848545, std: 0.00033237877300813096\n",
      "lr: 0.01, n_train: 1000.0\n",
      "mean: 0.022928406298160554, std: 0.0007944920973737778\n"
     ]
    }
   ],
   "source": [
    "for lr in lrs:\n",
    "    for n in n_train:\n",
    "        print(f'lr: {lr}, n_train: {n}')\n",
    "        print(f'mean: {means[lr][n]}, std: {stds[lr][n]}')"
   ]
  }
 ],
 "metadata": {
  "kernelspec": {
   "display_name": "sympde",
   "language": "python",
   "name": "python3"
  },
  "language_info": {
   "codemirror_mode": {
    "name": "ipython",
    "version": 3
   },
   "file_extension": ".py",
   "mimetype": "text/x-python",
   "name": "python",
   "nbconvert_exporter": "python",
   "pygments_lexer": "ipython3",
   "version": "3.10.13"
  }
 },
 "nbformat": 4,
 "nbformat_minor": 2
}
