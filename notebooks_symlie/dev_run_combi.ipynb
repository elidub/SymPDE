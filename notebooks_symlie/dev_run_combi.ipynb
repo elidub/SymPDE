{
 "cells": [
  {
   "cell_type": "code",
   "execution_count": 1,
   "metadata": {},
   "outputs": [],
   "source": [
    "%load_ext autoreload\n",
    "%autoreload 2\n",
    "\n",
    "import sys, os\n",
    "import pandas as pd\n",
    "import numpy as np\n",
    "import matplotlib.pyplot as plt\n",
    "import torch\n",
    "from torch import nn\n",
    "import wandb\n",
    "import torchvision\n",
    "\n",
    "sys.path.append(os.path.join(os.getcwd(), '../symlie'))\n",
    "sys.path.append(os.path.join(os.getcwd(), '../'))\n",
    "\n",
    "# from symlie.misc.utils_results import get_and_check_Ps\n",
    "# from symlie.misc.wandb import update_results_df, get_inspect_df\n",
    "# from symlie.model.setup import load_P_pred\n",
    "# from symlie.model.networks.linear import LinearP\n",
    "# from symlie.model.networks.implicit import LinearImplicit\n",
    "# from symlie.misc.viz import plot2d\n",
    "\n",
    "from symlie.model.networks.mlp import CombiMLP\n",
    "from symlie.model.learner import CombiLearner\n",
    "from symlie.run import parse_options, main, process_args"
   ]
  },
  {
   "cell_type": "code",
   "execution_count": 2,
   "metadata": {},
   "outputs": [
    {
     "name": "stderr",
     "output_type": "stream",
     "text": [
      "Seed set to 1\n"
     ]
    },
    {
     "name": "stdout",
     "output_type": "stream",
     "text": [
      "Running without logging\n"
     ]
    },
    {
     "name": "stderr",
     "output_type": "stream",
     "text": [
      "/Users/elias/anaconda3/envs/sympde/lib/python3.10/site-packages/pytorch_lightning/trainer/setup.py:187: GPU available but not used. You can set it by doing `Trainer(accelerator='gpu')`.\n"
     ]
    }
   ],
   "source": [
    "args = parse_options(notebook=True)\n",
    "\n",
    "args.seed = 1\n",
    "args.tags = ['dev']\n",
    "args.batch_size = 16\n",
    "args.max_epochs = 100\n",
    "\n",
    "args.data_dir = '../data/sine1d'\n",
    "args.y_low = 1\n",
    "args.y_high = 3\n",
    "args.noise_std = 0.5\n",
    "args.grid_size = (1, 7)\n",
    "args.eps_mult = [0.0, 0.0, 1.0, 0.0]\n",
    "\n",
    "args.net = 'CombiTrain'\n",
    "args.implicit_layer_dims = [[49, 49, 49, 49], [7, 7, 7]]\n",
    "args.implicit_layer_dims = [[49, 49, 49, 49], [7, 7, 7]]\n",
    "args.implicit_layer_dims = [[0], [0]]\n",
    "args.vanilla_layer_dims  = [7, 7, 1]\n",
    "args.grid_sizes = [(1,7), {'a': (1,1), 'b': (1,7)}]\n",
    "\n",
    "args.n_train = 1000\n",
    "args.lr = 0.001\n",
    "args.max_epochs = 20\n",
    "\n",
    "args.criterion = 'mses'\n",
    "args.lossweight_y = 1.0\n",
    "args.lossweight_o = 0.0\n",
    "\n",
    "args.do_return = True\n",
    "args.logger = None\n",
    "\n",
    "\n",
    "process_args(args)\n",
    "\n",
    "# Training\n",
    "_, trainer, datamodule = main(args)\n",
    "# wandb.finish()"
   ]
  },
  {
   "cell_type": "code",
   "execution_count": 3,
   "metadata": {},
   "outputs": [],
   "source": [
    "x, y, _ = batch = next(iter(datamodule.train_dataloader()))"
   ]
  },
  {
   "cell_type": "code",
   "execution_count": 4,
   "metadata": {},
   "outputs": [
    {
     "name": "stderr",
     "output_type": "stream",
     "text": [
      "Seed set to 1\n"
     ]
    },
    {
     "name": "stdout",
     "output_type": "stream",
     "text": [
      "Running without logging\n",
      "Print parameters in configure_optimizers\n",
      "net.weights.0 True\n",
      "net.weights.1 True\n",
      "\n",
      "Sanity Checking: |          | 0/? [00:00<?, ?it/s]"
     ]
    },
    {
     "name": "stdout",
     "output_type": "stream",
     "text": [
      "Epoch 19: 100%|██████████| 63/63 [00:00<00:00, 235.37it/s, val_loss_y=0.329, val_loss=0.329, train_loss_y=0.345, train_loss=0.345]\n"
     ]
    }
   ],
   "source": [
    "net = CombiMLP(\n",
    "    implicit_layer_dims=[[0], [0]],\n",
    "    vanilla_layer_dims=[7, 7, 1],\n",
    "    bias = False\n",
    ")\n",
    "\n",
    "weight1, weight2 = net.weights[0].data.detach().clone(), net.weights[1].data.detach().clone()\n",
    "\n",
    "model = CombiLearner(\n",
    "    net = net,\n",
    "    criterion = [(args.lossweight_y, nn.MSELoss())], #+ [(args.lossweight_o, nn.MSELoss()) for _ in range(len(args.grid_sizes))],\n",
    "    lr = args.lr,\n",
    "    grid_sizes=args.grid_sizes,\n",
    "    transform_kwargs=args.transform_kwargs,\n",
    ")\n",
    "\n",
    "out = net(x)\n",
    "\n",
    "_, trainer, datamodule = main(args)\n",
    "trainer.fit(model, datamodule)\n",
    "\n",
    "    "
   ]
  },
  {
   "cell_type": "code",
   "execution_count": 5,
   "metadata": {},
   "outputs": [
    {
     "name": "stderr",
     "output_type": "stream",
     "text": [
      "Seed set to 1\n"
     ]
    },
    {
     "name": "stdout",
     "output_type": "stream",
     "text": [
      "Running without logging\n",
      "Print parameters in configure_optimizers\n",
      "net.0.weight True\n",
      "net.3.weight True\n",
      "\n",
      "Epoch 19: 100%|██████████| 63/63 [00:00<00:00, 271.82it/s, val_loss_y=0.329, val_loss=0.329, train_loss_y=0.345, train_loss=0.345]\n"
     ]
    }
   ],
   "source": [
    "net_vanilla = torchvision.ops.MLP(\n",
    "    in_channels=7,\n",
    "    hidden_channels=[7, 1],\n",
    "    bias=False\n",
    ")\n",
    "\n",
    "net_vanilla[0].weight.data = weight1\n",
    "net_vanilla[3].weight.data = weight2\n",
    "\n",
    "out_vanilla = net_vanilla(x)\n",
    "\n",
    "\n",
    "model = CombiLearner(\n",
    "    net = net_vanilla,\n",
    "    criterion = [(args.lossweight_y, nn.MSELoss())], #+ [(args.lossweight_o, nn.MSELoss()) for _ in range(len(args.grid_sizes))],\n",
    "    lr = args.lr,\n",
    "    grid_sizes=args.grid_sizes,\n",
    "    transform_kwargs=args.transform_kwargs,\n",
    ")\n",
    "\n",
    "_, trainer, datamodule = main(args)\n",
    "trainer.fit(model, datamodule)\n"
   ]
  },
  {
   "cell_type": "code",
   "execution_count": 9,
   "metadata": {},
   "outputs": [
    {
     "data": {
      "text/plain": [
       "True"
      ]
     },
     "execution_count": 9,
     "metadata": {},
     "output_type": "execute_result"
    }
   ],
   "source": [
    "torch.allclose(out, out_vanilla)"
   ]
  },
  {
   "cell_type": "code",
   "execution_count": 7,
   "metadata": {},
   "outputs": [],
   "source": [
    "# x, y, _ = batch = next(iter(datamodule.train_dataloader()))"
   ]
  },
  {
   "cell_type": "code",
   "execution_count": 8,
   "metadata": {},
   "outputs": [
    {
     "ename": "AttributeError",
     "evalue": "'MLP' object has no attribute 'weights'",
     "output_type": "error",
     "traceback": [
      "\u001b[0;31m---------------------------------------------------------------------------\u001b[0m",
      "\u001b[0;31mAttributeError\u001b[0m                            Traceback (most recent call last)",
      "Cell \u001b[0;32mIn[8], line 1\u001b[0m\n\u001b[0;32m----> 1\u001b[0m w \u001b[38;5;241m=\u001b[39m torch\u001b[38;5;241m.\u001b[39mrand_like(\u001b[43mmodel\u001b[49m\u001b[38;5;241;43m.\u001b[39;49m\u001b[43mnet\u001b[49m\u001b[38;5;241;43m.\u001b[39;49m\u001b[43mweights\u001b[49m[\u001b[38;5;241m0\u001b[39m])\n\u001b[1;32m      2\u001b[0m plt\u001b[38;5;241m.\u001b[39mimshow( model\u001b[38;5;241m.\u001b[39mnet\u001b[38;5;241m.\u001b[39mlayers[\u001b[38;5;241m0\u001b[39m]\u001b[38;5;241m.\u001b[39mforward(w)\u001b[38;5;241m.\u001b[39mdetach() )\n",
      "File \u001b[0;32m~/anaconda3/envs/sympde/lib/python3.10/site-packages/torch/nn/modules/module.py:1695\u001b[0m, in \u001b[0;36mModule.__getattr__\u001b[0;34m(self, name)\u001b[0m\n\u001b[1;32m   1693\u001b[0m     \u001b[38;5;28;01mif\u001b[39;00m name \u001b[38;5;129;01min\u001b[39;00m modules:\n\u001b[1;32m   1694\u001b[0m         \u001b[38;5;28;01mreturn\u001b[39;00m modules[name]\n\u001b[0;32m-> 1695\u001b[0m \u001b[38;5;28;01mraise\u001b[39;00m \u001b[38;5;167;01mAttributeError\u001b[39;00m(\u001b[38;5;124mf\u001b[39m\u001b[38;5;124m\"\u001b[39m\u001b[38;5;124m'\u001b[39m\u001b[38;5;132;01m{\u001b[39;00m\u001b[38;5;28mtype\u001b[39m(\u001b[38;5;28mself\u001b[39m)\u001b[38;5;241m.\u001b[39m\u001b[38;5;18m__name__\u001b[39m\u001b[38;5;132;01m}\u001b[39;00m\u001b[38;5;124m'\u001b[39m\u001b[38;5;124m object has no attribute \u001b[39m\u001b[38;5;124m'\u001b[39m\u001b[38;5;132;01m{\u001b[39;00mname\u001b[38;5;132;01m}\u001b[39;00m\u001b[38;5;124m'\u001b[39m\u001b[38;5;124m\"\u001b[39m)\n",
      "\u001b[0;31mAttributeError\u001b[0m: 'MLP' object has no attribute 'weights'"
     ]
    }
   ],
   "source": [
    "w = torch.rand_like(model.net.weights[0])\n",
    "plt.imshow( model.net.layers[0].forward(w).detach() )"
   ]
  }
 ],
 "metadata": {
  "kernelspec": {
   "display_name": "sympde",
   "language": "python",
   "name": "python3"
  },
  "language_info": {
   "codemirror_mode": {
    "name": "ipython",
    "version": 3
   },
   "file_extension": ".py",
   "mimetype": "text/x-python",
   "name": "python",
   "nbconvert_exporter": "python",
   "pygments_lexer": "ipython3",
   "version": "3.10.13"
  }
 },
 "nbformat": 4,
 "nbformat_minor": 2
}
