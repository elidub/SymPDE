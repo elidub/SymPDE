{
 "cells": [
  {
   "cell_type": "code",
   "execution_count": 2,
   "metadata": {},
   "outputs": [
    {
     "name": "stdout",
     "output_type": "stream",
     "text": [
      "The autoreload extension is already loaded. To reload it, use:\n",
      "  %reload_ext autoreload\n"
     ]
    },
    {
     "ename": "ImportError",
     "evalue": "cannot import name 'MyLinear' from 'model.networks.linear' (/Users/elias/Documenten MBA/Studie/Thesis/SymPDE/notebooks_symlie/../symlie/model/networks/linear.py)",
     "output_type": "error",
     "traceback": [
      "\u001b[0;31m---------------------------------------------------------------------------\u001b[0m",
      "\u001b[0;31mImportError\u001b[0m                               Traceback (most recent call last)",
      "Cell \u001b[0;32mIn[2], line 20\u001b[0m\n\u001b[1;32m     16\u001b[0m sys\u001b[38;5;241m.\u001b[39mpath\u001b[38;5;241m.\u001b[39mappend(os\u001b[38;5;241m.\u001b[39mpath\u001b[38;5;241m.\u001b[39mjoin(os\u001b[38;5;241m.\u001b[39mgetcwd(), \u001b[38;5;124m'\u001b[39m\u001b[38;5;124m../sympde/misc\u001b[39m\u001b[38;5;124m'\u001b[39m))\n\u001b[1;32m     18\u001b[0m \u001b[38;5;28;01mfrom\u001b[39;00m \u001b[38;5;21;01mrun\u001b[39;00m \u001b[38;5;28;01mimport\u001b[39;00m parse_options, main\n\u001b[0;32m---> 20\u001b[0m \u001b[38;5;28;01mfrom\u001b[39;00m \u001b[38;5;21;01mmodel\u001b[39;00m\u001b[38;5;21;01m.\u001b[39;00m\u001b[38;5;21;01mnetworks\u001b[39;00m\u001b[38;5;21;01m.\u001b[39;00m\u001b[38;5;21;01mlinear\u001b[39;00m \u001b[38;5;28;01mimport\u001b[39;00m MyLinear\n\u001b[1;32m     21\u001b[0m \u001b[38;5;28;01mfrom\u001b[39;00m \u001b[38;5;21;01mmodel\u001b[39;00m\u001b[38;5;21;01m.\u001b[39;00m\u001b[38;5;21;01mnetworks\u001b[39;00m\u001b[38;5;21;01m.\u001b[39;00m\u001b[38;5;21;01mconvs\u001b[39;00m \u001b[38;5;28;01mimport\u001b[39;00m MyConv1d\n\u001b[1;32m     22\u001b[0m \u001b[38;5;28;01mfrom\u001b[39;00m \u001b[38;5;21;01mmodel\u001b[39;00m\u001b[38;5;21;01m.\u001b[39;00m\u001b[38;5;21;01mnetworks\u001b[39;00m\u001b[38;5;21;01m.\u001b[39;00m\u001b[38;5;21;01mmlp\u001b[39;00m \u001b[38;5;28;01mimport\u001b[39;00m MLP\n",
      "\u001b[0;31mImportError\u001b[0m: cannot import name 'MyLinear' from 'model.networks.linear' (/Users/elias/Documenten MBA/Studie/Thesis/SymPDE/notebooks_symlie/../symlie/model/networks/linear.py)"
     ]
    }
   ],
   "source": [
    "%load_ext autoreload\n",
    "%autoreload 2\n",
    "\n",
    "import numpy as np\n",
    "import matplotlib.pyplot as plt\n",
    "from tqdm import tqdm\n",
    "import torch\n",
    "import pytorch_lightning as pl\n",
    "from torch import nn\n",
    "import math\n",
    "from itertools import product\n",
    "\n",
    "import os, sys\n",
    "sys.path.append(os.path.join(os.getcwd(), '../symlie'))\n",
    "sys.path.append(os.path.join(os.getcwd(), '../sympde/viz'))\n",
    "sys.path.append(os.path.join(os.getcwd(), '../sympde/misc'))\n",
    "\n",
    "from run import parse_options, main\n",
    "\n",
    "from model.networks.linear import MyLinear\n",
    "from model.networks.convs import MyConv1d\n",
    "from model.networks.mlp import MLP\n",
    "\n",
    "from general_plots import imshows, plot_vals, simple_imshow\n",
    "from equiv import assert_equiv\n",
    "\n",
    "plt.rcParams['image.cmap'] = 'viridis'\n"
   ]
  },
  {
   "cell_type": "code",
   "execution_count": 184,
   "metadata": {},
   "outputs": [
    {
     "name": "stderr",
     "output_type": "stream",
     "text": [
      "Seed set to 9\n",
      "GPU available: True (mps), used: False\n",
      "TPU available: False, using: 0 TPU cores\n",
      "IPU available: False, using: 0 IPUs\n",
      "HPU available: False, using: 0 HPUs\n"
     ]
    },
    {
     "name": "stdout",
     "output_type": "stream",
     "text": [
      "\n",
      "\n",
      "###\tVersion:  dev3 \t###\n",
      "###\tName:  symlie_datamnist_netMLP_transformnone_seed9 \t###\n",
      "\n",
      "\n"
     ]
    },
    {
     "name": "stderr",
     "output_type": "stream",
     "text": [
      "/Users/elias/anaconda3/envs/sympde/lib/python3.10/site-packages/pytorch_lightning/trainer/setup.py:187: GPU available but not used. You can set it by doing `Trainer(accelerator='gpu')`.\n",
      "/Users/elias/anaconda3/envs/sympde/lib/python3.10/site-packages/torchvision/transforms/functional.py:1603: UserWarning: The default value of the antialias parameter of all the resizing transforms (Resize(), RandomResizedCrop(), etc.) will change from None to True in v0.17, in order to be consistent across the PIL and Tensor backends. To suppress this warning, directly pass antialias=True (recommended, future default), antialias=None (current default, which means False for Tensors and True for PIL), or antialias=False (only works on Tensors - PIL will still use antialiasing). This also applies if you are using the inference transforms from the models weights: update the call to weights.transforms(antialias=True).\n",
      "  warnings.warn(\n"
     ]
    }
   ],
   "source": [
    "seeds = [1, 2, 3, 4, 5, 6, 7, 8, 9, 10]\n",
    "transform_types = ['space_translation', 'none']\n",
    "do_return = False\n",
    "\n",
    "seeds = [9]\n",
    "transform_types = ['none']\n",
    "do_return = True\n",
    "\n",
    "for transform_type in transform_types:\n",
    "    for seed in seeds:\n",
    "\n",
    "        args = parse_options(notebook=True)\n",
    "        args.train = True\n",
    "        args.persistent_workers = True\n",
    "\n",
    "        args.do_return = do_return\n",
    "\n",
    "        args.seed = seed\n",
    "        args.transform_type = transform_type\n",
    "\n",
    "        args.version = 'dev3'\n",
    "\n",
    "        # args.linearmodules = ['MyLinear', 'MyLinear']\n",
    "        args.linearmodules = ['MyLinear', 'nn.Linear']\n",
    "        args.bias = False\n",
    "\n",
    "        args.dim = 3\n",
    "        # args.n_splits = [100, 100, 100]\n",
    "\n",
    "        # Training\n",
    "        model, trainer, datamodule = main(args)"
   ]
  },
  {
   "cell_type": "code",
   "execution_count": null,
   "metadata": {},
   "outputs": [],
   "source": []
  },
  {
   "cell_type": "code",
   "execution_count": 185,
   "metadata": {},
   "outputs": [
    {
     "data": {
      "image/png": "[encoded data removed]",
      "text/plain": [
       "<Figure size 400x600 with 2 Axes>"
      ]
     },
     "metadata": {},
     "output_type": "display_data"
    }
   ],
   "source": [
    "dataset, dataset_aug = [dataloader.dataset for dataloader in datamodule.test_dataloader()]\n",
    "imgs, labels         = next(iter(datamodule.test_dataloader()[0]))\n",
    "imgs_aug, labels_aug = next(iter(datamodule.test_dataloader()[1]))\n",
    "\n",
    "i = 1\n",
    "x, y = dataset[i]\n",
    "x_aug, y_aug = dataset_aug[i]\n",
    "\n",
    "imshows([x, x_aug], axis_off = True, imshow_kwargs={'cmap': 'gray'})"
   ]
  },
  {
   "cell_type": "code",
   "execution_count": 186,
   "metadata": {},
   "outputs": [
    {
     "data": {
      "image/png": "[encoded data removed]",
      "text/plain": [
       "<Figure size 800x300 with 2 Axes>"
      ]
     },
     "metadata": {},
     "output_type": "display_data"
    }
   ],
   "source": [
    "x = torch.tensor([[0.1, 0.4, 0.2, 0.8, 0.6]])\n",
    "x_aug = torch.roll(x, shifts = 1, dims = 1)\n",
    "space_len = len(x[0])\n",
    "imshows([x, x_aug], axis_off = True, imshow_kwargs={'cmap': 'gray'}, rows = False)\n"
   ]
  },
  {
   "cell_type": "code",
   "execution_count": 189,
   "metadata": {},
   "outputs": [],
   "source": [
    "conv = nn.Conv1d(\n",
    "    in_channels  = 1, \n",
    "    out_channels = 1,\n",
    "    kernel_size  = 3,\n",
    "    padding = 1,\n",
    "    bias = False,\n",
    "    padding_mode = 'circular',\n",
    ")"
   ]
  },
  {
   "cell_type": "code",
   "execution_count": 190,
   "metadata": {},
   "outputs": [
    {
     "data": {
      "text/plain": [
       "tensor([[-0.1115,  0.0463, -0.3040, -0.0110,  0.2388]],\n",
       "       grad_fn=<SqueezeBackward1>)"
      ]
     },
     "execution_count": 190,
     "metadata": {},
     "output_type": "execute_result"
    }
   ],
   "source": [
    "# conv = MyConv1d(\n",
    "conv = nn.Conv1d(\n",
    "    in_channels  = 1, \n",
    "    out_channels = 1,\n",
    "    kernel_size  = 3,\n",
    "    padding = 1,\n",
    "    bias = False,\n",
    "    padding_mode = 'circular',\n",
    ")\n",
    "\n",
    "out_conv = conv(x.unsqueeze(0)).squeeze(0)\n",
    "out_conv\n"
   ]
  },
  {
   "cell_type": "code",
   "execution_count": 200,
   "metadata": {},
   "outputs": [
    {
     "data": {
      "text/plain": [
       "tensor([[-0.1115,  0.0463, -0.3040, -0.0110,  0.2388]],\n",
       "       grad_fn=<SqueezeBackward1>)"
      ]
     },
     "execution_count": 200,
     "metadata": {},
     "output_type": "execute_result"
    }
   ],
   "source": [
    "out_conv"
   ]
  },
  {
   "cell_type": "code",
   "execution_count": 199,
   "metadata": {},
   "outputs": [
    {
     "data": {
      "image/png": "[encoded data removed]",
      "text/plain": [
       "<Figure size 500x500 with 1 Axes>"
      ]
     },
     "metadata": {},
     "output_type": "display_data"
    }
   ],
   "source": [
    "linear = MyLinear(\n",
    "    in_features = space_len,\n",
    "    out_features = space_len,\n",
    "    bias = False,\n",
    "    transform_type = 'convolution',\n",
    ")\n",
    "\n",
    "linear.weight.data = torch.full_like(linear.weight.data, 0)\n",
    "linear.weight.data.flatten()[:3] = conv.weight.squeeze()\n",
    "\n",
    "p1 = linear.w_index\n",
    "simple_imshow(p1, l = 1., precision = 0)\n",
    "\n",
    "o1 = linear(x)\n",
    "assert torch.allclose(o1, out_conv)"
   ]
  },
  {
   "cell_type": "code",
   "execution_count": null,
   "metadata": {},
   "outputs": [],
   "source": []
  }
 ],
 "metadata": {
  "kernelspec": {
   "display_name": "sympde",
   "language": "python",
   "name": "python3"
  },
  "language_info": {
   "codemirror_mode": {
    "name": "ipython",
    "version": 3
   },
   "file_extension": ".py",
   "mimetype": "text/x-python",
   "name": "python",
   "nbconvert_exporter": "python",
   "pygments_lexer": "ipython3",
   "version": "3.10.13"
  }
 },
 "nbformat": 4,
 "nbformat_minor": 2
}
