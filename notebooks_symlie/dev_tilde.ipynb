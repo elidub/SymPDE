{
 "cells": [
  {
   "cell_type": "code",
   "execution_count": 1,
   "metadata": {},
   "outputs": [],
   "source": [
    "%load_ext autoreload\n",
    "%autoreload 2\n",
    "\n",
    "import os, sys\n",
    "import numpy as np\n",
    "import matplotlib.pyplot as plt\n",
    "import torch\n",
    "from torch import nn\n",
    "from tqdm import tqdm\n",
    "\n",
    "import torch.nn.functional as F\n",
    "import pytorch_lightning as pl\n",
    "\n",
    "sys.path.append(os.path.join(os.getcwd(), '../symlie'))\n",
    "sys.path.append(os.path.join(os.getcwd(), '../sympdee/sympde/viz'))\n",
    "sys.path.append(os.path.join(os.getcwd(), '..'))\n",
    "\n",
    "from symlie.model.networks.linear import CalculatedP, LinearP\n",
    "from sympdee.sympde.viz.general_plots import imshows, plot_vals, simple_imshow, savefig, simple_imshow, imshow\n",
    "from symlie.misc.utils_results import get_and_check_Ps, plot_seeds_and_Ps\n",
    "from symlie.data.transforms import Transform\n",
    "from symlie.model.networks.implicit import LinearImplicit\n",
    "from symlie.model.setup import load_implicitP_statedict\n",
    "from symlie.model.loss import mmd\n",
    "from symlie.run import parse_options, main, process_args\n"
   ]
  },
  {
   "cell_type": "code",
   "execution_count": 2,
   "metadata": {},
   "outputs": [],
   "source": [
    "def plot_2columns(x_plots, x_titles):\n",
    "\n",
    "    nrows = len(x_plots)\n",
    "    batch_size = x_plots[0][0].shape[0]\n",
    "\n",
    "    x_idx = np.random.randint(0, batch_size, 1)[0]\n",
    "    fig, axs = plt.subplots(nrows, 2, figsize = (6, 1.*nrows), tight_layout = True)\n",
    "    for i, (x_l, x_r) in enumerate(x_plots):\n",
    "\n",
    "        x_l, x_r = x_l.detach().cpu().numpy(), x_r.detach().cpu().numpy()\n",
    "\n",
    "        for j, (x_lr, color) in enumerate(zip([x_l, x_r], ['tab:blue', 'tab:orange'])):\n",
    "            xx = x_lr[x_idx]\n",
    "            ax = axs[i, j]\n",
    "            ax.plot(xx, 'o-', color = color)\n",
    "            ax.plot([len(xx)-1, len(xx)], [xx[-1], xx[0]], '--', color=color)\n",
    "            ax.plot([-1, 0], [xx[-1], xx[0]], '--', color=color)\n",
    "            ax.set_xticks([])\n",
    "            ax.set_yticks([0])\n",
    "            ax.set_title(x_titles[i][j])\n",
    "    plt.show()"
   ]
  },
  {
   "cell_type": "code",
   "execution_count": 3,
   "metadata": {},
   "outputs": [
    {
     "name": "stderr",
     "output_type": "stream",
     "text": [
      "Seed set to 42\n"
     ]
    },
    {
     "name": "stdout",
     "output_type": "stream",
     "text": [
      "Running without logging\n"
     ]
    },
    {
     "name": "stderr",
     "output_type": "stream",
     "text": [
      "/Users/elias/anaconda3/envs/sympde/lib/python3.10/site-packages/pytorch_lightning/trainer/setup.py:187: GPU available but not used. You can set it by doing `Trainer(accelerator='gpu')`.\n"
     ]
    }
   ],
   "source": [
    "args = parse_options(notebook=True)\n",
    "\n",
    "args.noise_std = 1.\n",
    "args.grid_size = (1, 7)\n",
    "args.eps_mult = [0.0, 0.0, 1.0, 0.0]\n",
    "args.data_dir = '../data/noise'\n",
    "args.net = 'TrainP'\n",
    "\n",
    "args.do_return = True\n",
    "args.logger = None\n",
    "\n",
    "args.n_train = 16*1000\n",
    "\n",
    "process_args(args)\n",
    "\n",
    "# Training\n",
    "model, trainer, datamodule = main(args)"
   ]
  },
  {
   "cell_type": "code",
   "execution_count": 4,
   "metadata": {},
   "outputs": [],
   "source": [
    "trainloader = datamodule.train_dataloader()"
   ]
  },
  {
   "cell_type": "code",
   "execution_count": 5,
   "metadata": {},
   "outputs": [
    {
     "name": "stderr",
     "output_type": "stream",
     "text": [
      "100%|██████████| 15/15 [00:14<00:00,  1.05it/s]\n"
     ]
    }
   ],
   "source": [
    "class MLP(nn.Module):\n",
    "  \n",
    "  def __init__(self, size=3):\n",
    "    super().__init__()\n",
    "    self.size = size\n",
    "    features = size**2\n",
    "    self.layers = nn.Sequential(\n",
    "      nn.Linear(features,features),\n",
    "      nn.ReLU(),\n",
    "      nn.Linear(features,features),\n",
    "      nn.ReLU(),\n",
    "      nn.Linear(features,features),\n",
    "      nn.ReLU(),\n",
    "      nn.Linear(features,features),\n",
    "    )\n",
    "    \n",
    "  def forward(self, x, weight, return_weight=False):\n",
    "    weight = weight.view(self.size**2)\n",
    "    weight = self.layers(weight)\n",
    "    weight = weight.view(self.size, self.size)\n",
    "\n",
    "    o = x @ weight.T\n",
    "    if return_weight:\n",
    "      return weight\n",
    "    return o\n",
    "\n",
    "torch.manual_seed(torch.randint(0, 1000, (1,)).item())\n",
    "\n",
    "size = 7\n",
    "# Initialize the MLP\n",
    "mlp = MLP(size=size)\n",
    "\n",
    "# Define the loss function and optimizer\n",
    "criterion     = nn.MSELoss()\n",
    "optimizer = torch.optim.Adam(mlp.parameters(), lr=1e-3)\n",
    "\n",
    "losses = []\n",
    "\n",
    "# Run the training loop\n",
    "for epoch in tqdm(range(0, 15)): # 5 epochs at maximum\n",
    "    \n",
    "    current_loss = 0.0\n",
    "    \n",
    "    # Iterate over the DataLoader for training data\n",
    "    for i, data in enumerate(trainloader, 0):\n",
    "      \n",
    "        # Get inputs\n",
    "        x, _, _ = data\n",
    "        batch_size, size = x.shape\n",
    "        \n",
    "        # Zero the gradients\n",
    "        optimizer.zero_grad()\n",
    "\n",
    "        weight = torch.randn(size, size)\n",
    "\n",
    "        x_a = x\n",
    "        x_b = x\n",
    "        shift = (torch.rand((1))*size).int().item()\n",
    "\n",
    "        o_a = mlp(x, weight)\n",
    "        o_a_prime = torch.roll(o_a, shift, 1)\n",
    "\n",
    "        x_b_prime = torch.roll(x_b, shift, 1)\n",
    "        o_b_prime = mlp(x_b_prime, weight)\n",
    "\n",
    "        # Compute loss\n",
    "        loss = criterion(o_a_prime, o_b_prime)\n",
    "\n",
    "        # Perform backward pass\n",
    "        loss.backward()\n",
    "        \n",
    "        # Perform optimization\n",
    "        optimizer.step()\n",
    "        \n",
    "        # Print statistics\n",
    "        current_loss += loss.item()\n",
    "    current_loss = current_loss / len(trainloader)\n",
    "    losses.append(current_loss)\n",
    "    "
   ]
  },
  {
   "cell_type": "code",
   "execution_count": 6,
   "metadata": {},
   "outputs": [
    {
     "data": {
      "image/png": "[encoded data removed]",
      "text/plain": [
       "<Figure size 500x200 with 1 Axes>"
      ]
     },
     "metadata": {},
     "output_type": "display_data"
    }
   ],
   "source": [
    "plt.figure(figsize=(5,2))\n",
    "plt.plot(losses, label='o')\n",
    "plt.yscale('log')\n",
    "plt.show()"
   ]
  },
  {
   "cell_type": "code",
   "execution_count": 7,
   "metadata": {},
   "outputs": [
    {
     "name": "stdout",
     "output_type": "stream",
     "text": [
      "7\n"
     ]
    }
   ],
   "source": [
    "print(size)\n",
    "x = torch.rand(1, size)\n",
    "weight = torch.rand(size, size)\n",
    "plt.figure(figsize=(3,3))\n",
    "plt.imshow( mlp(x, weight, return_weight=True).detach().cpu().numpy() )\n",
    "plt.savefig('mlp_weight.png')\n",
    "plt.close()"
   ]
  },
  {
   "cell_type": "code",
   "execution_count": 8,
   "metadata": {},
   "outputs": [
    {
     "data": {
      "image/png": "[encoded data removed]",
      "text/plain": [
       "<Figure size 300x300 with 1 Axes>"
      ]
     },
     "metadata": {},
     "output_type": "display_data"
    }
   ],
   "source": [
    "weight = torch.rand(size, size)\n",
    "plt.figure(figsize=(3,3))\n",
    "plt.imshow( mlp(x, weight, return_weight=True).detach().cpu().numpy() )\n",
    "plt.show()"
   ]
  },
  {
   "cell_type": "code",
   "execution_count": 11,
   "metadata": {},
   "outputs": [
    {
     "data": {
      "image/png": "[encoded data removed]",
      "text/plain": [
       "<Figure size 600x200 with 4 Axes>"
      ]
     },
     "metadata": {},
     "output_type": "display_data"
    }
   ],
   "source": [
    "x_plots = [\n",
    "    [x_a, x_b_prime],\n",
    "    [o_a_prime, o_b_prime],\n",
    "]\n",
    "\n",
    "x_titles = [\n",
    "    ['x_a', 'x_b_prime'],\n",
    "    ['out_a_prime', 'out_b_prime'],\n",
    "]\n",
    "\n",
    "plot_2columns(x_plots, x_titles)\n"
   ]
  }
 ],
 "metadata": {
  "kernelspec": {
   "display_name": "sympde",
   "language": "python",
   "name": "python3"
  },
  "language_info": {
   "codemirror_mode": {
    "name": "ipython",
    "version": 3
   },
   "file_extension": ".py",
   "mimetype": "text/x-python",
   "name": "python",
   "nbconvert_exporter": "python",
   "pygments_lexer": "ipython3",
   "version": "3.10.13"
  }
 },
 "nbformat": 4,
 "nbformat_minor": 2
}
