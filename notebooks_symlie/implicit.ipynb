{
 "cells": [
  {
   "cell_type": "code",
   "execution_count": 1,
   "metadata": {},
   "outputs": [],
   "source": [
    "%load_ext autoreload\n",
    "%autoreload 2\n",
    "\n",
    "import os, sys\n",
    "import numpy as np\n",
    "import matplotlib.pyplot as plt\n",
    "import torch\n",
    "from torch import nn\n",
    "\n",
    "sys.path.append(os.path.join(os.getcwd(), '../symlie'))\n",
    "sys.path.append(os.path.join(os.getcwd(), '../sympdee/sympde/viz'))\n",
    "sys.path.append(os.path.join(os.getcwd(), '..'))\n",
    "\n",
    "from symlie.model.networks.linear import CalculatedP, LinearP\n",
    "from symlie.model.networks.implicit import LinearImplicit\n",
    "from sympdee.sympde.viz.general_plots import imshows, plot_vals, simple_imshow, savefig, simple_imshow\n",
    "from symlie.misc.utils_results import get_and_check_Ps, plot_seeds_and_Ps\n",
    "from symlie.data.transforms import Transform"
   ]
  },
  {
   "cell_type": "code",
   "execution_count": 2,
   "metadata": {},
   "outputs": [
    {
     "data": {
      "image/png": "[encoded data removed]",
      "text/plain": [
       "<Figure size 400x300 with 1 Axes>"
      ]
     },
     "metadata": {},
     "output_type": "display_data"
    }
   ],
   "source": [
    "x = torch.randn((1,4))\n",
    "size = x.shape[-1]\n",
    "imshows([x], axis_off = True, imshow_kwargs={'cmap': 'gray'}, rows = False)"
   ]
  },
  {
   "cell_type": "code",
   "execution_count": 6,
   "metadata": {},
   "outputs": [],
   "source": [
    "# Initializing the custom linear layer with the mapping P for a convolutional kernel \n",
    "linear_implicit = LinearImplicit(\n",
    "    in_features = size, out_features = size, bias = False,\n",
    "    hidden_implicit_layers = [10, 10],\n",
    "    train_weights = False, train_P = True\n",
    ")\n",
    "                                 \n",
    "\n",
    "# # Setting the weights of the linear layer to be the same as the convolutional kernel\n",
    "# linear_conv.weight.data.flatten()[:kernel_size] = conv.weight.squeeze()\n",
    "\n",
    "# assert torch.allclose(linear_conv(x, normalize_P=False), out_conv)\n",
    "\n",
    "implicit_P = linear_implicit.implicit_P"
   ]
  },
  {
   "cell_type": "code",
   "execution_count": 8,
   "metadata": {},
   "outputs": [
    {
     "data": {
      "text/plain": [
       "OrderedDict([('0.weight',\n",
       "              tensor([[-0.0314,  0.0321, -0.0765,  0.0949, -0.0801, -0.1379,  0.2494, -0.0271,\n",
       "                       -0.0307, -0.1533, -0.2260, -0.0947, -0.1188, -0.0512, -0.0848, -0.2089],\n",
       "                      [ 0.0159, -0.1253,  0.0388,  0.2445, -0.1924,  0.1633, -0.0272,  0.1049,\n",
       "                       -0.0651,  0.0800, -0.2130, -0.1068,  0.1551,  0.0827,  0.1283, -0.2276],\n",
       "                      [ 0.2040, -0.0008, -0.1550,  0.1802,  0.1033, -0.1649,  0.1324,  0.2162,\n",
       "                        0.1896, -0.2289, -0.2001,  0.1446, -0.2245,  0.1990,  0.1261, -0.2234],\n",
       "                      [-0.1014, -0.0064,  0.2409, -0.0432,  0.0613,  0.1904,  0.0740,  0.1354,\n",
       "                       -0.1945, -0.2232, -0.1018, -0.1854,  0.1437,  0.1259, -0.1017,  0.0542],\n",
       "                      [-0.0233,  0.0506,  0.0728,  0.1179, -0.2217,  0.0042, -0.1360, -0.1437,\n",
       "                        0.1826, -0.1152, -0.1862, -0.2324, -0.1627, -0.2375,  0.1305,  0.1901],\n",
       "                      [ 0.1388,  0.1709,  0.0285,  0.1856, -0.0423, -0.0980, -0.1878,  0.0840,\n",
       "                       -0.2190, -0.1568, -0.0937, -0.2292, -0.1312,  0.1821, -0.1371, -0.1051],\n",
       "                      [-0.1246,  0.0586,  0.2273, -0.1453,  0.0560, -0.1017,  0.1403, -0.1795,\n",
       "                        0.2487, -0.2478,  0.0838,  0.1706, -0.0765, -0.1723, -0.2197, -0.0795],\n",
       "                      [-0.1646, -0.2473,  0.2318,  0.1486,  0.0433,  0.2119,  0.1965,  0.1985,\n",
       "                       -0.0230, -0.1770, -0.2163, -0.2299, -0.2360, -0.1562,  0.0245, -0.2441],\n",
       "                      [ 0.0839,  0.0652, -0.0696,  0.0688, -0.0285,  0.0290, -0.1644,  0.0332,\n",
       "                        0.0476,  0.0317, -0.1766,  0.0116,  0.0975,  0.0565, -0.1513, -0.0587],\n",
       "                      [ 0.1741, -0.0783, -0.2014, -0.1766, -0.1359,  0.1673, -0.2106, -0.1123,\n",
       "                        0.0538,  0.0755,  0.0527, -0.1377,  0.0240, -0.2154,  0.2384, -0.0494]])),\n",
       "             ('0.bias',\n",
       "              tensor([ 0.0343,  0.2469, -0.1003, -0.1902, -0.1853, -0.1247,  0.1146, -0.0610,\n",
       "                       0.0750,  0.1348])),\n",
       "             ('2.weight',\n",
       "              tensor([[-0.2166,  0.2295,  0.1751, -0.1957,  0.0499,  0.0305,  0.2091, -0.1693,\n",
       "                       -0.0364,  0.0696],\n",
       "                      [ 0.2197,  0.3058, -0.1672,  0.0316,  0.2961, -0.2274,  0.2692, -0.2761,\n",
       "                       -0.2115, -0.0286],\n",
       "                      [ 0.3034, -0.1080,  0.0731, -0.2381, -0.0458, -0.0612, -0.2581,  0.1406,\n",
       "                       -0.1895, -0.2484],\n",
       "                      [-0.0448,  0.0283,  0.0954, -0.0360, -0.1373,  0.1112, -0.1383,  0.1059,\n",
       "                       -0.0149, -0.2832],\n",
       "                      [ 0.1263, -0.0454,  0.0896,  0.2916, -0.2344, -0.1658, -0.2163,  0.0426,\n",
       "                       -0.2471,  0.2682],\n",
       "                      [ 0.1792,  0.0260,  0.2145,  0.0673, -0.2582,  0.2175,  0.0427,  0.2119,\n",
       "                       -0.1426, -0.0532],\n",
       "                      [ 0.0019, -0.1035, -0.1500, -0.2812,  0.0342, -0.2915,  0.2546,  0.0797,\n",
       "                       -0.2270, -0.2717],\n",
       "                      [-0.2125,  0.1284,  0.2360,  0.2614,  0.1945,  0.0758,  0.1551,  0.2984,\n",
       "                       -0.0310, -0.2257],\n",
       "                      [ 0.2094,  0.1149, -0.0133, -0.1350, -0.1162,  0.1744,  0.1500, -0.2880,\n",
       "                        0.3004, -0.2686],\n",
       "                      [-0.2888,  0.1000,  0.2669, -0.1990, -0.0638,  0.1894,  0.2379,  0.1219,\n",
       "                       -0.1549,  0.2469]])),\n",
       "             ('2.bias',\n",
       "              tensor([ 0.1905,  0.2342,  0.1560,  0.2685,  0.1820,  0.1423, -0.0788, -0.2096,\n",
       "                      -0.0594, -0.2956])),\n",
       "             ('4.weight',\n",
       "              tensor([[ 5.4754e-02,  3.0784e-01, -2.2231e-01,  3.4091e-02,  1.0575e-01,\n",
       "                        2.7801e-01,  6.2191e-02,  1.2438e-01,  1.6347e-02,  5.6976e-02],\n",
       "                      [ 1.9891e-01, -2.3484e-01,  6.6979e-02, -2.6918e-01, -2.8961e-01,\n",
       "                       -1.1674e-01,  1.1907e-02, -4.3432e-02,  9.5757e-02,  2.7444e-01],\n",
       "                      [-2.7127e-01, -2.9118e-01,  2.8766e-01,  1.7393e-01, -3.3039e-02,\n",
       "                        9.3134e-02,  2.6191e-01,  6.0575e-02,  9.5631e-02,  8.9276e-02],\n",
       "                      [ 2.8855e-01,  3.0567e-01,  1.4440e-01, -2.4591e-01, -7.3625e-02,\n",
       "                       -3.0567e-01, -2.5096e-01, -1.8848e-01,  1.5134e-01,  8.7823e-02],\n",
       "                      [ 3.0855e-01,  9.3122e-02, -1.0662e-01, -1.2597e-02, -9.7962e-02,\n",
       "                        1.9441e-01, -1.8094e-03, -1.5201e-01,  1.8964e-01, -1.0083e-01],\n",
       "                      [ 1.0730e-01, -1.9450e-01, -2.1421e-01,  1.3122e-01,  9.5190e-02,\n",
       "                        1.1379e-01,  1.3617e-02,  2.3445e-01,  1.3421e-01, -2.2329e-02],\n",
       "                      [ 7.2369e-02, -3.0659e-01, -1.1900e-01,  8.3115e-03,  7.9538e-02,\n",
       "                       -2.4957e-01,  1.9355e-01, -2.9144e-01, -1.4566e-02, -2.5516e-01],\n",
       "                      [-1.7615e-01,  2.6564e-01, -5.3154e-02, -3.2152e-03,  2.7312e-01,\n",
       "                        2.3642e-01,  2.8702e-01,  1.8454e-01, -1.5788e-01,  2.4767e-02],\n",
       "                      [-2.5952e-01, -7.7612e-02,  2.1285e-01, -1.2460e-01,  1.5465e-01,\n",
       "                       -1.2873e-01, -2.3254e-01, -2.7320e-01,  1.4975e-01,  2.3266e-01],\n",
       "                      [ 1.0891e-01,  5.1051e-02,  1.2112e-01,  2.1527e-01,  1.4079e-01,\n",
       "                        7.0770e-02,  2.1913e-01, -4.8115e-02, -1.3250e-02,  3.1441e-01],\n",
       "                      [ 2.4658e-01, -1.2251e-01, -1.8233e-01,  1.9986e-01,  9.7139e-02,\n",
       "                       -2.9177e-01,  9.8479e-02, -2.2642e-01,  1.2383e-04,  1.2165e-01],\n",
       "                      [-1.6139e-01, -2.3877e-01, -2.4580e-01, -6.5582e-02,  1.7536e-01,\n",
       "                       -2.8000e-01,  8.3569e-02,  1.9791e-01, -1.2417e-01,  1.1591e-01],\n",
       "                      [ 1.7522e-02,  7.0019e-02,  4.9795e-02,  2.2654e-01, -1.1366e-01,\n",
       "                       -1.3733e-01, -9.9357e-02,  1.3017e-01, -1.5080e-01, -1.1943e-01],\n",
       "                      [-1.0979e-01,  2.4651e-01,  2.2562e-01, -2.2756e-01,  2.1907e-01,\n",
       "                       -1.7580e-01,  1.9252e-01,  2.8380e-01, -1.6997e-01, -2.1216e-01],\n",
       "                      [-2.0424e-01,  2.7896e-01,  2.0469e-01, -2.6348e-01, -3.0122e-01,\n",
       "                        1.8979e-01,  2.7041e-01, -2.7973e-01, -1.6799e-01, -1.9149e-01],\n",
       "                      [-9.5040e-04, -1.4171e-02, -2.3331e-01,  1.2120e-01,  1.6840e-01,\n",
       "                       -2.4620e-01,  2.1893e-01, -3.0956e-01, -6.1293e-02,  2.9422e-01]])),\n",
       "             ('4.bias',\n",
       "              tensor([-0.2857,  0.0201, -0.2951, -0.0394, -0.2083, -0.0746,  0.0195, -0.1034,\n",
       "                      -0.0828, -0.0443, -0.0432, -0.1449, -0.0082, -0.0805, -0.2086,  0.1054]))])"
      ]
     },
     "execution_count": 8,
     "metadata": {},
     "output_type": "execute_result"
    }
   ],
   "source": [
    "implicit_P.state_dict()"
   ]
  },
  {
   "cell_type": "code",
   "execution_count": 57,
   "metadata": {},
   "outputs": [
    {
     "name": "stdout",
     "output_type": "stream",
     "text": [
      "0.weight True\n",
      "0.bias True\n",
      "2.weight True\n",
      "2.bias True\n",
      "4.weight True\n",
      "4.bias True\n"
     ]
    },
    {
     "data": {
      "text/plain": [
       "False"
      ]
     },
     "execution_count": 57,
     "metadata": {},
     "output_type": "execute_result"
    }
   ],
   "source": [
    "for name, param in linear_implicit.implicit_P.named_parameters():\n",
    "    print(name, param.requires_grad)\n",
    "\n",
    "linear_implicit.weight.requires_grad"
   ]
  },
  {
   "cell_type": "code",
   "execution_count": 60,
   "metadata": {},
   "outputs": [
    {
     "data": {
      "text/plain": [
       "tensor([[0.0666, 0.3869, 0.0000, 0.1926]], grad_fn=<MmBackward0>)"
      ]
     },
     "execution_count": 60,
     "metadata": {},
     "output_type": "execute_result"
    }
   ],
   "source": [
    "linear_implicit(x)"
   ]
  }
 ],
 "metadata": {
  "kernelspec": {
   "display_name": "sympde",
   "language": "python",
   "name": "python3"
  },
  "language_info": {
   "codemirror_mode": {
    "name": "ipython",
    "version": 3
   },
   "file_extension": ".py",
   "mimetype": "text/x-python",
   "name": "python",
   "nbconvert_exporter": "python",
   "pygments_lexer": "ipython3",
   "version": "3.10.13"
  }
 },
 "nbformat": 4,
 "nbformat_minor": 2
}
