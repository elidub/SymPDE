{
 "cells": [
  {
   "cell_type": "code",
   "execution_count": 9,
   "metadata": {},
   "outputs": [
    {
     "name": "stdout",
     "output_type": "stream",
     "text": [
      "The autoreload extension is already loaded. To reload it, use:\n",
      "  %reload_ext autoreload\n"
     ]
    }
   ],
   "source": [
    "%load_ext autoreload\n",
    "%autoreload 2\n",
    "\n",
    "import sys, os\n",
    "import pandas as pd\n",
    "import numpy as np\n",
    "from tqdm import tqdm\n",
    "import wandb\n",
    "\n",
    "sys.path.append(os.path.join(os.getcwd(), '../symlie'))\n",
    "from misc.utils import NumpyUtils, Results"
   ]
  },
  {
   "cell_type": "code",
   "execution_count": 10,
   "metadata": {},
   "outputs": [
    {
     "data": {
      "text/html": [
       "<div>\n",
       "<style scoped>\n",
       "    .dataframe tbody tr th:only-of-type {\n",
       "        vertical-align: middle;\n",
       "    }\n",
       "\n",
       "    .dataframe tbody tr th {\n",
       "        vertical-align: top;\n",
       "    }\n",
       "\n",
       "    .dataframe thead th {\n",
       "        text-align: right;\n",
       "    }\n",
       "</style>\n",
       "<table border=\"1\" class=\"dataframe\">\n",
       "  <thead>\n",
       "    <tr style=\"text-align: right;\">\n",
       "      <th></th>\n",
       "      <th>run_id</th>\n",
       "    </tr>\n",
       "  </thead>\n",
       "  <tbody>\n",
       "  </tbody>\n",
       "</table>\n",
       "</div>"
      ],
      "text/plain": [
       "Empty DataFrame\n",
       "Columns: [run_id]\n",
       "Index: []"
      ]
     },
     "execution_count": 10,
     "metadata": {},
     "output_type": "execute_result"
    }
   ],
   "source": [
    "# results_df_old = pd.read_pickle('../logs/store/results_df.pkl')\n",
    "results_df_old = pd.DataFrame(columns = ['run_id'])\n",
    "results_df_old"
   ]
  },
  {
   "cell_type": "code",
   "execution_count": 11,
   "metadata": {},
   "outputs": [
    {
     "data": {
      "text/html": [
       "<div>\n",
       "<style scoped>\n",
       "    .dataframe tbody tr th:only-of-type {\n",
       "        vertical-align: middle;\n",
       "    }\n",
       "\n",
       "    .dataframe tbody tr th {\n",
       "        vertical-align: top;\n",
       "    }\n",
       "\n",
       "    .dataframe thead th {\n",
       "        text-align: right;\n",
       "    }\n",
       "</style>\n",
       "<table border=\"1\" class=\"dataframe\">\n",
       "  <thead>\n",
       "    <tr style=\"text-align: right;\">\n",
       "      <th></th>\n",
       "      <th>run_id</th>\n",
       "      <th>run_dir</th>\n",
       "    </tr>\n",
       "  </thead>\n",
       "  <tbody>\n",
       "    <tr>\n",
       "      <th>0</th>\n",
       "      <td>vh4jrs16</td>\n",
       "      <td>run-20240124_215834-vh4jrs16</td>\n",
       "    </tr>\n",
       "    <tr>\n",
       "      <th>1</th>\n",
       "      <td>lib7fb4f</td>\n",
       "      <td>run-20240125_132527-lib7fb4f</td>\n",
       "    </tr>\n",
       "  </tbody>\n",
       "</table>\n",
       "</div>"
      ],
      "text/plain": [
       "     run_id                       run_dir\n",
       "0  vh4jrs16  run-20240124_215834-vh4jrs16\n",
       "1  lib7fb4f  run-20240125_132527-lib7fb4f"
      ]
     },
     "execution_count": 11,
     "metadata": {},
     "output_type": "execute_result"
    }
   ],
   "source": [
    "log_dir = '../logs'\n",
    "store_dir = os.path.join(log_dir, 'store')\n",
    "wandb_dir = os.path.join(log_dir, 'wandb')\n",
    "\n",
    "run_dirs =  np.array([[run_dir.split('-')[-1], run_dir] for run_dir in os.listdir(wandb_dir) if run_dir.startswith('run')])\n",
    "assert len(run_dirs[:, 0]) == len(set(run_dirs[:, 0]))\n",
    "run_dirs = {run_id: run_dir for run_id, run_dir in run_dirs}\n",
    "pd.DataFrame(run_dirs.items(), columns = ['run_id', 'run_dir'])"
   ]
  },
  {
   "cell_type": "code",
   "execution_count": 15,
   "metadata": {},
   "outputs": [],
   "source": [
    "exclude_ids = ['1jjq8ar4']"
   ]
  },
  {
   "cell_type": "code",
   "execution_count": 18,
   "metadata": {},
   "outputs": [
    {
     "name": "stdout",
     "output_type": "stream",
     "text": [
      "distinctive-shadow-30 lib7fb4f\n",
      "generous-wood-28 vh4jrs16\n"
     ]
    }
   ],
   "source": [
    "api = wandb.Api()\n",
    "runs = api.runs('eliasdubbeldam/symlie')\n",
    "for run in runs:\n",
    "    print(run.name, run.id)\n",
    "    # if run.id in exclude_ids: run.delete()"
   ]
  },
  {
   "cell_type": "code",
   "execution_count": 20,
   "metadata": {},
   "outputs": [
    {
     "name": "stderr",
     "output_type": "stream",
     "text": [
      "Retreiving wandb lib7fb4f: 100%|██████████| 2/2 [00:00<00:00,  2.70it/s]\n"
     ]
    }
   ],
   "source": [
    "config_list = []\n",
    "\n",
    "pbar = tqdm(runs)\n",
    "for run in pbar:\n",
    "    pbar.set_description(f'Retreiving wandb {str(id)}')\n",
    "    \n",
    "    id = run.id\n",
    "\n",
    "    # Exceptions\n",
    "    if run.state != 'finished':\n",
    "        continue\n",
    "    if id in results_df_old['run_id'].values:\n",
    "        continue\n",
    "    if id in exclude_ids:\n",
    "        continue\n",
    "\n",
    "\n",
    "    # Retreive config from wandb run, add all info to config\n",
    "    config = run.config\n",
    "\n",
    "    # Add run id and name to config\n",
    "    config['run_id'] = id\n",
    "    config['run_name'] = run.name\n",
    "\n",
    "    # Retreive metrics from wandb run\n",
    "    history = run.history()\n",
    "    metrics = ['train_loss', 'val_loss', 'test_loss']\n",
    "    for metric in metrics:\n",
    "        config[metric] = np.array(history[metric].dropna())\n",
    "\n",
    "    # Retreive arrays from wandb files\n",
    "    npu = NumpyUtils(dir = os.path.join(wandb_dir, run_dirs[id], 'files'))\n",
    "    run_arrays = npu.load_all()\n",
    "    for filename, array in run_arrays.items():\n",
    "        config[filename] = array\n",
    "    \n",
    "\n",
    "    config_list.append(config)\n",
    "\n",
    "results_df = pd.DataFrame(config_list)\n",
    "\n",
    "results_df_new = pd.concat([results_df_old, results_df])\n",
    "results_df_new.to_pickle(os.path.join(store_dir, 'results_df.pkl'))"
   ]
  },
  {
   "cell_type": "code",
   "execution_count": 22,
   "metadata": {},
   "outputs": [
    {
     "data": {
      "text/html": [
       "<div>\n",
       "<style scoped>\n",
       "    .dataframe tbody tr th:only-of-type {\n",
       "        vertical-align: middle;\n",
       "    }\n",
       "\n",
       "    .dataframe tbody tr th {\n",
       "        vertical-align: top;\n",
       "    }\n",
       "\n",
       "    .dataframe thead th {\n",
       "        text-align: right;\n",
       "    }\n",
       "</style>\n",
       "<table border=\"1\" class=\"dataframe\">\n",
       "  <thead>\n",
       "    <tr style=\"text-align: right;\">\n",
       "      <th></th>\n",
       "      <th>run_id</th>\n",
       "      <th>lr</th>\n",
       "      <th>net</th>\n",
       "      <th>bias</th>\n",
       "      <th>name</th>\n",
       "      <th>seed</th>\n",
       "      <th>test</th>\n",
       "      <th>train</th>\n",
       "      <th>y_low</th>\n",
       "      <th>device</th>\n",
       "      <th>...</th>\n",
       "      <th>persistent_workers</th>\n",
       "      <th>run_name</th>\n",
       "      <th>train_loss</th>\n",
       "      <th>val_loss</th>\n",
       "      <th>test_loss</th>\n",
       "      <th>out_a_prime</th>\n",
       "      <th>P</th>\n",
       "      <th>out_b_prime</th>\n",
       "      <th>y_true</th>\n",
       "      <th>y_pred</th>\n",
       "    </tr>\n",
       "  </thead>\n",
       "  <tbody>\n",
       "    <tr>\n",
       "      <th>0</th>\n",
       "      <td>lib7fb4f</td>\n",
       "      <td>0.100</td>\n",
       "      <td>TrainP</td>\n",
       "      <td>False</td>\n",
       "      <td>None</td>\n",
       "      <td>42.0</td>\n",
       "      <td>True</td>\n",
       "      <td>True</td>\n",
       "      <td>1.0</td>\n",
       "      <td>cpu</td>\n",
       "      <td>...</td>\n",
       "      <td>True</td>\n",
       "      <td>distinctive-shadow-30</td>\n",
       "      <td>[0.1514815241098404, 0.14383874833583832, 0.13...</td>\n",
       "      <td>[0.15973155200481415, 0.13493697345256805, 0.0...</td>\n",
       "      <td>[0.1257612109184265]</td>\n",
       "      <td>[[0.24581842, -0.09962792, 0.059194632, -0.059...</td>\n",
       "      <td>[[4.10627, 3.0690331, 3.4362614, -4.6359572, 2...</td>\n",
       "      <td>[[0.19467984, -0.16883406, -0.10459621, -0.327...</td>\n",
       "      <td>NaN</td>\n",
       "      <td>NaN</td>\n",
       "    </tr>\n",
       "    <tr>\n",
       "      <th>1</th>\n",
       "      <td>vh4jrs16</td>\n",
       "      <td>0.001</td>\n",
       "      <td>Predict-NoneP</td>\n",
       "      <td>False</td>\n",
       "      <td>None</td>\n",
       "      <td>1.0</td>\n",
       "      <td>True</td>\n",
       "      <td>True</td>\n",
       "      <td>1.0</td>\n",
       "      <td>NaN</td>\n",
       "      <td>...</td>\n",
       "      <td>True</td>\n",
       "      <td>generous-wood-28</td>\n",
       "      <td>[0.37597087025642395]</td>\n",
       "      <td>[0.2678754925727844]</td>\n",
       "      <td>[0.27310794591903687]</td>\n",
       "      <td>NaN</td>\n",
       "      <td>[[1.0, 0.0, 0.0, 0.0, 0.0, 0.0, 0.0, 0.0, 0.0,...</td>\n",
       "      <td>NaN</td>\n",
       "      <td>[2.0, 1.0, 2.0, 1.0, 2.0, 2.0, 1.0, 1.0, 2.0, ...</td>\n",
       "      <td>[1.4355762, 1.4824753, 1.3475084, 1.4821842, 1...</td>\n",
       "    </tr>\n",
       "  </tbody>\n",
       "</table>\n",
       "<p>2 rows × 40 columns</p>\n",
       "</div>"
      ],
      "text/plain": [
       "     run_id     lr            net   bias  name  seed  test train  y_low  \\\n",
       "0  lib7fb4f  0.100         TrainP  False  None  42.0  True  True    1.0   \n",
       "1  vh4jrs16  0.001  Predict-NoneP  False  None   1.0  True  True    1.0   \n",
       "\n",
       "  device  ...  persistent_workers               run_name  \\\n",
       "0    cpu  ...                True  distinctive-shadow-30   \n",
       "1    NaN  ...                True       generous-wood-28   \n",
       "\n",
       "                                          train_loss  \\\n",
       "0  [0.1514815241098404, 0.14383874833583832, 0.13...   \n",
       "1                              [0.37597087025642395]   \n",
       "\n",
       "                                            val_loss              test_loss  \\\n",
       "0  [0.15973155200481415, 0.13493697345256805, 0.0...   [0.1257612109184265]   \n",
       "1                               [0.2678754925727844]  [0.27310794591903687]   \n",
       "\n",
       "                                         out_a_prime  \\\n",
       "0  [[0.24581842, -0.09962792, 0.059194632, -0.059...   \n",
       "1                                                NaN   \n",
       "\n",
       "                                                   P  \\\n",
       "0  [[4.10627, 3.0690331, 3.4362614, -4.6359572, 2...   \n",
       "1  [[1.0, 0.0, 0.0, 0.0, 0.0, 0.0, 0.0, 0.0, 0.0,...   \n",
       "\n",
       "                                         out_b_prime  \\\n",
       "0  [[0.19467984, -0.16883406, -0.10459621, -0.327...   \n",
       "1                                                NaN   \n",
       "\n",
       "                                              y_true  \\\n",
       "0                                                NaN   \n",
       "1  [2.0, 1.0, 2.0, 1.0, 2.0, 2.0, 1.0, 1.0, 2.0, ...   \n",
       "\n",
       "                                              y_pred  \n",
       "0                                                NaN  \n",
       "1  [1.4355762, 1.4824753, 1.3475084, 1.4821842, 1...  \n",
       "\n",
       "[2 rows x 40 columns]"
      ]
     },
     "execution_count": 22,
     "metadata": {},
     "output_type": "execute_result"
    }
   ],
   "source": [
    "results_df_new"
   ]
  },
  {
   "cell_type": "code",
   "execution_count": 21,
   "metadata": {},
   "outputs": [],
   "source": [
    "import matplotlib.pyplot as plt"
   ]
  },
  {
   "cell_type": "code",
   "execution_count": null,
   "metadata": {},
   "outputs": [],
   "source": [
    "loss = np.stack(results_df_new['val_loss'])\n",
    "plt.plot( loss.T )\n",
    "plt.show()\n",
    "\n",
    "loss"
   ]
  }
 ],
 "metadata": {
  "kernelspec": {
   "display_name": "sympde",
   "language": "python",
   "name": "python3"
  },
  "language_info": {
   "codemirror_mode": {
    "name": "ipython",
    "version": 3
   },
   "file_extension": ".py",
   "mimetype": "text/x-python",
   "name": "python",
   "nbconvert_exporter": "python",
   "pygments_lexer": "ipython3",
   "version": "3.10.13"
  }
 },
 "nbformat": 4,
 "nbformat_minor": 2
}
