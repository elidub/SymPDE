{
 "cells": [
  {
   "cell_type": "code",
   "execution_count": 110,
   "metadata": {},
   "outputs": [
    {
     "name": "stdout",
     "output_type": "stream",
     "text": [
      "The autoreload extension is already loaded. To reload it, use:\n",
      "  %reload_ext autoreload\n"
     ]
    }
   ],
   "source": [
    "%load_ext autoreload\n",
    "%autoreload 2\n",
    "\n",
    "import sys, os\n",
    "import pandas as pd\n",
    "import numpy as np\n",
    "from tqdm import tqdm\n",
    "import wandb\n",
    "\n",
    "sys.path.append(os.path.join(os.getcwd(), '../symlie'))\n",
    "from misc.utils import NumpyUtils, Results"
   ]
  },
  {
   "cell_type": "code",
   "execution_count": 111,
   "metadata": {},
   "outputs": [
    {
     "data": {
      "text/html": [
       "<div>\n",
       "<style scoped>\n",
       "    .dataframe tbody tr th:only-of-type {\n",
       "        vertical-align: middle;\n",
       "    }\n",
       "\n",
       "    .dataframe tbody tr th {\n",
       "        vertical-align: top;\n",
       "    }\n",
       "\n",
       "    .dataframe thead th {\n",
       "        text-align: right;\n",
       "    }\n",
       "</style>\n",
       "<table border=\"1\" class=\"dataframe\">\n",
       "  <thead>\n",
       "    <tr style=\"text-align: right;\">\n",
       "      <th></th>\n",
       "      <th>run_id</th>\n",
       "    </tr>\n",
       "  </thead>\n",
       "  <tbody>\n",
       "  </tbody>\n",
       "</table>\n",
       "</div>"
      ],
      "text/plain": [
       "Empty DataFrame\n",
       "Columns: [run_id]\n",
       "Index: []"
      ]
     },
     "execution_count": 111,
     "metadata": {},
     "output_type": "execute_result"
    }
   ],
   "source": [
    "# results_df_old = pd.read_pickle('../logs/store/results_df.pkl')\n",
    "results_df_old = pd.DataFrame(columns = ['run_id'])\n",
    "results_df_old"
   ]
  },
  {
   "cell_type": "code",
   "execution_count": 112,
   "metadata": {},
   "outputs": [
    {
     "data": {
      "text/html": [
       "<div>\n",
       "<style scoped>\n",
       "    .dataframe tbody tr th:only-of-type {\n",
       "        vertical-align: middle;\n",
       "    }\n",
       "\n",
       "    .dataframe tbody tr th {\n",
       "        vertical-align: top;\n",
       "    }\n",
       "\n",
       "    .dataframe thead th {\n",
       "        text-align: right;\n",
       "    }\n",
       "</style>\n",
       "<table border=\"1\" class=\"dataframe\">\n",
       "  <thead>\n",
       "    <tr style=\"text-align: right;\">\n",
       "      <th></th>\n",
       "      <th>run_id</th>\n",
       "      <th>run_dir</th>\n",
       "    </tr>\n",
       "  </thead>\n",
       "  <tbody>\n",
       "  </tbody>\n",
       "</table>\n",
       "</div>"
      ],
      "text/plain": [
       "Empty DataFrame\n",
       "Columns: [run_id, run_dir]\n",
       "Index: []"
      ]
     },
     "execution_count": 112,
     "metadata": {},
     "output_type": "execute_result"
    }
   ],
   "source": [
    "log_dir = '../logs'\n",
    "store_dir = os.path.join(log_dir, 'store')\n",
    "wandb_dir = os.path.join(log_dir, 'wandb')\n",
    "\n",
    "run_dirs =  np.array([[run_dir.split('-')[-1], run_dir] for run_dir in os.listdir(wandb_dir) if run_dir.startswith('run')])\n",
    "if not len(run_dirs) == 0:\n",
    "    assert len(run_dirs[:, 0]) == len(set(run_dirs[:, 0]))\n",
    "    run_dirs = {run_id: run_dir for run_id, run_dir in run_dirs}\n",
    "    run_dirs_df = pd.DataFrame(run_dirs.items(), columns = ['run_id', 'run_dir'])\n",
    "else:\n",
    "    run_dirs_df = pd.DataFrame(columns = ['run_id', 'run_dir'])\n",
    "run_dirs_df"
   ]
  },
  {
   "cell_type": "code",
   "execution_count": 113,
   "metadata": {},
   "outputs": [],
   "source": [
    "exclude_ids = ['1jjq8ar4']"
   ]
  },
  {
   "cell_type": "code",
   "execution_count": 116,
   "metadata": {},
   "outputs": [],
   "source": [
    "tags = 'dev'\n",
    "\n",
    "api = wandb.Api()\n",
    "runs = api.runs('eliasdubbeldam/symlie', filters={'tags': tags, 'state': 'finished'})\n",
    "for i, run in enumerate(runs):\n",
    "    print(run.name, run.id)\n",
    "    # if run.id in exclude_ids: run.delete()"
   ]
  },
  {
   "cell_type": "code",
   "execution_count": 120,
   "metadata": {},
   "outputs": [
    {
     "name": "stderr",
     "output_type": "stream",
     "text": [
      "0it [00:00, ?it/s]\n"
     ]
    },
    {
     "data": {
      "text/html": [
       "<div>\n",
       "<style scoped>\n",
       "    .dataframe tbody tr th:only-of-type {\n",
       "        vertical-align: middle;\n",
       "    }\n",
       "\n",
       "    .dataframe tbody tr th {\n",
       "        vertical-align: top;\n",
       "    }\n",
       "\n",
       "    .dataframe thead th {\n",
       "        text-align: right;\n",
       "    }\n",
       "</style>\n",
       "<table border=\"1\" class=\"dataframe\">\n",
       "  <thead>\n",
       "    <tr style=\"text-align: right;\">\n",
       "      <th></th>\n",
       "    </tr>\n",
       "  </thead>\n",
       "  <tbody>\n",
       "  </tbody>\n",
       "</table>\n",
       "</div>"
      ],
      "text/plain": [
       "Empty DataFrame\n",
       "Columns: []\n",
       "Index: []"
      ]
     },
     "execution_count": 120,
     "metadata": {},
     "output_type": "execute_result"
    }
   ],
   "source": [
    "config_list = []\n",
    "\n",
    "pbar = tqdm(runs)\n",
    "for run in pbar:\n",
    "    pbar.set_description(f'Retreiving wandb {str(id)}')\n",
    "    \n",
    "    id = run.id\n",
    "\n",
    "    # Exceptions\n",
    "    if run.state != 'finished':\n",
    "        continue\n",
    "    if id in results_df_old['run_id'].values:\n",
    "        continue\n",
    "    if id in exclude_ids:\n",
    "        continue\n",
    "\n",
    "\n",
    "    # Retreive config from wandb run, add all info to config\n",
    "    config = run.config\n",
    "\n",
    "    # Add run id and name to config\n",
    "    config['run_id'] = id\n",
    "    config['run_name'] = run.name\n",
    "\n",
    "    # Retreive metrics from wandb run\n",
    "    history = run.history()\n",
    "    metrics = ['train_loss', 'val_loss', 'test_loss']\n",
    "    for metric in metrics:\n",
    "        config[metric] = np.array(history[metric].dropna())\n",
    "\n",
    "    # Retreive arrays from wandb files\n",
    "    npu = NumpyUtils(dir = os.path.join(wandb_dir, run_dirs[id], 'files'))\n",
    "    run_arrays = npu.load_all()\n",
    "    for filename, array in run_arrays.items():\n",
    "        config[filename] = array\n",
    "    \n",
    "\n",
    "    config_list.append(config)\n",
    "\n",
    "results_df = pd.DataFrame(config_list)\n",
    "results_df"
   ]
  },
  {
   "cell_type": "code",
   "execution_count": 121,
   "metadata": {},
   "outputs": [],
   "source": [
    "results_df_new = pd.concat([results_df_old, results_df])\n",
    "results_df_new.to_pickle(os.path.join(store_dir, 'results_df.pkl'))"
   ]
  }
 ],
 "metadata": {
  "kernelspec": {
   "display_name": "sympde",
   "language": "python",
   "name": "python3"
  },
  "language_info": {
   "codemirror_mode": {
    "name": "ipython",
    "version": 3
   },
   "file_extension": ".py",
   "mimetype": "text/x-python",
   "name": "python",
   "nbconvert_exporter": "python",
   "pygments_lexer": "ipython3",
   "version": "3.10.13"
  }
 },
 "nbformat": 4,
 "nbformat_minor": 2
}
