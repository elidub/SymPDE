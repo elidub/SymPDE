{
 "cells": [
  {
   "cell_type": "code",
   "execution_count": 1,
   "metadata": {},
   "outputs": [],
   "source": [
    "%load_ext autoreload\n",
    "%autoreload 2\n",
    "\n",
    "import os, sys\n",
    "import numpy as np\n",
    "import matplotlib.pyplot as plt\n",
    "import torch\n",
    "from torch import nn\n",
    "from itertools import product\n",
    "\n",
    "sys.path.append(os.path.join(os.getcwd(), '../symlie'))\n",
    "sys.path.append(os.path.join(os.getcwd(), '../sympde/viz'))\n",
    "\n",
    "from model.networks.linear import CalculatedP, LinearP\n",
    "from general_plots import imshows, plot_vals, simple_imshow"
   ]
  },
  {
   "cell_type": "code",
   "execution_count": 2,
   "metadata": {},
   "outputs": [
    {
     "data": {
      "image/png": "[encoded data removed]",
      "text/plain": [
       "<Figure size 900x300 with 3 Axes>"
      ]
     },
     "metadata": {},
     "output_type": "display_data"
    }
   ],
   "source": [
    "size_plot = 4\n",
    "transform_funcs = {k: v() for k, v in CalculatedP(size = size_plot).transform_funcs.items()}\n",
    "\n",
    "Ps = ['none', 'space_translation', 'kernelconv']\n",
    "title = {\n",
    "    'none': 'Standard',\n",
    "    'space_translation': 'Space Translation Equivariant',\n",
    "    'kernelconv': '1D Convolution'\n",
    "}\n",
    "\n",
    "fig, axs = plt.subplots(1, len(Ps), figsize = (len(Ps)*3, 3))\n",
    "\n",
    "for i, P in enumerate(Ps):\n",
    "    ax = axs[i]\n",
    "    ax.imshow(transform_funcs[P])\n",
    "    ax.set_title(title[P])\n",
    "    ticks = [i * size_plot for i in range(size_plot)]\n",
    "    ax.set_xticks(ticks)\n",
    "    ax.set_yticks(ticks)\n",
    "plt.show()"
   ]
  },
  {
   "cell_type": "code",
   "execution_count": 3,
   "metadata": {},
   "outputs": [
    {
     "data": {
      "image/png": "[encoded data removed]",
      "text/plain": [
       "<Figure size 400x300 with 1 Axes>"
      ]
     },
     "metadata": {},
     "output_type": "display_data"
    }
   ],
   "source": [
    "x = torch.tensor([[0.1, 0.4, 0.2, 0.8, 0.6]])\n",
    "size = x.shape[-1]\n",
    "imshows([x], axis_off = True, imshow_kwargs={'cmap': 'gray'}, rows = False)"
   ]
  },
  {
   "cell_type": "code",
   "execution_count": 4,
   "metadata": {},
   "outputs": [
    {
     "data": {
      "text/plain": [
       "tensor([[-0.3505, -0.2367, -0.2468, -0.4533, -0.7441]],\n",
       "       grad_fn=<SqueezeBackward1>)"
      ]
     },
     "execution_count": 4,
     "metadata": {},
     "output_type": "execute_result"
    }
   ],
   "source": [
    "kernel_size = 3\n",
    "conv = nn.Conv1d(\n",
    "    in_channels  = 1, \n",
    "    out_channels = 1,\n",
    "    kernel_size  = kernel_size,\n",
    "    padding = 1,\n",
    "    bias = False,\n",
    "    padding_mode = 'circular',\n",
    ")\n",
    "out_conv = conv(x.unsqueeze(0)).squeeze(0)\n",
    "out_conv\n"
   ]
  },
  {
   "cell_type": "code",
   "execution_count": 5,
   "metadata": {},
   "outputs": [],
   "source": [
    "# Initializing the custom linear layer with the mapping P for a convolutional kernel \n",
    "linear = LinearP(in_features = size, out_features = size, bias = False, P_init = 'kernelconv')\n",
    "\n",
    "# Setting the weights of the linear layer to be the same as the convolutional kernel\n",
    "linear.weight.data.flatten()[:kernel_size] = conv.weight.squeeze()\n",
    "\n",
    "assert torch.allclose(linear(x, normalize_P=False), out_conv)"
   ]
  }
 ],
 "metadata": {
  "kernelspec": {
   "display_name": "sympde",
   "language": "python",
   "name": "python3"
  },
  "language_info": {
   "codemirror_mode": {
    "name": "ipython",
    "version": 3
   },
   "file_extension": ".py",
   "mimetype": "text/x-python",
   "name": "python",
   "nbconvert_exporter": "python",
   "pygments_lexer": "ipython3",
   "version": "3.10.13"
  }
 },
 "nbformat": 4,
 "nbformat_minor": 2
}
