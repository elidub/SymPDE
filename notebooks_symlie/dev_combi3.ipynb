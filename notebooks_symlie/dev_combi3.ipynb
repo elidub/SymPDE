{
 "cells": [
  {
   "cell_type": "code",
   "execution_count": 32,
   "metadata": {},
   "outputs": [
    {
     "name": "stdout",
     "output_type": "stream",
     "text": [
      "The autoreload extension is already loaded. To reload it, use:\n",
      "  %reload_ext autoreload\n"
     ]
    }
   ],
   "source": [
    "%load_ext autoreload\n",
    "%autoreload 2\n",
    "\n",
    "import os, sys\n",
    "import numpy as np\n",
    "import matplotlib.pyplot as plt\n",
    "import torch\n",
    "from torch import nn\n",
    "from tqdm import tqdm\n",
    "import pandas as pd\n",
    "from typing import List\n",
    "import torchvision\n",
    "\n",
    "import torch.nn.functional as F\n",
    "import pytorch_lightning as pl\n",
    "\n",
    "sys.path.append(os.path.join(os.getcwd(), '../symlie'))\n",
    "sys.path.append(os.path.join(os.getcwd(), '..'))\n",
    "\n",
    "from symlie.data.transforms import TransformRefactored\n",
    "from symlie.model.networks.mlp import CombiMLP\n",
    "from symlie.model.learner import CombiLearner, TransformationBlock\n",
    "\n",
    "from symlie.run import parse_options, main, process_args\n"
   ]
  },
  {
   "cell_type": "code",
   "execution_count": 33,
   "metadata": {},
   "outputs": [
    {
     "name": "stderr",
     "output_type": "stream",
     "text": [
      "Seed set to 42\n"
     ]
    },
    {
     "name": "stdout",
     "output_type": "stream",
     "text": [
      "Running without logging\n"
     ]
    }
   ],
   "source": [
    "args = parse_options(notebook=True)\n",
    "\n",
    "args.noise_std = 1.\n",
    "args.grid_size = (1, 7)\n",
    "args.eps_mult = [0.0, 0.0, 1.0, 0.0]\n",
    "args.net = 'TrainP'\n",
    "args.data_dir = '../data/sine1d'\n",
    "args.y_low = 1\n",
    "args.y_high = 3\n",
    "args.noise_std = 0.5\n",
    "\n",
    "args.do_return = True\n",
    "args.logger = None\n",
    "\n",
    "args.n_train = 100\n",
    "\n",
    "process_args(args)\n",
    "\n",
    "# Training\n",
    "_, _, datamodule = main(args)\n",
    "\n",
    "n_epochs = 50\n",
    "size = np.prod(args.grid_size)"
   ]
  },
  {
   "cell_type": "code",
   "execution_count": 34,
   "metadata": {},
   "outputs": [],
   "source": [
    "trainloader = datamodule.train_dataloader()"
   ]
  },
  {
   "cell_type": "code",
   "execution_count": 35,
   "metadata": {},
   "outputs": [],
   "source": [
    "transform = TransformationBlock(args.transform_kwargs)"
   ]
  },
  {
   "cell_type": "code",
   "execution_count": 41,
   "metadata": {},
   "outputs": [
    {
     "name": "stderr",
     "output_type": "stream",
     "text": [
      "seed=41, method=mlp: 100%|██████████| 50/50 [00:00<00:00, 175.36it/s]\n"
     ]
    }
   ],
   "source": [
    "\n",
    "seed, method = 41, 'mlp'\n",
    "\n",
    "net = CombiMLP(\n",
    "    implicit_layer_dims=[[49, 49, 49], [0]],\n",
    "    vanilla_layer_dims=[7, 7, 1],\n",
    "    bias = False\n",
    ")\n",
    "\n",
    "\n",
    "\n",
    "# Define the loss function and optimizer\n",
    "criterion_y     = nn.MSELoss()\n",
    "criterion_o     = nn.MSELoss()\n",
    "optimizer = torch.optim.Adam(net.parameters(), lr=1e-3)\n",
    "\n",
    "losses_y = []\n",
    "losses_o = []\n",
    "\n",
    "# Run the training loop\n",
    "for epoch in tqdm(range(0, n_epochs), desc = f'seed={seed}, method={method}'):\n",
    "    \n",
    "    current_loss_y = 0.0\n",
    "    current_loss_o = 0.0\n",
    "    \n",
    "    # Iterate over the DataLoader for training data\n",
    "    for i, data in enumerate(trainloader, 0):\n",
    "      \n",
    "        \n",
    "        # Zero the gradients\n",
    "        optimizer.zero_grad()\n",
    "\n",
    "        # Get inputs\n",
    "        x, y, _ = data\n",
    "        batch_size = x.size(0)\n",
    "        \n",
    "        \n",
    "        weight = net.layers[0](net.weights[0])\n",
    "        # weight = net.weights_out[0].detach()\n",
    "        o_a_prime, o_b_prime = transform.forward_transformation(batch_size, (1, 7), weight)\n",
    "\n",
    "        y_pred = net(x)\n",
    "\n",
    "        # Compute loss\n",
    "        loss_o = criterion_o(o_a_prime, o_b_prime)\n",
    "\n",
    "        # Compute loss\n",
    "        loss_y = criterion_y(y_pred, y)\n",
    "\n",
    "        loss = loss_o + loss_y\n",
    "\n",
    "        # Perform backward pass\n",
    "        loss.backward()\n",
    "        \n",
    "        # Perform optimization\n",
    "        optimizer.step()\n",
    "        \n",
    "        # Print statistics\n",
    "        current_loss_y += loss_o.item()\n",
    "        current_loss_o += loss_y.item()\n",
    "    current_loss_y = current_loss_y / len(trainloader)\n",
    "    current_loss_o = current_loss_o / len(trainloader)\n",
    "    losses_y.append(current_loss_y)\n",
    "    losses_o.append(current_loss_o)\n",
    "\n"
   ]
  },
  {
   "cell_type": "code",
   "execution_count": 42,
   "metadata": {},
   "outputs": [
    {
     "data": {
      "image/png": "[encoded data removed]",
      "text/plain": [
       "<Figure size 800x150 with 3 Axes>"
      ]
     },
     "metadata": {},
     "output_type": "display_data"
    }
   ],
   "source": [
    "fig, axs = plt.subplots(1, 3, figsize=(8,1.5))\n",
    "\n",
    "weight = torch.rand(size, size)\n",
    "# weight = net.mlp1(weight, net.layers1)\n",
    "# weight = net.layers1(net.weight1)\n",
    "# weight = net.layers[0](net.weight1)\n",
    "weight = net.layers[0](weight)\n",
    "# weight = net.layers[0](net.weights[0])\n",
    "\n",
    "ax = axs[0]\n",
    "ax.imshow( weight.detach().cpu().numpy() )\n",
    "\n",
    "ax = axs[1]\n",
    "ax.plot(losses_y, label='loss y')\n",
    "ax.legend()\n",
    "\n",
    "ax = axs[2]\n",
    "ax.plot(losses_o, label='loss o')\n",
    "ax.set_yscale('log')\n",
    "ax.legend()\n",
    "\n",
    "plt.show()\n",
    "\n"
   ]
  },
  {
   "cell_type": "code",
   "execution_count": 43,
   "metadata": {},
   "outputs": [
    {
     "data": {
      "text/plain": [
       "[0.308432753596987,\n",
       " 0.43115482160023283,\n",
       " 0.517965304000037,\n",
       " 0.4631184105362211,\n",
       " 0.3194697754723685,\n",
       " 0.2647074908018112,\n",
       " 0.28397143738610403,\n",
       " 0.3185134742941175,\n",
       " 0.1967474573424884,\n",
       " 0.17011981989656175,\n",
       " 0.22029576769896916,\n",
       " 0.15828812548092433,\n",
       " 0.1840138084122113,\n",
       " 0.14045658920492446,\n",
       " 0.11884371510573796,\n",
       " 0.04025911859103611,\n",
       " 0.068837079086474,\n",
       " 0.03608247531311853,\n",
       " 0.03462974700544562,\n",
       " 0.020655167688216482,\n",
       " 0.019898937482919012,\n",
       " 0.012383833527565002,\n",
       " 0.007254715875855514,\n",
       " 0.00745908057849322,\n",
       " 0.009540990926325321,\n",
       " 0.008075149530278785,\n",
       " 0.008622301409819297,\n",
       " 0.005501676749970231,\n",
       " 0.006024455784686974,\n",
       " 0.0072744375626955715,\n",
       " 0.009163388250661748,\n",
       " 0.006978744507900306,\n",
       " 0.00854543929121324,\n",
       " 0.0044624835385807925,\n",
       " 0.007090546589876924,\n",
       " 0.007304957735219172,\n",
       " 0.00820257787459663,\n",
       " 0.006377390785408872,\n",
       " 0.005635096558502742,\n",
       " 0.008419183482016836,\n",
       " 0.0060532681777008945,\n",
       " 0.005463112810892718,\n",
       " 0.00677836559978979,\n",
       " 0.005288645292499236,\n",
       " 0.006485772984368461,\n",
       " 0.007386812474578619,\n",
       " 0.007672926211463553,\n",
       " 0.004120054122592721,\n",
       " 0.0065599216946533746,\n",
       " 0.008965799984123026]"
      ]
     },
     "execution_count": 43,
     "metadata": {},
     "output_type": "execute_result"
    }
   ],
   "source": [
    "losses_y"
   ]
  }
 ],
 "metadata": {
  "kernelspec": {
   "display_name": "sympde",
   "language": "python",
   "name": "python3"
  },
  "language_info": {
   "codemirror_mode": {
    "name": "ipython",
    "version": 3
   },
   "file_extension": ".py",
   "mimetype": "text/x-python",
   "name": "python",
   "nbconvert_exporter": "python",
   "pygments_lexer": "ipython3",
   "version": "3.10.13"
  }
 },
 "nbformat": 4,
 "nbformat_minor": 2
}
